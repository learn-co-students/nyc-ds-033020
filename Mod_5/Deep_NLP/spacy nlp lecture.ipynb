{
 "cells": [
  {
   "cell_type": "markdown",
   "metadata": {},
   "source": [
    "# gensim"
   ]
  },
  {
   "cell_type": "code",
   "execution_count": 27,
   "metadata": {},
   "outputs": [],
   "source": [
    "import numpy as np\n",
    "import warnings\n",
    "warnings.filterwarnings('ignore')\n",
    "\n",
    "%matplotlib inline\n",
    "import matplotlib.pyplot as plt\n",
    "import seaborn as sns; sns.set_style('ticks')\n",
    "\n",
    "from sklearn.decomposition import PCA\n",
    "\n",
    "from gensim.test.utils import datapath\n",
    "from gensim.models import KeyedVectors"
   ]
  },
  {
   "cell_type": "markdown",
   "metadata": {},
   "source": [
    "### load in pretrained word2vec model"
   ]
  },
  {
   "cell_type": "code",
   "execution_count": 4,
   "metadata": {},
   "outputs": [],
   "source": [
    "word2vec = datapath('/Users/p.szymo/Documents/word_vectors/enwiki_20180420_100d.txt')\n",
    "model = KeyedVectors.load_word2vec_format(word2vec)"
   ]
  },
  {
   "cell_type": "markdown",
   "metadata": {},
   "source": [
    "##### word similarity "
   ]
  },
  {
   "cell_type": "code",
   "execution_count": 6,
   "metadata": {},
   "outputs": [
    {
     "data": {
      "text/plain": [
       "[('barack', 0.9786518812179565),\n",
       " ('ENTITY/Barack_Obama', 0.8945704698562622),\n",
       " ('biden', 0.810084342956543),\n",
       " ('ENTITY/Joe_Biden', 0.8024176359176636),\n",
       " ('trump', 0.7982811331748962),\n",
       " ('clinton', 0.7979164123535156),\n",
       " ('ENTITY/Hillary_Clinton', 0.7967318892478943),\n",
       " ('ENTITY/Michelle_Obama', 0.7866920828819275),\n",
       " ('ENTITY/Donald_Trump', 0.7821940183639526),\n",
       " ('hillary', 0.7757807970046997)]"
      ]
     },
     "execution_count": 6,
     "metadata": {},
     "output_type": "execute_result"
    }
   ],
   "source": [
    "model.most_similar('obama')"
   ]
  },
  {
   "cell_type": "code",
   "execution_count": 7,
   "metadata": {},
   "outputs": [
    {
     "data": {
      "text/plain": [
       "[('marriott', 0.8348016738891602),\n",
       " ('ritz', 0.7800471782684326),\n",
       " ('wynfrey', 0.7631689310073853),\n",
       " ('sheraton', 0.7620010375976562),\n",
       " ('soreno', 0.7595160007476807),\n",
       " ('hyatt', 0.7538101077079773),\n",
       " ('westin', 0.7486691474914551),\n",
       " ('doubletree', 0.7433996796607971),\n",
       " ('surfcomber', 0.7387865781784058),\n",
       " ('crowne', 0.7363494038581848)]"
      ]
     },
     "execution_count": 7,
     "metadata": {},
     "output_type": "execute_result"
    }
   ],
   "source": [
    "model.most_similar('hilton')"
   ]
  },
  {
   "cell_type": "code",
   "execution_count": 10,
   "metadata": {},
   "outputs": [
    {
     "data": {
      "text/plain": [
       "[('conspiracies', 0.8399481177330017),\n",
       " ('crabchurch', 0.7791687250137329),\n",
       " ('extortion', 0.7708937525749207),\n",
       " ('complicity', 0.76999831199646),\n",
       " ('catilinian', 0.7659637928009033),\n",
       " ('conspiring', 0.7491363286972046),\n",
       " ('murder', 0.7414364218711853),\n",
       " ('bribery', 0.7290879487991333),\n",
       " ('alleged', 0.7282978296279907),\n",
       " ('collusion', 0.7241843342781067)]"
      ]
     },
     "execution_count": 10,
     "metadata": {},
     "output_type": "execute_result"
    }
   ],
   "source": [
    "model.most_similar('conspiracy')"
   ]
  },
  {
   "cell_type": "code",
   "execution_count": 11,
   "metadata": {},
   "outputs": [
    {
     "data": {
      "text/plain": [
       "[('complicity', 0.8374620079994202),\n",
       " ('colluding', 0.8190929293632507),\n",
       " ('dealings', 0.8104913234710693),\n",
       " ('colluded', 0.8091800808906555),\n",
       " ('alleged', 0.7940891981124878),\n",
       " ('bribery', 0.7885681390762329),\n",
       " ('connivance', 0.7784428596496582),\n",
       " ('accusations', 0.7738966941833496),\n",
       " ('disloyalty', 0.7734236121177673),\n",
       " ('malfeasance', 0.768873929977417)]"
      ]
     },
     "execution_count": 11,
     "metadata": {},
     "output_type": "execute_result"
    }
   ],
   "source": [
    "model.most_similar('collusion')"
   ]
  },
  {
   "cell_type": "code",
   "execution_count": 8,
   "metadata": {},
   "outputs": [
    {
     "data": {
      "text/plain": [
       "[('ENTITY/Scythris_inertella', 0.3487657904624939),\n",
       " ('ENTITY/Herrichia_excelsella', 0.3068707585334778),\n",
       " ('ENTITY/Peribatodes_perversaria', 0.2772373557090759),\n",
       " ('ENTITY/Phiaris_septentrionana', 0.2549286186695099),\n",
       " ('ENTITY/Acanthopsyche_ecksteini', 0.24981063604354858),\n",
       " ('ENTITY/Megalodes_eximia', 0.2447773814201355),\n",
       " ('ENTITY/Image:Honey_badger.jpg', 0.24383153021335602),\n",
       " ('ENTITY/Nola_chlamitulalis', 0.23774507641792297),\n",
       " ('ENTITY/Dichrorampha_gruneriana', 0.23250579833984375),\n",
       " ('ENTITY/Scythris_flaviventrella', 0.2278483510017395)]"
      ]
     },
     "execution_count": 8,
     "metadata": {},
     "output_type": "execute_result"
    }
   ],
   "source": [
    "model.most_similar(negative='banana')"
   ]
  },
  {
   "cell_type": "code",
   "execution_count": 12,
   "metadata": {
    "scrolled": true
   },
   "outputs": [
    {
     "data": {
      "text/plain": [
       "[('ENTITY/Scythris_inertella', 0.27875423431396484),\n",
       " ('ENTITY/File:African_Buffalo_Drawing_historic.jpg', 0.2707037627696991),\n",
       " ('ENTITY/Image:Persian_Leopard_sitting.jpg', 0.2658817172050476),\n",
       " ('ENTITY/Leiningen-Emichsburg', 0.2638656198978424),\n",
       " ('ENTITY/Rileyiana_fovea', 0.2575606405735016),\n",
       " ('ENTITY/Janthinea_friwaldskii', 0.25661957263946533),\n",
       " ('ENTITY/Eublemma_pudorina', 0.2561008036136627),\n",
       " ('ENTITY/1981_in_spaceflight', 0.2546166181564331),\n",
       " ('ENTITY/File:Arkansas_Regions_Colored_With_Names.png', 0.24573861062526703),\n",
       " ('ENTITY/Nola_chlamitulalis', 0.24245761334896088)]"
      ]
     },
     "execution_count": 12,
     "metadata": {},
     "output_type": "execute_result"
    }
   ],
   "source": [
    "model.most_similar(negative='trump')"
   ]
  },
  {
   "cell_type": "code",
   "execution_count": 56,
   "metadata": {},
   "outputs": [
    {
     "data": {
      "text/plain": [
       "[('ENTITY/Donald_Trump', 0.8110637664794922),\n",
       " ('obama', 0.798281192779541),\n",
       " ('barack', 0.7784837484359741),\n",
       " ('ENTITY/Donald_Trump_presidential_campaign,_2016', 0.7390224933624268),\n",
       " ('ENTITY/The_Trump_Organization', 0.732802152633667),\n",
       " ('ENTITY/Trump_Tower', 0.7313694953918457),\n",
       " ('ENTITY/File:ElectoralCollege2016.svg', 0.7147173881530762),\n",
       " ('ENTITY/File:President_Donald_Trump_receives_a_briefing_on_a_military_strike.jpg',\n",
       "  0.7144560217857361),\n",
       " ('manafort', 0.714256763458252),\n",
       " ('gigicos', 0.7140686511993408)]"
      ]
     },
     "execution_count": 56,
     "metadata": {},
     "output_type": "execute_result"
    }
   ],
   "source": [
    "model.most_similar('trump')"
   ]
  },
  {
   "cell_type": "code",
   "execution_count": 55,
   "metadata": {},
   "outputs": [
    {
     "data": {
      "text/plain": [
       "[('masks', 0.8113056421279907),\n",
       " ('avohkii', 0.8100217580795288),\n",
       " ('skullpelt', 0.7746825218200684),\n",
       " ('kraahkan', 0.7664753198623657),\n",
       " ('gasmask', 0.7570312023162842),\n",
       " ('menpo', 0.7556092739105225),\n",
       " ('jukido', 0.7465859055519104),\n",
       " ('facepaint', 0.7463953495025635),\n",
       " ('orinasal', 0.7408226728439331),\n",
       " ('longcoat', 0.7399318218231201)]"
      ]
     },
     "execution_count": 55,
     "metadata": {},
     "output_type": "execute_result"
    }
   ],
   "source": [
    "model.most_similar('mask')"
   ]
  },
  {
   "cell_type": "code",
   "execution_count": 62,
   "metadata": {},
   "outputs": [
    {
     "name": "stdout",
     "output_type": "stream",
     "text": [
      "tires: 0.7322\n"
     ]
    }
   ],
   "source": [
    "result = model.most_similar(positive=['wheels', 'car'], negative=['four'])\n",
    "print(\"{}: {:.4f}\".format(*result[0]))"
   ]
  },
  {
   "cell_type": "markdown",
   "metadata": {},
   "source": [
    "### analogy"
   ]
  },
  {
   "cell_type": "code",
   "execution_count": 15,
   "metadata": {},
   "outputs": [],
   "source": [
    "def analogy(x1, x2, y1):\n",
    "    result = model.most_similar(positive=[y1, x2], negative=[x1])\n",
    "    return result"
   ]
  },
  {
   "cell_type": "code",
   "execution_count": 16,
   "metadata": {},
   "outputs": [
    {
     "data": {
      "text/plain": [
       "[('australian', 0.876969575881958),\n",
       " ('australians', 0.7480741143226624),\n",
       " ('ENTITY/English_Australians', 0.7214674949645996),\n",
       " ('tasmanian', 0.7200986742973328),\n",
       " ('nsw', 0.709411084651947),\n",
       " ('queensland', 0.6975623965263367),\n",
       " ('ENTITY/Culture_of_Australia', 0.6928346157073975),\n",
       " ('ENTITY/Australian_nationality_law', 0.6912353038787842),\n",
       " ('brataualung', 0.6911287903785706),\n",
       " ('ENTITY/Asian_Australians', 0.6887868642807007)]"
      ]
     },
     "execution_count": 16,
     "metadata": {},
     "output_type": "execute_result"
    }
   ],
   "source": [
    "analogy('japan', 'japanese', 'australia')"
   ]
  },
  {
   "cell_type": "code",
   "execution_count": 17,
   "metadata": {},
   "outputs": [
    {
     "data": {
      "text/plain": [
       "[('ENTITY/Marie_Brizard_et_Roger_International_', 0.704372227191925),\n",
       " ('cognac', 0.6980258226394653),\n",
       " ('ENTITY/Bosteels_Brewery#Pauwel_Kwak', 0.6938354969024658),\n",
       " ('ENTITY/Marie_Brizard_Wine_&_Spirits', 0.685952365398407),\n",
       " (\"ENTITY/Brasserie_d'Achouffe\", 0.6814519762992859),\n",
       " ('ENTITY/Bosteels_Brewery', 0.6809835433959961),\n",
       " ('alvinne', 0.6767335534095764),\n",
       " ('champagne', 0.6696678400039673),\n",
       " ('pommery', 0.6664804816246033),\n",
       " ('karlsbräu', 0.6664777398109436)]"
      ]
     },
     "execution_count": 17,
     "metadata": {},
     "output_type": "execute_result"
    }
   ],
   "source": [
    "analogy('australia', 'beer', 'france')"
   ]
  },
  {
   "cell_type": "code",
   "execution_count": 18,
   "metadata": {},
   "outputs": [
    {
     "data": {
      "text/plain": [
       "[('nixon', 0.7800426483154297),\n",
       " ('kennedy', 0.7232027053833008),\n",
       " ('lyndon', 0.7140451669692993),\n",
       " ('cheney', 0.70884770154953),\n",
       " ('ENTITY/George_H._W._Bush', 0.7082054615020752),\n",
       " ('ENTITY/Gerald_Ford', 0.7006938457489014),\n",
       " ('eisenhower', 0.695790708065033),\n",
       " ('mondale', 0.6919281482696533),\n",
       " ('mcgovern', 0.6915150880813599),\n",
       " ('ENTITY/Ronald_Reagan', 0.6883499026298523)]"
      ]
     },
     "execution_count": 18,
     "metadata": {},
     "output_type": "execute_result"
    }
   ],
   "source": [
    "analogy('obama', 'clinton', 'reagan')"
   ]
  },
  {
   "cell_type": "code",
   "execution_count": 19,
   "metadata": {},
   "outputs": [
    {
     "data": {
      "text/plain": [
       "[('longest', 0.7013919353485107),\n",
       " ('shortest', 0.6812495589256287),\n",
       " ('busiest', 0.6250710487365723),\n",
       " ('skyjackings', 0.5888058543205261),\n",
       " ('southernmost', 0.5763955116271973),\n",
       " ('hkbcf', 0.5760782957077026),\n",
       " ('northernmost', 0.5751603841781616),\n",
       " ('ameralik', 0.573586642742157),\n",
       " ('largest', 0.5719391107559204),\n",
       " ('prior', 0.5631099343299866)]"
      ]
     },
     "execution_count": 19,
     "metadata": {},
     "output_type": "execute_result"
    }
   ],
   "source": [
    "analogy('tall', 'tallest', 'long')"
   ]
  },
  {
   "cell_type": "code",
   "execution_count": 20,
   "metadata": {},
   "outputs": [
    {
     "data": {
      "text/plain": [
       "[('timid', 0.6972248554229736),\n",
       " ('dimwitted', 0.6926876306533813),\n",
       " ('flighty', 0.6924856901168823),\n",
       " ('effete', 0.6862304210662842),\n",
       " ('slatternly', 0.6861974000930786),\n",
       " ('prissy', 0.6815040707588196),\n",
       " ('scatterbrained', 0.6811786890029907),\n",
       " ('henpecked', 0.6807010173797607),\n",
       " ('snobbish', 0.6806244850158691),\n",
       " ('pampered', 0.6768413782119751)]"
      ]
     },
     "execution_count": 20,
     "metadata": {},
     "output_type": "execute_result"
    }
   ],
   "source": [
    "analogy('particular', 'fussy', 'subservient')"
   ]
  },
  {
   "cell_type": "code",
   "execution_count": 23,
   "metadata": {},
   "outputs": [
    {
     "data": {
      "text/plain": [
       "[('salinated', 0.7343252301216125),\n",
       " ('seawater', 0.7303400039672852),\n",
       " ('sublacustrine', 0.7096027731895447),\n",
       " ('potable', 0.707200288772583),\n",
       " ('nonpotable', 0.6999020576477051),\n",
       " ('riverwater', 0.6903719305992126),\n",
       " ('groundwater', 0.688728928565979),\n",
       " ('potability', 0.678020715713501),\n",
       " ('brackish', 0.6757316589355469),\n",
       " ('ponds', 0.6757315397262573)]"
      ]
     },
     "execution_count": 23,
     "metadata": {},
     "output_type": "execute_result"
    }
   ],
   "source": [
    "analogy('cool', 'warm', 'water')"
   ]
  },
  {
   "cell_type": "markdown",
   "metadata": {},
   "source": [
    "### which word doesnt belong"
   ]
  },
  {
   "cell_type": "code",
   "execution_count": 24,
   "metadata": {},
   "outputs": [
    {
     "name": "stdout",
     "output_type": "stream",
     "text": [
      "cereal\n"
     ]
    }
   ],
   "source": [
    "print(model.doesnt_match(\"breakfast cereal dinner lunch\".split()))"
   ]
  },
  {
   "cell_type": "markdown",
   "metadata": {},
   "source": [
    "### pca of vector space"
   ]
  },
  {
   "cell_type": "code",
   "execution_count": 25,
   "metadata": {},
   "outputs": [],
   "source": [
    "def display_pca_scatterplot(model, words=None, sample=0):\n",
    "    if words == None:\n",
    "        if sample > 0:\n",
    "            words = np.random.choice(list(model.vocab.keys()), sample)\n",
    "        else:\n",
    "            words = [ word for word in model.vocab ]\n",
    "        \n",
    "    word_vectors = np.array([model[w] for w in words])\n",
    "\n",
    "    twodim = PCA().fit_transform(word_vectors)[:,:2]\n",
    "    \n",
    "    plt.figure(figsize=(6,6))\n",
    "    plt.scatter(twodim[:,0], twodim[:,1], edgecolors='k', c='r')\n",
    "    for word, (x,y) in zip(words, twodim):\n",
    "        plt.text(x+0.05, y+0.05, word)"
   ]
  },
  {
   "cell_type": "code",
   "execution_count": 29,
   "metadata": {},
   "outputs": [
    {
     "data": {
      "image/png": "[encoded data removed]",
      "text/plain": [
       "<Figure size 432x432 with 1 Axes>"
      ]
     },
     "metadata": {},
     "output_type": "display_data"
    }
   ],
   "source": [
    "sns.set_style('whitegrid')\n",
    "display_pca_scatterplot(model, \n",
    "                        ['coffee', 'tea', 'beer', 'wine', 'brandy', 'rum', 'champagne', 'water',\n",
    "                         'spaghetti', 'borscht', 'hamburger', 'pizza', 'falafel', 'sushi', 'meatballs',\n",
    "                         'dog', 'horse', 'cat', 'monkey', 'parrot', 'koala', 'lizard',\n",
    "                         'frog', 'toad', 'monkey', 'ape', 'kangaroo', 'wombat', 'wolf',\n",
    "                         'france', 'germany', 'hungary', 'luxembourg', 'australia', 'fiji', 'china',\n",
    "                         'homework', 'assignment', 'problem', 'exam', 'test', 'class',\n",
    "                         'school', 'college', 'university', 'institute'])"
   ]
  },
  {
   "cell_type": "markdown",
   "metadata": {},
   "source": [
    "# spaCy"
   ]
  },
  {
   "cell_type": "code",
   "execution_count": 30,
   "metadata": {},
   "outputs": [
    {
     "name": "stdout",
     "output_type": "stream",
     "text": [
      "Collecting en_core_web_md==2.2.5\n",
      "  Downloading https://github.com/explosion/spacy-models/releases/download/en_core_web_md-2.2.5/en_core_web_md-2.2.5.tar.gz (96.4 MB)\n",
      "\u001b[K     |████████████████████████████████| 96.4 MB 10.6 MB/s eta 0:00:01\n",
      "\u001b[?25hRequirement already satisfied: spacy>=2.2.2 in /opt/anaconda3/envs/learn-env/lib/python3.6/site-packages (from en_core_web_md==2.2.5) (2.2.4)\n",
      "Requirement already satisfied: murmurhash<1.1.0,>=0.28.0 in /opt/anaconda3/envs/learn-env/lib/python3.6/site-packages (from spacy>=2.2.2->en_core_web_md==2.2.5) (1.0.2)\n",
      "Requirement already satisfied: catalogue<1.1.0,>=0.0.7 in /opt/anaconda3/envs/learn-env/lib/python3.6/site-packages (from spacy>=2.2.2->en_core_web_md==2.2.5) (1.0.0)\n",
      "Requirement already satisfied: setuptools in /opt/anaconda3/envs/learn-env/lib/python3.6/site-packages (from spacy>=2.2.2->en_core_web_md==2.2.5) (41.2.0)\n",
      "Requirement already satisfied: numpy>=1.15.0 in /opt/anaconda3/envs/learn-env/lib/python3.6/site-packages (from spacy>=2.2.2->en_core_web_md==2.2.5) (1.18.2)\n",
      "Requirement already satisfied: plac<1.2.0,>=0.9.6 in /opt/anaconda3/envs/learn-env/lib/python3.6/site-packages (from spacy>=2.2.2->en_core_web_md==2.2.5) (1.1.3)\n",
      "Requirement already satisfied: cymem<2.1.0,>=2.0.2 in /opt/anaconda3/envs/learn-env/lib/python3.6/site-packages (from spacy>=2.2.2->en_core_web_md==2.2.5) (2.0.3)\n",
      "Requirement already satisfied: blis<0.5.0,>=0.4.0 in /opt/anaconda3/envs/learn-env/lib/python3.6/site-packages (from spacy>=2.2.2->en_core_web_md==2.2.5) (0.4.1)\n",
      "Requirement already satisfied: requests<3.0.0,>=2.13.0 in /opt/anaconda3/envs/learn-env/lib/python3.6/site-packages (from spacy>=2.2.2->en_core_web_md==2.2.5) (2.23.0)\n",
      "Requirement already satisfied: thinc==7.4.0 in /opt/anaconda3/envs/learn-env/lib/python3.6/site-packages (from spacy>=2.2.2->en_core_web_md==2.2.5) (7.4.0)\n",
      "Requirement already satisfied: preshed<3.1.0,>=3.0.2 in /opt/anaconda3/envs/learn-env/lib/python3.6/site-packages (from spacy>=2.2.2->en_core_web_md==2.2.5) (3.0.2)\n",
      "Requirement already satisfied: srsly<1.1.0,>=1.0.2 in /opt/anaconda3/envs/learn-env/lib/python3.6/site-packages (from spacy>=2.2.2->en_core_web_md==2.2.5) (1.0.2)\n",
      "Requirement already satisfied: tqdm<5.0.0,>=4.38.0 in /opt/anaconda3/envs/learn-env/lib/python3.6/site-packages (from spacy>=2.2.2->en_core_web_md==2.2.5) (4.45.0)\n",
      "Requirement already satisfied: wasabi<1.1.0,>=0.4.0 in /opt/anaconda3/envs/learn-env/lib/python3.6/site-packages (from spacy>=2.2.2->en_core_web_md==2.2.5) (0.6.0)\n",
      "Requirement already satisfied: importlib-metadata>=0.20; python_version < \"3.8\" in /opt/anaconda3/envs/learn-env/lib/python3.6/site-packages (from catalogue<1.1.0,>=0.0.7->spacy>=2.2.2->en_core_web_md==2.2.5) (1.6.0)\n",
      "Requirement already satisfied: chardet<4,>=3.0.2 in /opt/anaconda3/envs/learn-env/lib/python3.6/site-packages (from requests<3.0.0,>=2.13.0->spacy>=2.2.2->en_core_web_md==2.2.5) (3.0.4)\n",
      "Requirement already satisfied: urllib3!=1.25.0,!=1.25.1,<1.26,>=1.21.1 in /opt/anaconda3/envs/learn-env/lib/python3.6/site-packages (from requests<3.0.0,>=2.13.0->spacy>=2.2.2->en_core_web_md==2.2.5) (1.25.9)\n",
      "Requirement already satisfied: idna<3,>=2.5 in /opt/anaconda3/envs/learn-env/lib/python3.6/site-packages (from requests<3.0.0,>=2.13.0->spacy>=2.2.2->en_core_web_md==2.2.5) (2.8)\n",
      "Requirement already satisfied: certifi>=2017.4.17 in /opt/anaconda3/envs/learn-env/lib/python3.6/site-packages (from requests<3.0.0,>=2.13.0->spacy>=2.2.2->en_core_web_md==2.2.5) (2020.4.5.2)\n",
      "Requirement already satisfied: zipp>=0.5 in /opt/anaconda3/envs/learn-env/lib/python3.6/site-packages (from importlib-metadata>=0.20; python_version < \"3.8\"->catalogue<1.1.0,>=0.0.7->spacy>=2.2.2->en_core_web_md==2.2.5) (0.5.1)\n",
      "Building wheels for collected packages: en-core-web-md\n",
      "  Building wheel for en-core-web-md (setup.py) ... \u001b[?25ldone\n",
      "\u001b[?25h  Created wheel for en-core-web-md: filename=en_core_web_md-2.2.5-py3-none-any.whl size=98051302 sha256=6339bfcac04dc3915443a844b92c683636139bb0a1794127db33f99a864885d8\n",
      "  Stored in directory: /private/var/folders/3b/6q0d93qn66g5fg2t3938zdb40000gn/T/pip-ephem-wheel-cache-xr3wsotw/wheels/91/dd/30/01b00272fbb8fbcdafcac24f3c7d362ce2d8ba296071b41d99\n",
      "Successfully built en-core-web-md\n",
      "Installing collected packages: en-core-web-md\n",
      "Successfully installed en-core-web-md-2.2.5\n",
      "\u001b[38;5;2m✔ Download and installation successful\u001b[0m\n",
      "You can now load the model via spacy.load('en_core_web_md')\n"
     ]
    }
   ],
   "source": [
    "!python -m spacy download en_core_web_md"
   ]
  },
  {
   "cell_type": "code",
   "execution_count": 31,
   "metadata": {},
   "outputs": [],
   "source": [
    "import spacy\n",
    "import pandas as pd\n",
    "import numpy as np\n",
    "from tqdm import tqdm"
   ]
  },
  {
   "cell_type": "code",
   "execution_count": 32,
   "metadata": {},
   "outputs": [],
   "source": [
    "tqdm.pandas()"
   ]
  },
  {
   "cell_type": "code",
   "execution_count": 33,
   "metadata": {},
   "outputs": [],
   "source": [
    "df = pd.read_csv(\"yelp.csv\")"
   ]
  },
  {
   "cell_type": "code",
   "execution_count": 34,
   "metadata": {},
   "outputs": [
    {
     "data": {
      "text/html": [
       "<div>\n",
       "<style scoped>\n",
       "    .dataframe tbody tr th:only-of-type {\n",
       "        vertical-align: middle;\n",
       "    }\n",
       "\n",
       "    .dataframe tbody tr th {\n",
       "        vertical-align: top;\n",
       "    }\n",
       "\n",
       "    .dataframe thead th {\n",
       "        text-align: right;\n",
       "    }\n",
       "</style>\n",
       "<table border=\"1\" class=\"dataframe\">\n",
       "  <thead>\n",
       "    <tr style=\"text-align: right;\">\n",
       "      <th></th>\n",
       "      <th>business_id</th>\n",
       "      <th>date</th>\n",
       "      <th>review_id</th>\n",
       "      <th>stars</th>\n",
       "      <th>text</th>\n",
       "      <th>type</th>\n",
       "      <th>user_id</th>\n",
       "      <th>cool</th>\n",
       "      <th>useful</th>\n",
       "      <th>funny</th>\n",
       "    </tr>\n",
       "  </thead>\n",
       "  <tbody>\n",
       "    <tr>\n",
       "      <th>0</th>\n",
       "      <td>9yKzy9PApeiPPOUJEtnvkg</td>\n",
       "      <td>2011-01-26</td>\n",
       "      <td>fWKvX83p0-ka4JS3dc6E5A</td>\n",
       "      <td>5</td>\n",
       "      <td>My wife took me here on my birthday for breakf...</td>\n",
       "      <td>review</td>\n",
       "      <td>rLtl8ZkDX5vH5nAx9C3q5Q</td>\n",
       "      <td>2</td>\n",
       "      <td>5</td>\n",
       "      <td>0</td>\n",
       "    </tr>\n",
       "    <tr>\n",
       "      <th>1</th>\n",
       "      <td>ZRJwVLyzEJq1VAihDhYiow</td>\n",
       "      <td>2011-07-27</td>\n",
       "      <td>IjZ33sJrzXqU-0X6U8NwyA</td>\n",
       "      <td>5</td>\n",
       "      <td>I have no idea why some people give bad review...</td>\n",
       "      <td>review</td>\n",
       "      <td>0a2KyEL0d3Yb1V6aivbIuQ</td>\n",
       "      <td>0</td>\n",
       "      <td>0</td>\n",
       "      <td>0</td>\n",
       "    </tr>\n",
       "    <tr>\n",
       "      <th>2</th>\n",
       "      <td>6oRAC4uyJCsJl1X0WZpVSA</td>\n",
       "      <td>2012-06-14</td>\n",
       "      <td>IESLBzqUCLdSzSqm0eCSxQ</td>\n",
       "      <td>4</td>\n",
       "      <td>love the gyro plate. Rice is so good and I als...</td>\n",
       "      <td>review</td>\n",
       "      <td>0hT2KtfLiobPvh6cDC8JQg</td>\n",
       "      <td>0</td>\n",
       "      <td>1</td>\n",
       "      <td>0</td>\n",
       "    </tr>\n",
       "    <tr>\n",
       "      <th>3</th>\n",
       "      <td>_1QQZuf4zZOyFCvXc0o6Vg</td>\n",
       "      <td>2010-05-27</td>\n",
       "      <td>G-WvGaISbqqaMHlNnByodA</td>\n",
       "      <td>5</td>\n",
       "      <td>Rosie, Dakota, and I LOVE Chaparral Dog Park!!...</td>\n",
       "      <td>review</td>\n",
       "      <td>uZetl9T0NcROGOyFfughhg</td>\n",
       "      <td>1</td>\n",
       "      <td>2</td>\n",
       "      <td>0</td>\n",
       "    </tr>\n",
       "    <tr>\n",
       "      <th>4</th>\n",
       "      <td>6ozycU1RpktNG2-1BroVtw</td>\n",
       "      <td>2012-01-05</td>\n",
       "      <td>1uJFq2r5QfJG_6ExMRCaGw</td>\n",
       "      <td>5</td>\n",
       "      <td>General Manager Scott Petello is a good egg!!!...</td>\n",
       "      <td>review</td>\n",
       "      <td>vYmM4KTsC8ZfQBg-j5MWkw</td>\n",
       "      <td>0</td>\n",
       "      <td>0</td>\n",
       "      <td>0</td>\n",
       "    </tr>\n",
       "  </tbody>\n",
       "</table>\n",
       "</div>"
      ],
      "text/plain": [
       "              business_id        date               review_id  stars  \\\n",
       "0  9yKzy9PApeiPPOUJEtnvkg  2011-01-26  fWKvX83p0-ka4JS3dc6E5A      5   \n",
       "1  ZRJwVLyzEJq1VAihDhYiow  2011-07-27  IjZ33sJrzXqU-0X6U8NwyA      5   \n",
       "2  6oRAC4uyJCsJl1X0WZpVSA  2012-06-14  IESLBzqUCLdSzSqm0eCSxQ      4   \n",
       "3  _1QQZuf4zZOyFCvXc0o6Vg  2010-05-27  G-WvGaISbqqaMHlNnByodA      5   \n",
       "4  6ozycU1RpktNG2-1BroVtw  2012-01-05  1uJFq2r5QfJG_6ExMRCaGw      5   \n",
       "\n",
       "                                                text    type  \\\n",
       "0  My wife took me here on my birthday for breakf...  review   \n",
       "1  I have no idea why some people give bad review...  review   \n",
       "2  love the gyro plate. Rice is so good and I als...  review   \n",
       "3  Rosie, Dakota, and I LOVE Chaparral Dog Park!!...  review   \n",
       "4  General Manager Scott Petello is a good egg!!!...  review   \n",
       "\n",
       "                  user_id  cool  useful  funny  \n",
       "0  rLtl8ZkDX5vH5nAx9C3q5Q     2       5      0  \n",
       "1  0a2KyEL0d3Yb1V6aivbIuQ     0       0      0  \n",
       "2  0hT2KtfLiobPvh6cDC8JQg     0       1      0  \n",
       "3  uZetl9T0NcROGOyFfughhg     1       2      0  \n",
       "4  vYmM4KTsC8ZfQBg-j5MWkw     0       0      0  "
      ]
     },
     "execution_count": 34,
     "metadata": {},
     "output_type": "execute_result"
    }
   ],
   "source": [
    "df.head()\n"
   ]
  },
  {
   "cell_type": "code",
   "execution_count": 35,
   "metadata": {},
   "outputs": [
    {
     "data": {
      "text/plain": [
       "(10000, 10)"
      ]
     },
     "execution_count": 35,
     "metadata": {},
     "output_type": "execute_result"
    }
   ],
   "source": [
    "df.shape"
   ]
  },
  {
   "cell_type": "markdown",
   "metadata": {},
   "source": [
    "## spaCy Pipeline"
   ]
  },
  {
   "cell_type": "code",
   "execution_count": 36,
   "metadata": {},
   "outputs": [],
   "source": [
    "nlp = spacy.load('en_core_web_md')"
   ]
  },
  {
   "cell_type": "code",
   "execution_count": 37,
   "metadata": {},
   "outputs": [
    {
     "name": "stderr",
     "output_type": "stream",
     "text": [
      "100%|██████████| 10000/10000 [03:55<00:00, 42.50it/s]\n"
     ]
    }
   ],
   "source": [
    "df['spacy'] = df.text.progress_apply(lambda x: nlp(x))"
   ]
  },
  {
   "cell_type": "markdown",
   "metadata": {},
   "source": [
    "#### each document in the corpus is a doc object containing individual token objects"
   ]
  },
  {
   "cell_type": "code",
   "execution_count": 40,
   "metadata": {},
   "outputs": [
    {
     "data": {
      "text/plain": [
       "0    (My, wife, took, me, here, on, my, birthday, f...\n",
       "1    (I, have, no, idea, why, some, people, give, b...\n",
       "2    (love, the, gyro, plate, ., Rice, is, so, good...\n",
       "3    (Rosie, ,, Dakota, ,, and, I, LOVE, Chaparral,...\n",
       "4    (General, Manager, Scott, Petello, is, a, good...\n",
       "Name: spacy, dtype: object"
      ]
     },
     "execution_count": 40,
     "metadata": {},
     "output_type": "execute_result"
    }
   ],
   "source": [
    "df['spacy'].head()"
   ]
  },
  {
   "cell_type": "code",
   "execution_count": 42,
   "metadata": {},
   "outputs": [
    {
     "data": {
      "text/plain": [
       "My wife took me here on my birthday for breakfast and it was excellent.  The weather was perfect which made sitting outside overlooking their grounds an absolute pleasure.  Our waitress was excellent and our food arrived quickly on the semi-busy Saturday morning.  It looked like the place fills up pretty quickly so the earlier you get here the better.\n",
       "\n",
       "Do yourself a favor and get their Bloody Mary.  It was phenomenal and simply the best I've ever had.  I'm pretty sure they only use ingredients from their garden and blend them fresh when you order it.  It was amazing.\n",
       "\n",
       "While EVERYTHING on the menu looks excellent, I had the white truffle scrambled eggs vegetable skillet and it was tasty and delicious.  It came with 2 pieces of their griddled bread with was amazing and it absolutely made the meal complete.  It was the best \"toast\" I've ever had.\n",
       "\n",
       "Anyway, I can't wait to go back!"
      ]
     },
     "execution_count": 42,
     "metadata": {},
     "output_type": "execute_result"
    }
   ],
   "source": [
    "df.loc[0,'spacy']"
   ]
  },
  {
   "cell_type": "code",
   "execution_count": 43,
   "metadata": {},
   "outputs": [
    {
     "data": {
      "text/plain": [
       "spacy.tokens.doc.Doc"
      ]
     },
     "execution_count": 43,
     "metadata": {},
     "output_type": "execute_result"
    }
   ],
   "source": [
    "type(df.loc[0,'spacy'])"
   ]
  },
  {
   "cell_type": "code",
   "execution_count": 44,
   "metadata": {},
   "outputs": [
    {
     "data": {
      "text/plain": [
       "spacy.tokens.token.Token"
      ]
     },
     "execution_count": 44,
     "metadata": {},
     "output_type": "execute_result"
    }
   ],
   "source": [
    "type(df.loc[0,'spacy'][0])"
   ]
  },
  {
   "cell_type": "code",
   "execution_count": 45,
   "metadata": {},
   "outputs": [],
   "source": [
    "doc = df.spacy[0]"
   ]
  },
  {
   "cell_type": "code",
   "execution_count": 46,
   "metadata": {},
   "outputs": [
    {
     "data": {
      "text/plain": [
       "True"
      ]
     },
     "execution_count": 46,
     "metadata": {},
     "output_type": "execute_result"
    }
   ],
   "source": [
    "#weod is me\n",
    "doc[3].is_stop"
   ]
  },
  {
   "cell_type": "markdown",
   "metadata": {},
   "source": [
    "#### part of speech tagging"
   ]
  },
  {
   "cell_type": "code",
   "execution_count": 47,
   "metadata": {},
   "outputs": [
    {
     "data": {
      "text/plain": [
       "'PRON'"
      ]
     },
     "execution_count": 47,
     "metadata": {},
     "output_type": "execute_result"
    }
   ],
   "source": [
    "doc[3].pos_"
   ]
  },
  {
   "cell_type": "markdown",
   "metadata": {},
   "source": [
    "#### vector from loaded language model"
   ]
  },
  {
   "cell_type": "code",
   "execution_count": 48,
   "metadata": {},
   "outputs": [
    {
     "data": {
      "text/plain": [
       "array([-1.5396e-01,  3.1894e-01, -5.4888e-01,  2.5575e-01,  2.5812e-01,\n",
       "       -2.4498e-01, -7.5256e-03, -4.4586e-01, -3.3310e-01,  2.5371e+00,\n",
       "       -3.0797e-01,  3.2259e-01,  1.5141e-01, -4.6900e-01, -2.9880e-01,\n",
       "       -6.7120e-03, -1.5408e-01,  8.2595e-01, -9.0429e-02,  9.5433e-02,\n",
       "        3.7679e-01,  2.3810e-02, -2.3350e-01,  2.6510e-01, -1.0142e-01,\n",
       "        1.3369e-02,  1.8771e-01, -3.0711e-02,  3.5253e-01, -5.2993e-01,\n",
       "        3.2665e-02,  4.6994e-01, -2.9181e-01, -5.3454e-02,  1.5640e-02,\n",
       "       -3.5972e-02, -2.5803e-02,  2.7286e-02, -6.6553e-02, -3.7466e-01,\n",
       "       -3.1585e-01, -4.4513e-02, -3.1270e-01, -1.3976e-01,  2.2966e-01,\n",
       "        3.9333e-01, -1.7182e-01, -4.3639e-02,  1.7291e-01,  2.0719e-01,\n",
       "       -9.2617e-02,  1.8868e-01,  9.6837e-02,  2.3362e-02,  1.5004e-01,\n",
       "        3.0582e-01, -4.4929e-01, -8.3601e-02, -3.8335e-02, -4.1140e-02,\n",
       "       -3.7771e-01, -8.7132e-02, -2.4334e-01,  1.9499e-01,  3.4166e-01,\n",
       "       -1.4412e-01,  3.7503e-02, -5.1979e-02, -1.1018e-01,  4.0829e-01,\n",
       "       -6.0759e-02,  1.6646e-02,  2.1900e-01,  8.7433e-02,  1.7823e-01,\n",
       "        3.6771e-01,  6.0577e-01, -3.4947e-01, -1.5639e-01,  4.6658e-01,\n",
       "        1.4459e-03, -8.5848e-02, -3.9846e-01, -1.3264e-02,  1.3744e-01,\n",
       "       -3.0367e-01,  4.2076e-01, -7.7487e-01,  6.1946e-01, -9.1566e-02,\n",
       "       -3.4035e-01, -1.2057e-01, -1.5843e-01, -4.0369e-03,  4.7313e-02,\n",
       "        4.2598e-01,  1.8908e-01, -3.1651e-01, -7.1239e-02,  1.3189e-01,\n",
       "       -6.0507e-02,  4.7623e-02, -6.5324e-02, -1.6438e-01,  2.4520e-01,\n",
       "       -3.9248e-01,  3.0636e-01,  1.5885e-01, -2.0593e-01,  7.8804e-02,\n",
       "        3.2173e-01, -4.1340e-01,  5.7167e-01,  8.9288e-02,  1.3494e-01,\n",
       "       -2.5182e-01, -1.0750e-01, -2.6265e-01,  4.1145e-01,  4.0077e-02,\n",
       "        3.4868e-01, -4.1758e-01,  2.6607e-03,  1.8864e-01,  3.1739e-01,\n",
       "       -3.7066e-02,  4.7874e-03, -3.5659e-02, -1.3064e-02,  6.1671e-02,\n",
       "       -8.1892e-02, -1.4293e-01, -3.8927e-01,  1.9965e-02,  1.3261e-01,\n",
       "       -1.9291e-02, -3.5979e-02,  4.0344e-01, -2.7053e-01, -1.3914e-01,\n",
       "       -2.7504e+00,  2.2190e-01,  2.5950e-03,  3.8409e-02,  4.7943e-04,\n",
       "        4.2848e-02, -1.5918e-01,  2.7683e-01, -7.2232e-01, -2.0880e-01,\n",
       "        1.0410e-01,  3.4372e-01,  2.1924e-01, -1.4944e-01,  1.1549e-02,\n",
       "       -7.7707e-02, -1.7796e-02, -1.5402e-01,  1.1486e-01, -3.5102e-01,\n",
       "       -2.9005e-01,  6.9873e-02,  1.3258e-01, -9.4058e-02,  9.3709e-02,\n",
       "        5.4738e-02, -1.8868e-02,  7.1811e-02, -3.4275e-02,  1.3996e-01,\n",
       "       -2.7488e-01, -3.9626e-01,  4.1488e-01, -4.4789e-01,  2.4048e-03,\n",
       "        1.6817e-01, -7.5884e-02, -1.9818e-01, -2.8461e-01,  1.8548e-02,\n",
       "        7.7935e-02, -7.9466e-02,  1.9185e-01,  8.1991e-03,  4.6121e-01,\n",
       "       -1.2630e-01, -3.7604e-01, -3.1227e-02,  2.4897e-01,  1.9553e-01,\n",
       "        2.5801e-01, -3.3281e-01, -3.1303e-01, -2.2802e-01,  1.2570e-02,\n",
       "        2.8560e-01,  6.3252e-02, -3.1073e-01,  3.2407e-01,  1.3186e-01,\n",
       "       -1.9087e-01,  3.5195e-01, -5.0917e-01, -3.0888e-02,  2.0958e-02,\n",
       "        2.6458e-01,  5.0711e-01,  6.3410e-02,  5.2963e-02,  1.3797e-01,\n",
       "       -9.6061e-02, -4.5935e-01, -9.6708e-03, -1.5591e-01,  1.0447e-01,\n",
       "        2.9636e-01, -5.0042e-02, -1.0892e-01, -6.5754e-02,  2.0289e-01,\n",
       "       -8.5210e-02,  3.4053e-01, -2.2064e-01,  2.8591e-01,  1.6588e-01,\n",
       "        1.4755e-01, -7.7477e-02,  1.1453e-01, -1.5960e-01, -3.1660e-01,\n",
       "       -5.9842e-01, -7.0888e-02,  1.2268e-01,  7.8458e-02,  4.9465e-02,\n",
       "       -2.5338e-01,  1.4353e-01,  4.0625e-02, -1.3864e-02,  3.1302e-01,\n",
       "        1.5877e-01,  3.5475e-01, -5.0796e-02,  3.4660e-01,  2.6806e-01,\n",
       "       -3.3184e-01,  1.1977e-01,  3.6780e-02, -5.7687e-02,  4.1657e-01,\n",
       "        1.5703e-01, -3.3583e-01, -2.4809e-01,  2.9382e-01,  1.9421e-01,\n",
       "        3.1912e-01,  9.8237e-02, -3.0203e-01,  1.7137e-02,  1.8071e-01,\n",
       "       -1.1427e-01,  5.0143e-01, -7.5831e-02, -1.0783e-01,  2.9156e-01,\n",
       "       -1.0767e-01,  2.6931e-01,  2.5470e-01,  1.9744e-01,  3.6557e-02,\n",
       "        4.2576e-01,  1.5912e-01, -1.0908e-03, -1.5813e-01, -1.2099e-01,\n",
       "        3.2691e-01,  5.9496e-02, -4.4812e-01,  1.4870e-01,  3.4124e-01,\n",
       "       -1.4872e-01, -8.5174e-02,  3.3216e-02, -3.5240e-01, -3.2374e-01,\n",
       "       -2.1070e-01,  6.5789e-01, -3.6495e-01, -9.3276e-02, -1.3541e-01,\n",
       "       -8.1115e-02, -9.3947e-02,  2.0903e-01,  1.9237e-01,  4.6931e-01,\n",
       "       -1.3735e-01,  2.0371e-01,  1.9787e-01,  5.9997e-03,  6.9986e-03],\n",
       "      dtype=float32)"
      ]
     },
     "execution_count": 48,
     "metadata": {},
     "output_type": "execute_result"
    }
   ],
   "source": [
    "#stop words HAVE a vector representation\n",
    "doc[3].vector"
   ]
  },
  {
   "cell_type": "markdown",
   "metadata": {},
   "source": [
    "#### vector representation of document (avg of all word vectors in doc)"
   ]
  },
  {
   "cell_type": "code",
   "execution_count": 49,
   "metadata": {},
   "outputs": [
    {
     "data": {
      "text/plain": [
       "3.2036364011442964"
      ]
     },
     "execution_count": 49,
     "metadata": {},
     "output_type": "execute_result"
    }
   ],
   "source": [
    "doc.vector_norm"
   ]
  },
  {
   "cell_type": "markdown",
   "metadata": {},
   "source": [
    "#### sentence splitting in document"
   ]
  },
  {
   "cell_type": "code",
   "execution_count": 50,
   "metadata": {},
   "outputs": [
    {
     "data": {
      "text/plain": [
       "[My wife took me here on my birthday for breakfast and it was excellent.  ,\n",
       " The weather was perfect which made sitting outside overlooking their grounds an absolute pleasure.  ,\n",
       " Our waitress was excellent and our food arrived quickly on the semi-busy Saturday morning.  ,\n",
       " It looked like the place fills up pretty quickly,\n",
       " so the earlier you get here the better.\n",
       " ,\n",
       " Do yourself a favor and get their Bloody Mary.  ,\n",
       " It was phenomenal and simply the best I've ever had.  ,\n",
       " I'm pretty sure they only use ingredients from their garden and blend them fresh when you order it.  ,\n",
       " It was amazing.\n",
       " ,\n",
       " While EVERYTHING on the menu looks excellent, I had the white truffle scrambled eggs vegetable skillet,\n",
       " and it was tasty and delicious.  ,\n",
       " It came with 2 pieces of their griddled bread with was amazing,\n",
       " and it absolutely made the meal complete.  ,\n",
       " It was the best \"toast\" I've ever had.\n",
       " ,\n",
       " Anyway, I can't wait to go back!]"
      ]
     },
     "execution_count": 50,
     "metadata": {},
     "output_type": "execute_result"
    }
   ],
   "source": [
    "[sents for sents in doc.sents]"
   ]
  },
  {
   "cell_type": "markdown",
   "metadata": {},
   "source": [
    "#### document similarity"
   ]
  },
  {
   "cell_type": "code",
   "execution_count": 51,
   "metadata": {},
   "outputs": [
    {
     "data": {
      "text/plain": [
       "0.9821755280885994"
      ]
     },
     "execution_count": 51,
     "metadata": {},
     "output_type": "execute_result"
    }
   ],
   "source": [
    "doc_2 = df.spacy[1]\n",
    "doc.similarity(doc_2)"
   ]
  },
  {
   "cell_type": "code",
   "execution_count": 52,
   "metadata": {},
   "outputs": [
    {
     "data": {
      "text/plain": [
       "My wife took me here on my birthday for breakfast and it was excellent.  The weather was perfect which made sitting outside overlooking their grounds an absolute pleasure.  Our waitress was excellent and our food arrived quickly on the semi-busy Saturday morning.  It looked like the place fills up pretty quickly so the earlier you get here the better.\n",
       "\n",
       "Do yourself a favor and get their Bloody Mary.  It was phenomenal and simply the best I've ever had.  I'm pretty sure they only use ingredients from their garden and blend them fresh when you order it.  It was amazing.\n",
       "\n",
       "While EVERYTHING on the menu looks excellent, I had the white truffle scrambled eggs vegetable skillet and it was tasty and delicious.  It came with 2 pieces of their griddled bread with was amazing and it absolutely made the meal complete.  It was the best \"toast\" I've ever had.\n",
       "\n",
       "Anyway, I can't wait to go back!"
      ]
     },
     "execution_count": 52,
     "metadata": {},
     "output_type": "execute_result"
    }
   ],
   "source": [
    "doc"
   ]
  },
  {
   "cell_type": "markdown",
   "metadata": {},
   "source": [
    "### see documentation for all you can do\n",
    "* https://spacy.io/api/token\n",
    "* https://spacy.io/api/doc"
   ]
  },
  {
   "cell_type": "code",
   "execution_count": 53,
   "metadata": {},
   "outputs": [
    {
     "data": {
      "text/html": [
       "<div>\n",
       "<style scoped>\n",
       "    .dataframe tbody tr th:only-of-type {\n",
       "        vertical-align: middle;\n",
       "    }\n",
       "\n",
       "    .dataframe tbody tr th {\n",
       "        vertical-align: top;\n",
       "    }\n",
       "\n",
       "    .dataframe thead th {\n",
       "        text-align: right;\n",
       "    }\n",
       "</style>\n",
       "<table border=\"1\" class=\"dataframe\">\n",
       "  <thead>\n",
       "    <tr style=\"text-align: right;\">\n",
       "      <th></th>\n",
       "      <th>0</th>\n",
       "      <th>1</th>\n",
       "      <th>2</th>\n",
       "      <th>3</th>\n",
       "      <th>4</th>\n",
       "      <th>5</th>\n",
       "      <th>6</th>\n",
       "      <th>7</th>\n",
       "      <th>8</th>\n",
       "      <th>9</th>\n",
       "      <th>...</th>\n",
       "      <th>290</th>\n",
       "      <th>291</th>\n",
       "      <th>292</th>\n",
       "      <th>293</th>\n",
       "      <th>294</th>\n",
       "      <th>295</th>\n",
       "      <th>296</th>\n",
       "      <th>297</th>\n",
       "      <th>298</th>\n",
       "      <th>299</th>\n",
       "    </tr>\n",
       "  </thead>\n",
       "  <tbody>\n",
       "    <tr>\n",
       "      <th>0</th>\n",
       "      <td>-0.021647</td>\n",
       "      <td>0.138191</td>\n",
       "      <td>-0.106211</td>\n",
       "      <td>-0.078064</td>\n",
       "      <td>0.056181</td>\n",
       "      <td>0.060862</td>\n",
       "      <td>-0.003805</td>\n",
       "      <td>-0.112674</td>\n",
       "      <td>-0.033807</td>\n",
       "      <td>2.101514</td>\n",
       "      <td>...</td>\n",
       "      <td>-0.136959</td>\n",
       "      <td>0.051397</td>\n",
       "      <td>0.018642</td>\n",
       "      <td>-0.023069</td>\n",
       "      <td>0.023127</td>\n",
       "      <td>-0.044228</td>\n",
       "      <td>0.049466</td>\n",
       "      <td>-0.054665</td>\n",
       "      <td>0.042870</td>\n",
       "      <td>0.086430</td>\n",
       "    </tr>\n",
       "    <tr>\n",
       "      <th>1</th>\n",
       "      <td>-0.051446</td>\n",
       "      <td>0.174888</td>\n",
       "      <td>-0.162487</td>\n",
       "      <td>-0.085476</td>\n",
       "      <td>0.075221</td>\n",
       "      <td>0.077776</td>\n",
       "      <td>0.023618</td>\n",
       "      <td>-0.094539</td>\n",
       "      <td>0.011515</td>\n",
       "      <td>2.291694</td>\n",
       "      <td>...</td>\n",
       "      <td>-0.185593</td>\n",
       "      <td>0.048113</td>\n",
       "      <td>-0.003736</td>\n",
       "      <td>-0.029323</td>\n",
       "      <td>0.014807</td>\n",
       "      <td>-0.067929</td>\n",
       "      <td>-0.012392</td>\n",
       "      <td>-0.065273</td>\n",
       "      <td>0.063565</td>\n",
       "      <td>0.102081</td>\n",
       "    </tr>\n",
       "    <tr>\n",
       "      <th>2</th>\n",
       "      <td>0.017356</td>\n",
       "      <td>0.126895</td>\n",
       "      <td>-0.039717</td>\n",
       "      <td>-0.133329</td>\n",
       "      <td>0.094522</td>\n",
       "      <td>0.094641</td>\n",
       "      <td>0.031455</td>\n",
       "      <td>-0.209612</td>\n",
       "      <td>-0.031536</td>\n",
       "      <td>1.723231</td>\n",
       "      <td>...</td>\n",
       "      <td>-0.226321</td>\n",
       "      <td>0.145408</td>\n",
       "      <td>-0.109102</td>\n",
       "      <td>-0.080141</td>\n",
       "      <td>0.077363</td>\n",
       "      <td>-0.122503</td>\n",
       "      <td>0.094507</td>\n",
       "      <td>-0.145394</td>\n",
       "      <td>0.001237</td>\n",
       "      <td>0.178629</td>\n",
       "    </tr>\n",
       "    <tr>\n",
       "      <th>3</th>\n",
       "      <td>0.060860</td>\n",
       "      <td>0.164606</td>\n",
       "      <td>-0.154045</td>\n",
       "      <td>-0.168020</td>\n",
       "      <td>0.138500</td>\n",
       "      <td>0.092502</td>\n",
       "      <td>-0.002123</td>\n",
       "      <td>-0.076254</td>\n",
       "      <td>-0.074994</td>\n",
       "      <td>1.953031</td>\n",
       "      <td>...</td>\n",
       "      <td>-0.180692</td>\n",
       "      <td>-0.032520</td>\n",
       "      <td>0.012061</td>\n",
       "      <td>-0.062361</td>\n",
       "      <td>-0.013487</td>\n",
       "      <td>0.018939</td>\n",
       "      <td>0.078037</td>\n",
       "      <td>-0.067532</td>\n",
       "      <td>-0.028504</td>\n",
       "      <td>0.090960</td>\n",
       "    </tr>\n",
       "    <tr>\n",
       "      <th>4</th>\n",
       "      <td>-0.095067</td>\n",
       "      <td>0.196053</td>\n",
       "      <td>-0.222208</td>\n",
       "      <td>-0.049087</td>\n",
       "      <td>0.052358</td>\n",
       "      <td>-0.010961</td>\n",
       "      <td>0.008600</td>\n",
       "      <td>-0.170744</td>\n",
       "      <td>-0.042944</td>\n",
       "      <td>2.149826</td>\n",
       "      <td>...</td>\n",
       "      <td>-0.194802</td>\n",
       "      <td>0.040638</td>\n",
       "      <td>-0.044806</td>\n",
       "      <td>-0.043795</td>\n",
       "      <td>0.094823</td>\n",
       "      <td>-0.067053</td>\n",
       "      <td>-0.022288</td>\n",
       "      <td>-0.071459</td>\n",
       "      <td>0.071956</td>\n",
       "      <td>0.073355</td>\n",
       "    </tr>\n",
       "    <tr>\n",
       "      <th>...</th>\n",
       "      <td>...</td>\n",
       "      <td>...</td>\n",
       "      <td>...</td>\n",
       "      <td>...</td>\n",
       "      <td>...</td>\n",
       "      <td>...</td>\n",
       "      <td>...</td>\n",
       "      <td>...</td>\n",
       "      <td>...</td>\n",
       "      <td>...</td>\n",
       "      <td>...</td>\n",
       "      <td>...</td>\n",
       "      <td>...</td>\n",
       "      <td>...</td>\n",
       "      <td>...</td>\n",
       "      <td>...</td>\n",
       "      <td>...</td>\n",
       "      <td>...</td>\n",
       "      <td>...</td>\n",
       "      <td>...</td>\n",
       "      <td>...</td>\n",
       "    </tr>\n",
       "    <tr>\n",
       "      <th>9995</th>\n",
       "      <td>-0.075224</td>\n",
       "      <td>0.134890</td>\n",
       "      <td>-0.089058</td>\n",
       "      <td>-0.109522</td>\n",
       "      <td>0.056692</td>\n",
       "      <td>0.149972</td>\n",
       "      <td>-0.031459</td>\n",
       "      <td>-0.069323</td>\n",
       "      <td>-0.004701</td>\n",
       "      <td>1.914595</td>\n",
       "      <td>...</td>\n",
       "      <td>-0.112275</td>\n",
       "      <td>0.041639</td>\n",
       "      <td>-0.041451</td>\n",
       "      <td>-0.033929</td>\n",
       "      <td>-0.055093</td>\n",
       "      <td>-0.020203</td>\n",
       "      <td>0.021392</td>\n",
       "      <td>-0.192331</td>\n",
       "      <td>0.043283</td>\n",
       "      <td>0.105996</td>\n",
       "    </tr>\n",
       "    <tr>\n",
       "      <th>9996</th>\n",
       "      <td>-0.021209</td>\n",
       "      <td>0.151835</td>\n",
       "      <td>-0.112525</td>\n",
       "      <td>-0.122594</td>\n",
       "      <td>0.096538</td>\n",
       "      <td>0.058507</td>\n",
       "      <td>0.037832</td>\n",
       "      <td>-0.138415</td>\n",
       "      <td>-0.004357</td>\n",
       "      <td>2.119311</td>\n",
       "      <td>...</td>\n",
       "      <td>-0.134819</td>\n",
       "      <td>0.032786</td>\n",
       "      <td>-0.051842</td>\n",
       "      <td>-0.048212</td>\n",
       "      <td>0.020107</td>\n",
       "      <td>-0.043680</td>\n",
       "      <td>0.014316</td>\n",
       "      <td>-0.068673</td>\n",
       "      <td>0.009537</td>\n",
       "      <td>0.125834</td>\n",
       "    </tr>\n",
       "    <tr>\n",
       "      <th>9997</th>\n",
       "      <td>-0.030904</td>\n",
       "      <td>0.165316</td>\n",
       "      <td>-0.102100</td>\n",
       "      <td>-0.127558</td>\n",
       "      <td>0.130750</td>\n",
       "      <td>0.056111</td>\n",
       "      <td>0.000408</td>\n",
       "      <td>-0.088597</td>\n",
       "      <td>0.021815</td>\n",
       "      <td>2.139497</td>\n",
       "      <td>...</td>\n",
       "      <td>-0.178942</td>\n",
       "      <td>0.070853</td>\n",
       "      <td>-0.077041</td>\n",
       "      <td>-0.035782</td>\n",
       "      <td>-0.026700</td>\n",
       "      <td>-0.029504</td>\n",
       "      <td>0.013137</td>\n",
       "      <td>-0.100683</td>\n",
       "      <td>0.024946</td>\n",
       "      <td>0.108802</td>\n",
       "    </tr>\n",
       "    <tr>\n",
       "      <th>9998</th>\n",
       "      <td>-0.026898</td>\n",
       "      <td>0.144509</td>\n",
       "      <td>-0.164131</td>\n",
       "      <td>-0.081958</td>\n",
       "      <td>0.082170</td>\n",
       "      <td>-0.037320</td>\n",
       "      <td>0.030681</td>\n",
       "      <td>-0.165972</td>\n",
       "      <td>-0.023817</td>\n",
       "      <td>2.318492</td>\n",
       "      <td>...</td>\n",
       "      <td>-0.177542</td>\n",
       "      <td>-0.039687</td>\n",
       "      <td>0.011728</td>\n",
       "      <td>-0.033147</td>\n",
       "      <td>0.080831</td>\n",
       "      <td>-0.011535</td>\n",
       "      <td>-0.033406</td>\n",
       "      <td>-0.053590</td>\n",
       "      <td>0.045518</td>\n",
       "      <td>0.094528</td>\n",
       "    </tr>\n",
       "    <tr>\n",
       "      <th>9999</th>\n",
       "      <td>-0.015508</td>\n",
       "      <td>0.211870</td>\n",
       "      <td>-0.094921</td>\n",
       "      <td>-0.030358</td>\n",
       "      <td>0.081555</td>\n",
       "      <td>0.067068</td>\n",
       "      <td>-0.024868</td>\n",
       "      <td>-0.101762</td>\n",
       "      <td>0.035391</td>\n",
       "      <td>1.742677</td>\n",
       "      <td>...</td>\n",
       "      <td>-0.119300</td>\n",
       "      <td>0.041961</td>\n",
       "      <td>-0.053012</td>\n",
       "      <td>-0.018483</td>\n",
       "      <td>-0.040071</td>\n",
       "      <td>-0.047681</td>\n",
       "      <td>-0.007709</td>\n",
       "      <td>-0.189017</td>\n",
       "      <td>-0.013659</td>\n",
       "      <td>0.126552</td>\n",
       "    </tr>\n",
       "  </tbody>\n",
       "</table>\n",
       "<p>10000 rows × 300 columns</p>\n",
       "</div>"
      ],
      "text/plain": [
       "           0         1         2         3         4         5         6    \\\n",
       "0    -0.021647  0.138191 -0.106211 -0.078064  0.056181  0.060862 -0.003805   \n",
       "1    -0.051446  0.174888 -0.162487 -0.085476  0.075221  0.077776  0.023618   \n",
       "2     0.017356  0.126895 -0.039717 -0.133329  0.094522  0.094641  0.031455   \n",
       "3     0.060860  0.164606 -0.154045 -0.168020  0.138500  0.092502 -0.002123   \n",
       "4    -0.095067  0.196053 -0.222208 -0.049087  0.052358 -0.010961  0.008600   \n",
       "...        ...       ...       ...       ...       ...       ...       ...   \n",
       "9995 -0.075224  0.134890 -0.089058 -0.109522  0.056692  0.149972 -0.031459   \n",
       "9996 -0.021209  0.151835 -0.112525 -0.122594  0.096538  0.058507  0.037832   \n",
       "9997 -0.030904  0.165316 -0.102100 -0.127558  0.130750  0.056111  0.000408   \n",
       "9998 -0.026898  0.144509 -0.164131 -0.081958  0.082170 -0.037320  0.030681   \n",
       "9999 -0.015508  0.211870 -0.094921 -0.030358  0.081555  0.067068 -0.024868   \n",
       "\n",
       "           7         8         9    ...       290       291       292  \\\n",
       "0    -0.112674 -0.033807  2.101514  ... -0.136959  0.051397  0.018642   \n",
       "1    -0.094539  0.011515  2.291694  ... -0.185593  0.048113 -0.003736   \n",
       "2    -0.209612 -0.031536  1.723231  ... -0.226321  0.145408 -0.109102   \n",
       "3    -0.076254 -0.074994  1.953031  ... -0.180692 -0.032520  0.012061   \n",
       "4    -0.170744 -0.042944  2.149826  ... -0.194802  0.040638 -0.044806   \n",
       "...        ...       ...       ...  ...       ...       ...       ...   \n",
       "9995 -0.069323 -0.004701  1.914595  ... -0.112275  0.041639 -0.041451   \n",
       "9996 -0.138415 -0.004357  2.119311  ... -0.134819  0.032786 -0.051842   \n",
       "9997 -0.088597  0.021815  2.139497  ... -0.178942  0.070853 -0.077041   \n",
       "9998 -0.165972 -0.023817  2.318492  ... -0.177542 -0.039687  0.011728   \n",
       "9999 -0.101762  0.035391  1.742677  ... -0.119300  0.041961 -0.053012   \n",
       "\n",
       "           293       294       295       296       297       298       299  \n",
       "0    -0.023069  0.023127 -0.044228  0.049466 -0.054665  0.042870  0.086430  \n",
       "1    -0.029323  0.014807 -0.067929 -0.012392 -0.065273  0.063565  0.102081  \n",
       "2    -0.080141  0.077363 -0.122503  0.094507 -0.145394  0.001237  0.178629  \n",
       "3    -0.062361 -0.013487  0.018939  0.078037 -0.067532 -0.028504  0.090960  \n",
       "4    -0.043795  0.094823 -0.067053 -0.022288 -0.071459  0.071956  0.073355  \n",
       "...        ...       ...       ...       ...       ...       ...       ...  \n",
       "9995 -0.033929 -0.055093 -0.020203  0.021392 -0.192331  0.043283  0.105996  \n",
       "9996 -0.048212  0.020107 -0.043680  0.014316 -0.068673  0.009537  0.125834  \n",
       "9997 -0.035782 -0.026700 -0.029504  0.013137 -0.100683  0.024946  0.108802  \n",
       "9998 -0.033147  0.080831 -0.011535 -0.033406 -0.053590  0.045518  0.094528  \n",
       "9999 -0.018483 -0.040071 -0.047681 -0.007709 -0.189017 -0.013659  0.126552  \n",
       "\n",
       "[10000 rows x 300 columns]"
      ]
     },
     "execution_count": 53,
     "metadata": {},
     "output_type": "execute_result"
    }
   ],
   "source": [
    "df_vec = pd.DataFrame(np.vstack([x.vector for x in df.spacy]))\n",
    "df_vec"
   ]
  },
  {
   "cell_type": "code",
   "execution_count": null,
   "metadata": {},
   "outputs": [],
   "source": []
  }
 ],
 "metadata": {
  "kernelspec": {
   "display_name": "Python 3",
   "language": "python",
   "name": "python3"
  },
  "language_info": {
   "codemirror_mode": {
    "name": "ipython",
    "version": 3
   },
   "file_extension": ".py",
   "mimetype": "text/x-python",
   "name": "python",
   "nbconvert_exporter": "python",
   "pygments_lexer": "ipython3",
   "version": "3.6.9"
  }
 },
 "nbformat": 4,
 "nbformat_minor": 4
}
