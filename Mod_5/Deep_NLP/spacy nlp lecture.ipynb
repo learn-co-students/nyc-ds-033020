{
 "cells": [
  {
   "cell_type": "markdown",
   "metadata": {},
   "source": [
    "# gensim"
   ]
  },
  {
   "cell_type": "code",
<<<<<<< HEAD
   "execution_count": 27,
=======
   "execution_count": null,
   "metadata": {},
   "outputs": [],
   "source": [
    "!pip install gensim"
   ]
  },
  {
   "cell_type": "code",
   "execution_count": 1,
>>>>>>> d1d943c1da5d0961772d51e10bbdb5e533d7a249
   "metadata": {},
   "outputs": [
    {
     "name": "stderr",
     "output_type": "stream",
     "text": [
      "unable to import 'smart_open.gcs', disabling that module\n"
     ]
    }
   ],
   "source": [
    "import numpy as np\n",
    "import warnings\n",
    "warnings.filterwarnings('ignore')\n",
    "\n",
    "%matplotlib inline\n",
    "import matplotlib.pyplot as plt\n",
    "import seaborn as sns; sns.set_style('ticks')\n",
    "\n",
    "from sklearn.decomposition import PCA\n",
    "\n",
    "from gensim.test.utils import datapath\n",
    "from gensim.models import KeyedVectors"
   ]
  },
  {
   "cell_type": "markdown",
   "metadata": {},
   "source": [
    "### load in pretrained word2vec model"
   ]
  },
  {
   "cell_type": "code",
<<<<<<< HEAD
   "execution_count": 4,
   "metadata": {},
   "outputs": [],
   "source": [
    "word2vec = datapath('/Users/p.szymo/Documents/word_embeddings/enwiki_20180420_100d.txt')\n",
=======
   "execution_count": 3,
   "metadata": {},
   "outputs": [],
   "source": [
    "word2vec = datapath('/Users/mwasserman/programming/nyc-ds-033020-lectures/Mod_5/Deep_NLP/word2vec_100d.txt')\n",
    "\n",
>>>>>>> d1d943c1da5d0961772d51e10bbdb5e533d7a249
    "model = KeyedVectors.load_word2vec_format(word2vec)"
   ]
  },
  {
   "cell_type": "markdown",
   "metadata": {},
   "source": [
    "##### word similarity "
   ]
  },
  {
   "cell_type": "code",
<<<<<<< HEAD
   "execution_count": 6,
=======
   "execution_count": 10,
>>>>>>> d1d943c1da5d0961772d51e10bbdb5e533d7a249
   "metadata": {},
   "outputs": [
    {
     "data": {
      "text/plain": [
<<<<<<< HEAD
       "[('barack', 0.9786518812179565),\n",
       " ('ENTITY/Barack_Obama', 0.8945704698562622),\n",
       " ('biden', 0.810084342956543),\n",
       " ('ENTITY/Joe_Biden', 0.8024176359176636),\n",
       " ('trump', 0.7982811331748962),\n",
       " ('clinton', 0.7979164123535156),\n",
       " ('ENTITY/Hillary_Clinton', 0.7967318892478943),\n",
       " ('ENTITY/Michelle_Obama', 0.7866920828819275),\n",
       " ('ENTITY/Donald_Trump', 0.7821940183639526),\n",
       " ('hillary', 0.7757807970046997)]"
      ]
     },
     "execution_count": 6,
=======
       "[('conspiracies', 0.8399481177330017),\n",
       " ('crabchurch', 0.7791687250137329),\n",
       " ('extortion', 0.7708937525749207),\n",
       " ('complicity', 0.76999831199646),\n",
       " ('catilinian', 0.7659637928009033),\n",
       " ('conspiring', 0.7491363286972046),\n",
       " ('murder', 0.7414364218711853),\n",
       " ('bribery', 0.7290879487991333),\n",
       " ('alleged', 0.7282978296279907),\n",
       " ('collusion', 0.7241843342781067)]"
      ]
     },
     "execution_count": 10,
>>>>>>> d1d943c1da5d0961772d51e10bbdb5e533d7a249
     "metadata": {},
     "output_type": "execute_result"
    }
   ],
   "source": [
    "model.most_similar('conspiracy')"
   ]
  },
  {
   "cell_type": "code",
<<<<<<< HEAD
   "execution_count": 7,
=======
   "execution_count": 9,
>>>>>>> d1d943c1da5d0961772d51e10bbdb5e533d7a249
   "metadata": {},
   "outputs": [
    {
     "data": {
      "text/plain": [
       "[('marriott', 0.8348016738891602),\n",
       " ('ritz', 0.7800471782684326),\n",
       " ('wynfrey', 0.7631689310073853),\n",
       " ('sheraton', 0.7620010375976562),\n",
       " ('soreno', 0.7595160007476807),\n",
       " ('hyatt', 0.7538101077079773),\n",
       " ('westin', 0.7486691474914551),\n",
       " ('doubletree', 0.7433996796607971),\n",
       " ('surfcomber', 0.7387865781784058),\n",
       " ('crowne', 0.7363494038581848)]"
      ]
     },
<<<<<<< HEAD
     "execution_count": 7,
=======
     "execution_count": 9,
>>>>>>> d1d943c1da5d0961772d51e10bbdb5e533d7a249
     "metadata": {},
     "output_type": "execute_result"
    }
   ],
   "source": [
    "model.most_similar('hilton')"
   ]
  },
  {
   "cell_type": "code",
<<<<<<< HEAD
   "execution_count": 10,
=======
   "execution_count": 12,
>>>>>>> d1d943c1da5d0961772d51e10bbdb5e533d7a249
   "metadata": {},
   "outputs": [
    {
     "data": {
      "text/plain": [
<<<<<<< HEAD
       "[('conspiracies', 0.8399481177330017),\n",
       " ('crabchurch', 0.7791687250137329),\n",
       " ('extortion', 0.7708937525749207),\n",
       " ('complicity', 0.76999831199646),\n",
       " ('catilinian', 0.7659637928009033),\n",
       " ('conspiring', 0.7491363286972046),\n",
       " ('murder', 0.7414364218711853),\n",
       " ('bribery', 0.7290879487991333),\n",
       " ('alleged', 0.7282978296279907),\n",
       " ('collusion', 0.7241843342781067)]"
      ]
     },
     "execution_count": 10,
     "metadata": {},
     "output_type": "execute_result"
    }
   ],
   "source": [
    "model.most_similar('conspiracy')"
   ]
  },
  {
   "cell_type": "code",
   "execution_count": 11,
   "metadata": {},
   "outputs": [
    {
     "data": {
      "text/plain": [
       "[('complicity', 0.8374620079994202),\n",
       " ('colluding', 0.8190929293632507),\n",
       " ('dealings', 0.8104913234710693),\n",
       " ('colluded', 0.8091800808906555),\n",
       " ('alleged', 0.7940891981124878),\n",
       " ('bribery', 0.7885681390762329),\n",
       " ('connivance', 0.7784428596496582),\n",
       " ('accusations', 0.7738966941833496),\n",
       " ('disloyalty', 0.7734236121177673),\n",
       " ('malfeasance', 0.768873929977417)]"
      ]
     },
     "execution_count": 11,
     "metadata": {},
     "output_type": "execute_result"
    }
   ],
   "source": [
    "model.most_similar('collusion')"
   ]
  },
  {
   "cell_type": "code",
   "execution_count": 8,
   "metadata": {},
   "outputs": [
    {
     "data": {
      "text/plain": [
       "[('ENTITY/Scythris_inertella', 0.3487657904624939),\n",
       " ('ENTITY/Herrichia_excelsella', 0.3068707585334778),\n",
       " ('ENTITY/Peribatodes_perversaria', 0.2772373557090759),\n",
       " ('ENTITY/Phiaris_septentrionana', 0.2549286186695099),\n",
       " ('ENTITY/Acanthopsyche_ecksteini', 0.24981063604354858),\n",
       " ('ENTITY/Megalodes_eximia', 0.2447773814201355),\n",
       " ('ENTITY/Image:Honey_badger.jpg', 0.24383153021335602),\n",
       " ('ENTITY/Nola_chlamitulalis', 0.23774507641792297),\n",
       " ('ENTITY/Dichrorampha_gruneriana', 0.23250579833984375),\n",
       " ('ENTITY/Scythris_flaviventrella', 0.2278483510017395)]"
      ]
     },
     "execution_count": 8,
=======
       "[('ENTITY/Scythris_inertella', 0.33812209963798523),\n",
       " ('ENTITY/Nola_chlamitulalis', 0.29845255613327026),\n",
       " ('ENTITY/Leiningen-Emichsburg', 0.28835529088974),\n",
       " ('ENTITY/Dichrorampha_gruneriana', 0.27563875913619995),\n",
       " ('ENTITY/:Category:User_ciw-2', 0.2748947739601135),\n",
       " ('ENTITY/1981_in_spaceflight', 0.2745441198348999),\n",
       " ('ENTITY/File:Open_Make_Up_For_Ever_2013_-_Team_-_France_-_01.jpg',\n",
       "  0.2673618495464325),\n",
       " ('ENTITY/Kiyoshi_Abo', 0.26102301478385925),\n",
       " ('ENTITY/Eublemma_pudorina', 0.2567945420742035),\n",
       " ('ENTITY/Janthinea_friwaldskii', 0.2551265358924866)]"
      ]
     },
     "execution_count": 12,
>>>>>>> d1d943c1da5d0961772d51e10bbdb5e533d7a249
     "metadata": {},
     "output_type": "execute_result"
    }
   ],
   "source": [
    "model.most_similar(negative='swedish')"
   ]
  },
  {
   "cell_type": "code",
   "execution_count": 12,
   "metadata": {
    "scrolled": true
   },
   "outputs": [
    {
     "data": {
      "text/plain": [
       "[('ENTITY/Scythris_inertella', 0.27875423431396484),\n",
       " ('ENTITY/File:African_Buffalo_Drawing_historic.jpg', 0.2707037627696991),\n",
       " ('ENTITY/Image:Persian_Leopard_sitting.jpg', 0.2658817172050476),\n",
       " ('ENTITY/Leiningen-Emichsburg', 0.2638656198978424),\n",
       " ('ENTITY/Rileyiana_fovea', 0.2575606405735016),\n",
       " ('ENTITY/Janthinea_friwaldskii', 0.25661957263946533),\n",
       " ('ENTITY/Eublemma_pudorina', 0.2561008036136627),\n",
       " ('ENTITY/1981_in_spaceflight', 0.2546166181564331),\n",
       " ('ENTITY/File:Arkansas_Regions_Colored_With_Names.png', 0.24573861062526703),\n",
       " ('ENTITY/Nola_chlamitulalis', 0.24245761334896088)]"
      ]
     },
     "execution_count": 12,
     "metadata": {},
     "output_type": "execute_result"
    }
   ],
   "source": [
    "model.most_similar(negative='trump')"
   ]
  },
  {
   "cell_type": "code",
   "execution_count": 56,
   "metadata": {},
   "outputs": [
    {
     "data": {
      "text/plain": [
       "[('ENTITY/Donald_Trump', 0.8110637664794922),\n",
       " ('obama', 0.798281192779541),\n",
       " ('barack', 0.7784837484359741),\n",
       " ('ENTITY/Donald_Trump_presidential_campaign,_2016', 0.7390224933624268),\n",
       " ('ENTITY/The_Trump_Organization', 0.732802152633667),\n",
       " ('ENTITY/Trump_Tower', 0.7313694953918457),\n",
       " ('ENTITY/File:ElectoralCollege2016.svg', 0.7147173881530762),\n",
       " ('ENTITY/File:President_Donald_Trump_receives_a_briefing_on_a_military_strike.jpg',\n",
       "  0.7144560217857361),\n",
       " ('manafort', 0.714256763458252),\n",
       " ('gigicos', 0.7140686511993408)]"
      ]
     },
     "execution_count": 56,
     "metadata": {},
     "output_type": "execute_result"
    }
   ],
   "source": [
    "model.most_similar('trump')"
   ]
  },
  {
   "cell_type": "code",
<<<<<<< HEAD
   "execution_count": 55,
   "metadata": {},
   "outputs": [
    {
     "data": {
      "text/plain": [
       "[('masks', 0.8113056421279907),\n",
       " ('avohkii', 0.8100217580795288),\n",
       " ('skullpelt', 0.7746825218200684),\n",
       " ('kraahkan', 0.7664753198623657),\n",
       " ('gasmask', 0.7570312023162842),\n",
       " ('menpo', 0.7556092739105225),\n",
       " ('jukido', 0.7465859055519104),\n",
       " ('facepaint', 0.7463953495025635),\n",
       " ('orinasal', 0.7408226728439331),\n",
       " ('longcoat', 0.7399318218231201)]"
      ]
     },
     "execution_count": 55,
     "metadata": {},
     "output_type": "execute_result"
=======
   "execution_count": 13,
   "metadata": {},
   "outputs": [
    {
     "name": "stdout",
     "output_type": "stream",
     "text": [
      "queen: 0.8306\n"
     ]
>>>>>>> d1d943c1da5d0961772d51e10bbdb5e533d7a249
    }
   ],
   "source": [
    "model.most_similar('mask')"
   ]
  },
  {
   "cell_type": "code",
   "execution_count": 62,
   "metadata": {},
   "outputs": [
    {
     "name": "stdout",
     "output_type": "stream",
     "text": [
      "tires: 0.7322\n"
     ]
    }
   ],
   "source": [
    "result = model.most_similar(positive=['wheels', 'car'], negative=['four'])\n",
    "print(\"{}: {:.4f}\".format(*result[0]))"
   ]
  },
  {
   "cell_type": "markdown",
   "metadata": {},
   "source": [
    "### analogy"
   ]
  },
  {
   "cell_type": "code",
<<<<<<< HEAD
   "execution_count": 15,
=======
   "execution_count": 14,
>>>>>>> d1d943c1da5d0961772d51e10bbdb5e533d7a249
   "metadata": {},
   "outputs": [],
   "source": [
    "def analogy(x1, x2, y1):\n",
    "    result = model.most_similar(positive=[y1, x2], negative=[x1])\n",
    "    return result"
   ]
  },
  {
   "cell_type": "code",
<<<<<<< HEAD
   "execution_count": 16,
=======
   "execution_count": 15,
>>>>>>> d1d943c1da5d0961772d51e10bbdb5e533d7a249
   "metadata": {},
   "outputs": [
    {
     "data": {
      "text/plain": [
       "[('australian', 0.876969575881958),\n",
       " ('australians', 0.7480741143226624),\n",
       " ('ENTITY/English_Australians', 0.7214674949645996),\n",
       " ('tasmanian', 0.7200986742973328),\n",
       " ('nsw', 0.709411084651947),\n",
       " ('queensland', 0.6975623965263367),\n",
       " ('ENTITY/Culture_of_Australia', 0.6928346157073975),\n",
       " ('ENTITY/Australian_nationality_law', 0.6912353038787842),\n",
       " ('brataualung', 0.6911287903785706),\n",
       " ('ENTITY/Asian_Australians', 0.6887868642807007)]"
      ]
     },
<<<<<<< HEAD
     "execution_count": 16,
=======
     "execution_count": 15,
>>>>>>> d1d943c1da5d0961772d51e10bbdb5e533d7a249
     "metadata": {},
     "output_type": "execute_result"
    }
   ],
   "source": [
    "analogy('japan', 'japanese', 'australia')"
   ]
  },
  {
   "cell_type": "code",
<<<<<<< HEAD
   "execution_count": 17,
=======
   "execution_count": 16,
>>>>>>> d1d943c1da5d0961772d51e10bbdb5e533d7a249
   "metadata": {},
   "outputs": [
    {
     "data": {
      "text/plain": [
       "[('ENTITY/Marie_Brizard_et_Roger_International_', 0.704372227191925),\n",
       " ('cognac', 0.6980258226394653),\n",
       " ('ENTITY/Bosteels_Brewery#Pauwel_Kwak', 0.6938354969024658),\n",
       " ('ENTITY/Marie_Brizard_Wine_&_Spirits', 0.685952365398407),\n",
       " (\"ENTITY/Brasserie_d'Achouffe\", 0.6814519762992859),\n",
       " ('ENTITY/Bosteels_Brewery', 0.6809835433959961),\n",
       " ('alvinne', 0.6767335534095764),\n",
       " ('champagne', 0.6696678400039673),\n",
       " ('pommery', 0.6664804816246033),\n",
       " ('karlsbräu', 0.6664777398109436)]"
      ]
     },
<<<<<<< HEAD
     "execution_count": 17,
=======
     "execution_count": 16,
>>>>>>> d1d943c1da5d0961772d51e10bbdb5e533d7a249
     "metadata": {},
     "output_type": "execute_result"
    }
   ],
   "source": [
    "analogy('australia', 'beer', 'france')"
   ]
  },
  {
   "cell_type": "code",
<<<<<<< HEAD
   "execution_count": 18,
=======
   "execution_count": 17,
>>>>>>> d1d943c1da5d0961772d51e10bbdb5e533d7a249
   "metadata": {},
   "outputs": [
    {
     "data": {
      "text/plain": [
       "[('nixon', 0.7800426483154297),\n",
       " ('kennedy', 0.7232027053833008),\n",
       " ('lyndon', 0.7140451669692993),\n",
       " ('cheney', 0.70884770154953),\n",
       " ('ENTITY/George_H._W._Bush', 0.7082054615020752),\n",
       " ('ENTITY/Gerald_Ford', 0.7006938457489014),\n",
       " ('eisenhower', 0.695790708065033),\n",
       " ('mondale', 0.6919281482696533),\n",
       " ('mcgovern', 0.6915150880813599),\n",
       " ('ENTITY/Ronald_Reagan', 0.6883499026298523)]"
      ]
     },
<<<<<<< HEAD
     "execution_count": 18,
=======
     "execution_count": 17,
>>>>>>> d1d943c1da5d0961772d51e10bbdb5e533d7a249
     "metadata": {},
     "output_type": "execute_result"
    }
   ],
   "source": [
    "analogy('obama', 'clinton', 'reagan')"
   ]
  },
  {
   "cell_type": "code",
<<<<<<< HEAD
   "execution_count": 19,
=======
   "execution_count": 18,
>>>>>>> d1d943c1da5d0961772d51e10bbdb5e533d7a249
   "metadata": {},
   "outputs": [
    {
     "data": {
      "text/plain": [
       "[('longest', 0.7013919353485107),\n",
       " ('shortest', 0.6812495589256287),\n",
       " ('busiest', 0.6250710487365723),\n",
       " ('skyjackings', 0.5888058543205261),\n",
       " ('southernmost', 0.5763955116271973),\n",
       " ('hkbcf', 0.5760782957077026),\n",
       " ('northernmost', 0.5751603841781616),\n",
       " ('ameralik', 0.573586642742157),\n",
       " ('largest', 0.5719391107559204),\n",
       " ('prior', 0.5631099343299866)]"
      ]
     },
<<<<<<< HEAD
     "execution_count": 19,
=======
     "execution_count": 18,
>>>>>>> d1d943c1da5d0961772d51e10bbdb5e533d7a249
     "metadata": {},
     "output_type": "execute_result"
    }
   ],
   "source": [
    "analogy('tall', 'tallest', 'long')"
   ]
  },
  {
   "cell_type": "code",
<<<<<<< HEAD
   "execution_count": 20,
=======
   "execution_count": 19,
>>>>>>> d1d943c1da5d0961772d51e10bbdb5e533d7a249
   "metadata": {},
   "outputs": [
    {
     "data": {
      "text/plain": [
       "[('timid', 0.6972248554229736),\n",
       " ('dimwitted', 0.6926876306533813),\n",
       " ('flighty', 0.6924856901168823),\n",
       " ('effete', 0.6862304210662842),\n",
       " ('slatternly', 0.6861974000930786),\n",
       " ('prissy', 0.6815040707588196),\n",
       " ('scatterbrained', 0.6811786890029907),\n",
       " ('henpecked', 0.6807010173797607),\n",
       " ('snobbish', 0.6806244850158691),\n",
       " ('pampered', 0.6768413782119751)]"
      ]
     },
<<<<<<< HEAD
     "execution_count": 20,
=======
     "execution_count": 19,
>>>>>>> d1d943c1da5d0961772d51e10bbdb5e533d7a249
     "metadata": {},
     "output_type": "execute_result"
    }
   ],
   "source": [
    "analogy('particular', 'fussy', 'subservient')"
   ]
  },
  {
   "cell_type": "code",
   "execution_count": 23,
   "metadata": {},
   "outputs": [
    {
     "data": {
      "text/plain": [
       "[('salinated', 0.7343252301216125),\n",
       " ('seawater', 0.7303400039672852),\n",
       " ('sublacustrine', 0.7096027731895447),\n",
       " ('potable', 0.707200288772583),\n",
       " ('nonpotable', 0.6999020576477051),\n",
       " ('riverwater', 0.6903719305992126),\n",
       " ('groundwater', 0.688728928565979),\n",
       " ('potability', 0.678020715713501),\n",
       " ('brackish', 0.6757316589355469),\n",
       " ('ponds', 0.6757315397262573)]"
      ]
     },
     "execution_count": 23,
     "metadata": {},
     "output_type": "execute_result"
    }
   ],
   "source": [
    "analogy('cool', 'warm', 'water')"
   ]
  },
  {
   "cell_type": "markdown",
   "metadata": {},
   "source": [
    "### which word doesnt belong"
   ]
  },
  {
   "cell_type": "code",
<<<<<<< HEAD
   "execution_count": 24,
=======
   "execution_count": 21,
>>>>>>> d1d943c1da5d0961772d51e10bbdb5e533d7a249
   "metadata": {},
   "outputs": [
    {
     "name": "stdout",
     "output_type": "stream",
     "text": [
<<<<<<< HEAD
      "cereal\n"
=======
      "russia\n"
>>>>>>> d1d943c1da5d0961772d51e10bbdb5e533d7a249
     ]
    }
   ],
   "source": [
    "print(model.doesnt_match(\"england france germant russia\".split()))"
   ]
  },
  {
   "cell_type": "markdown",
   "metadata": {},
   "source": [
    "### pca of vector space"
   ]
  },
  {
   "cell_type": "code",
<<<<<<< HEAD
   "execution_count": 25,
=======
   "execution_count": 23,
>>>>>>> d1d943c1da5d0961772d51e10bbdb5e533d7a249
   "metadata": {},
   "outputs": [],
   "source": [
    "def display_pca_scatterplot(model, words=None, sample=0):\n",
    "    if words == None:\n",
    "        if sample > 0:\n",
    "            words = np.random.choice(list(model.vocab.keys()), sample)\n",
    "        else:\n",
    "            words = [ word for word in model.vocab ]\n",
    "        \n",
    "    word_vectors = np.array([model[w] for w in words])\n",
    "\n",
    "    twodim = PCA().fit_transform(word_vectors)[:,:2]\n",
    "    \n",
    "    plt.figure(figsize=(6,6))\n",
    "    plt.scatter(twodim[:,0], twodim[:,1], edgecolors='k', c='r')\n",
    "    for word, (x,y) in zip(words, twodim):\n",
    "        plt.text(x+0.05, y+0.05, word)"
   ]
  },
  {
   "cell_type": "code",
<<<<<<< HEAD
   "execution_count": 29,
=======
   "execution_count": 24,
>>>>>>> d1d943c1da5d0961772d51e10bbdb5e533d7a249
   "metadata": {},
   "outputs": [
    {
     "data": {
<<<<<<< HEAD
      "image/png": "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\n",
=======
      "image/png": "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\n",
>>>>>>> d1d943c1da5d0961772d51e10bbdb5e533d7a249
      "text/plain": [
       "<Figure size 432x432 with 1 Axes>"
      ]
     },
<<<<<<< HEAD
     "metadata": {},
=======
     "metadata": {
      "needs_background": "light"
     },
>>>>>>> d1d943c1da5d0961772d51e10bbdb5e533d7a249
     "output_type": "display_data"
    }
   ],
   "source": [
    "sns.set_style('whitegrid')\n",
    "display_pca_scatterplot(model, \n",
    "                        ['coffee', 'tea', 'beer', 'wine', 'brandy', 'rum', 'champagne', 'water',\n",
    "                         'spaghetti', 'borscht', 'hamburger', 'pizza', 'falafel', 'sushi', 'meatballs',\n",
    "                         'dog', 'horse', 'cat', 'monkey', 'parrot', 'koala', 'lizard',\n",
    "                         'frog', 'toad', 'monkey', 'ape', 'kangaroo', 'wombat', 'wolf',\n",
    "                         'france', 'germany', 'hungary', 'luxembourg', 'australia', 'fiji', 'china',\n",
    "                         'homework', 'assignment', 'problem', 'exam', 'test', 'class',\n",
    "                         'school', 'college', 'university', 'institute'])"
   ]
  },
  {
   "cell_type": "markdown",
   "metadata": {},
   "source": [
    "# spaCy"
   ]
  },
  {
   "cell_type": "code",
   "execution_count": 30,
   "metadata": {},
   "outputs": [
    {
     "name": "stdout",
     "output_type": "stream",
     "text": [
      "Collecting en_core_web_md==2.2.5\n",
      "  Downloading https://github.com/explosion/spacy-models/releases/download/en_core_web_md-2.2.5/en_core_web_md-2.2.5.tar.gz (96.4 MB)\n",
      "\u001b[K     |████████████████████████████████| 96.4 MB 10.6 MB/s eta 0:00:01\n",
      "\u001b[?25hRequirement already satisfied: spacy>=2.2.2 in /opt/anaconda3/envs/learn-env/lib/python3.6/site-packages (from en_core_web_md==2.2.5) (2.2.4)\n",
      "Requirement already satisfied: murmurhash<1.1.0,>=0.28.0 in /opt/anaconda3/envs/learn-env/lib/python3.6/site-packages (from spacy>=2.2.2->en_core_web_md==2.2.5) (1.0.2)\n",
      "Requirement already satisfied: catalogue<1.1.0,>=0.0.7 in /opt/anaconda3/envs/learn-env/lib/python3.6/site-packages (from spacy>=2.2.2->en_core_web_md==2.2.5) (1.0.0)\n",
      "Requirement already satisfied: setuptools in /opt/anaconda3/envs/learn-env/lib/python3.6/site-packages (from spacy>=2.2.2->en_core_web_md==2.2.5) (41.2.0)\n",
      "Requirement already satisfied: numpy>=1.15.0 in /opt/anaconda3/envs/learn-env/lib/python3.6/site-packages (from spacy>=2.2.2->en_core_web_md==2.2.5) (1.18.2)\n",
      "Requirement already satisfied: plac<1.2.0,>=0.9.6 in /opt/anaconda3/envs/learn-env/lib/python3.6/site-packages (from spacy>=2.2.2->en_core_web_md==2.2.5) (1.1.3)\n",
      "Requirement already satisfied: cymem<2.1.0,>=2.0.2 in /opt/anaconda3/envs/learn-env/lib/python3.6/site-packages (from spacy>=2.2.2->en_core_web_md==2.2.5) (2.0.3)\n",
      "Requirement already satisfied: blis<0.5.0,>=0.4.0 in /opt/anaconda3/envs/learn-env/lib/python3.6/site-packages (from spacy>=2.2.2->en_core_web_md==2.2.5) (0.4.1)\n",
      "Requirement already satisfied: requests<3.0.0,>=2.13.0 in /opt/anaconda3/envs/learn-env/lib/python3.6/site-packages (from spacy>=2.2.2->en_core_web_md==2.2.5) (2.23.0)\n",
      "Requirement already satisfied: thinc==7.4.0 in /opt/anaconda3/envs/learn-env/lib/python3.6/site-packages (from spacy>=2.2.2->en_core_web_md==2.2.5) (7.4.0)\n",
      "Requirement already satisfied: preshed<3.1.0,>=3.0.2 in /opt/anaconda3/envs/learn-env/lib/python3.6/site-packages (from spacy>=2.2.2->en_core_web_md==2.2.5) (3.0.2)\n",
      "Requirement already satisfied: srsly<1.1.0,>=1.0.2 in /opt/anaconda3/envs/learn-env/lib/python3.6/site-packages (from spacy>=2.2.2->en_core_web_md==2.2.5) (1.0.2)\n",
      "Requirement already satisfied: tqdm<5.0.0,>=4.38.0 in /opt/anaconda3/envs/learn-env/lib/python3.6/site-packages (from spacy>=2.2.2->en_core_web_md==2.2.5) (4.45.0)\n",
      "Requirement already satisfied: wasabi<1.1.0,>=0.4.0 in /opt/anaconda3/envs/learn-env/lib/python3.6/site-packages (from spacy>=2.2.2->en_core_web_md==2.2.5) (0.6.0)\n",
      "Requirement already satisfied: importlib-metadata>=0.20; python_version < \"3.8\" in /opt/anaconda3/envs/learn-env/lib/python3.6/site-packages (from catalogue<1.1.0,>=0.0.7->spacy>=2.2.2->en_core_web_md==2.2.5) (1.6.0)\n",
      "Requirement already satisfied: chardet<4,>=3.0.2 in /opt/anaconda3/envs/learn-env/lib/python3.6/site-packages (from requests<3.0.0,>=2.13.0->spacy>=2.2.2->en_core_web_md==2.2.5) (3.0.4)\n",
      "Requirement already satisfied: urllib3!=1.25.0,!=1.25.1,<1.26,>=1.21.1 in /opt/anaconda3/envs/learn-env/lib/python3.6/site-packages (from requests<3.0.0,>=2.13.0->spacy>=2.2.2->en_core_web_md==2.2.5) (1.25.9)\n",
      "Requirement already satisfied: idna<3,>=2.5 in /opt/anaconda3/envs/learn-env/lib/python3.6/site-packages (from requests<3.0.0,>=2.13.0->spacy>=2.2.2->en_core_web_md==2.2.5) (2.8)\n",
      "Requirement already satisfied: certifi>=2017.4.17 in /opt/anaconda3/envs/learn-env/lib/python3.6/site-packages (from requests<3.0.0,>=2.13.0->spacy>=2.2.2->en_core_web_md==2.2.5) (2020.4.5.2)\n",
      "Requirement already satisfied: zipp>=0.5 in /opt/anaconda3/envs/learn-env/lib/python3.6/site-packages (from importlib-metadata>=0.20; python_version < \"3.8\"->catalogue<1.1.0,>=0.0.7->spacy>=2.2.2->en_core_web_md==2.2.5) (0.5.1)\n",
      "Building wheels for collected packages: en-core-web-md\n",
      "  Building wheel for en-core-web-md (setup.py) ... \u001b[?25ldone\n",
      "\u001b[?25h  Created wheel for en-core-web-md: filename=en_core_web_md-2.2.5-py3-none-any.whl size=98051302 sha256=6339bfcac04dc3915443a844b92c683636139bb0a1794127db33f99a864885d8\n",
      "  Stored in directory: /private/var/folders/3b/6q0d93qn66g5fg2t3938zdb40000gn/T/pip-ephem-wheel-cache-xr3wsotw/wheels/91/dd/30/01b00272fbb8fbcdafcac24f3c7d362ce2d8ba296071b41d99\n",
      "Successfully built en-core-web-md\n",
      "Installing collected packages: en-core-web-md\n",
      "Successfully installed en-core-web-md-2.2.5\n",
      "\u001b[38;5;2m✔ Download and installation successful\u001b[0m\n",
      "You can now load the model via spacy.load('en_core_web_md')\n"
     ]
    }
   ],
   "source": [
    "!python -m spacy download en_core_web_md"
   ]
  },
  {
   "cell_type": "code",
<<<<<<< HEAD
   "execution_count": 31,
=======
   "execution_count": 25,
>>>>>>> d1d943c1da5d0961772d51e10bbdb5e533d7a249
   "metadata": {},
   "outputs": [],
   "source": [
    "import spacy\n",
    "import pandas as pd\n",
    "import numpy as np\n",
    "from tqdm import tqdm"
   ]
  },
  {
   "cell_type": "code",
<<<<<<< HEAD
   "execution_count": 32,
=======
   "execution_count": 26,
>>>>>>> d1d943c1da5d0961772d51e10bbdb5e533d7a249
   "metadata": {},
   "outputs": [],
   "source": [
    "tqdm.pandas()"
   ]
  },
  {
   "cell_type": "code",
<<<<<<< HEAD
   "execution_count": 33,
=======
   "execution_count": 27,
>>>>>>> d1d943c1da5d0961772d51e10bbdb5e533d7a249
   "metadata": {},
   "outputs": [],
   "source": [
    "df = pd.read_csv(\"yelp.csv\")"
   ]
  },
  {
   "cell_type": "code",
<<<<<<< HEAD
   "execution_count": 34,
=======
   "execution_count": 28,
>>>>>>> d1d943c1da5d0961772d51e10bbdb5e533d7a249
   "metadata": {},
   "outputs": [
    {
     "data": {
      "text/html": [
       "<div>\n",
       "<style scoped>\n",
       "    .dataframe tbody tr th:only-of-type {\n",
       "        vertical-align: middle;\n",
       "    }\n",
       "\n",
       "    .dataframe tbody tr th {\n",
       "        vertical-align: top;\n",
       "    }\n",
       "\n",
       "    .dataframe thead th {\n",
       "        text-align: right;\n",
       "    }\n",
       "</style>\n",
       "<table border=\"1\" class=\"dataframe\">\n",
       "  <thead>\n",
       "    <tr style=\"text-align: right;\">\n",
       "      <th></th>\n",
       "      <th>business_id</th>\n",
       "      <th>date</th>\n",
       "      <th>review_id</th>\n",
       "      <th>stars</th>\n",
       "      <th>text</th>\n",
       "      <th>type</th>\n",
       "      <th>user_id</th>\n",
       "      <th>cool</th>\n",
       "      <th>useful</th>\n",
       "      <th>funny</th>\n",
       "    </tr>\n",
       "  </thead>\n",
       "  <tbody>\n",
       "    <tr>\n",
       "      <th>0</th>\n",
       "      <td>9yKzy9PApeiPPOUJEtnvkg</td>\n",
       "      <td>2011-01-26</td>\n",
       "      <td>fWKvX83p0-ka4JS3dc6E5A</td>\n",
       "      <td>5</td>\n",
       "      <td>My wife took me here on my birthday for breakf...</td>\n",
       "      <td>review</td>\n",
       "      <td>rLtl8ZkDX5vH5nAx9C3q5Q</td>\n",
       "      <td>2</td>\n",
       "      <td>5</td>\n",
       "      <td>0</td>\n",
       "    </tr>\n",
       "    <tr>\n",
       "      <th>1</th>\n",
       "      <td>ZRJwVLyzEJq1VAihDhYiow</td>\n",
       "      <td>2011-07-27</td>\n",
       "      <td>IjZ33sJrzXqU-0X6U8NwyA</td>\n",
       "      <td>5</td>\n",
       "      <td>I have no idea why some people give bad review...</td>\n",
       "      <td>review</td>\n",
       "      <td>0a2KyEL0d3Yb1V6aivbIuQ</td>\n",
       "      <td>0</td>\n",
       "      <td>0</td>\n",
       "      <td>0</td>\n",
       "    </tr>\n",
       "    <tr>\n",
       "      <th>2</th>\n",
       "      <td>6oRAC4uyJCsJl1X0WZpVSA</td>\n",
       "      <td>2012-06-14</td>\n",
       "      <td>IESLBzqUCLdSzSqm0eCSxQ</td>\n",
       "      <td>4</td>\n",
       "      <td>love the gyro plate. Rice is so good and I als...</td>\n",
       "      <td>review</td>\n",
       "      <td>0hT2KtfLiobPvh6cDC8JQg</td>\n",
       "      <td>0</td>\n",
       "      <td>1</td>\n",
       "      <td>0</td>\n",
       "    </tr>\n",
       "    <tr>\n",
       "      <th>3</th>\n",
       "      <td>_1QQZuf4zZOyFCvXc0o6Vg</td>\n",
       "      <td>2010-05-27</td>\n",
       "      <td>G-WvGaISbqqaMHlNnByodA</td>\n",
       "      <td>5</td>\n",
       "      <td>Rosie, Dakota, and I LOVE Chaparral Dog Park!!...</td>\n",
       "      <td>review</td>\n",
       "      <td>uZetl9T0NcROGOyFfughhg</td>\n",
       "      <td>1</td>\n",
       "      <td>2</td>\n",
       "      <td>0</td>\n",
       "    </tr>\n",
       "    <tr>\n",
       "      <th>4</th>\n",
       "      <td>6ozycU1RpktNG2-1BroVtw</td>\n",
       "      <td>2012-01-05</td>\n",
       "      <td>1uJFq2r5QfJG_6ExMRCaGw</td>\n",
       "      <td>5</td>\n",
       "      <td>General Manager Scott Petello is a good egg!!!...</td>\n",
       "      <td>review</td>\n",
       "      <td>vYmM4KTsC8ZfQBg-j5MWkw</td>\n",
       "      <td>0</td>\n",
       "      <td>0</td>\n",
       "      <td>0</td>\n",
       "    </tr>\n",
       "  </tbody>\n",
       "</table>\n",
       "</div>"
      ],
      "text/plain": [
       "              business_id        date               review_id  stars  \\\n",
       "0  9yKzy9PApeiPPOUJEtnvkg  2011-01-26  fWKvX83p0-ka4JS3dc6E5A      5   \n",
       "1  ZRJwVLyzEJq1VAihDhYiow  2011-07-27  IjZ33sJrzXqU-0X6U8NwyA      5   \n",
       "2  6oRAC4uyJCsJl1X0WZpVSA  2012-06-14  IESLBzqUCLdSzSqm0eCSxQ      4   \n",
       "3  _1QQZuf4zZOyFCvXc0o6Vg  2010-05-27  G-WvGaISbqqaMHlNnByodA      5   \n",
       "4  6ozycU1RpktNG2-1BroVtw  2012-01-05  1uJFq2r5QfJG_6ExMRCaGw      5   \n",
       "\n",
       "                                                text    type  \\\n",
       "0  My wife took me here on my birthday for breakf...  review   \n",
       "1  I have no idea why some people give bad review...  review   \n",
       "2  love the gyro plate. Rice is so good and I als...  review   \n",
       "3  Rosie, Dakota, and I LOVE Chaparral Dog Park!!...  review   \n",
       "4  General Manager Scott Petello is a good egg!!!...  review   \n",
       "\n",
       "                  user_id  cool  useful  funny  \n",
       "0  rLtl8ZkDX5vH5nAx9C3q5Q     2       5      0  \n",
       "1  0a2KyEL0d3Yb1V6aivbIuQ     0       0      0  \n",
       "2  0hT2KtfLiobPvh6cDC8JQg     0       1      0  \n",
       "3  uZetl9T0NcROGOyFfughhg     1       2      0  \n",
       "4  vYmM4KTsC8ZfQBg-j5MWkw     0       0      0  "
      ]
     },
<<<<<<< HEAD
     "execution_count": 34,
=======
     "execution_count": 28,
>>>>>>> d1d943c1da5d0961772d51e10bbdb5e533d7a249
     "metadata": {},
     "output_type": "execute_result"
    }
   ],
   "source": [
    "df.head()\n"
   ]
  },
  {
   "cell_type": "code",
<<<<<<< HEAD
   "execution_count": 35,
=======
   "execution_count": 29,
>>>>>>> d1d943c1da5d0961772d51e10bbdb5e533d7a249
   "metadata": {},
   "outputs": [
    {
     "data": {
      "text/plain": [
       "(10000, 10)"
      ]
     },
<<<<<<< HEAD
     "execution_count": 35,
=======
     "execution_count": 29,
>>>>>>> d1d943c1da5d0961772d51e10bbdb5e533d7a249
     "metadata": {},
     "output_type": "execute_result"
    }
   ],
   "source": [
    "df.shape"
   ]
  },
  {
   "cell_type": "markdown",
   "metadata": {},
   "source": [
    "## spaCy Pipeline"
   ]
  },
  {
   "cell_type": "code",
<<<<<<< HEAD
   "execution_count": 36,
=======
   "execution_count": 6,
>>>>>>> d1d943c1da5d0961772d51e10bbdb5e533d7a249
   "metadata": {},
   "outputs": [],
   "source": [
    "nlp = spacy.load('en_core_web_md')"
   ]
  },
  {
   "cell_type": "code",
<<<<<<< HEAD
   "execution_count": 37,
=======
   "execution_count": 30,
>>>>>>> d1d943c1da5d0961772d51e10bbdb5e533d7a249
   "metadata": {},
   "outputs": [
    {
     "name": "stderr",
     "output_type": "stream",
     "text": [
<<<<<<< HEAD
      "100%|██████████| 10000/10000 [03:55<00:00, 42.50it/s]\n"
=======
      "100%|██████████| 10000/10000 [04:09<00:00, 40.12it/s]\n"
>>>>>>> d1d943c1da5d0961772d51e10bbdb5e533d7a249
     ]
    }
   ],
   "source": [
    "df['spacy'] = df.text.progress_apply(lambda x: nlp(x))"
   ]
  },
  {
   "cell_type": "markdown",
   "metadata": {},
   "source": [
    "#### each document in the corpus is a doc object containing individual token objects"
   ]
  },
  {
   "cell_type": "code",
<<<<<<< HEAD
   "execution_count": 40,
=======
   "execution_count": 33,
>>>>>>> d1d943c1da5d0961772d51e10bbdb5e533d7a249
   "metadata": {},
   "outputs": [
    {
     "data": {
      "text/plain": [
<<<<<<< HEAD
       "0    (My, wife, took, me, here, on, my, birthday, f...\n",
       "1    (I, have, no, idea, why, some, people, give, b...\n",
       "2    (love, the, gyro, plate, ., Rice, is, so, good...\n",
       "3    (Rosie, ,, Dakota, ,, and, I, LOVE, Chaparral,...\n",
       "4    (General, Manager, Scott, Petello, is, a, good...\n",
       "Name: spacy, dtype: object"
      ]
     },
     "execution_count": 40,
=======
       "spacy.tokens.doc.Doc"
      ]
     },
     "execution_count": 33,
>>>>>>> d1d943c1da5d0961772d51e10bbdb5e533d7a249
     "metadata": {},
     "output_type": "execute_result"
    }
   ],
   "source": [
<<<<<<< HEAD
    "df['spacy'].head()"
=======
    "type(df.spacy[0])"
>>>>>>> d1d943c1da5d0961772d51e10bbdb5e533d7a249
   ]
  },
  {
   "cell_type": "code",
<<<<<<< HEAD
   "execution_count": 42,
=======
   "execution_count": 34,
>>>>>>> d1d943c1da5d0961772d51e10bbdb5e533d7a249
   "metadata": {},
   "outputs": [
    {
     "data": {
      "text/plain": [
<<<<<<< HEAD
       "My wife took me here on my birthday for breakfast and it was excellent.  The weather was perfect which made sitting outside overlooking their grounds an absolute pleasure.  Our waitress was excellent and our food arrived quickly on the semi-busy Saturday morning.  It looked like the place fills up pretty quickly so the earlier you get here the better.\n",
       "\n",
       "Do yourself a favor and get their Bloody Mary.  It was phenomenal and simply the best I've ever had.  I'm pretty sure they only use ingredients from their garden and blend them fresh when you order it.  It was amazing.\n",
       "\n",
       "While EVERYTHING on the menu looks excellent, I had the white truffle scrambled eggs vegetable skillet and it was tasty and delicious.  It came with 2 pieces of their griddled bread with was amazing and it absolutely made the meal complete.  It was the best \"toast\" I've ever had.\n",
       "\n",
       "Anyway, I can't wait to go back!"
      ]
     },
     "execution_count": 42,
=======
       "spacy.tokens.token.Token"
      ]
     },
     "execution_count": 34,
>>>>>>> d1d943c1da5d0961772d51e10bbdb5e533d7a249
     "metadata": {},
     "output_type": "execute_result"
    }
   ],
   "source": [
<<<<<<< HEAD
    "df.loc[0,'spacy']"
=======
    "type(df.spacy[0][0])"
>>>>>>> d1d943c1da5d0961772d51e10bbdb5e533d7a249
   ]
  },
  {
   "cell_type": "code",
<<<<<<< HEAD
   "execution_count": 43,
   "metadata": {},
   "outputs": [
    {
     "data": {
      "text/plain": [
       "spacy.tokens.doc.Doc"
      ]
     },
     "execution_count": 43,
     "metadata": {},
     "output_type": "execute_result"
    }
   ],
   "source": [
    "type(df.loc[0,'spacy'])"
   ]
  },
  {
   "cell_type": "code",
   "execution_count": 44,
   "metadata": {},
   "outputs": [
    {
     "data": {
      "text/plain": [
       "spacy.tokens.token.Token"
      ]
     },
     "execution_count": 44,
     "metadata": {},
     "output_type": "execute_result"
    }
   ],
   "source": [
    "type(df.loc[0,'spacy'][0])"
   ]
  },
  {
   "cell_type": "code",
   "execution_count": 45,
=======
   "execution_count": 35,
>>>>>>> d1d943c1da5d0961772d51e10bbdb5e533d7a249
   "metadata": {},
   "outputs": [],
   "source": [
    "doc = df.spacy[0]"
   ]
  },
  {
   "cell_type": "code",
<<<<<<< HEAD
   "execution_count": 46,
=======
   "execution_count": 38,
>>>>>>> d1d943c1da5d0961772d51e10bbdb5e533d7a249
   "metadata": {},
   "outputs": [
    {
     "data": {
      "text/plain": [
<<<<<<< HEAD
       "True"
      ]
     },
     "execution_count": 46,
=======
       "array([-2.16472726e-02,  1.38191238e-01, -1.06210820e-01, -7.80636594e-02,\n",
       "        5.61806038e-02,  6.08623475e-02, -3.80515819e-03, -1.12673543e-01,\n",
       "       -3.38070281e-02,  2.10151386e+00, -1.73609957e-01,  1.19751193e-01,\n",
       "        3.50309163e-02, -6.69298396e-02, -1.05082646e-01, -1.17402479e-01,\n",
       "       -1.16695091e-01,  1.02826262e+00, -1.57375470e-01, -2.55518742e-02,\n",
       "       -6.61128107e-03, -6.39689639e-02, -2.30317339e-02, -9.03448928e-03,\n",
       "       -2.29081046e-03, -1.33597646e-02, -7.41439983e-02, -9.14439410e-02,\n",
       "        1.05163408e-02, -1.64022028e-01, -4.69215848e-02,  1.09594710e-01,\n",
       "       -1.79926567e-02,  3.67425978e-02,  5.61799668e-03, -6.92143366e-02,\n",
       "        2.06234418e-02,  1.75198819e-02, -6.45311698e-02, -1.49663622e-02,\n",
       "        6.39529200e-03,  3.73507850e-02,  1.52204772e-02, -7.17922077e-02,\n",
       "        1.03556134e-01,  1.43605277e-01, -1.83414057e-01,  1.27725322e-02,\n",
       "        2.50832606e-02,  2.44922079e-02, -4.45213169e-02,  2.43482795e-02,\n",
       "       -1.14679057e-02, -1.34415587e-03,  8.88832659e-02, -4.49697450e-02,\n",
       "       -3.18901800e-02, -7.11183846e-02,  1.01069575e-02, -3.60640325e-02,\n",
       "       -1.59966643e-03, -1.07953712e-01, -3.08407424e-03,  2.05494255e-01,\n",
       "        2.25179531e-02, -9.56916809e-02,  1.85758490e-02,  7.83707723e-02,\n",
       "        7.24024549e-02,  1.42011374e-01,  7.83979818e-02,  1.51397288e-01,\n",
       "        1.94071218e-01,  1.16955368e-02,  1.01941198e-01,  1.97983049e-02,\n",
       "        8.44153836e-02, -4.29848321e-02, -1.45981014e-01,  1.45277873e-01,\n",
       "       -1.34222989e-03,  7.80382380e-02, -6.98099956e-02, -4.77829017e-02,\n",
       "        4.04745303e-02, -2.03981906e-01,  9.50954705e-02, -2.72707511e-02,\n",
       "        1.71403140e-01,  8.37959424e-02, -9.62781310e-02,  1.25786448e-02,\n",
       "       -1.98370796e-02,  8.09933469e-02,  1.51461080e-01,  3.18491533e-02,\n",
       "       -2.39972444e-03, -5.38832135e-02, -5.30457217e-03,  2.46442370e-02,\n",
       "       -2.92384364e-02, -2.38109101e-02, -3.29071321e-02, -8.64832625e-02,\n",
       "        4.53083478e-02, -5.89851618e-01,  2.04472557e-01, -3.39673162e-02,\n",
       "        1.20276757e-01, -5.63761070e-02,  4.68962640e-02, -1.99994028e-01,\n",
       "        8.10624361e-02, -7.30224252e-02,  6.63273707e-02, -7.70672262e-02,\n",
       "       -6.21797564e-03,  3.24645005e-02, -1.14337979e-02, -4.45546396e-02,\n",
       "        8.04617479e-02,  1.05825970e-02,  6.14057528e-04, -7.18702422e-03,\n",
       "       -1.80047494e-03,  3.03531401e-02, -2.63211727e-02, -1.62567750e-01,\n",
       "        3.04898843e-02, -3.66991982e-02, -2.86249686e-02, -1.11500926e-01,\n",
       "       -1.18190706e-01,  6.60909861e-02,  7.73873776e-02,  3.17782275e-02,\n",
       "        4.17082086e-02,  5.16287833e-02, -5.15348569e-04, -3.97994108e-02,\n",
       "       -1.49193156e+00,  1.02772683e-01,  1.85550839e-01,  3.98739651e-02,\n",
       "        3.75153758e-02, -1.42288387e-01, -1.59684882e-01,  9.86961797e-02,\n",
       "        7.70656914e-02, -3.79956700e-02, -5.58916926e-02,  4.80921939e-02,\n",
       "        1.48791775e-01, -1.66093186e-02, -8.49841833e-02, -4.55700047e-02,\n",
       "       -5.62906452e-02, -6.45205900e-02,  3.76811475e-02, -8.34217072e-02,\n",
       "       -1.02628097e-01,  5.26912957e-02,  6.22094935e-03, -9.31172296e-02,\n",
       "       -5.69571517e-02, -2.06784651e-01,  4.97383401e-02, -6.34225085e-02,\n",
       "        1.83357447e-01, -1.31700849e-02, -1.62401572e-02, -2.98261456e-02,\n",
       "        3.31797972e-02, -1.36825636e-01, -1.81931511e-01,  1.13778319e-02,\n",
       "       -5.46160191e-02, -6.84830993e-02, -6.09143153e-02, -8.37759301e-02,\n",
       "       -1.48124592e-02, -1.36200964e-01, -1.47697970e-01, -6.89197034e-02,\n",
       "       -1.74363703e-02, -1.12878315e-01, -4.17977199e-02, -8.65453854e-02,\n",
       "        5.04579097e-02,  6.15918171e-03, -2.86978837e-02,  2.52853725e-02,\n",
       "       -7.92485848e-02,  3.30525488e-02,  1.33348070e-02,  1.40429959e-01,\n",
       "        2.85379663e-02, -6.87305182e-02, -1.16391331e-02,  1.40786082e-01,\n",
       "       -7.59079382e-02, -6.14117868e-02, -5.40102348e-02,  1.14505775e-02,\n",
       "        2.10391611e-01,  8.88700783e-02,  3.44017372e-02,  3.62903886e-02,\n",
       "        7.44789913e-02,  3.30458774e-04, -4.83545102e-02, -4.46056351e-02,\n",
       "       -3.94461118e-02, -1.26261011e-01,  4.30457853e-02,  1.60340101e-01,\n",
       "       -5.00722835e-03, -8.39354843e-02, -1.74452513e-01,  5.89504130e-02,\n",
       "       -5.09009548e-02, -1.38340583e-02, -6.82408512e-02,  1.20298535e-01,\n",
       "        4.30710316e-02, -5.99162318e-02, -5.01450673e-02,  1.03047818e-01,\n",
       "       -2.04319917e-02,  4.65345383e-02, -8.85456651e-02, -1.83122717e-02,\n",
       "        6.59040064e-02,  7.62158781e-02,  2.41146907e-02, -1.04611024e-01,\n",
       "       -1.46620590e-02, -1.22531019e-01, -6.96631819e-02,  7.15705156e-02,\n",
       "       -2.07046722e-03,  7.04990998e-02, -8.35697576e-02,  8.35453123e-02,\n",
       "        1.19046211e-01, -1.03892177e-01, -1.26009703e-01, -1.37757316e-01,\n",
       "       -1.37988701e-01,  9.20612365e-02, -3.57012334e-03, -7.72535279e-02,\n",
       "       -7.38137215e-02, -2.70520747e-02,  6.10805638e-02,  2.35150889e-01,\n",
       "        1.45176962e-01, -9.91215091e-03, -8.04688931e-02,  4.64397073e-02,\n",
       "        1.19840249e-01,  1.25035807e-01,  2.58997902e-02,  1.00410695e-03,\n",
       "        1.01799071e-01,  5.10348065e-04, -6.43950626e-02,  1.27105406e-02,\n",
       "        1.46022752e-01,  4.04921584e-02,  4.77672890e-02, -2.42062025e-02,\n",
       "       -1.14446841e-01, -1.56842604e-01, -1.37502551e-01,  5.77849485e-02,\n",
       "        1.22084999e-02,  2.74261925e-02,  4.82187271e-02,  2.76082456e-01,\n",
       "        2.29598761e-01, -1.73978098e-02, -1.11689540e-02, -9.85286608e-02,\n",
       "       -4.08407785e-02, -2.25192960e-02,  1.69913471e-01, -1.29924510e-02,\n",
       "        6.41593710e-02, -2.00370960e-02, -1.36959046e-01,  5.13969772e-02,\n",
       "        1.86417121e-02, -2.30691005e-02,  2.31272876e-02, -4.42283750e-02,\n",
       "        4.94655259e-02, -5.46648614e-02,  4.28696945e-02,  8.64299238e-02],\n",
       "      dtype=float32)"
      ]
     },
     "execution_count": 38,
>>>>>>> d1d943c1da5d0961772d51e10bbdb5e533d7a249
     "metadata": {},
     "output_type": "execute_result"
    }
   ],
   "source": [
    "#weod is me\n",
    "doc.vector"
   ]
  },
  {
   "cell_type": "markdown",
   "metadata": {},
   "source": [
    "#### part of speech tagging"
   ]
  },
  {
   "cell_type": "code",
<<<<<<< HEAD
   "execution_count": 47,
=======
   "execution_count": 39,
>>>>>>> d1d943c1da5d0961772d51e10bbdb5e533d7a249
   "metadata": {},
   "outputs": [
    {
     "data": {
      "text/plain": [
       "'PRON'"
      ]
     },
<<<<<<< HEAD
     "execution_count": 47,
=======
     "execution_count": 39,
>>>>>>> d1d943c1da5d0961772d51e10bbdb5e533d7a249
     "metadata": {},
     "output_type": "execute_result"
    }
   ],
   "source": [
    "doc[3].pos_"
   ]
  },
  {
   "cell_type": "markdown",
   "metadata": {},
   "source": [
    "#### vector from loaded language model"
   ]
  },
  {
   "cell_type": "code",
<<<<<<< HEAD
   "execution_count": 48,
=======
   "execution_count": 40,
>>>>>>> d1d943c1da5d0961772d51e10bbdb5e533d7a249
   "metadata": {},
   "outputs": [
    {
     "data": {
      "text/plain": [
       "array([-1.5396e-01,  3.1894e-01, -5.4888e-01,  2.5575e-01,  2.5812e-01,\n",
       "       -2.4498e-01, -7.5256e-03, -4.4586e-01, -3.3310e-01,  2.5371e+00,\n",
       "       -3.0797e-01,  3.2259e-01,  1.5141e-01, -4.6900e-01, -2.9880e-01,\n",
       "       -6.7120e-03, -1.5408e-01,  8.2595e-01, -9.0429e-02,  9.5433e-02,\n",
       "        3.7679e-01,  2.3810e-02, -2.3350e-01,  2.6510e-01, -1.0142e-01,\n",
       "        1.3369e-02,  1.8771e-01, -3.0711e-02,  3.5253e-01, -5.2993e-01,\n",
       "        3.2665e-02,  4.6994e-01, -2.9181e-01, -5.3454e-02,  1.5640e-02,\n",
       "       -3.5972e-02, -2.5803e-02,  2.7286e-02, -6.6553e-02, -3.7466e-01,\n",
       "       -3.1585e-01, -4.4513e-02, -3.1270e-01, -1.3976e-01,  2.2966e-01,\n",
       "        3.9333e-01, -1.7182e-01, -4.3639e-02,  1.7291e-01,  2.0719e-01,\n",
       "       -9.2617e-02,  1.8868e-01,  9.6837e-02,  2.3362e-02,  1.5004e-01,\n",
       "        3.0582e-01, -4.4929e-01, -8.3601e-02, -3.8335e-02, -4.1140e-02,\n",
       "       -3.7771e-01, -8.7132e-02, -2.4334e-01,  1.9499e-01,  3.4166e-01,\n",
       "       -1.4412e-01,  3.7503e-02, -5.1979e-02, -1.1018e-01,  4.0829e-01,\n",
       "       -6.0759e-02,  1.6646e-02,  2.1900e-01,  8.7433e-02,  1.7823e-01,\n",
       "        3.6771e-01,  6.0577e-01, -3.4947e-01, -1.5639e-01,  4.6658e-01,\n",
       "        1.4459e-03, -8.5848e-02, -3.9846e-01, -1.3264e-02,  1.3744e-01,\n",
       "       -3.0367e-01,  4.2076e-01, -7.7487e-01,  6.1946e-01, -9.1566e-02,\n",
       "       -3.4035e-01, -1.2057e-01, -1.5843e-01, -4.0369e-03,  4.7313e-02,\n",
       "        4.2598e-01,  1.8908e-01, -3.1651e-01, -7.1239e-02,  1.3189e-01,\n",
       "       -6.0507e-02,  4.7623e-02, -6.5324e-02, -1.6438e-01,  2.4520e-01,\n",
       "       -3.9248e-01,  3.0636e-01,  1.5885e-01, -2.0593e-01,  7.8804e-02,\n",
       "        3.2173e-01, -4.1340e-01,  5.7167e-01,  8.9288e-02,  1.3494e-01,\n",
       "       -2.5182e-01, -1.0750e-01, -2.6265e-01,  4.1145e-01,  4.0077e-02,\n",
       "        3.4868e-01, -4.1758e-01,  2.6607e-03,  1.8864e-01,  3.1739e-01,\n",
       "       -3.7066e-02,  4.7874e-03, -3.5659e-02, -1.3064e-02,  6.1671e-02,\n",
       "       -8.1892e-02, -1.4293e-01, -3.8927e-01,  1.9965e-02,  1.3261e-01,\n",
       "       -1.9291e-02, -3.5979e-02,  4.0344e-01, -2.7053e-01, -1.3914e-01,\n",
       "       -2.7504e+00,  2.2190e-01,  2.5950e-03,  3.8409e-02,  4.7943e-04,\n",
       "        4.2848e-02, -1.5918e-01,  2.7683e-01, -7.2232e-01, -2.0880e-01,\n",
       "        1.0410e-01,  3.4372e-01,  2.1924e-01, -1.4944e-01,  1.1549e-02,\n",
       "       -7.7707e-02, -1.7796e-02, -1.5402e-01,  1.1486e-01, -3.5102e-01,\n",
       "       -2.9005e-01,  6.9873e-02,  1.3258e-01, -9.4058e-02,  9.3709e-02,\n",
       "        5.4738e-02, -1.8868e-02,  7.1811e-02, -3.4275e-02,  1.3996e-01,\n",
       "       -2.7488e-01, -3.9626e-01,  4.1488e-01, -4.4789e-01,  2.4048e-03,\n",
       "        1.6817e-01, -7.5884e-02, -1.9818e-01, -2.8461e-01,  1.8548e-02,\n",
       "        7.7935e-02, -7.9466e-02,  1.9185e-01,  8.1991e-03,  4.6121e-01,\n",
       "       -1.2630e-01, -3.7604e-01, -3.1227e-02,  2.4897e-01,  1.9553e-01,\n",
       "        2.5801e-01, -3.3281e-01, -3.1303e-01, -2.2802e-01,  1.2570e-02,\n",
       "        2.8560e-01,  6.3252e-02, -3.1073e-01,  3.2407e-01,  1.3186e-01,\n",
       "       -1.9087e-01,  3.5195e-01, -5.0917e-01, -3.0888e-02,  2.0958e-02,\n",
       "        2.6458e-01,  5.0711e-01,  6.3410e-02,  5.2963e-02,  1.3797e-01,\n",
       "       -9.6061e-02, -4.5935e-01, -9.6708e-03, -1.5591e-01,  1.0447e-01,\n",
       "        2.9636e-01, -5.0042e-02, -1.0892e-01, -6.5754e-02,  2.0289e-01,\n",
       "       -8.5210e-02,  3.4053e-01, -2.2064e-01,  2.8591e-01,  1.6588e-01,\n",
       "        1.4755e-01, -7.7477e-02,  1.1453e-01, -1.5960e-01, -3.1660e-01,\n",
       "       -5.9842e-01, -7.0888e-02,  1.2268e-01,  7.8458e-02,  4.9465e-02,\n",
       "       -2.5338e-01,  1.4353e-01,  4.0625e-02, -1.3864e-02,  3.1302e-01,\n",
       "        1.5877e-01,  3.5475e-01, -5.0796e-02,  3.4660e-01,  2.6806e-01,\n",
       "       -3.3184e-01,  1.1977e-01,  3.6780e-02, -5.7687e-02,  4.1657e-01,\n",
       "        1.5703e-01, -3.3583e-01, -2.4809e-01,  2.9382e-01,  1.9421e-01,\n",
       "        3.1912e-01,  9.8237e-02, -3.0203e-01,  1.7137e-02,  1.8071e-01,\n",
       "       -1.1427e-01,  5.0143e-01, -7.5831e-02, -1.0783e-01,  2.9156e-01,\n",
       "       -1.0767e-01,  2.6931e-01,  2.5470e-01,  1.9744e-01,  3.6557e-02,\n",
       "        4.2576e-01,  1.5912e-01, -1.0908e-03, -1.5813e-01, -1.2099e-01,\n",
       "        3.2691e-01,  5.9496e-02, -4.4812e-01,  1.4870e-01,  3.4124e-01,\n",
       "       -1.4872e-01, -8.5174e-02,  3.3216e-02, -3.5240e-01, -3.2374e-01,\n",
       "       -2.1070e-01,  6.5789e-01, -3.6495e-01, -9.3276e-02, -1.3541e-01,\n",
       "       -8.1115e-02, -9.3947e-02,  2.0903e-01,  1.9237e-01,  4.6931e-01,\n",
       "       -1.3735e-01,  2.0371e-01,  1.9787e-01,  5.9997e-03,  6.9986e-03],\n",
       "      dtype=float32)"
      ]
     },
<<<<<<< HEAD
     "execution_count": 48,
=======
     "execution_count": 40,
>>>>>>> d1d943c1da5d0961772d51e10bbdb5e533d7a249
     "metadata": {},
     "output_type": "execute_result"
    }
   ],
   "source": [
    "#stop words HAVE a vector representation\n",
    "doc[3].vector"
   ]
  },
  {
   "cell_type": "markdown",
   "metadata": {},
   "source": [
    "#### vector representation of document (avg of all word vectors in doc)"
   ]
  },
  {
   "cell_type": "code",
<<<<<<< HEAD
   "execution_count": 49,
=======
   "execution_count": 41,
>>>>>>> d1d943c1da5d0961772d51e10bbdb5e533d7a249
   "metadata": {},
   "outputs": [
    {
     "data": {
      "text/plain": [
       "3.2036364011442964"
      ]
     },
<<<<<<< HEAD
     "execution_count": 49,
=======
     "execution_count": 41,
>>>>>>> d1d943c1da5d0961772d51e10bbdb5e533d7a249
     "metadata": {},
     "output_type": "execute_result"
    }
   ],
   "source": [
    "doc.vector_norm"
   ]
  },
  {
   "cell_type": "markdown",
   "metadata": {},
   "source": [
    "#### sentence splitting in document"
   ]
  },
  {
   "cell_type": "code",
<<<<<<< HEAD
   "execution_count": 50,
=======
   "execution_count": 42,
>>>>>>> d1d943c1da5d0961772d51e10bbdb5e533d7a249
   "metadata": {},
   "outputs": [
    {
     "data": {
      "text/plain": [
       "[My wife took me here on my birthday for breakfast and it was excellent.  ,\n",
       " The weather was perfect which made sitting outside overlooking their grounds an absolute pleasure.  ,\n",
       " Our waitress was excellent and our food arrived quickly on the semi-busy Saturday morning.  ,\n",
       " It looked like the place fills up pretty quickly,\n",
       " so the earlier you get here the better.\n",
       " ,\n",
       " Do yourself a favor and get their Bloody Mary.  ,\n",
       " It was phenomenal and simply the best I've ever had.  ,\n",
       " I'm pretty sure they only use ingredients from their garden and blend them fresh when you order it.  ,\n",
       " It was amazing.\n",
       " ,\n",
       " While EVERYTHING on the menu looks excellent, I had the white truffle scrambled eggs vegetable skillet,\n",
       " and it was tasty and delicious.  ,\n",
       " It came with 2 pieces of their griddled bread with was amazing,\n",
       " and it absolutely made the meal complete.  ,\n",
       " It was the best \"toast\" I've ever had.\n",
       " ,\n",
       " Anyway, I can't wait to go back!]"
      ]
     },
<<<<<<< HEAD
     "execution_count": 50,
=======
     "execution_count": 42,
>>>>>>> d1d943c1da5d0961772d51e10bbdb5e533d7a249
     "metadata": {},
     "output_type": "execute_result"
    }
   ],
   "source": [
    "[sents for sents in doc.sents]"
   ]
  },
  {
   "cell_type": "markdown",
   "metadata": {},
   "source": [
    "#### document similarity"
   ]
  },
  {
   "cell_type": "code",
<<<<<<< HEAD
   "execution_count": 51,
=======
   "execution_count": 43,
>>>>>>> d1d943c1da5d0961772d51e10bbdb5e533d7a249
   "metadata": {},
   "outputs": [
    {
     "data": {
      "text/plain": [
       "0.9821755280885994"
      ]
     },
<<<<<<< HEAD
     "execution_count": 51,
=======
     "execution_count": 43,
>>>>>>> d1d943c1da5d0961772d51e10bbdb5e533d7a249
     "metadata": {},
     "output_type": "execute_result"
    }
   ],
   "source": [
    "doc_2 = df.spacy[1]\n",
    "doc.similarity(doc_2)"
   ]
  },
  {
   "cell_type": "code",
   "execution_count": 52,
   "metadata": {},
   "outputs": [
    {
     "data": {
      "text/plain": [
       "My wife took me here on my birthday for breakfast and it was excellent.  The weather was perfect which made sitting outside overlooking their grounds an absolute pleasure.  Our waitress was excellent and our food arrived quickly on the semi-busy Saturday morning.  It looked like the place fills up pretty quickly so the earlier you get here the better.\n",
       "\n",
       "Do yourself a favor and get their Bloody Mary.  It was phenomenal and simply the best I've ever had.  I'm pretty sure they only use ingredients from their garden and blend them fresh when you order it.  It was amazing.\n",
       "\n",
       "While EVERYTHING on the menu looks excellent, I had the white truffle scrambled eggs vegetable skillet and it was tasty and delicious.  It came with 2 pieces of their griddled bread with was amazing and it absolutely made the meal complete.  It was the best \"toast\" I've ever had.\n",
       "\n",
       "Anyway, I can't wait to go back!"
      ]
     },
     "execution_count": 52,
     "metadata": {},
     "output_type": "execute_result"
    }
   ],
   "source": [
    "doc"
   ]
  },
  {
   "cell_type": "markdown",
   "metadata": {},
   "source": [
    "### see documentation for all you can do\n",
    "* https://spacy.io/api/token\n",
    "* https://spacy.io/api/doc"
   ]
  },
  {
   "cell_type": "code",
<<<<<<< HEAD
   "execution_count": 53,
=======
   "execution_count": 44,
>>>>>>> d1d943c1da5d0961772d51e10bbdb5e533d7a249
   "metadata": {},
   "outputs": [
    {
     "data": {
      "text/html": [
       "<div>\n",
       "<style scoped>\n",
       "    .dataframe tbody tr th:only-of-type {\n",
       "        vertical-align: middle;\n",
       "    }\n",
       "\n",
       "    .dataframe tbody tr th {\n",
       "        vertical-align: top;\n",
       "    }\n",
       "\n",
       "    .dataframe thead th {\n",
       "        text-align: right;\n",
       "    }\n",
       "</style>\n",
       "<table border=\"1\" class=\"dataframe\">\n",
       "  <thead>\n",
       "    <tr style=\"text-align: right;\">\n",
       "      <th></th>\n",
       "      <th>0</th>\n",
       "      <th>1</th>\n",
       "      <th>2</th>\n",
       "      <th>3</th>\n",
       "      <th>4</th>\n",
       "      <th>5</th>\n",
       "      <th>6</th>\n",
       "      <th>7</th>\n",
       "      <th>8</th>\n",
       "      <th>9</th>\n",
       "      <th>...</th>\n",
       "      <th>290</th>\n",
       "      <th>291</th>\n",
       "      <th>292</th>\n",
       "      <th>293</th>\n",
       "      <th>294</th>\n",
       "      <th>295</th>\n",
       "      <th>296</th>\n",
       "      <th>297</th>\n",
       "      <th>298</th>\n",
       "      <th>299</th>\n",
       "    </tr>\n",
       "  </thead>\n",
       "  <tbody>\n",
       "    <tr>\n",
       "      <th>0</th>\n",
       "      <td>-0.021647</td>\n",
       "      <td>0.138191</td>\n",
       "      <td>-0.106211</td>\n",
       "      <td>-0.078064</td>\n",
       "      <td>0.056181</td>\n",
       "      <td>0.060862</td>\n",
       "      <td>-0.003805</td>\n",
       "      <td>-0.112674</td>\n",
       "      <td>-0.033807</td>\n",
       "      <td>2.101514</td>\n",
       "      <td>...</td>\n",
       "      <td>-0.136959</td>\n",
       "      <td>0.051397</td>\n",
       "      <td>0.018642</td>\n",
       "      <td>-0.023069</td>\n",
       "      <td>0.023127</td>\n",
       "      <td>-0.044228</td>\n",
       "      <td>0.049466</td>\n",
       "      <td>-0.054665</td>\n",
       "      <td>0.042870</td>\n",
       "      <td>0.086430</td>\n",
       "    </tr>\n",
       "    <tr>\n",
       "      <th>1</th>\n",
       "      <td>-0.051446</td>\n",
       "      <td>0.174888</td>\n",
       "      <td>-0.162487</td>\n",
       "      <td>-0.085476</td>\n",
       "      <td>0.075221</td>\n",
       "      <td>0.077776</td>\n",
       "      <td>0.023618</td>\n",
       "      <td>-0.094539</td>\n",
       "      <td>0.011515</td>\n",
       "      <td>2.291694</td>\n",
       "      <td>...</td>\n",
       "      <td>-0.185593</td>\n",
       "      <td>0.048113</td>\n",
       "      <td>-0.003736</td>\n",
       "      <td>-0.029323</td>\n",
       "      <td>0.014807</td>\n",
       "      <td>-0.067929</td>\n",
       "      <td>-0.012392</td>\n",
       "      <td>-0.065273</td>\n",
       "      <td>0.063565</td>\n",
       "      <td>0.102081</td>\n",
       "    </tr>\n",
       "    <tr>\n",
       "      <th>2</th>\n",
       "      <td>0.017356</td>\n",
       "      <td>0.126895</td>\n",
       "      <td>-0.039717</td>\n",
       "      <td>-0.133329</td>\n",
       "      <td>0.094522</td>\n",
       "      <td>0.094641</td>\n",
       "      <td>0.031455</td>\n",
       "      <td>-0.209612</td>\n",
       "      <td>-0.031536</td>\n",
       "      <td>1.723231</td>\n",
       "      <td>...</td>\n",
       "      <td>-0.226321</td>\n",
       "      <td>0.145408</td>\n",
       "      <td>-0.109102</td>\n",
       "      <td>-0.080141</td>\n",
       "      <td>0.077363</td>\n",
       "      <td>-0.122503</td>\n",
       "      <td>0.094507</td>\n",
       "      <td>-0.145394</td>\n",
       "      <td>0.001237</td>\n",
       "      <td>0.178629</td>\n",
       "    </tr>\n",
       "    <tr>\n",
       "      <th>3</th>\n",
       "      <td>0.060860</td>\n",
       "      <td>0.164606</td>\n",
       "      <td>-0.154045</td>\n",
       "      <td>-0.168020</td>\n",
       "      <td>0.138500</td>\n",
       "      <td>0.092502</td>\n",
       "      <td>-0.002123</td>\n",
       "      <td>-0.076254</td>\n",
       "      <td>-0.074994</td>\n",
       "      <td>1.953031</td>\n",
       "      <td>...</td>\n",
       "      <td>-0.180692</td>\n",
       "      <td>-0.032520</td>\n",
       "      <td>0.012061</td>\n",
       "      <td>-0.062361</td>\n",
       "      <td>-0.013487</td>\n",
       "      <td>0.018939</td>\n",
       "      <td>0.078037</td>\n",
       "      <td>-0.067532</td>\n",
       "      <td>-0.028504</td>\n",
       "      <td>0.090960</td>\n",
       "    </tr>\n",
       "    <tr>\n",
       "      <th>4</th>\n",
       "      <td>-0.095067</td>\n",
       "      <td>0.196053</td>\n",
       "      <td>-0.222208</td>\n",
       "      <td>-0.049087</td>\n",
       "      <td>0.052358</td>\n",
       "      <td>-0.010961</td>\n",
       "      <td>0.008600</td>\n",
       "      <td>-0.170744</td>\n",
       "      <td>-0.042944</td>\n",
       "      <td>2.149826</td>\n",
       "      <td>...</td>\n",
       "      <td>-0.194802</td>\n",
       "      <td>0.040638</td>\n",
       "      <td>-0.044806</td>\n",
       "      <td>-0.043795</td>\n",
       "      <td>0.094823</td>\n",
       "      <td>-0.067053</td>\n",
       "      <td>-0.022288</td>\n",
       "      <td>-0.071459</td>\n",
       "      <td>0.071956</td>\n",
       "      <td>0.073355</td>\n",
       "    </tr>\n",
       "    <tr>\n",
       "      <th>...</th>\n",
       "      <td>...</td>\n",
       "      <td>...</td>\n",
       "      <td>...</td>\n",
       "      <td>...</td>\n",
       "      <td>...</td>\n",
       "      <td>...</td>\n",
       "      <td>...</td>\n",
       "      <td>...</td>\n",
       "      <td>...</td>\n",
       "      <td>...</td>\n",
       "      <td>...</td>\n",
       "      <td>...</td>\n",
       "      <td>...</td>\n",
       "      <td>...</td>\n",
       "      <td>...</td>\n",
       "      <td>...</td>\n",
       "      <td>...</td>\n",
       "      <td>...</td>\n",
       "      <td>...</td>\n",
       "      <td>...</td>\n",
       "      <td>...</td>\n",
       "    </tr>\n",
       "    <tr>\n",
       "      <th>9995</th>\n",
       "      <td>-0.075224</td>\n",
       "      <td>0.134890</td>\n",
       "      <td>-0.089058</td>\n",
       "      <td>-0.109522</td>\n",
       "      <td>0.056692</td>\n",
       "      <td>0.149972</td>\n",
       "      <td>-0.031459</td>\n",
       "      <td>-0.069323</td>\n",
       "      <td>-0.004701</td>\n",
       "      <td>1.914595</td>\n",
       "      <td>...</td>\n",
       "      <td>-0.112275</td>\n",
       "      <td>0.041639</td>\n",
       "      <td>-0.041451</td>\n",
       "      <td>-0.033929</td>\n",
       "      <td>-0.055093</td>\n",
       "      <td>-0.020203</td>\n",
       "      <td>0.021392</td>\n",
       "      <td>-0.192331</td>\n",
       "      <td>0.043283</td>\n",
       "      <td>0.105996</td>\n",
       "    </tr>\n",
       "    <tr>\n",
       "      <th>9996</th>\n",
       "      <td>-0.021209</td>\n",
       "      <td>0.151835</td>\n",
       "      <td>-0.112525</td>\n",
       "      <td>-0.122594</td>\n",
       "      <td>0.096538</td>\n",
       "      <td>0.058507</td>\n",
       "      <td>0.037832</td>\n",
       "      <td>-0.138415</td>\n",
       "      <td>-0.004357</td>\n",
       "      <td>2.119311</td>\n",
       "      <td>...</td>\n",
       "      <td>-0.134819</td>\n",
       "      <td>0.032786</td>\n",
       "      <td>-0.051842</td>\n",
       "      <td>-0.048212</td>\n",
       "      <td>0.020107</td>\n",
       "      <td>-0.043680</td>\n",
       "      <td>0.014316</td>\n",
       "      <td>-0.068673</td>\n",
       "      <td>0.009537</td>\n",
       "      <td>0.125834</td>\n",
       "    </tr>\n",
       "    <tr>\n",
       "      <th>9997</th>\n",
       "      <td>-0.030904</td>\n",
       "      <td>0.165316</td>\n",
       "      <td>-0.102100</td>\n",
       "      <td>-0.127558</td>\n",
       "      <td>0.130750</td>\n",
       "      <td>0.056111</td>\n",
       "      <td>0.000408</td>\n",
       "      <td>-0.088597</td>\n",
       "      <td>0.021815</td>\n",
       "      <td>2.139497</td>\n",
       "      <td>...</td>\n",
       "      <td>-0.178942</td>\n",
       "      <td>0.070853</td>\n",
       "      <td>-0.077041</td>\n",
       "      <td>-0.035782</td>\n",
       "      <td>-0.026700</td>\n",
       "      <td>-0.029504</td>\n",
       "      <td>0.013137</td>\n",
       "      <td>-0.100683</td>\n",
       "      <td>0.024946</td>\n",
       "      <td>0.108802</td>\n",
       "    </tr>\n",
       "    <tr>\n",
       "      <th>9998</th>\n",
       "      <td>-0.026898</td>\n",
       "      <td>0.144509</td>\n",
       "      <td>-0.164131</td>\n",
       "      <td>-0.081958</td>\n",
       "      <td>0.082170</td>\n",
       "      <td>-0.037320</td>\n",
       "      <td>0.030681</td>\n",
       "      <td>-0.165972</td>\n",
       "      <td>-0.023817</td>\n",
       "      <td>2.318492</td>\n",
       "      <td>...</td>\n",
       "      <td>-0.177542</td>\n",
       "      <td>-0.039687</td>\n",
       "      <td>0.011728</td>\n",
       "      <td>-0.033147</td>\n",
       "      <td>0.080831</td>\n",
       "      <td>-0.011535</td>\n",
       "      <td>-0.033406</td>\n",
       "      <td>-0.053590</td>\n",
       "      <td>0.045518</td>\n",
       "      <td>0.094528</td>\n",
       "    </tr>\n",
       "    <tr>\n",
       "      <th>9999</th>\n",
       "      <td>-0.015508</td>\n",
       "      <td>0.211870</td>\n",
       "      <td>-0.094921</td>\n",
       "      <td>-0.030358</td>\n",
       "      <td>0.081555</td>\n",
       "      <td>0.067068</td>\n",
       "      <td>-0.024868</td>\n",
       "      <td>-0.101762</td>\n",
       "      <td>0.035391</td>\n",
       "      <td>1.742677</td>\n",
       "      <td>...</td>\n",
       "      <td>-0.119300</td>\n",
       "      <td>0.041961</td>\n",
       "      <td>-0.053012</td>\n",
       "      <td>-0.018483</td>\n",
       "      <td>-0.040071</td>\n",
       "      <td>-0.047681</td>\n",
       "      <td>-0.007709</td>\n",
       "      <td>-0.189017</td>\n",
       "      <td>-0.013659</td>\n",
       "      <td>0.126552</td>\n",
       "    </tr>\n",
       "  </tbody>\n",
       "</table>\n",
       "<p>10000 rows × 300 columns</p>\n",
       "</div>"
      ],
      "text/plain": [
       "           0         1         2         3         4         5         6    \\\n",
       "0    -0.021647  0.138191 -0.106211 -0.078064  0.056181  0.060862 -0.003805   \n",
       "1    -0.051446  0.174888 -0.162487 -0.085476  0.075221  0.077776  0.023618   \n",
       "2     0.017356  0.126895 -0.039717 -0.133329  0.094522  0.094641  0.031455   \n",
       "3     0.060860  0.164606 -0.154045 -0.168020  0.138500  0.092502 -0.002123   \n",
       "4    -0.095067  0.196053 -0.222208 -0.049087  0.052358 -0.010961  0.008600   \n",
       "...        ...       ...       ...       ...       ...       ...       ...   \n",
       "9995 -0.075224  0.134890 -0.089058 -0.109522  0.056692  0.149972 -0.031459   \n",
       "9996 -0.021209  0.151835 -0.112525 -0.122594  0.096538  0.058507  0.037832   \n",
       "9997 -0.030904  0.165316 -0.102100 -0.127558  0.130750  0.056111  0.000408   \n",
       "9998 -0.026898  0.144509 -0.164131 -0.081958  0.082170 -0.037320  0.030681   \n",
       "9999 -0.015508  0.211870 -0.094921 -0.030358  0.081555  0.067068 -0.024868   \n",
       "\n",
       "           7         8         9    ...       290       291       292  \\\n",
       "0    -0.112674 -0.033807  2.101514  ... -0.136959  0.051397  0.018642   \n",
       "1    -0.094539  0.011515  2.291694  ... -0.185593  0.048113 -0.003736   \n",
       "2    -0.209612 -0.031536  1.723231  ... -0.226321  0.145408 -0.109102   \n",
       "3    -0.076254 -0.074994  1.953031  ... -0.180692 -0.032520  0.012061   \n",
       "4    -0.170744 -0.042944  2.149826  ... -0.194802  0.040638 -0.044806   \n",
       "...        ...       ...       ...  ...       ...       ...       ...   \n",
       "9995 -0.069323 -0.004701  1.914595  ... -0.112275  0.041639 -0.041451   \n",
       "9996 -0.138415 -0.004357  2.119311  ... -0.134819  0.032786 -0.051842   \n",
       "9997 -0.088597  0.021815  2.139497  ... -0.178942  0.070853 -0.077041   \n",
       "9998 -0.165972 -0.023817  2.318492  ... -0.177542 -0.039687  0.011728   \n",
       "9999 -0.101762  0.035391  1.742677  ... -0.119300  0.041961 -0.053012   \n",
       "\n",
       "           293       294       295       296       297       298       299  \n",
       "0    -0.023069  0.023127 -0.044228  0.049466 -0.054665  0.042870  0.086430  \n",
       "1    -0.029323  0.014807 -0.067929 -0.012392 -0.065273  0.063565  0.102081  \n",
       "2    -0.080141  0.077363 -0.122503  0.094507 -0.145394  0.001237  0.178629  \n",
       "3    -0.062361 -0.013487  0.018939  0.078037 -0.067532 -0.028504  0.090960  \n",
       "4    -0.043795  0.094823 -0.067053 -0.022288 -0.071459  0.071956  0.073355  \n",
       "...        ...       ...       ...       ...       ...       ...       ...  \n",
       "9995 -0.033929 -0.055093 -0.020203  0.021392 -0.192331  0.043283  0.105996  \n",
       "9996 -0.048212  0.020107 -0.043680  0.014316 -0.068673  0.009537  0.125834  \n",
       "9997 -0.035782 -0.026700 -0.029504  0.013137 -0.100683  0.024946  0.108802  \n",
       "9998 -0.033147  0.080831 -0.011535 -0.033406 -0.053590  0.045518  0.094528  \n",
       "9999 -0.018483 -0.040071 -0.047681 -0.007709 -0.189017 -0.013659  0.126552  \n",
       "\n",
       "[10000 rows x 300 columns]"
      ]
     },
<<<<<<< HEAD
     "execution_count": 53,
=======
     "execution_count": 44,
>>>>>>> d1d943c1da5d0961772d51e10bbdb5e533d7a249
     "metadata": {},
     "output_type": "execute_result"
    }
   ],
   "source": [
<<<<<<< HEAD
    "df_vec = pd.DataFrame(np.vstack([x.vector for x in df.spacy]))\n",
    "df_vec"
=======
    "pd.DataFrame(np.vstack([x.vector for x in df.spacy]))"
>>>>>>> d1d943c1da5d0961772d51e10bbdb5e533d7a249
   ]
  },
  {
   "cell_type": "code",
   "execution_count": null,
   "metadata": {},
   "outputs": [],
   "source": []
  }
 ],
 "metadata": {
  "kernelspec": {
   "display_name": "Python 3",
   "language": "python",
   "name": "python3"
  },
  "language_info": {
   "codemirror_mode": {
    "name": "ipython",
    "version": 3
   },
   "file_extension": ".py",
   "mimetype": "text/x-python",
   "name": "python",
   "nbconvert_exporter": "python",
   "pygments_lexer": "ipython3",
   "version": "3.6.9"
  }
 },
 "nbformat": 4,
 "nbformat_minor": 4
}
