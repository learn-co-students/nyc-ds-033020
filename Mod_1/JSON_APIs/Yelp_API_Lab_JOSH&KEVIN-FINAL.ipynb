{
 "cells": [
  {
   "cell_type": "code",
   "execution_count": 1,
   "metadata": {},
   "outputs": [],
   "source": [
    "import pandas as pd\n",
    "import requests\n",
    "import json\n",
    "import numpy as np\n",
    "from keys import client_id, api_key\n",
    "from functions_yelp_api import *"
   ]
  },
  {
   "cell_type": "code",
   "execution_count": 2,
   "metadata": {},
   "outputs": [],
   "source": [
    "term='sushi'\n",
    "location='brooklyn'\n",
    "price='1,2,3,4'\n",
    "radius=20000\n",
    "\n",
    "url_params = {\n",
    "                \"term\": term.replace(' ', '+'),\n",
    "                \"location\": location.replace(' ', '+'),\n",
    "                \"price\" : price,\n",
    "                \"limit\": 50,\n",
    "                \"radius\": radius\n",
    "            }"
   ]
  },
  {
   "cell_type": "code",
   "execution_count": 3,
   "metadata": {},
   "outputs": [
    {
     "data": {
      "text/html": [
       "<div>\n",
       "<style scoped>\n",
       "    .dataframe tbody tr th:only-of-type {\n",
       "        vertical-align: middle;\n",
       "    }\n",
       "\n",
       "    .dataframe tbody tr th {\n",
       "        vertical-align: top;\n",
       "    }\n",
       "\n",
       "    .dataframe thead th {\n",
       "        text-align: right;\n",
       "    }\n",
       "</style>\n",
       "<table border=\"1\" class=\"dataframe\">\n",
       "  <thead>\n",
       "    <tr style=\"text-align: right;\">\n",
       "      <th></th>\n",
       "      <th>name</th>\n",
       "      <th>id</th>\n",
       "      <th>review_count</th>\n",
       "      <th>price</th>\n",
       "      <th>rating</th>\n",
       "    </tr>\n",
       "  </thead>\n",
       "  <tbody>\n",
       "  </tbody>\n",
       "</table>\n",
       "</div>"
      ],
      "text/plain": [
       "Empty DataFrame\n",
       "Columns: [name, id, review_count, price, rating]\n",
       "Index: []"
      ]
     },
     "execution_count": 3,
     "metadata": {},
     "output_type": "execute_result"
    }
   ],
   "source": [
    "#make blank df\n",
    "columns = ['name', 'id', 'review_count', 'price', 'rating']\n",
    "new_df = pd.DataFrame(columns=columns)\n",
    "new_df.to_csv('yelp_api_sushi-brooklyn.csv')\n",
    "pd.read_csv('yelp_api_sushi-brooklyn.csv', index_col=0)"
   ]
  },
  {
   "cell_type": "code",
   "execution_count": 4,
   "metadata": {},
   "outputs": [],
   "source": [
    "cur = 0\n",
    "while cur < 1000:\n",
    "    url_params['offset'] = cur\n",
    "    results = yelp_call_businesses(url_params, api_key)\n",
    "    data = parse_data_businesses(results)\n",
    "    data_save(data, 'yelp_api_sushi-brooklyn.csv')\n",
    "    cur += 50"
   ]
  },
  {
   "cell_type": "code",
   "execution_count": 5,
   "metadata": {},
   "outputs": [],
   "source": [
    "df_sushi = pd.read_csv('yelp_api_sushi-brooklyn.csv', index_col=0)"
   ]
  },
  {
   "cell_type": "code",
   "execution_count": 6,
   "metadata": {},
   "outputs": [
    {
     "data": {
      "text/html": [
       "<div>\n",
       "<style scoped>\n",
       "    .dataframe tbody tr th:only-of-type {\n",
       "        vertical-align: middle;\n",
       "    }\n",
       "\n",
       "    .dataframe tbody tr th {\n",
       "        vertical-align: top;\n",
       "    }\n",
       "\n",
       "    .dataframe thead th {\n",
       "        text-align: right;\n",
       "    }\n",
       "</style>\n",
       "<table border=\"1\" class=\"dataframe\">\n",
       "  <thead>\n",
       "    <tr style=\"text-align: right;\">\n",
       "      <th></th>\n",
       "      <th>name</th>\n",
       "      <th>id</th>\n",
       "      <th>review_count</th>\n",
       "      <th>price</th>\n",
       "      <th>rating</th>\n",
       "    </tr>\n",
       "  </thead>\n",
       "  <tbody>\n",
       "    <tr>\n",
       "      <th>0</th>\n",
       "      <td>Sushi Yashin</td>\n",
       "      <td>SUHJfh7H2NiQx8c5OWoAyQ</td>\n",
       "      <td>188</td>\n",
       "      <td>$$</td>\n",
       "      <td>4.0</td>\n",
       "    </tr>\n",
       "    <tr>\n",
       "      <th>1</th>\n",
       "      <td>Uotora</td>\n",
       "      <td>LjAt-SP7BwIpp56TZHVsWA</td>\n",
       "      <td>84</td>\n",
       "      <td>$$$$</td>\n",
       "      <td>4.5</td>\n",
       "    </tr>\n",
       "    <tr>\n",
       "      <th>2</th>\n",
       "      <td>Akaru Sushi</td>\n",
       "      <td>EIcbGkl6bRtAi12zcjA7-A</td>\n",
       "      <td>187</td>\n",
       "      <td>$$</td>\n",
       "      <td>4.0</td>\n",
       "    </tr>\n",
       "    <tr>\n",
       "      <th>3</th>\n",
       "      <td>Sushi Lin</td>\n",
       "      <td>AFt1Qcec4_JNr6PWpkRYyw</td>\n",
       "      <td>258</td>\n",
       "      <td>$$$</td>\n",
       "      <td>4.5</td>\n",
       "    </tr>\n",
       "    <tr>\n",
       "      <th>4</th>\n",
       "      <td>Silver Rice</td>\n",
       "      <td>LTfR_0NiS7OIRCfkaAJg9w</td>\n",
       "      <td>263</td>\n",
       "      <td>$$</td>\n",
       "      <td>4.5</td>\n",
       "    </tr>\n",
       "  </tbody>\n",
       "</table>\n",
       "</div>"
      ],
      "text/plain": [
       "           name                      id  review_count price  rating\n",
       "0  Sushi Yashin  SUHJfh7H2NiQx8c5OWoAyQ           188    $$     4.0\n",
       "1        Uotora  LjAt-SP7BwIpp56TZHVsWA            84  $$$$     4.5\n",
       "2   Akaru Sushi  EIcbGkl6bRtAi12zcjA7-A           187    $$     4.0\n",
       "3     Sushi Lin  AFt1Qcec4_JNr6PWpkRYyw           258   $$$     4.5\n",
       "4   Silver Rice  LTfR_0NiS7OIRCfkaAJg9w           263    $$     4.5"
      ]
     },
     "execution_count": 6,
     "metadata": {},
     "output_type": "execute_result"
    }
   ],
   "source": [
    "df_sushi.head()"
   ]
  },
  {
   "cell_type": "code",
   "execution_count": 7,
   "metadata": {},
   "outputs": [
    {
     "data": {
      "text/plain": [
       "'SUHJfh7H2NiQx8c5OWoAyQ'"
      ]
     },
     "execution_count": 7,
     "metadata": {},
     "output_type": "execute_result"
    }
   ],
   "source": [
    "business_id = df_sushi['id'].values\n",
    "business_id[0]"
   ]
  },
  {
   "cell_type": "code",
   "execution_count": 10,
   "metadata": {},
   "outputs": [
    {
     "data": {
      "text/html": [
       "<div>\n",
       "<style scoped>\n",
       "    .dataframe tbody tr th:only-of-type {\n",
       "        vertical-align: middle;\n",
       "    }\n",
       "\n",
       "    .dataframe tbody tr th {\n",
       "        vertical-align: top;\n",
       "    }\n",
       "\n",
       "    .dataframe thead th {\n",
       "        text-align: right;\n",
       "    }\n",
       "</style>\n",
       "<table border=\"1\" class=\"dataframe\">\n",
       "  <thead>\n",
       "    <tr style=\"text-align: right;\">\n",
       "      <th></th>\n",
       "      <th>id</th>\n",
       "      <th>rating</th>\n",
       "      <th>text</th>\n",
       "      <th>time_created</th>\n",
       "    </tr>\n",
       "  </thead>\n",
       "  <tbody>\n",
       "  </tbody>\n",
       "</table>\n",
       "</div>"
      ],
      "text/plain": [
       "Empty DataFrame\n",
       "Columns: [id, rating, text, time_created]\n",
       "Index: []"
      ]
     },
     "execution_count": 10,
     "metadata": {},
     "output_type": "execute_result"
    }
   ],
   "source": [
    "columns = ['id', 'rating', 'text', 'time_created']\n",
    "blank_df = pd.DataFrame(columns=columns)\n",
    "blank_df.to_csv('yelp_api_sushi-reviews.csv')\n",
    "pd.read_csv('yelp_api_sushi-reviews.csv', index_col=0)"
   ]
  },
  {
   "cell_type": "code",
   "execution_count": 13,
   "metadata": {},
   "outputs": [],
   "source": [
    "results = [yelp_call_review(business, api_key) for business in business_id]\n",
    "data = parse_data_reviews(business_id, results)\n",
    "data_save(data, 'yelp_api_sushi-reviews.csv')"
   ]
  },
  {
   "cell_type": "code",
   "execution_count": 14,
   "metadata": {},
   "outputs": [
    {
     "data": {
      "text/plain": [
       "1000"
      ]
     },
     "execution_count": 14,
     "metadata": {},
     "output_type": "execute_result"
    }
   ],
   "source": [
    "len(results)"
   ]
  },
  {
   "cell_type": "code",
   "execution_count": 15,
   "metadata": {},
   "outputs": [],
   "source": [
    "df_reviews = pd.read_csv('yelp_api_sushi-reviews.csv', index_col=0)"
   ]
  },
  {
   "cell_type": "code",
   "execution_count": 16,
   "metadata": {},
   "outputs": [
    {
     "data": {
      "text/plain": [
       "(2974, 4)"
      ]
     },
     "execution_count": 16,
     "metadata": {},
     "output_type": "execute_result"
    }
   ],
   "source": [
    "df_reviews.shape"
   ]
  },
  {
   "cell_type": "code",
   "execution_count": 17,
   "metadata": {},
   "outputs": [
    {
     "data": {
      "text/html": [
       "<div>\n",
       "<style scoped>\n",
       "    .dataframe tbody tr th:only-of-type {\n",
       "        vertical-align: middle;\n",
       "    }\n",
       "\n",
       "    .dataframe tbody tr th {\n",
       "        vertical-align: top;\n",
       "    }\n",
       "\n",
       "    .dataframe thead th {\n",
       "        text-align: right;\n",
       "    }\n",
       "</style>\n",
       "<table border=\"1\" class=\"dataframe\">\n",
       "  <thead>\n",
       "    <tr style=\"text-align: right;\">\n",
       "      <th></th>\n",
       "      <th>id</th>\n",
       "      <th>rating</th>\n",
       "      <th>text</th>\n",
       "      <th>time_created</th>\n",
       "    </tr>\n",
       "  </thead>\n",
       "  <tbody>\n",
       "    <tr>\n",
       "      <th>0</th>\n",
       "      <td>SUHJfh7H2NiQx8c5OWoAyQ</td>\n",
       "      <td>5</td>\n",
       "      <td>I was craving sushi and Yashin was relatively ...</td>\n",
       "      <td>2019-11-25 08:08:43</td>\n",
       "    </tr>\n",
       "    <tr>\n",
       "      <th>1</th>\n",
       "      <td>SUHJfh7H2NiQx8c5OWoAyQ</td>\n",
       "      <td>4</td>\n",
       "      <td>This quiet, minimalist Japanese restaurant ser...</td>\n",
       "      <td>2020-02-06 10:59:37</td>\n",
       "    </tr>\n",
       "    <tr>\n",
       "      <th>2</th>\n",
       "      <td>SUHJfh7H2NiQx8c5OWoAyQ</td>\n",
       "      <td>4</td>\n",
       "      <td>Food: The Shishito peppers and hamachi carpacc...</td>\n",
       "      <td>2019-12-26 04:57:04</td>\n",
       "    </tr>\n",
       "    <tr>\n",
       "      <th>3</th>\n",
       "      <td>LjAt-SP7BwIpp56TZHVsWA</td>\n",
       "      <td>5</td>\n",
       "      <td>Very simple decor, simple yet classy.  Came he...</td>\n",
       "      <td>2020-01-07 21:53:32</td>\n",
       "    </tr>\n",
       "    <tr>\n",
       "      <th>4</th>\n",
       "      <td>LjAt-SP7BwIpp56TZHVsWA</td>\n",
       "      <td>5</td>\n",
       "      <td>Crown Heights is not a neighborhood most sushi...</td>\n",
       "      <td>2019-11-29 08:33:13</td>\n",
       "    </tr>\n",
       "  </tbody>\n",
       "</table>\n",
       "</div>"
      ],
      "text/plain": [
       "                       id  rating  \\\n",
       "0  SUHJfh7H2NiQx8c5OWoAyQ       5   \n",
       "1  SUHJfh7H2NiQx8c5OWoAyQ       4   \n",
       "2  SUHJfh7H2NiQx8c5OWoAyQ       4   \n",
       "3  LjAt-SP7BwIpp56TZHVsWA       5   \n",
       "4  LjAt-SP7BwIpp56TZHVsWA       5   \n",
       "\n",
       "                                                text         time_created  \n",
       "0  I was craving sushi and Yashin was relatively ...  2019-11-25 08:08:43  \n",
       "1  This quiet, minimalist Japanese restaurant ser...  2020-02-06 10:59:37  \n",
       "2  Food: The Shishito peppers and hamachi carpacc...  2019-12-26 04:57:04  \n",
       "3  Very simple decor, simple yet classy.  Came he...  2020-01-07 21:53:32  \n",
       "4  Crown Heights is not a neighborhood most sushi...  2019-11-29 08:33:13  "
      ]
     },
     "execution_count": 17,
     "metadata": {},
     "output_type": "execute_result"
    }
   ],
   "source": [
    "df_reviews.head()"
   ]
  }
 ],
 "metadata": {
  "kernelspec": {
   "display_name": "Python [conda env:learn-env] *",
   "language": "python",
   "name": "conda-env-learn-env-py"
  },
  "language_info": {
   "codemirror_mode": {
    "name": "ipython",
    "version": 3
   },
   "file_extension": ".py",
   "mimetype": "text/x-python",
   "name": "python",
   "nbconvert_exporter": "python",
   "pygments_lexer": "ipython3",
   "version": "3.6.9"
  }
 },
 "nbformat": 4,
 "nbformat_minor": 2
}
