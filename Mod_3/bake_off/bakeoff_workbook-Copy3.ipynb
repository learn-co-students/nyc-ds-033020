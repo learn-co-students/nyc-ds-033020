{
 "cells": [
  {
   "cell_type": "code",
   "execution_count": 1,
   "metadata": {},
   "outputs": [
    {
     "name": "stderr",
     "output_type": "stream",
     "text": [
      "/opt/anaconda3/envs/learn-env/lib/python3.6/site-packages/sklearn/utils/deprecation.py:144: FutureWarning: The sklearn.neighbors.base module is  deprecated in version 0.22 and will be removed in version 0.24. The corresponding classes / functions should instead be imported from sklearn.neighbors. Anything that cannot be imported from sklearn.neighbors is now part of the private API.\n",
      "  warnings.warn(message, FutureWarning)\n",
      "/opt/anaconda3/envs/learn-env/lib/python3.6/site-packages/sklearn/utils/deprecation.py:144: FutureWarning: The sklearn.ensemble.bagging module is  deprecated in version 0.22 and will be removed in version 0.24. The corresponding classes / functions should instead be imported from sklearn.ensemble. Anything that cannot be imported from sklearn.ensemble is now part of the private API.\n",
      "  warnings.warn(message, FutureWarning)\n",
      "/opt/anaconda3/envs/learn-env/lib/python3.6/site-packages/sklearn/utils/deprecation.py:144: FutureWarning: The sklearn.ensemble.base module is  deprecated in version 0.22 and will be removed in version 0.24. The corresponding classes / functions should instead be imported from sklearn.ensemble. Anything that cannot be imported from sklearn.ensemble is now part of the private API.\n",
      "  warnings.warn(message, FutureWarning)\n",
      "/opt/anaconda3/envs/learn-env/lib/python3.6/site-packages/sklearn/utils/deprecation.py:144: FutureWarning: The sklearn.ensemble.forest module is  deprecated in version 0.22 and will be removed in version 0.24. The corresponding classes / functions should instead be imported from sklearn.ensemble. Anything that cannot be imported from sklearn.ensemble is now part of the private API.\n",
      "  warnings.warn(message, FutureWarning)\n",
      "Using TensorFlow backend.\n",
      "/opt/anaconda3/envs/learn-env/lib/python3.6/site-packages/tensorflow/python/framework/dtypes.py:517: FutureWarning: Passing (type, 1) or '1type' as a synonym of type is deprecated; in a future version of numpy, it will be understood as (type, (1,)) / '(1,)type'.\n",
      "  _np_qint8 = np.dtype([(\"qint8\", np.int8, 1)])\n",
      "/opt/anaconda3/envs/learn-env/lib/python3.6/site-packages/tensorflow/python/framework/dtypes.py:518: FutureWarning: Passing (type, 1) or '1type' as a synonym of type is deprecated; in a future version of numpy, it will be understood as (type, (1,)) / '(1,)type'.\n",
      "  _np_quint8 = np.dtype([(\"quint8\", np.uint8, 1)])\n",
      "/opt/anaconda3/envs/learn-env/lib/python3.6/site-packages/tensorflow/python/framework/dtypes.py:519: FutureWarning: Passing (type, 1) or '1type' as a synonym of type is deprecated; in a future version of numpy, it will be understood as (type, (1,)) / '(1,)type'.\n",
      "  _np_qint16 = np.dtype([(\"qint16\", np.int16, 1)])\n",
      "/opt/anaconda3/envs/learn-env/lib/python3.6/site-packages/tensorflow/python/framework/dtypes.py:520: FutureWarning: Passing (type, 1) or '1type' as a synonym of type is deprecated; in a future version of numpy, it will be understood as (type, (1,)) / '(1,)type'.\n",
      "  _np_quint16 = np.dtype([(\"quint16\", np.uint16, 1)])\n",
      "/opt/anaconda3/envs/learn-env/lib/python3.6/site-packages/tensorflow/python/framework/dtypes.py:521: FutureWarning: Passing (type, 1) or '1type' as a synonym of type is deprecated; in a future version of numpy, it will be understood as (type, (1,)) / '(1,)type'.\n",
      "  _np_qint32 = np.dtype([(\"qint32\", np.int32, 1)])\n",
      "/opt/anaconda3/envs/learn-env/lib/python3.6/site-packages/tensorflow/python/framework/dtypes.py:526: FutureWarning: Passing (type, 1) or '1type' as a synonym of type is deprecated; in a future version of numpy, it will be understood as (type, (1,)) / '(1,)type'.\n",
      "  np_resource = np.dtype([(\"resource\", np.ubyte, 1)])\n",
      "/opt/anaconda3/envs/learn-env/lib/python3.6/site-packages/sklearn/utils/deprecation.py:144: FutureWarning: The sklearn.utils.testing module is  deprecated in version 0.22 and will be removed in version 0.24. The corresponding classes / functions should instead be imported from sklearn.utils. Anything that cannot be imported from sklearn.utils is now part of the private API.\n",
      "  warnings.warn(message, FutureWarning)\n",
      "/opt/anaconda3/envs/learn-env/lib/python3.6/site-packages/sklearn/utils/deprecation.py:144: FutureWarning: The sklearn.metrics.classification module is  deprecated in version 0.22 and will be removed in version 0.24. The corresponding classes / functions should instead be imported from sklearn.metrics. Anything that cannot be imported from sklearn.metrics is now part of the private API.\n",
      "  warnings.warn(message, FutureWarning)\n"
     ]
    }
   ],
   "source": [
    "import pandas as pd\n",
    "import numpy as np\n",
    "from collections import Counter\n",
    "\n",
    "import matplotlib.pyplot as plt\n",
    "%matplotlib inline \n",
    "import seaborn as sns\n",
    "sns.set_style('ticks')\n",
    "\n",
    "from sklearn.model_selection import train_test_split\n",
    "from sklearn.model_selection import GridSearchCV\n",
    "from sklearn.preprocessing import PolynomialFeatures\n",
    "from sklearn.preprocessing import StandardScaler\n",
    "from sklearn.preprocessing import MinMaxScaler\n",
    "from sklearn.tree import DecisionTreeClassifier\n",
    "from sklearn.tree import DecisionTreeRegressor\n",
    "from sklearn.dummy import DummyClassifier\n",
    "from sklearn.metrics import accuracy_score, precision_score, recall_score, f1_score\n",
    "from sklearn import datasets, linear_model\n",
    "from sklearn.neighbors import KNeighborsClassifier\n",
    "from sklearn.linear_model import LinearRegression\n",
    "from sklearn.linear_model import LogisticRegression\n",
    "from sklearn.utils import resample\n",
    "from sklearn.ensemble import RandomForestClassifier\n",
    "from imblearn.over_sampling import SMOTE\n",
    "from imblearn.under_sampling import TomekLinks\n",
    "import statsmodels.api as sm\n",
    "from scipy import stats\n",
    "\n",
    "import warnings\n",
    "warnings.filterwarnings('ignore')"
   ]
  },
  {
   "cell_type": "code",
   "execution_count": 2,
   "metadata": {},
   "outputs": [],
   "source": [
    "df_train = pd.read_csv('dataset.csv', index_col=0)\n",
    "df_test = pd.read_csv('validation_set.csv', index_col=0)"
   ]
  },
  {
   "cell_type": "code",
   "execution_count": 3,
   "metadata": {
    "scrolled": true
   },
   "outputs": [
    {
     "data": {
      "text/html": [
       "<div>\n",
       "<style scoped>\n",
       "    .dataframe tbody tr th:only-of-type {\n",
       "        vertical-align: middle;\n",
       "    }\n",
       "\n",
       "    .dataframe tbody tr th {\n",
       "        vertical-align: top;\n",
       "    }\n",
       "\n",
       "    .dataframe thead th {\n",
       "        text-align: right;\n",
       "    }\n",
       "</style>\n",
       "<table border=\"1\" class=\"dataframe\">\n",
       "  <thead>\n",
       "    <tr style=\"text-align: right;\">\n",
       "      <th></th>\n",
       "      <th>LIMIT_BAL</th>\n",
       "      <th>SEX</th>\n",
       "      <th>EDUCATION</th>\n",
       "      <th>MARRIAGE</th>\n",
       "      <th>AGE</th>\n",
       "      <th>PAY_0</th>\n",
       "      <th>PAY_2</th>\n",
       "      <th>PAY_3</th>\n",
       "      <th>PAY_4</th>\n",
       "      <th>PAY_5</th>\n",
       "      <th>...</th>\n",
       "      <th>BILL_AMT4</th>\n",
       "      <th>BILL_AMT5</th>\n",
       "      <th>BILL_AMT6</th>\n",
       "      <th>PAY_AMT1</th>\n",
       "      <th>PAY_AMT2</th>\n",
       "      <th>PAY_AMT3</th>\n",
       "      <th>PAY_AMT4</th>\n",
       "      <th>PAY_AMT5</th>\n",
       "      <th>PAY_AMT6</th>\n",
       "      <th>default payment next month</th>\n",
       "    </tr>\n",
       "  </thead>\n",
       "  <tbody>\n",
       "    <tr>\n",
       "      <th>0</th>\n",
       "      <td>200000</td>\n",
       "      <td>2</td>\n",
       "      <td>3</td>\n",
       "      <td>1</td>\n",
       "      <td>30</td>\n",
       "      <td>2</td>\n",
       "      <td>2</td>\n",
       "      <td>2</td>\n",
       "      <td>2</td>\n",
       "      <td>2</td>\n",
       "      <td>...</td>\n",
       "      <td>147273</td>\n",
       "      <td>149244</td>\n",
       "      <td>151973</td>\n",
       "      <td>6600</td>\n",
       "      <td>6000</td>\n",
       "      <td>5860</td>\n",
       "      <td>6000</td>\n",
       "      <td>5000</td>\n",
       "      <td>0</td>\n",
       "      <td>0</td>\n",
       "    </tr>\n",
       "    <tr>\n",
       "      <th>1</th>\n",
       "      <td>200000</td>\n",
       "      <td>2</td>\n",
       "      <td>4</td>\n",
       "      <td>2</td>\n",
       "      <td>27</td>\n",
       "      <td>-2</td>\n",
       "      <td>-2</td>\n",
       "      <td>-2</td>\n",
       "      <td>-2</td>\n",
       "      <td>-2</td>\n",
       "      <td>...</td>\n",
       "      <td>0</td>\n",
       "      <td>0</td>\n",
       "      <td>0</td>\n",
       "      <td>0</td>\n",
       "      <td>0</td>\n",
       "      <td>0</td>\n",
       "      <td>0</td>\n",
       "      <td>0</td>\n",
       "      <td>0</td>\n",
       "      <td>0</td>\n",
       "    </tr>\n",
       "    <tr>\n",
       "      <th>2</th>\n",
       "      <td>20000</td>\n",
       "      <td>2</td>\n",
       "      <td>2</td>\n",
       "      <td>2</td>\n",
       "      <td>28</td>\n",
       "      <td>0</td>\n",
       "      <td>0</td>\n",
       "      <td>2</td>\n",
       "      <td>0</td>\n",
       "      <td>0</td>\n",
       "      <td>...</td>\n",
       "      <td>8168</td>\n",
       "      <td>6894</td>\n",
       "      <td>11424</td>\n",
       "      <td>3353</td>\n",
       "      <td>3</td>\n",
       "      <td>5101</td>\n",
       "      <td>6</td>\n",
       "      <td>6530</td>\n",
       "      <td>8103</td>\n",
       "      <td>1</td>\n",
       "    </tr>\n",
       "    <tr>\n",
       "      <th>3</th>\n",
       "      <td>50000</td>\n",
       "      <td>1</td>\n",
       "      <td>2</td>\n",
       "      <td>2</td>\n",
       "      <td>23</td>\n",
       "      <td>0</td>\n",
       "      <td>0</td>\n",
       "      <td>0</td>\n",
       "      <td>-1</td>\n",
       "      <td>0</td>\n",
       "      <td>...</td>\n",
       "      <td>48437</td>\n",
       "      <td>18712</td>\n",
       "      <td>19129</td>\n",
       "      <td>4175</td>\n",
       "      <td>41000</td>\n",
       "      <td>51705</td>\n",
       "      <td>700</td>\n",
       "      <td>718</td>\n",
       "      <td>700</td>\n",
       "      <td>0</td>\n",
       "    </tr>\n",
       "    <tr>\n",
       "      <th>4</th>\n",
       "      <td>20000</td>\n",
       "      <td>1</td>\n",
       "      <td>2</td>\n",
       "      <td>1</td>\n",
       "      <td>47</td>\n",
       "      <td>-1</td>\n",
       "      <td>-1</td>\n",
       "      <td>-1</td>\n",
       "      <td>-2</td>\n",
       "      <td>-2</td>\n",
       "      <td>...</td>\n",
       "      <td>0</td>\n",
       "      <td>0</td>\n",
       "      <td>0</td>\n",
       "      <td>780</td>\n",
       "      <td>0</td>\n",
       "      <td>0</td>\n",
       "      <td>0</td>\n",
       "      <td>0</td>\n",
       "      <td>0</td>\n",
       "      <td>0</td>\n",
       "    </tr>\n",
       "  </tbody>\n",
       "</table>\n",
       "<p>5 rows × 24 columns</p>\n",
       "</div>"
      ],
      "text/plain": [
       "   LIMIT_BAL  SEX  EDUCATION  MARRIAGE  AGE  PAY_0  PAY_2  PAY_3  PAY_4  \\\n",
       "0     200000    2          3         1   30      2      2      2      2   \n",
       "1     200000    2          4         2   27     -2     -2     -2     -2   \n",
       "2      20000    2          2         2   28      0      0      2      0   \n",
       "3      50000    1          2         2   23      0      0      0     -1   \n",
       "4      20000    1          2         1   47     -1     -1     -1     -2   \n",
       "\n",
       "   PAY_5  ...  BILL_AMT4  BILL_AMT5  BILL_AMT6  PAY_AMT1  PAY_AMT2  PAY_AMT3  \\\n",
       "0      2  ...     147273     149244     151973      6600      6000      5860   \n",
       "1     -2  ...          0          0          0         0         0         0   \n",
       "2      0  ...       8168       6894      11424      3353         3      5101   \n",
       "3      0  ...      48437      18712      19129      4175     41000     51705   \n",
       "4     -2  ...          0          0          0       780         0         0   \n",
       "\n",
       "   PAY_AMT4  PAY_AMT5  PAY_AMT6  default payment next month  \n",
       "0      6000      5000         0                           0  \n",
       "1         0         0         0                           0  \n",
       "2         6      6530      8103                           1  \n",
       "3       700       718       700                           0  \n",
       "4         0         0         0                           0  \n",
       "\n",
       "[5 rows x 24 columns]"
      ]
     },
     "execution_count": 3,
     "metadata": {},
     "output_type": "execute_result"
    }
   ],
   "source": [
    "df_train.head()"
   ]
  },
  {
   "cell_type": "code",
   "execution_count": 4,
   "metadata": {},
   "outputs": [],
   "source": [
    "df_train = df_train.astype(float)"
   ]
  },
  {
   "cell_type": "code",
   "execution_count": 5,
   "metadata": {},
   "outputs": [
    {
     "name": "stdout",
     "output_type": "stream",
     "text": [
      "<class 'pandas.core.frame.DataFrame'>\n",
      "Int64Index: 22500 entries, 0 to 22499\n",
      "Data columns (total 24 columns):\n",
      " #   Column                      Non-Null Count  Dtype  \n",
      "---  ------                      --------------  -----  \n",
      " 0   LIMIT_BAL                   22500 non-null  float64\n",
      " 1   SEX                         22500 non-null  float64\n",
      " 2   EDUCATION                   22500 non-null  float64\n",
      " 3   MARRIAGE                    22500 non-null  float64\n",
      " 4   AGE                         22500 non-null  float64\n",
      " 5   PAY_0                       22500 non-null  float64\n",
      " 6   PAY_2                       22500 non-null  float64\n",
      " 7   PAY_3                       22500 non-null  float64\n",
      " 8   PAY_4                       22500 non-null  float64\n",
      " 9   PAY_5                       22500 non-null  float64\n",
      " 10  PAY_6                       22500 non-null  float64\n",
      " 11  BILL_AMT1                   22500 non-null  float64\n",
      " 12  BILL_AMT2                   22500 non-null  float64\n",
      " 13  BILL_AMT3                   22500 non-null  float64\n",
      " 14  BILL_AMT4                   22500 non-null  float64\n",
      " 15  BILL_AMT5                   22500 non-null  float64\n",
      " 16  BILL_AMT6                   22500 non-null  float64\n",
      " 17  PAY_AMT1                    22500 non-null  float64\n",
      " 18  PAY_AMT2                    22500 non-null  float64\n",
      " 19  PAY_AMT3                    22500 non-null  float64\n",
      " 20  PAY_AMT4                    22500 non-null  float64\n",
      " 21  PAY_AMT5                    22500 non-null  float64\n",
      " 22  PAY_AMT6                    22500 non-null  float64\n",
      " 23  default payment next month  22500 non-null  float64\n",
      "dtypes: float64(24)\n",
      "memory usage: 4.3 MB\n"
     ]
    }
   ],
   "source": [
    "df_train.info()"
   ]
  },
  {
   "cell_type": "code",
   "execution_count": 6,
   "metadata": {},
   "outputs": [
    {
     "data": {
      "text/html": [
       "<div>\n",
       "<style scoped>\n",
       "    .dataframe tbody tr th:only-of-type {\n",
       "        vertical-align: middle;\n",
       "    }\n",
       "\n",
       "    .dataframe tbody tr th {\n",
       "        vertical-align: top;\n",
       "    }\n",
       "\n",
       "    .dataframe thead th {\n",
       "        text-align: right;\n",
       "    }\n",
       "</style>\n",
       "<table border=\"1\" class=\"dataframe\">\n",
       "  <thead>\n",
       "    <tr style=\"text-align: right;\">\n",
       "      <th></th>\n",
       "      <th>LIMIT_BAL</th>\n",
       "      <th>SEX</th>\n",
       "      <th>EDUCATION</th>\n",
       "      <th>MARRIAGE</th>\n",
       "      <th>AGE</th>\n",
       "      <th>PAY_0</th>\n",
       "      <th>PAY_2</th>\n",
       "      <th>PAY_3</th>\n",
       "      <th>PAY_4</th>\n",
       "      <th>PAY_5</th>\n",
       "      <th>...</th>\n",
       "      <th>BILL_AMT4</th>\n",
       "      <th>BILL_AMT5</th>\n",
       "      <th>BILL_AMT6</th>\n",
       "      <th>PAY_AMT1</th>\n",
       "      <th>PAY_AMT2</th>\n",
       "      <th>PAY_AMT3</th>\n",
       "      <th>PAY_AMT4</th>\n",
       "      <th>PAY_AMT5</th>\n",
       "      <th>PAY_AMT6</th>\n",
       "      <th>default payment next month</th>\n",
       "    </tr>\n",
       "  </thead>\n",
       "  <tbody>\n",
       "    <tr>\n",
       "      <th>count</th>\n",
       "      <td>22500.000000</td>\n",
       "      <td>22500.000000</td>\n",
       "      <td>22500.000000</td>\n",
       "      <td>22500.000000</td>\n",
       "      <td>22500.000000</td>\n",
       "      <td>22500.000000</td>\n",
       "      <td>22500.000000</td>\n",
       "      <td>22500.000000</td>\n",
       "      <td>22500.000000</td>\n",
       "      <td>22500.000000</td>\n",
       "      <td>...</td>\n",
       "      <td>22500.000000</td>\n",
       "      <td>22500.000000</td>\n",
       "      <td>22500.000000</td>\n",
       "      <td>22500.000000</td>\n",
       "      <td>2.250000e+04</td>\n",
       "      <td>22500.000000</td>\n",
       "      <td>22500.000000</td>\n",
       "      <td>22500.000000</td>\n",
       "      <td>22500.000000</td>\n",
       "      <td>22500.000000</td>\n",
       "    </tr>\n",
       "    <tr>\n",
       "      <th>mean</th>\n",
       "      <td>167267.274667</td>\n",
       "      <td>1.602533</td>\n",
       "      <td>1.852356</td>\n",
       "      <td>1.549911</td>\n",
       "      <td>35.526000</td>\n",
       "      <td>-0.014978</td>\n",
       "      <td>-0.135200</td>\n",
       "      <td>-0.166800</td>\n",
       "      <td>-0.221333</td>\n",
       "      <td>-0.266533</td>\n",
       "      <td>...</td>\n",
       "      <td>43265.662667</td>\n",
       "      <td>40400.279733</td>\n",
       "      <td>38997.275778</td>\n",
       "      <td>5697.756489</td>\n",
       "      <td>5.944526e+03</td>\n",
       "      <td>5308.332489</td>\n",
       "      <td>4802.920444</td>\n",
       "      <td>4724.458178</td>\n",
       "      <td>5165.231067</td>\n",
       "      <td>0.221200</td>\n",
       "    </tr>\n",
       "    <tr>\n",
       "      <th>std</th>\n",
       "      <td>129383.700485</td>\n",
       "      <td>0.489385</td>\n",
       "      <td>0.787066</td>\n",
       "      <td>0.521673</td>\n",
       "      <td>9.231461</td>\n",
       "      <td>1.119429</td>\n",
       "      <td>1.189176</td>\n",
       "      <td>1.194886</td>\n",
       "      <td>1.166326</td>\n",
       "      <td>1.131526</td>\n",
       "      <td>...</td>\n",
       "      <td>64360.019334</td>\n",
       "      <td>60879.044012</td>\n",
       "      <td>59646.978910</td>\n",
       "      <td>17201.619690</td>\n",
       "      <td>2.214392e+04</td>\n",
       "      <td>18549.384158</td>\n",
       "      <td>15738.417203</td>\n",
       "      <td>14938.300190</td>\n",
       "      <td>17467.663795</td>\n",
       "      <td>0.415064</td>\n",
       "    </tr>\n",
       "    <tr>\n",
       "      <th>min</th>\n",
       "      <td>10000.000000</td>\n",
       "      <td>1.000000</td>\n",
       "      <td>0.000000</td>\n",
       "      <td>0.000000</td>\n",
       "      <td>21.000000</td>\n",
       "      <td>-2.000000</td>\n",
       "      <td>-2.000000</td>\n",
       "      <td>-2.000000</td>\n",
       "      <td>-2.000000</td>\n",
       "      <td>-2.000000</td>\n",
       "      <td>...</td>\n",
       "      <td>-170000.000000</td>\n",
       "      <td>-61372.000000</td>\n",
       "      <td>-209051.000000</td>\n",
       "      <td>0.000000</td>\n",
       "      <td>0.000000e+00</td>\n",
       "      <td>0.000000</td>\n",
       "      <td>0.000000</td>\n",
       "      <td>0.000000</td>\n",
       "      <td>0.000000</td>\n",
       "      <td>0.000000</td>\n",
       "    </tr>\n",
       "    <tr>\n",
       "      <th>25%</th>\n",
       "      <td>50000.000000</td>\n",
       "      <td>1.000000</td>\n",
       "      <td>1.000000</td>\n",
       "      <td>1.000000</td>\n",
       "      <td>28.000000</td>\n",
       "      <td>-1.000000</td>\n",
       "      <td>-1.000000</td>\n",
       "      <td>-1.000000</td>\n",
       "      <td>-1.000000</td>\n",
       "      <td>-1.000000</td>\n",
       "      <td>...</td>\n",
       "      <td>2280.000000</td>\n",
       "      <td>1760.000000</td>\n",
       "      <td>1243.750000</td>\n",
       "      <td>1000.000000</td>\n",
       "      <td>8.270000e+02</td>\n",
       "      <td>390.000000</td>\n",
       "      <td>300.000000</td>\n",
       "      <td>258.000000</td>\n",
       "      <td>118.000000</td>\n",
       "      <td>0.000000</td>\n",
       "    </tr>\n",
       "    <tr>\n",
       "      <th>50%</th>\n",
       "      <td>140000.000000</td>\n",
       "      <td>2.000000</td>\n",
       "      <td>2.000000</td>\n",
       "      <td>2.000000</td>\n",
       "      <td>34.000000</td>\n",
       "      <td>0.000000</td>\n",
       "      <td>0.000000</td>\n",
       "      <td>0.000000</td>\n",
       "      <td>0.000000</td>\n",
       "      <td>0.000000</td>\n",
       "      <td>...</td>\n",
       "      <td>19003.500000</td>\n",
       "      <td>18105.500000</td>\n",
       "      <td>17071.000000</td>\n",
       "      <td>2100.000000</td>\n",
       "      <td>2.006000e+03</td>\n",
       "      <td>1800.000000</td>\n",
       "      <td>1500.000000</td>\n",
       "      <td>1500.000000</td>\n",
       "      <td>1500.000000</td>\n",
       "      <td>0.000000</td>\n",
       "    </tr>\n",
       "    <tr>\n",
       "      <th>75%</th>\n",
       "      <td>240000.000000</td>\n",
       "      <td>2.000000</td>\n",
       "      <td>2.000000</td>\n",
       "      <td>2.000000</td>\n",
       "      <td>41.000000</td>\n",
       "      <td>0.000000</td>\n",
       "      <td>0.000000</td>\n",
       "      <td>0.000000</td>\n",
       "      <td>0.000000</td>\n",
       "      <td>0.000000</td>\n",
       "      <td>...</td>\n",
       "      <td>54562.500000</td>\n",
       "      <td>50343.750000</td>\n",
       "      <td>49355.500000</td>\n",
       "      <td>5009.000000</td>\n",
       "      <td>5.000000e+03</td>\n",
       "      <td>4510.500000</td>\n",
       "      <td>4001.500000</td>\n",
       "      <td>4000.000000</td>\n",
       "      <td>4000.000000</td>\n",
       "      <td>0.000000</td>\n",
       "    </tr>\n",
       "    <tr>\n",
       "      <th>max</th>\n",
       "      <td>1000000.000000</td>\n",
       "      <td>2.000000</td>\n",
       "      <td>6.000000</td>\n",
       "      <td>3.000000</td>\n",
       "      <td>79.000000</td>\n",
       "      <td>8.000000</td>\n",
       "      <td>7.000000</td>\n",
       "      <td>8.000000</td>\n",
       "      <td>8.000000</td>\n",
       "      <td>8.000000</td>\n",
       "      <td>...</td>\n",
       "      <td>891586.000000</td>\n",
       "      <td>927171.000000</td>\n",
       "      <td>961664.000000</td>\n",
       "      <td>873552.000000</td>\n",
       "      <td>1.227082e+06</td>\n",
       "      <td>896040.000000</td>\n",
       "      <td>621000.000000</td>\n",
       "      <td>426529.000000</td>\n",
       "      <td>527143.000000</td>\n",
       "      <td>1.000000</td>\n",
       "    </tr>\n",
       "  </tbody>\n",
       "</table>\n",
       "<p>8 rows × 24 columns</p>\n",
       "</div>"
      ],
      "text/plain": [
       "            LIMIT_BAL           SEX     EDUCATION      MARRIAGE           AGE  \\\n",
       "count    22500.000000  22500.000000  22500.000000  22500.000000  22500.000000   \n",
       "mean    167267.274667      1.602533      1.852356      1.549911     35.526000   \n",
       "std     129383.700485      0.489385      0.787066      0.521673      9.231461   \n",
       "min      10000.000000      1.000000      0.000000      0.000000     21.000000   \n",
       "25%      50000.000000      1.000000      1.000000      1.000000     28.000000   \n",
       "50%     140000.000000      2.000000      2.000000      2.000000     34.000000   \n",
       "75%     240000.000000      2.000000      2.000000      2.000000     41.000000   \n",
       "max    1000000.000000      2.000000      6.000000      3.000000     79.000000   \n",
       "\n",
       "              PAY_0         PAY_2         PAY_3         PAY_4         PAY_5  \\\n",
       "count  22500.000000  22500.000000  22500.000000  22500.000000  22500.000000   \n",
       "mean      -0.014978     -0.135200     -0.166800     -0.221333     -0.266533   \n",
       "std        1.119429      1.189176      1.194886      1.166326      1.131526   \n",
       "min       -2.000000     -2.000000     -2.000000     -2.000000     -2.000000   \n",
       "25%       -1.000000     -1.000000     -1.000000     -1.000000     -1.000000   \n",
       "50%        0.000000      0.000000      0.000000      0.000000      0.000000   \n",
       "75%        0.000000      0.000000      0.000000      0.000000      0.000000   \n",
       "max        8.000000      7.000000      8.000000      8.000000      8.000000   \n",
       "\n",
       "       ...      BILL_AMT4      BILL_AMT5      BILL_AMT6       PAY_AMT1  \\\n",
       "count  ...   22500.000000   22500.000000   22500.000000   22500.000000   \n",
       "mean   ...   43265.662667   40400.279733   38997.275778    5697.756489   \n",
       "std    ...   64360.019334   60879.044012   59646.978910   17201.619690   \n",
       "min    ... -170000.000000  -61372.000000 -209051.000000       0.000000   \n",
       "25%    ...    2280.000000    1760.000000    1243.750000    1000.000000   \n",
       "50%    ...   19003.500000   18105.500000   17071.000000    2100.000000   \n",
       "75%    ...   54562.500000   50343.750000   49355.500000    5009.000000   \n",
       "max    ...  891586.000000  927171.000000  961664.000000  873552.000000   \n",
       "\n",
       "           PAY_AMT2       PAY_AMT3       PAY_AMT4       PAY_AMT5  \\\n",
       "count  2.250000e+04   22500.000000   22500.000000   22500.000000   \n",
       "mean   5.944526e+03    5308.332489    4802.920444    4724.458178   \n",
       "std    2.214392e+04   18549.384158   15738.417203   14938.300190   \n",
       "min    0.000000e+00       0.000000       0.000000       0.000000   \n",
       "25%    8.270000e+02     390.000000     300.000000     258.000000   \n",
       "50%    2.006000e+03    1800.000000    1500.000000    1500.000000   \n",
       "75%    5.000000e+03    4510.500000    4001.500000    4000.000000   \n",
       "max    1.227082e+06  896040.000000  621000.000000  426529.000000   \n",
       "\n",
       "            PAY_AMT6  default payment next month  \n",
       "count   22500.000000                22500.000000  \n",
       "mean     5165.231067                    0.221200  \n",
       "std     17467.663795                    0.415064  \n",
       "min         0.000000                    0.000000  \n",
       "25%       118.000000                    0.000000  \n",
       "50%      1500.000000                    0.000000  \n",
       "75%      4000.000000                    0.000000  \n",
       "max    527143.000000                    1.000000  \n",
       "\n",
       "[8 rows x 24 columns]"
      ]
     },
     "execution_count": 6,
     "metadata": {},
     "output_type": "execute_result"
    }
   ],
   "source": [
    "df_train.describe()"
   ]
  },
  {
   "cell_type": "code",
   "execution_count": 7,
   "metadata": {},
   "outputs": [
    {
     "data": {
      "text/plain": [
       "Index(['LIMIT_BAL', 'SEX', 'EDUCATION', 'MARRIAGE', 'AGE', 'PAY_0', 'PAY_2',\n",
       "       'PAY_3', 'PAY_4', 'PAY_5', 'PAY_6', 'BILL_AMT1', 'BILL_AMT2',\n",
       "       'BILL_AMT3', 'BILL_AMT4', 'BILL_AMT5', 'BILL_AMT6', 'PAY_AMT1',\n",
       "       'PAY_AMT2', 'PAY_AMT3', 'PAY_AMT4', 'PAY_AMT5', 'PAY_AMT6',\n",
       "       'default payment next month'],\n",
       "      dtype='object')"
      ]
     },
     "execution_count": 7,
     "metadata": {},
     "output_type": "execute_result"
    }
   ],
   "source": [
    "df_train.columns"
   ]
  },
  {
   "cell_type": "code",
   "execution_count": 8,
   "metadata": {},
   "outputs": [
    {
     "name": "stdout",
     "output_type": "stream",
     "text": [
      "2.0    13557\n",
      "1.0     8943\n",
      "Name: SEX, dtype: int64\n",
      "0.0    13557\n",
      "1.0     8943\n",
      "Name: SEX, dtype: int64\n"
     ]
    }
   ],
   "source": [
    "print(df_train.SEX.value_counts())\n",
    "df_train.SEX = np.where(df_train.SEX == 2, 0, df_train.SEX)\n",
    "print(df_train.SEX.value_counts())"
   ]
  },
  {
   "cell_type": "code",
   "execution_count": 9,
   "metadata": {},
   "outputs": [
    {
     "name": "stdout",
     "output_type": "stream",
     "text": [
      "2.0    11942\n",
      "1.0    10281\n",
      "3.0      236\n",
      "0.0       41\n",
      "Name: MARRIAGE, dtype: int64\n",
      "0.0    12219\n",
      "1.0    10281\n",
      "Name: MARRIAGE, dtype: int64\n"
     ]
    }
   ],
   "source": [
    "conditions = [df_train.MARRIAGE == 3, df_train.MARRIAGE == 2]\n",
    "choices = [0, 0]\n",
    "\n",
    "print(df_train.MARRIAGE.value_counts())\n",
    "df_train.MARRIAGE = np.select(conditions, choices, df_train.MARRIAGE)\n",
    "print(df_train.MARRIAGE.value_counts())"
   ]
  },
  {
   "cell_type": "code",
   "execution_count": 10,
   "metadata": {},
   "outputs": [
    {
     "name": "stdout",
     "output_type": "stream",
     "text": [
      "2.0    10546\n",
      "1.0     7921\n",
      "3.0     3690\n",
      "5.0      205\n",
      "4.0       90\n",
      "6.0       35\n",
      "0.0       13\n",
      "Name: EDUCATION, dtype: int64\n",
      "2.0    10546\n",
      "1.0     7921\n",
      "3.0     3690\n",
      "4.0      343\n",
      "Name: EDUCATION, dtype: int64\n"
     ]
    }
   ],
   "source": [
    "conditions = [df_train.EDUCATION == 5, df_train.EDUCATION == 6, df_train.EDUCATION == 0]\n",
    "choices = [4, 4, 4]\n",
    "\n",
    "print(df_train.EDUCATION.value_counts())\n",
    "df_train.EDUCATION = np.select(conditions, choices, df_train.EDUCATION)\n",
    "print(df_train.EDUCATION.value_counts())"
   ]
  },
  {
   "cell_type": "code",
   "execution_count": 11,
   "metadata": {},
   "outputs": [],
   "source": [
    "df_train.rename(columns={'default payment next month': 'default', 'PAY_0': 'PAY_1'}, inplace=True)"
   ]
  },
  {
   "cell_type": "code",
   "execution_count": 12,
   "metadata": {},
   "outputs": [
    {
     "data": {
      "text/plain": [
       "Index(['limit_bal', 'sex', 'education', 'marriage', 'age', 'pay_1', 'pay_2',\n",
       "       'pay_3', 'pay_4', 'pay_5', 'pay_6', 'bill_amt1', 'bill_amt2',\n",
       "       'bill_amt3', 'bill_amt4', 'bill_amt5', 'bill_amt6', 'pay_amt1',\n",
       "       'pay_amt2', 'pay_amt3', 'pay_amt4', 'pay_amt5', 'pay_amt6', 'default'],\n",
       "      dtype='object')"
      ]
     },
     "execution_count": 12,
     "metadata": {},
     "output_type": "execute_result"
    }
   ],
   "source": [
    "col_dict = {col: col.lower() for col in df_train.columns}\n",
    "df_train.rename(columns=col_dict, inplace = True)\n",
    "df_train.columns"
   ]
  },
  {
   "cell_type": "code",
   "execution_count": 13,
   "metadata": {},
   "outputs": [],
   "source": [
    "to_dummy = ['education', 'pay_1', 'pay_2', 'pay_3', 'pay_4', 'pay_5', 'pay_6']\n",
    "df_train = pd.get_dummies(df_train, columns=to_dummy, prefix=to_dummy, drop_first=True, dtype=float)"
   ]
  },
  {
   "cell_type": "code",
   "execution_count": 14,
   "metadata": {},
   "outputs": [
    {
     "data": {
      "text/plain": [
       "Index(['limit_bal', 'sex', 'marriage', 'age', 'bill_amt1', 'bill_amt2',\n",
       "       'bill_amt3', 'bill_amt4', 'bill_amt5', 'bill_amt6', 'pay_amt1',\n",
       "       'pay_amt2', 'pay_amt3', 'pay_amt4', 'pay_amt5', 'pay_amt6', 'default',\n",
       "       'education_2', 'education_3', 'education_4', 'pay_1_minus_1', 'pay_1_0',\n",
       "       'pay_1_1', 'pay_1_2', 'pay_1_3', 'pay_1_4', 'pay_1_5', 'pay_1_6',\n",
       "       'pay_1_7', 'pay_1_8', 'pay_2_minus_1', 'pay_2_0', 'pay_2_1', 'pay_2_2',\n",
       "       'pay_2_3', 'pay_2_4', 'pay_2_5', 'pay_2_6', 'pay_2_7', 'pay_3_minus_1',\n",
       "       'pay_3_0', 'pay_3_1', 'pay_3_2', 'pay_3_3', 'pay_3_4', 'pay_3_5',\n",
       "       'pay_3_6', 'pay_3_7', 'pay_3_8', 'pay_4_minus_1', 'pay_4_0', 'pay_4_1',\n",
       "       'pay_4_2', 'pay_4_3', 'pay_4_4', 'pay_4_5', 'pay_4_6', 'pay_4_7',\n",
       "       'pay_4_8', 'pay_5_minus_1', 'pay_5_0', 'pay_5_2', 'pay_5_3', 'pay_5_4',\n",
       "       'pay_5_5', 'pay_5_6', 'pay_5_7', 'pay_5_8', 'pay_6_minus_1', 'pay_6_0',\n",
       "       'pay_6_2', 'pay_6_3', 'pay_6_4', 'pay_6_5', 'pay_6_6', 'pay_6_7',\n",
       "       'pay_6_8'],\n",
       "      dtype='object')"
      ]
     },
     "execution_count": 14,
     "metadata": {},
     "output_type": "execute_result"
    }
   ],
   "source": [
    "df_train.columns = [col.replace('.0', '').replace('-', 'minus_') for col in df_train.columns]\n",
    "df_train.columns"
   ]
  },
  {
   "cell_type": "code",
   "execution_count": 15,
   "metadata": {},
   "outputs": [],
   "source": [
    "# df_train = pd.concat([df_train.drop(columns=to_dummy, axis=1), dummy_dataframe], axis=1)\n",
    "\n",
    "# df_train.head()"
   ]
  },
  {
   "cell_type": "code",
   "execution_count": 16,
   "metadata": {
    "scrolled": true
   },
   "outputs": [
    {
     "data": {
      "text/plain": [
       "array([[<matplotlib.axes._subplots.AxesSubplot object at 0x1162a7f98>]],\n",
       "      dtype=object)"
      ]
     },
     "execution_count": 16,
     "metadata": {},
     "output_type": "execute_result"
    },
    {
     "data": {
      "image/png": "[encoded data removed]",
      "text/plain": [
       "<Figure size 432x288 with 1 Axes>"
      ]
     },
     "metadata": {
      "needs_background": "light"
     },
     "output_type": "display_data"
    }
   ],
   "source": [
    "df_train.hist('limit_bal', bins=50)"
   ]
  },
  {
   "cell_type": "markdown",
   "metadata": {},
   "source": [
    "## VANILLA MODELS"
   ]
  },
  {
   "cell_type": "code",
   "execution_count": 17,
   "metadata": {},
   "outputs": [],
   "source": [
    "df_van = df_train.copy()"
   ]
  },
  {
   "cell_type": "code",
   "execution_count": 18,
   "metadata": {},
   "outputs": [],
   "source": [
    "X_van = df_van.drop(columns='default', axis=1)\n",
    "y_van = df_van['default']"
   ]
  },
  {
   "cell_type": "code",
   "execution_count": 19,
   "metadata": {},
   "outputs": [],
   "source": [
    "X_train_van, X_test_van, y_train_van, y_test_van = train_test_split(X_van, y_van, random_state=1)"
   ]
  },
  {
   "cell_type": "markdown",
   "metadata": {},
   "source": [
    "### KNN"
   ]
  },
  {
   "cell_type": "code",
   "execution_count": 20,
   "metadata": {},
   "outputs": [],
   "source": [
    "params_knn = {\n",
    "    'n_neighbors': range(1,11,2),\n",
    "    'weights': ['uniform', 'distance'],\n",
    "#     'algorithm': ['ball_tree', 'kd_tree', 'brute'],\n",
    "    'p': range(1,4)\n",
    "}"
   ]
  },
  {
   "cell_type": "code",
   "execution_count": 21,
   "metadata": {},
   "outputs": [
    {
     "name": "stdout",
     "output_type": "stream",
     "text": [
      "Fitting 5 folds for each of 30 candidates, totalling 150 fits\n"
     ]
    },
    {
     "name": "stderr",
     "output_type": "stream",
     "text": [
      "[Parallel(n_jobs=-1)]: Using backend LokyBackend with 8 concurrent workers.\n",
      "[Parallel(n_jobs=-1)]: Done  25 tasks      | elapsed:    8.9s\n",
      "[Parallel(n_jobs=-1)]: Done 150 out of 150 | elapsed:   58.8s finished\n"
     ]
    },
    {
     "data": {
      "text/plain": [
       "GridSearchCV(cv=None, error_score=nan,\n",
       "             estimator=KNeighborsClassifier(algorithm='auto', leaf_size=30,\n",
       "                                            metric='minkowski',\n",
       "                                            metric_params=None, n_jobs=None,\n",
       "                                            n_neighbors=5, p=2,\n",
       "                                            weights='uniform'),\n",
       "             iid='deprecated', n_jobs=-1,\n",
       "             param_grid={'n_neighbors': range(1, 11, 2), 'p': range(1, 4),\n",
       "                         'weights': ['uniform', 'distance']},\n",
       "             pre_dispatch='2*n_jobs', refit=True, return_train_score=False,\n",
       "             scoring='f1', verbose=2)"
      ]
     },
     "execution_count": 21,
     "metadata": {},
     "output_type": "execute_result"
    }
   ],
   "source": [
    "CV_knn_van = GridSearchCV(KNeighborsClassifier(), params_knn, n_jobs=-1, scoring='f1', verbose=2)\n",
    "\n",
    "CV_knn_van.fit(X_train_van, y_train_van)"
   ]
  },
  {
   "cell_type": "code",
   "execution_count": 22,
   "metadata": {},
   "outputs": [
    {
     "name": "stdout",
     "output_type": "stream",
     "text": [
      "KNeighborsClassifier(algorithm='auto', leaf_size=30, metric='minkowski',\n",
      "                     metric_params=None, n_jobs=None, n_neighbors=1, p=1,\n",
      "                     weights='uniform')\n",
      "0.2985771561196075\n"
     ]
    }
   ],
   "source": [
    "### Identify the best params \n",
    "print(CV_knn_van.best_estimator_)\n",
    "\n",
    "#Identify the best score during fitting with cross-validation\n",
    "print(CV_knn_van.best_score_)"
   ]
  },
  {
   "cell_type": "code",
   "execution_count": 23,
   "metadata": {},
   "outputs": [
    {
     "name": "stdout",
     "output_type": "stream",
     "text": [
      "Test Accuracy score:  0.6974222222222223\n",
      "Test Precision score:  0.3096\n",
      "Test Recall score:  0.31566068515497553\n",
      "Test F1 score:  0.31260096930533116\n"
     ]
    }
   ],
   "source": [
    "#predict on the test set\n",
    "y_pred_knn_van = CV_knn_van.best_estimator_.predict(X_test_van)\n",
    "\n",
    "# checking metrics\n",
    "print('Test Accuracy score: ', accuracy_score(y_test_van, y_pred_knn_van))\n",
    "print('Test Precision score: ', precision_score(y_test_van, y_pred_knn_van))\n",
    "print('Test Recall score: ', recall_score(y_test_van, y_pred_knn_van))\n",
    "print('Test F1 score: ', f1_score(y_test_van, y_pred_knn_van))"
   ]
  },
  {
   "cell_type": "code",
   "execution_count": 24,
   "metadata": {},
   "outputs": [],
   "source": [
    "results = {}\n",
    "results['knn_van'] = f1_score(y_test_van, y_pred_knn_van)"
   ]
  },
  {
   "cell_type": "markdown",
   "metadata": {},
   "source": [
    "### WEIGHTED"
   ]
  },
  {
   "cell_type": "code",
   "execution_count": 25,
   "metadata": {},
   "outputs": [],
   "source": [
    "param_grid = { \n",
    "    'penalty': ['l1', 'l2', 'elasticnet'],\n",
    "    'C': [.0001, .001, .01, .1, 1.0, 10.0, 100.0],\n",
    "    'solver': ['sag', 'saga', 'liblinear'],\n",
    "}"
   ]
  },
  {
   "cell_type": "code",
   "execution_count": 26,
   "metadata": {},
   "outputs": [
    {
     "name": "stdout",
     "output_type": "stream",
     "text": [
      "Fitting 5 folds for each of 63 candidates, totalling 315 fits\n"
     ]
    },
    {
     "name": "stderr",
     "output_type": "stream",
     "text": [
      "[Parallel(n_jobs=-1)]: Using backend LokyBackend with 8 concurrent workers.\n",
      "[Parallel(n_jobs=-1)]: Done  88 tasks      | elapsed:   16.6s\n",
      "[Parallel(n_jobs=-1)]: Done 315 out of 315 | elapsed:   52.4s finished\n"
     ]
    },
    {
     "data": {
      "text/plain": [
       "GridSearchCV(cv=None, error_score=nan,\n",
       "             estimator=LogisticRegression(C=1.0, class_weight='balanced',\n",
       "                                          dual=False, fit_intercept=True,\n",
       "                                          intercept_scaling=1, l1_ratio=None,\n",
       "                                          max_iter=100, multi_class='auto',\n",
       "                                          n_jobs=None, penalty='l2',\n",
       "                                          random_state=None, solver='lbfgs',\n",
       "                                          tol=0.0001, verbose=0,\n",
       "                                          warm_start=False),\n",
       "             iid='deprecated', n_jobs=-1,\n",
       "             param_grid={'C': [0.0001, 0.001, 0.01, 0.1, 1.0, 10.0, 100.0],\n",
       "                         'penalty': ['l1', 'l2', 'elasticnet'],\n",
       "                         'solver': ['sag', 'saga', 'liblinear']},\n",
       "             pre_dispatch='2*n_jobs', refit=True, return_train_score=False,\n",
       "             scoring='f1', verbose=2)"
      ]
     },
     "execution_count": 26,
     "metadata": {},
     "output_type": "execute_result"
    }
   ],
   "source": [
    "#create a grid search object and fit it to the data\n",
    "CV_van_weight = GridSearchCV(LogisticRegression(class_weight='balanced'),\n",
    "                      param_grid, n_jobs=-1, scoring='f1', verbose=2)\n",
    "\n",
    "CV_van_weight.fit(X_train_van, y_train_van)"
   ]
  },
  {
   "cell_type": "code",
   "execution_count": 27,
   "metadata": {},
   "outputs": [
    {
     "name": "stdout",
     "output_type": "stream",
     "text": [
      "LogisticRegression(C=1.0, class_weight='balanced', dual=False,\n",
      "                   fit_intercept=True, intercept_scaling=1, l1_ratio=None,\n",
      "                   max_iter=100, multi_class='auto', n_jobs=None, penalty='l1',\n",
      "                   random_state=None, solver='liblinear', tol=0.0001, verbose=0,\n",
      "                   warm_start=False)\n",
      "0.5291168246386753\n"
     ]
    }
   ],
   "source": [
    "### Identify the best params \n",
    "print(CV_van_weight.best_estimator_)\n",
    "\n",
    "#Identify the best score during fitting with cross-validation\n",
    "print(CV_van_weight.best_score_)"
   ]
  },
  {
   "cell_type": "code",
   "execution_count": 28,
   "metadata": {},
   "outputs": [
    {
     "name": "stdout",
     "output_type": "stream",
     "text": [
      "Test Accuracy score:  0.7715555555555556\n",
      "Test Precision score:  0.47978067169294036\n",
      "Test Recall score:  0.5709624796084829\n",
      "Test F1 score:  0.5214152700186221\n"
     ]
    }
   ],
   "source": [
    "#predict on the test set\n",
    "y_pred_van_weight = CV_van_weight.best_estimator_.predict(X_test_van)\n",
    "\n",
    "# checking metrics\n",
    "print('Test Accuracy score: ', accuracy_score(y_test_van, y_pred_van_weight))\n",
    "print('Test Precision score: ', precision_score(y_test_van, y_pred_van_weight))\n",
    "print('Test Recall score: ', recall_score(y_test_van, y_pred_van_weight))\n",
    "print('Test F1 score: ', f1_score(y_test_van, y_pred_van_weight))"
   ]
  },
  {
   "cell_type": "code",
   "execution_count": 29,
   "metadata": {},
   "outputs": [],
   "source": [
    "results['weight_van'] = f1_score(y_test_van, y_pred_van_weight)"
   ]
  },
  {
   "cell_type": "markdown",
   "metadata": {},
   "source": [
    "### DECISION TREE"
   ]
  },
  {
   "cell_type": "code",
   "execution_count": 30,
   "metadata": {},
   "outputs": [],
   "source": [
    "# creating our parameters to test\n",
    "params_dtc_van = {'max_depth': range(1,16),\n",
    "                  'max_features': range(1,16),\n",
    "#                   'min_samples_split': [.9, .8, .7, .6, .5],\n",
    "#                   'min_samples_leaf': [.00001, .0001, .001, .01, .1],\n",
    "           }\n",
    "\n",
    "#create our estimaor\n",
    "CV_tree_van = DecisionTreeClassifier(random_state=1, class_weight='balanced')\n",
    "\n",
    "#create the instance of GridSearchCV using the F1 metric for our scoring. \n",
    "grid_tree_van = GridSearchCV(CV_tree_van, params_dtc_van, cv=7, scoring='f1', n_jobs=-1, verbose=1)"
   ]
  },
  {
   "cell_type": "code",
   "execution_count": 31,
   "metadata": {},
   "outputs": [
    {
     "name": "stdout",
     "output_type": "stream",
     "text": [
      "Fitting 7 folds for each of 225 candidates, totalling 1575 fits\n"
     ]
    },
    {
     "name": "stderr",
     "output_type": "stream",
     "text": [
      "[Parallel(n_jobs=-1)]: Using backend LokyBackend with 8 concurrent workers.\n",
      "[Parallel(n_jobs=-1)]: Done  52 tasks      | elapsed:    0.7s\n",
      "[Parallel(n_jobs=-1)]: Done 352 tasks      | elapsed:    3.3s\n",
      "[Parallel(n_jobs=-1)]: Done 852 tasks      | elapsed:    9.4s\n",
      "[Parallel(n_jobs=-1)]: Done 1560 out of 1575 | elapsed:   20.1s remaining:    0.2s\n",
      "[Parallel(n_jobs=-1)]: Done 1575 out of 1575 | elapsed:   20.4s finished\n"
     ]
    },
    {
     "data": {
      "text/plain": [
       "GridSearchCV(cv=7, error_score=nan,\n",
       "             estimator=DecisionTreeClassifier(ccp_alpha=0.0,\n",
       "                                              class_weight='balanced',\n",
       "                                              criterion='gini', max_depth=None,\n",
       "                                              max_features=None,\n",
       "                                              max_leaf_nodes=None,\n",
       "                                              min_impurity_decrease=0.0,\n",
       "                                              min_impurity_split=None,\n",
       "                                              min_samples_leaf=1,\n",
       "                                              min_samples_split=2,\n",
       "                                              min_weight_fraction_leaf=0.0,\n",
       "                                              presort='deprecated',\n",
       "                                              random_state=1, splitter='best'),\n",
       "             iid='deprecated', n_jobs=-1,\n",
       "             param_grid={'max_depth': range(1, 16),\n",
       "                         'max_features': range(1, 16)},\n",
       "             pre_dispatch='2*n_jobs', refit=True, return_train_score=False,\n",
       "             scoring='f1', verbose=1)"
      ]
     },
     "execution_count": 31,
     "metadata": {},
     "output_type": "execute_result"
    }
   ],
   "source": [
    "#fit the Gridsearch to our data\n",
    "grid_tree_van.fit(X_train_van, y_train_van)"
   ]
  },
  {
   "cell_type": "code",
   "execution_count": 32,
   "metadata": {},
   "outputs": [
    {
     "name": "stdout",
     "output_type": "stream",
     "text": [
      "0.5125347149327443\n",
      "{'max_depth': 5, 'max_features': 12}\n",
      "DecisionTreeClassifier(ccp_alpha=0.0, class_weight='balanced', criterion='gini',\n",
      "                       max_depth=5, max_features=12, max_leaf_nodes=None,\n",
      "                       min_impurity_decrease=0.0, min_impurity_split=None,\n",
      "                       min_samples_leaf=1, min_samples_split=2,\n",
      "                       min_weight_fraction_leaf=0.0, presort='deprecated',\n",
      "                       random_state=1, splitter='best')\n"
     ]
    }
   ],
   "source": [
    "# examine the best model\n",
    "\n",
    "# Single best score achieved across all params (min_samples_split)\n",
    "print(grid_tree_van.best_score_)\n",
    "\n",
    "# Dictionary containing the parameters (min_samples_split) used to generate that score\n",
    "print(grid_tree_van.best_params_)\n",
    "\n",
    "# Actual model object fit with those best parameters\n",
    "# Shows default parameters that we did not specify\n",
    "print(grid_tree_van.best_estimator_)"
   ]
  },
  {
   "cell_type": "code",
   "execution_count": 33,
   "metadata": {},
   "outputs": [
    {
     "name": "stdout",
     "output_type": "stream",
     "text": [
      "Test Accuracy score:  0.7937777777777778\n",
      "Test Precision score:  0.5283993115318416\n",
      "Test Recall score:  0.5008156606851549\n",
      "Test F1 score:  0.5142378559463987\n"
     ]
    }
   ],
   "source": [
    "#Predict the response for test dataset\n",
    "y_pred_tree_van = grid_tree_van.best_estimator_.predict(X_test_van)\n",
    "\n",
    "# checking metrics\n",
    "print('Test Accuracy score: ', accuracy_score(y_test_van, y_pred_tree_van))\n",
    "print('Test Precision score: ', precision_score(y_test_van, y_pred_tree_van))\n",
    "print('Test Recall score: ', recall_score(y_test_van, y_pred_tree_van))\n",
    "print('Test F1 score: ', f1_score(y_test_van, y_pred_tree_van))"
   ]
  },
  {
   "cell_type": "code",
   "execution_count": 34,
   "metadata": {},
   "outputs": [],
   "source": [
    "results['tree_van'] = f1_score(y_test_van, y_pred_tree_van)"
   ]
  },
  {
   "cell_type": "markdown",
   "metadata": {},
   "source": [
    "### RANDOM FOREST"
   ]
  },
  {
   "cell_type": "code",
   "execution_count": 35,
   "metadata": {},
   "outputs": [],
   "source": [
    "#create a dictionary of all the parameters you want to tune\n",
    "params_forest = { \n",
    "    'max_depth': range(3,14),\n",
    "    'max_features': range(3,11),\n",
    "#     'min_samples_split': (.9,.8,.7,.6,.5),\n",
    "#     'min_samples_leaf': (.001,.01,.1),\n",
    "#     'n_estimators': (100, 250, 500)\n",
    "}"
   ]
  },
  {
   "cell_type": "code",
   "execution_count": 36,
   "metadata": {},
   "outputs": [
    {
     "name": "stderr",
     "output_type": "stream",
     "text": [
      "[Parallel(n_jobs=-1)]: Using backend LokyBackend with 8 concurrent workers.\n"
     ]
    },
    {
     "name": "stdout",
     "output_type": "stream",
     "text": [
      "Fitting 5 folds for each of 88 candidates, totalling 440 fits\n"
     ]
    },
    {
     "name": "stderr",
     "output_type": "stream",
     "text": [
      "[Parallel(n_jobs=-1)]: Done  25 tasks      | elapsed:   12.4s\n",
      "[Parallel(n_jobs=-1)]: Done 146 tasks      | elapsed:  1.2min\n",
      "[Parallel(n_jobs=-1)]: Done 349 tasks      | elapsed:  3.8min\n",
      "[Parallel(n_jobs=-1)]: Done 440 out of 440 | elapsed:  5.4min finished\n"
     ]
    },
    {
     "data": {
      "text/plain": [
       "GridSearchCV(cv=None, error_score=nan,\n",
       "             estimator=RandomForestClassifier(bootstrap=True, ccp_alpha=0.0,\n",
       "                                              class_weight=None,\n",
       "                                              criterion='gini', max_depth=None,\n",
       "                                              max_features='auto',\n",
       "                                              max_leaf_nodes=None,\n",
       "                                              max_samples=None,\n",
       "                                              min_impurity_decrease=0.0,\n",
       "                                              min_impurity_split=None,\n",
       "                                              min_samples_leaf=1,\n",
       "                                              min_samples_split=2,\n",
       "                                              min_weight_fraction_leaf=0.0,\n",
       "                                              n_estimators=250, n_jobs=None,\n",
       "                                              oob_score=False, random_state=1,\n",
       "                                              verbose=0, warm_start=False),\n",
       "             iid='deprecated', n_jobs=-1,\n",
       "             param_grid={'max_depth': range(3, 14),\n",
       "                         'max_features': range(3, 11)},\n",
       "             pre_dispatch='2*n_jobs', refit=True, return_train_score=False,\n",
       "             scoring='f1', verbose=2)"
      ]
     },
     "execution_count": 36,
     "metadata": {},
     "output_type": "execute_result"
    }
   ],
   "source": [
    "#create a grid search object and fit it to the data\n",
    "forest_van = RandomForestClassifier(random_state = 1, n_estimators=250)\n",
    "CV_forest_van = GridSearchCV(forest_van, params_forest, scoring='f1', n_jobs=-1, verbose=2)\n",
    "CV_forest_van.fit(X_train_van, y_train_van)"
   ]
  },
  {
   "cell_type": "code",
   "execution_count": 37,
   "metadata": {},
   "outputs": [
    {
     "name": "stdout",
     "output_type": "stream",
     "text": [
      "0.45784379672247705\n",
      "{'max_depth': 13, 'max_features': 10}\n",
      "RandomForestClassifier(bootstrap=True, ccp_alpha=0.0, class_weight=None,\n",
      "                       criterion='gini', max_depth=13, max_features=10,\n",
      "                       max_leaf_nodes=None, max_samples=None,\n",
      "                       min_impurity_decrease=0.0, min_impurity_split=None,\n",
      "                       min_samples_leaf=1, min_samples_split=2,\n",
      "                       min_weight_fraction_leaf=0.0, n_estimators=250,\n",
      "                       n_jobs=None, oob_score=False, random_state=1, verbose=0,\n",
      "                       warm_start=False)\n"
     ]
    }
   ],
   "source": [
    "# examine the best model\n",
    "\n",
    "# Single best score achieved across all params (min_samples_split)\n",
    "print(CV_forest_van.best_score_)\n",
    "\n",
    "# Dictionary containing the parameters (min_samples_split) used to generate that score\n",
    "print(CV_forest_van.best_params_)\n",
    "\n",
    "# Actual model object fit with those best parameters\n",
    "# Shows default parameters that we did not specify\n",
    "print(CV_forest_van.best_estimator_)"
   ]
  },
  {
   "cell_type": "code",
   "execution_count": 38,
   "metadata": {},
   "outputs": [
    {
     "name": "stdout",
     "output_type": "stream",
     "text": [
      "Test Accuracy score:  0.8181333333333334\n",
      "Test Precision score:  0.6650406504065041\n",
      "Test Recall score:  0.333605220228385\n",
      "Test F1 score:  0.44432373709940254\n"
     ]
    }
   ],
   "source": [
    "#Predict the response for test dataset\n",
    "y_pred_forest_van = CV_forest_van.best_estimator_.predict(X_test_van)\n",
    "\n",
    "# checking metrics\n",
    "print('Test Accuracy score: ', accuracy_score(y_test_van, y_pred_forest_van))\n",
    "print('Test Precision score: ', precision_score(y_test_van, y_pred_forest_van))\n",
    "print('Test Recall score: ', recall_score(y_test_van, y_pred_forest_van))\n",
    "print('Test F1 score: ', f1_score(y_test_van, y_pred_forest_van))"
   ]
  },
  {
   "cell_type": "code",
   "execution_count": 39,
   "metadata": {},
   "outputs": [],
   "source": [
    "results['forest_van'] = f1_score(y_test_van, y_pred_forest_van)"
   ]
  },
  {
   "cell_type": "code",
   "execution_count": 40,
   "metadata": {},
   "outputs": [
    {
     "data": {
      "text/plain": [
       "{'knn_van': 0.31260096930533116,\n",
       " 'weight_van': 0.5214152700186221,\n",
       " 'tree_van': 0.5142378559463987,\n",
       " 'forest_van': 0.44432373709940254}"
      ]
     },
     "execution_count": 40,
     "metadata": {},
     "output_type": "execute_result"
    }
   ],
   "source": [
    "results"
   ]
  },
  {
   "cell_type": "markdown",
   "metadata": {},
   "source": [
    "## FEATURE CREATION/SELECTION"
   ]
  },
  {
   "cell_type": "code",
   "execution_count": 41,
   "metadata": {
    "scrolled": true
   },
   "outputs": [],
   "source": [
    "# import seaborn as sns\n",
    "# sns.set(style=\"ticks\")\n",
    "\n",
    "# sns.pairplot(df_train, hue=\"default\")"
   ]
  },
  {
   "cell_type": "code",
   "execution_count": 42,
   "metadata": {},
   "outputs": [
    {
     "data": {
      "text/plain": [
       "-0.15085541691276222"
      ]
     },
     "execution_count": 42,
     "metadata": {},
     "output_type": "execute_result"
    }
   ],
   "source": [
    "df_train['default'].corr(df_train['limit_bal'])"
   ]
  },
  {
   "cell_type": "code",
   "execution_count": 43,
   "metadata": {},
   "outputs": [],
   "source": [
    "# df_train['sum_paycodes'] = df_train['pay_1'] + df_train['pay_2'] + df_train['pay_3'] + df_train['pay_4'] + df_train['pay_5'] + df_train['pay_6']\n",
    "# df_train['limit_paycodes'] = df_train['limit_bal'] * df_train['sum_paycodes'].apply(lambda x: x-.01)"
   ]
  },
  {
   "cell_type": "code",
   "execution_count": 44,
   "metadata": {},
   "outputs": [],
   "source": [
    "# df_train['limit_paycodes'].describe()"
   ]
  },
  {
   "cell_type": "code",
   "execution_count": 45,
   "metadata": {
    "scrolled": true
   },
   "outputs": [],
   "source": [
    "# df_train.hist('limit_paycodes', bins=100)"
   ]
  },
  {
   "cell_type": "code",
   "execution_count": 46,
   "metadata": {
    "scrolled": true
   },
   "outputs": [],
   "source": [
    "# df_train['default'].corr(df_train['limit_paycodes'])"
   ]
  },
  {
   "cell_type": "code",
   "execution_count": 47,
   "metadata": {},
   "outputs": [],
   "source": [
    "df_train['avg_bill'] = (df_train['bill_amt1'] + df_train['bill_amt2'] + df_train['bill_amt3'] + df_train['bill_amt4'] + df_train['bill_amt5'] + df_train['bill_amt6']).apply(lambda x: x/6)\n",
    "df_train['avg_pay'] = (df_train['pay_amt1'] + df_train['pay_amt2'] + df_train['pay_amt3'] + df_train['pay_amt4'] + df_train['pay_amt5'] + df_train['pay_amt6']).apply(lambda x: x/6)\n"
   ]
  },
  {
   "cell_type": "code",
   "execution_count": 48,
   "metadata": {},
   "outputs": [
    {
     "data": {
      "text/plain": [
       "count     22500.000000\n",
       "mean      44944.329207\n",
       "std       63117.927375\n",
       "min      -20913.333333\n",
       "25%        4726.000000\n",
       "50%       21102.416667\n",
       "75%       57202.125000\n",
       "max      877313.833333\n",
       "Name: avg_bill, dtype: float64"
      ]
     },
     "execution_count": 48,
     "metadata": {},
     "output_type": "execute_result"
    }
   ],
   "source": [
    "df_train['avg_bill'].describe()"
   ]
  },
  {
   "cell_type": "code",
   "execution_count": 49,
   "metadata": {},
   "outputs": [
    {
     "data": {
      "text/plain": [
       "count     22500.000000\n",
       "mean       5273.870800\n",
       "std       10244.258824\n",
       "min           0.000000\n",
       "25%        1104.125000\n",
       "50%        2385.166667\n",
       "75%        5542.208333\n",
       "max      627344.333333\n",
       "Name: avg_pay, dtype: float64"
      ]
     },
     "execution_count": 49,
     "metadata": {},
     "output_type": "execute_result"
    }
   ],
   "source": [
    "df_train['avg_pay'].describe()"
   ]
  },
  {
   "cell_type": "code",
   "execution_count": 50,
   "metadata": {},
   "outputs": [
    {
     "data": {
      "text/plain": [
       "<matplotlib.axes._subplots.AxesSubplot at 0x131988668>"
      ]
     },
     "execution_count": 50,
     "metadata": {},
     "output_type": "execute_result"
    },
    {
     "data": {
      "image/png": "[encoded data removed]",
      "text/plain": [
       "<Figure size 432x288 with 1 Axes>"
      ]
     },
     "metadata": {
      "needs_background": "light"
     },
     "output_type": "display_data"
    }
   ],
   "source": [
    "df_train['avg_bill'].hist(bins=100)"
   ]
  },
  {
   "cell_type": "code",
   "execution_count": 51,
   "metadata": {},
   "outputs": [
    {
     "data": {
      "text/plain": [
       "<matplotlib.axes._subplots.AxesSubplot at 0x132391470>"
      ]
     },
     "execution_count": 51,
     "metadata": {},
     "output_type": "execute_result"
    },
    {
     "data": {
      "image/png": "[encoded data removed]",
      "text/plain": [
       "<Figure size 432x288 with 1 Axes>"
      ]
     },
     "metadata": {
      "needs_background": "light"
     },
     "output_type": "display_data"
    }
   ],
   "source": [
    "df_train['avg_pay'].hist(bins=100)"
   ]
  },
  {
   "cell_type": "code",
   "execution_count": 52,
   "metadata": {},
   "outputs": [
    {
     "data": {
      "text/plain": [
       "<matplotlib.axes._subplots.AxesSubplot at 0x13255b6a0>"
      ]
     },
     "execution_count": 52,
     "metadata": {},
     "output_type": "execute_result"
    },
    {
     "data": {
      "image/png": "[encoded data removed]",
      "text/plain": [
       "<Figure size 432x288 with 1 Axes>"
      ]
     },
     "metadata": {
      "needs_background": "light"
     },
     "output_type": "display_data"
    }
   ],
   "source": [
    "df_train.plot.scatter('default', 'avg_pay')"
   ]
  },
  {
   "cell_type": "code",
   "execution_count": 53,
   "metadata": {},
   "outputs": [],
   "source": [
    "# to_bin = ['pay_1', 'pay_2', 'pay_3', 'pay_4', 'pay_5', 'pay_6']\n",
    "\n",
    "# for col in to_bin:\n",
    "#     conditions = [df_train[col] <= 0, df_train[col] > 0]\n",
    "#     choices = [0, 1]\n",
    "#     df_train[col + '_bin'] = np.select(conditions, choices, df_train[col])"
   ]
  },
  {
   "cell_type": "code",
   "execution_count": 54,
   "metadata": {},
   "outputs": [],
   "source": [
    "# bin_cols = ['pay_1_bin', 'pay_2_bin', 'pay_3_bin', 'pay_4_bin', 'pay_5_bin', 'pay_6_bin']\n",
    "\n",
    "# for col in bin_cols:\n",
    "#     print('-------------------------------')\n",
    "#     print(df_train.groupby('default')[col].value_counts(normalize=True))\n",
    "#     print('-------------------------------')"
   ]
  },
  {
   "cell_type": "code",
   "execution_count": 55,
   "metadata": {},
   "outputs": [],
   "source": [
    "# print('Paycode 1 Summary')\n",
    "\n",
    "# print('\\n')\n",
    "# print(df_train.groupby(['pay_1_bin','default']).pay_1_bin.count().unstack())\n",
    "\n",
    "# # Passenger class visualization\n",
    "# pay1_bin = df_train.groupby(['pay_1_bin','default']).pay_1_bin.count().unstack()\n",
    "# p1 = pay1_bin.plot(kind = 'bar', stacked = True, \n",
    "#                    title = 'Paycodes Binned: Defaulters vs Non-Defaulters', \n",
    "#                    color = ['grey','lightgreen'], alpha = .70)\n",
    "# p1.set_xlabel('Paycode 1')\n",
    "# p1.set_ylabel('# Users')\n",
    "# p1.legend(['Did Not Default','Defaulted'])\n",
    "# plt.show()"
   ]
  },
  {
   "cell_type": "code",
   "execution_count": 56,
   "metadata": {},
   "outputs": [],
   "source": [
    "# print('Paycode 2 Summary')\n",
    "\n",
    "# print('\\n')\n",
    "# print(df_train.groupby(['pay_2_bin','default'])['pay_2_bin'].count().unstack())\n",
    "\n",
    "# pay2 = df_train.groupby(['pay_2_bin','default'])['pay_2_bin'].count().unstack()\n",
    "# p2 = pay2.plot(kind = 'bar', stacked = True, \n",
    "#                    title = 'Paycode 2: Survivors vs Non-Survivors', \n",
    "#                    color = ['grey','lightgreen'], alpha = .70)\n",
    "# p2.set_xlabel('Paycode 2')\n",
    "# p2.set_ylabel('# Users')\n",
    "# p2.legend(['Did Not Default','Defaulted'])\n",
    "# plt.show()"
   ]
  },
  {
   "cell_type": "code",
   "execution_count": 57,
   "metadata": {
    "scrolled": true
   },
   "outputs": [
    {
     "data": {
      "text/plain": [
       "<matplotlib.axes._subplots.AxesSubplot at 0x1323a2d30>"
      ]
     },
     "execution_count": 57,
     "metadata": {},
     "output_type": "execute_result"
    },
    {
     "data": {
      "image/png": "[encoded data removed]",
      "text/plain": [
       "<Figure size 3168x2592 with 2 Axes>"
      ]
     },
     "metadata": {},
     "output_type": "display_data"
    }
   ],
   "source": [
    "sns.set(style=\"white\")\n",
    "\n",
    "# Compute the correlation matrix\n",
    "corr = df_train.corr()\n",
    "\n",
    "# Generate a mask for the upper triangle\n",
    "mask = np.zeros_like(corr, dtype=np.bool)\n",
    "mask[np.triu_indices_from(mask)] = True\n",
    "\n",
    "# Set up the matplotlib figure\n",
    "f, ax = plt.subplots(figsize=(44, 36))\n",
    "\n",
    "# Generate a custom diverging colormap\n",
    "cmap = sns.diverging_palette(220, 10, as_cmap=True)\n",
    "\n",
    "# Draw the heatmap with the mask and correct aspect ratio\n",
    "sns.heatmap(corr, mask=mask, cmap=cmap, vmax=1, center=0,\n",
    "            square=True, linewidths=.5, cbar_kws={\"shrink\": .5})"
   ]
  },
  {
   "cell_type": "code",
   "execution_count": 58,
   "metadata": {},
   "outputs": [
    {
     "data": {
      "text/plain": [
       "0.9611448174765377"
      ]
     },
     "execution_count": 58,
     "metadata": {},
     "output_type": "execute_result"
    }
   ],
   "source": [
    "df_train['avg_bill'].corr(df_train['bill_amt2'])"
   ]
  },
  {
   "cell_type": "code",
   "execution_count": 59,
   "metadata": {},
   "outputs": [
    {
     "data": {
      "text/plain": [
       "count    22500.000000\n",
       "mean         0.372672\n",
       "std          0.351987\n",
       "min         -0.232590\n",
       "25%          0.029979\n",
       "50%          0.285153\n",
       "75%          0.686613\n",
       "max          5.364308\n",
       "Name: bill_pct, dtype: float64"
      ]
     },
     "execution_count": 59,
     "metadata": {},
     "output_type": "execute_result"
    }
   ],
   "source": [
    "df_train['bill_pct'] = df_train['avg_bill'] / df_train['limit_bal']\n",
    "df_train['bill_pct'].describe()"
   ]
  },
  {
   "cell_type": "code",
   "execution_count": 60,
   "metadata": {},
   "outputs": [],
   "source": [
    "to_drop = ['bill_amt1', 'bill_amt2', 'bill_amt3', 'bill_amt4', 'bill_amt5', 'bill_amt6']\n",
    "\n",
    "df_train.drop(columns=to_drop, inplace=True)"
   ]
  },
  {
   "cell_type": "code",
   "execution_count": 61,
   "metadata": {},
   "outputs": [
    {
     "data": {
      "text/plain": [
       "<matplotlib.axes._subplots.AxesSubplot at 0x137b9d7f0>"
      ]
     },
     "execution_count": 61,
     "metadata": {},
     "output_type": "execute_result"
    },
    {
     "data": {
      "image/png": "[encoded data removed]",
      "text/plain": [
       "<Figure size 3168x2592 with 2 Axes>"
      ]
     },
     "metadata": {},
     "output_type": "display_data"
    }
   ],
   "source": [
    "sns.set(style=\"white\")\n",
    "\n",
    "# Compute the correlation matrix\n",
    "corr = df_train.corr()\n",
    "\n",
    "# Generate a mask for the upper triangle\n",
    "mask = np.zeros_like(corr, dtype=np.bool)\n",
    "mask[np.triu_indices_from(mask)] = True\n",
    "\n",
    "# Set up the matplotlib figure\n",
    "f, ax = plt.subplots(figsize=(44, 36))\n",
    "\n",
    "# Generate a custom diverging colormap\n",
    "cmap = sns.diverging_palette(220, 10, as_cmap=True)\n",
    "\n",
    "# Draw the heatmap with the mask and correct aspect ratio\n",
    "sns.heatmap(corr, mask=mask, cmap=cmap, vmax=1, center=0,\n",
    "            square=True, linewidths=.5, cbar_kws={\"shrink\": .5})"
   ]
  },
  {
   "cell_type": "code",
   "execution_count": 62,
   "metadata": {},
   "outputs": [
    {
     "data": {
      "text/plain": [
       "pay_1_8  pay_2_7    1.000000\n",
       "pay_4_8  pay_5_8    1.000000\n",
       "pay_4_7  pay_5_7    0.955466\n",
       "pay_1_7  pay_2_6    0.912851\n",
       "pay_2_7  pay_3_6    0.901328\n",
       "pay_1_8  pay_3_6    0.901328\n",
       "pay_1_0  pay_2_0    0.874829\n",
       "pay_4_7  pay_6_7    0.869014\n",
       "pay_5_7  pay_6_7    0.869014\n",
       "dtype: float64"
      ]
     },
     "execution_count": 62,
     "metadata": {},
     "output_type": "execute_result"
    }
   ],
   "source": [
    "corr_matrix = df_train.corr().abs()\n",
    "\n",
    "#the matrix is symmetric so we need to extract upper triangle matrix without diagonal (k = 1)\n",
    "sol = (corr_matrix.where(np.triu(np.ones(corr_matrix.shape), k=1).astype(np.bool))\n",
    "                 .stack()\n",
    "                 .sort_values(ascending=False))\n",
    "\n",
    "sol[sol > .8]"
   ]
  },
  {
   "cell_type": "code",
   "execution_count": 63,
   "metadata": {},
   "outputs": [],
   "source": [
    "corr_drop = ['pay_1_8', 'pay_4_8', 'pay_5_7', 'pay_2_7', 'pay_1_7', 'pay_2_0', 'pay_6_7']\n",
    "df_train.drop(columns=corr_drop, inplace=True)"
   ]
  },
  {
   "cell_type": "code",
   "execution_count": 64,
   "metadata": {
    "scrolled": true
   },
   "outputs": [
    {
     "data": {
      "text/html": [
       "<div>\n",
       "<style scoped>\n",
       "    .dataframe tbody tr th:only-of-type {\n",
       "        vertical-align: middle;\n",
       "    }\n",
       "\n",
       "    .dataframe tbody tr th {\n",
       "        vertical-align: top;\n",
       "    }\n",
       "\n",
       "    .dataframe thead th {\n",
       "        text-align: right;\n",
       "    }\n",
       "</style>\n",
       "<table border=\"1\" class=\"dataframe\">\n",
       "  <thead>\n",
       "    <tr style=\"text-align: right;\">\n",
       "      <th></th>\n",
       "      <th>limit_bal</th>\n",
       "      <th>sex</th>\n",
       "      <th>marriage</th>\n",
       "      <th>age</th>\n",
       "      <th>pay_amt1</th>\n",
       "      <th>pay_amt2</th>\n",
       "      <th>pay_amt3</th>\n",
       "      <th>pay_amt4</th>\n",
       "      <th>pay_amt5</th>\n",
       "      <th>pay_amt6</th>\n",
       "      <th>...</th>\n",
       "      <th>pay_6_0</th>\n",
       "      <th>pay_6_2</th>\n",
       "      <th>pay_6_3</th>\n",
       "      <th>pay_6_4</th>\n",
       "      <th>pay_6_5</th>\n",
       "      <th>pay_6_6</th>\n",
       "      <th>pay_6_8</th>\n",
       "      <th>avg_bill</th>\n",
       "      <th>avg_pay</th>\n",
       "      <th>bill_pct</th>\n",
       "    </tr>\n",
       "  </thead>\n",
       "  <tbody>\n",
       "    <tr>\n",
       "      <th>0</th>\n",
       "      <td>200000.0</td>\n",
       "      <td>0.0</td>\n",
       "      <td>1.0</td>\n",
       "      <td>30.0</td>\n",
       "      <td>6600.0</td>\n",
       "      <td>6000.0</td>\n",
       "      <td>5860.0</td>\n",
       "      <td>6000.0</td>\n",
       "      <td>5000.0</td>\n",
       "      <td>0.0</td>\n",
       "      <td>...</td>\n",
       "      <td>0.0</td>\n",
       "      <td>1.0</td>\n",
       "      <td>0.0</td>\n",
       "      <td>0.0</td>\n",
       "      <td>0.0</td>\n",
       "      <td>0.0</td>\n",
       "      <td>0.0</td>\n",
       "      <td>146221.333333</td>\n",
       "      <td>4910.000000</td>\n",
       "      <td>0.731107</td>\n",
       "    </tr>\n",
       "    <tr>\n",
       "      <th>1</th>\n",
       "      <td>200000.0</td>\n",
       "      <td>0.0</td>\n",
       "      <td>0.0</td>\n",
       "      <td>27.0</td>\n",
       "      <td>0.0</td>\n",
       "      <td>0.0</td>\n",
       "      <td>0.0</td>\n",
       "      <td>0.0</td>\n",
       "      <td>0.0</td>\n",
       "      <td>0.0</td>\n",
       "      <td>...</td>\n",
       "      <td>0.0</td>\n",
       "      <td>0.0</td>\n",
       "      <td>0.0</td>\n",
       "      <td>0.0</td>\n",
       "      <td>0.0</td>\n",
       "      <td>0.0</td>\n",
       "      <td>0.0</td>\n",
       "      <td>0.000000</td>\n",
       "      <td>0.000000</td>\n",
       "      <td>0.000000</td>\n",
       "    </tr>\n",
       "    <tr>\n",
       "      <th>2</th>\n",
       "      <td>20000.0</td>\n",
       "      <td>0.0</td>\n",
       "      <td>0.0</td>\n",
       "      <td>28.0</td>\n",
       "      <td>3353.0</td>\n",
       "      <td>3.0</td>\n",
       "      <td>5101.0</td>\n",
       "      <td>6.0</td>\n",
       "      <td>6530.0</td>\n",
       "      <td>8103.0</td>\n",
       "      <td>...</td>\n",
       "      <td>1.0</td>\n",
       "      <td>0.0</td>\n",
       "      <td>0.0</td>\n",
       "      <td>0.0</td>\n",
       "      <td>0.0</td>\n",
       "      <td>0.0</td>\n",
       "      <td>0.0</td>\n",
       "      <td>6543.833333</td>\n",
       "      <td>3849.333333</td>\n",
       "      <td>0.327192</td>\n",
       "    </tr>\n",
       "    <tr>\n",
       "      <th>3</th>\n",
       "      <td>50000.0</td>\n",
       "      <td>1.0</td>\n",
       "      <td>0.0</td>\n",
       "      <td>23.0</td>\n",
       "      <td>4175.0</td>\n",
       "      <td>41000.0</td>\n",
       "      <td>51705.0</td>\n",
       "      <td>700.0</td>\n",
       "      <td>718.0</td>\n",
       "      <td>700.0</td>\n",
       "      <td>...</td>\n",
       "      <td>1.0</td>\n",
       "      <td>0.0</td>\n",
       "      <td>0.0</td>\n",
       "      <td>0.0</td>\n",
       "      <td>0.0</td>\n",
       "      <td>0.0</td>\n",
       "      <td>0.0</td>\n",
       "      <td>39625.000000</td>\n",
       "      <td>16499.666667</td>\n",
       "      <td>0.792500</td>\n",
       "    </tr>\n",
       "    <tr>\n",
       "      <th>4</th>\n",
       "      <td>20000.0</td>\n",
       "      <td>1.0</td>\n",
       "      <td>1.0</td>\n",
       "      <td>47.0</td>\n",
       "      <td>780.0</td>\n",
       "      <td>0.0</td>\n",
       "      <td>0.0</td>\n",
       "      <td>0.0</td>\n",
       "      <td>0.0</td>\n",
       "      <td>0.0</td>\n",
       "      <td>...</td>\n",
       "      <td>0.0</td>\n",
       "      <td>0.0</td>\n",
       "      <td>0.0</td>\n",
       "      <td>0.0</td>\n",
       "      <td>0.0</td>\n",
       "      <td>0.0</td>\n",
       "      <td>0.0</td>\n",
       "      <td>195.000000</td>\n",
       "      <td>130.000000</td>\n",
       "      <td>0.009750</td>\n",
       "    </tr>\n",
       "  </tbody>\n",
       "</table>\n",
       "<p>5 rows × 66 columns</p>\n",
       "</div>"
      ],
      "text/plain": [
       "   limit_bal  sex  marriage   age  pay_amt1  pay_amt2  pay_amt3  pay_amt4  \\\n",
       "0   200000.0  0.0       1.0  30.0    6600.0    6000.0    5860.0    6000.0   \n",
       "1   200000.0  0.0       0.0  27.0       0.0       0.0       0.0       0.0   \n",
       "2    20000.0  0.0       0.0  28.0    3353.0       3.0    5101.0       6.0   \n",
       "3    50000.0  1.0       0.0  23.0    4175.0   41000.0   51705.0     700.0   \n",
       "4    20000.0  1.0       1.0  47.0     780.0       0.0       0.0       0.0   \n",
       "\n",
       "   pay_amt5  pay_amt6  ...  pay_6_0  pay_6_2  pay_6_3  pay_6_4  pay_6_5  \\\n",
       "0    5000.0       0.0  ...      0.0      1.0      0.0      0.0      0.0   \n",
       "1       0.0       0.0  ...      0.0      0.0      0.0      0.0      0.0   \n",
       "2    6530.0    8103.0  ...      1.0      0.0      0.0      0.0      0.0   \n",
       "3     718.0     700.0  ...      1.0      0.0      0.0      0.0      0.0   \n",
       "4       0.0       0.0  ...      0.0      0.0      0.0      0.0      0.0   \n",
       "\n",
       "   pay_6_6  pay_6_8       avg_bill       avg_pay  bill_pct  \n",
       "0      0.0      0.0  146221.333333   4910.000000  0.731107  \n",
       "1      0.0      0.0       0.000000      0.000000  0.000000  \n",
       "2      0.0      0.0    6543.833333   3849.333333  0.327192  \n",
       "3      0.0      0.0   39625.000000  16499.666667  0.792500  \n",
       "4      0.0      0.0     195.000000    130.000000  0.009750  \n",
       "\n",
       "[5 rows x 66 columns]"
      ]
     },
     "execution_count": 64,
     "metadata": {},
     "output_type": "execute_result"
    }
   ],
   "source": [
    "y = df_train['default']\n",
    "X = df_train.drop(columns=['default'], axis=1)\n",
    "X.head()"
   ]
  },
  {
   "cell_type": "code",
   "execution_count": 65,
   "metadata": {},
   "outputs": [],
   "source": [
    "def find_extremes(df):\n",
    "    '''Takes in a dataframe and returns a list of columns with values farther than 4 standard deviations from the mean.'''\n",
    "    extreme_list = []\n",
    "    for column in list(df.columns):\n",
    "        if (df[column].max() > (df[column].mean() + 4*df[column].std())) or (df[column].min() < (df[column].mean() - 4*df[column].std())):\n",
    "            extreme_list.append(column)\n",
    "    return extreme_list\n",
    "\n",
    "def rein_extremes(df, columns):\n",
    "    '''Takes in a dataframe and a list of columns and changes any values farther than 4 standard deviations from the mean\n",
    "    to 4 standard deviations from the mean.\n",
    "    Overwrites the input column!'''\n",
    "    for column in columns:\n",
    "        mean = df[column].mean()\n",
    "        std = df[column].std()\n",
    "        conditions = [df[column] > mean + 4*std,\n",
    "                      df[column] < mean - 4*std]\n",
    "        choices = [mean + 4*std,\n",
    "                   mean - 4*std]\n",
    "        df[column] = np.select(conditions, choices, df[column])"
   ]
  },
  {
   "cell_type": "code",
   "execution_count": 66,
   "metadata": {},
   "outputs": [
    {
     "data": {
      "text/plain": [
       "['limit_bal',\n",
       " 'age',\n",
       " 'pay_amt1',\n",
       " 'pay_amt2',\n",
       " 'pay_amt3',\n",
       " 'pay_amt4',\n",
       " 'pay_amt5',\n",
       " 'pay_amt6',\n",
       " 'avg_bill',\n",
       " 'avg_pay',\n",
       " 'bill_pct']"
      ]
     },
     "execution_count": 66,
     "metadata": {},
     "output_type": "execute_result"
    }
   ],
   "source": [
    "extreme_cols = find_extremes(X)\n",
    "extremes = extreme_cols[:8]\n",
    "extremes.extend(extreme_cols[-3:])\n",
    "extremes"
   ]
  },
  {
   "cell_type": "code",
   "execution_count": 67,
   "metadata": {},
   "outputs": [
    {
     "data": {
      "text/html": [
       "<div>\n",
       "<style scoped>\n",
       "    .dataframe tbody tr th:only-of-type {\n",
       "        vertical-align: middle;\n",
       "    }\n",
       "\n",
       "    .dataframe tbody tr th {\n",
       "        vertical-align: top;\n",
       "    }\n",
       "\n",
       "    .dataframe thead th {\n",
       "        text-align: right;\n",
       "    }\n",
       "</style>\n",
       "<table border=\"1\" class=\"dataframe\">\n",
       "  <thead>\n",
       "    <tr style=\"text-align: right;\">\n",
       "      <th></th>\n",
       "      <th>limit_bal</th>\n",
       "      <th>age</th>\n",
       "      <th>pay_amt1</th>\n",
       "      <th>pay_amt2</th>\n",
       "      <th>pay_amt3</th>\n",
       "      <th>pay_amt4</th>\n",
       "      <th>pay_amt5</th>\n",
       "      <th>pay_amt6</th>\n",
       "      <th>avg_bill</th>\n",
       "      <th>avg_pay</th>\n",
       "      <th>bill_pct</th>\n",
       "    </tr>\n",
       "  </thead>\n",
       "  <tbody>\n",
       "    <tr>\n",
       "      <th>count</th>\n",
       "      <td>22500.000000</td>\n",
       "      <td>22500.000000</td>\n",
       "      <td>22500.000000</td>\n",
       "      <td>2.250000e+04</td>\n",
       "      <td>22500.000000</td>\n",
       "      <td>22500.000000</td>\n",
       "      <td>22500.000000</td>\n",
       "      <td>22500.000000</td>\n",
       "      <td>22500.000000</td>\n",
       "      <td>22500.000000</td>\n",
       "      <td>22500.000000</td>\n",
       "    </tr>\n",
       "    <tr>\n",
       "      <th>mean</th>\n",
       "      <td>167267.274667</td>\n",
       "      <td>35.526000</td>\n",
       "      <td>5697.756489</td>\n",
       "      <td>5.944526e+03</td>\n",
       "      <td>5308.332489</td>\n",
       "      <td>4802.920444</td>\n",
       "      <td>4724.458178</td>\n",
       "      <td>5165.231067</td>\n",
       "      <td>44944.329207</td>\n",
       "      <td>5273.870800</td>\n",
       "      <td>0.372672</td>\n",
       "    </tr>\n",
       "    <tr>\n",
       "      <th>std</th>\n",
       "      <td>129383.700485</td>\n",
       "      <td>9.231461</td>\n",
       "      <td>17201.619690</td>\n",
       "      <td>2.214392e+04</td>\n",
       "      <td>18549.384158</td>\n",
       "      <td>15738.417203</td>\n",
       "      <td>14938.300190</td>\n",
       "      <td>17467.663795</td>\n",
       "      <td>63117.927375</td>\n",
       "      <td>10244.258824</td>\n",
       "      <td>0.351987</td>\n",
       "    </tr>\n",
       "    <tr>\n",
       "      <th>min</th>\n",
       "      <td>10000.000000</td>\n",
       "      <td>21.000000</td>\n",
       "      <td>0.000000</td>\n",
       "      <td>0.000000e+00</td>\n",
       "      <td>0.000000</td>\n",
       "      <td>0.000000</td>\n",
       "      <td>0.000000</td>\n",
       "      <td>0.000000</td>\n",
       "      <td>-20913.333333</td>\n",
       "      <td>0.000000</td>\n",
       "      <td>-0.232590</td>\n",
       "    </tr>\n",
       "    <tr>\n",
       "      <th>25%</th>\n",
       "      <td>50000.000000</td>\n",
       "      <td>28.000000</td>\n",
       "      <td>1000.000000</td>\n",
       "      <td>8.270000e+02</td>\n",
       "      <td>390.000000</td>\n",
       "      <td>300.000000</td>\n",
       "      <td>258.000000</td>\n",
       "      <td>118.000000</td>\n",
       "      <td>4726.000000</td>\n",
       "      <td>1104.125000</td>\n",
       "      <td>0.029979</td>\n",
       "    </tr>\n",
       "    <tr>\n",
       "      <th>50%</th>\n",
       "      <td>140000.000000</td>\n",
       "      <td>34.000000</td>\n",
       "      <td>2100.000000</td>\n",
       "      <td>2.006000e+03</td>\n",
       "      <td>1800.000000</td>\n",
       "      <td>1500.000000</td>\n",
       "      <td>1500.000000</td>\n",
       "      <td>1500.000000</td>\n",
       "      <td>21102.416667</td>\n",
       "      <td>2385.166667</td>\n",
       "      <td>0.285153</td>\n",
       "    </tr>\n",
       "    <tr>\n",
       "      <th>75%</th>\n",
       "      <td>240000.000000</td>\n",
       "      <td>41.000000</td>\n",
       "      <td>5009.000000</td>\n",
       "      <td>5.000000e+03</td>\n",
       "      <td>4510.500000</td>\n",
       "      <td>4001.500000</td>\n",
       "      <td>4000.000000</td>\n",
       "      <td>4000.000000</td>\n",
       "      <td>57202.125000</td>\n",
       "      <td>5542.208333</td>\n",
       "      <td>0.686613</td>\n",
       "    </tr>\n",
       "    <tr>\n",
       "      <th>max</th>\n",
       "      <td>1000000.000000</td>\n",
       "      <td>79.000000</td>\n",
       "      <td>873552.000000</td>\n",
       "      <td>1.227082e+06</td>\n",
       "      <td>896040.000000</td>\n",
       "      <td>621000.000000</td>\n",
       "      <td>426529.000000</td>\n",
       "      <td>527143.000000</td>\n",
       "      <td>877313.833333</td>\n",
       "      <td>627344.333333</td>\n",
       "      <td>5.364308</td>\n",
       "    </tr>\n",
       "  </tbody>\n",
       "</table>\n",
       "</div>"
      ],
      "text/plain": [
       "            limit_bal           age       pay_amt1      pay_amt2  \\\n",
       "count    22500.000000  22500.000000   22500.000000  2.250000e+04   \n",
       "mean    167267.274667     35.526000    5697.756489  5.944526e+03   \n",
       "std     129383.700485      9.231461   17201.619690  2.214392e+04   \n",
       "min      10000.000000     21.000000       0.000000  0.000000e+00   \n",
       "25%      50000.000000     28.000000    1000.000000  8.270000e+02   \n",
       "50%     140000.000000     34.000000    2100.000000  2.006000e+03   \n",
       "75%     240000.000000     41.000000    5009.000000  5.000000e+03   \n",
       "max    1000000.000000     79.000000  873552.000000  1.227082e+06   \n",
       "\n",
       "            pay_amt3       pay_amt4       pay_amt5       pay_amt6  \\\n",
       "count   22500.000000   22500.000000   22500.000000   22500.000000   \n",
       "mean     5308.332489    4802.920444    4724.458178    5165.231067   \n",
       "std     18549.384158   15738.417203   14938.300190   17467.663795   \n",
       "min         0.000000       0.000000       0.000000       0.000000   \n",
       "25%       390.000000     300.000000     258.000000     118.000000   \n",
       "50%      1800.000000    1500.000000    1500.000000    1500.000000   \n",
       "75%      4510.500000    4001.500000    4000.000000    4000.000000   \n",
       "max    896040.000000  621000.000000  426529.000000  527143.000000   \n",
       "\n",
       "            avg_bill        avg_pay      bill_pct  \n",
       "count   22500.000000   22500.000000  22500.000000  \n",
       "mean    44944.329207    5273.870800      0.372672  \n",
       "std     63117.927375   10244.258824      0.351987  \n",
       "min    -20913.333333       0.000000     -0.232590  \n",
       "25%      4726.000000    1104.125000      0.029979  \n",
       "50%     21102.416667    2385.166667      0.285153  \n",
       "75%     57202.125000    5542.208333      0.686613  \n",
       "max    877313.833333  627344.333333      5.364308  "
      ]
     },
     "execution_count": 67,
     "metadata": {},
     "output_type": "execute_result"
    }
   ],
   "source": [
    "# Remove target variable, so we don't replace any values.\n",
    "\n",
    "X[extremes].describe()"
   ]
  },
  {
   "cell_type": "code",
   "execution_count": 68,
   "metadata": {},
   "outputs": [
    {
     "data": {
      "text/html": [
       "<div>\n",
       "<style scoped>\n",
       "    .dataframe tbody tr th:only-of-type {\n",
       "        vertical-align: middle;\n",
       "    }\n",
       "\n",
       "    .dataframe tbody tr th {\n",
       "        vertical-align: top;\n",
       "    }\n",
       "\n",
       "    .dataframe thead th {\n",
       "        text-align: right;\n",
       "    }\n",
       "</style>\n",
       "<table border=\"1\" class=\"dataframe\">\n",
       "  <thead>\n",
       "    <tr style=\"text-align: right;\">\n",
       "      <th></th>\n",
       "      <th>limit_bal</th>\n",
       "      <th>age</th>\n",
       "      <th>pay_amt1</th>\n",
       "      <th>pay_amt2</th>\n",
       "      <th>pay_amt3</th>\n",
       "      <th>pay_amt4</th>\n",
       "      <th>pay_amt5</th>\n",
       "      <th>pay_amt6</th>\n",
       "      <th>avg_bill</th>\n",
       "      <th>avg_pay</th>\n",
       "      <th>bill_pct</th>\n",
       "    </tr>\n",
       "  </thead>\n",
       "  <tbody>\n",
       "    <tr>\n",
       "      <th>count</th>\n",
       "      <td>22500.000000</td>\n",
       "      <td>22500.000000</td>\n",
       "      <td>22500.000000</td>\n",
       "      <td>22500.000000</td>\n",
       "      <td>22500.000000</td>\n",
       "      <td>22500.000000</td>\n",
       "      <td>22500.000000</td>\n",
       "      <td>22500.000000</td>\n",
       "      <td>22500.000000</td>\n",
       "      <td>22500.000000</td>\n",
       "      <td>22500.000000</td>\n",
       "    </tr>\n",
       "    <tr>\n",
       "      <th>mean</th>\n",
       "      <td>167219.347347</td>\n",
       "      <td>35.525296</td>\n",
       "      <td>5091.971806</td>\n",
       "      <td>5261.128031</td>\n",
       "      <td>4653.850035</td>\n",
       "      <td>4225.705861</td>\n",
       "      <td>4143.559305</td>\n",
       "      <td>4431.180831</td>\n",
       "      <td>44141.196472</td>\n",
       "      <td>5040.408665</td>\n",
       "      <td>0.372189</td>\n",
       "    </tr>\n",
       "    <tr>\n",
       "      <th>std</th>\n",
       "      <td>129165.157323</td>\n",
       "      <td>9.228492</td>\n",
       "      <td>9912.110569</td>\n",
       "      <td>11516.629068</td>\n",
       "      <td>10262.975499</td>\n",
       "      <td>9247.161895</td>\n",
       "      <td>8835.252275</td>\n",
       "      <td>10384.344098</td>\n",
       "      <td>58864.410765</td>\n",
       "      <td>7536.284042</td>\n",
       "      <td>0.348800</td>\n",
       "    </tr>\n",
       "    <tr>\n",
       "      <th>min</th>\n",
       "      <td>10000.000000</td>\n",
       "      <td>21.000000</td>\n",
       "      <td>0.000000</td>\n",
       "      <td>0.000000</td>\n",
       "      <td>0.000000</td>\n",
       "      <td>0.000000</td>\n",
       "      <td>0.000000</td>\n",
       "      <td>0.000000</td>\n",
       "      <td>-20913.333333</td>\n",
       "      <td>0.000000</td>\n",
       "      <td>-0.232590</td>\n",
       "    </tr>\n",
       "    <tr>\n",
       "      <th>25%</th>\n",
       "      <td>50000.000000</td>\n",
       "      <td>28.000000</td>\n",
       "      <td>1000.000000</td>\n",
       "      <td>827.000000</td>\n",
       "      <td>390.000000</td>\n",
       "      <td>300.000000</td>\n",
       "      <td>258.000000</td>\n",
       "      <td>118.000000</td>\n",
       "      <td>4726.000000</td>\n",
       "      <td>1104.125000</td>\n",
       "      <td>0.029979</td>\n",
       "    </tr>\n",
       "    <tr>\n",
       "      <th>50%</th>\n",
       "      <td>140000.000000</td>\n",
       "      <td>34.000000</td>\n",
       "      <td>2100.000000</td>\n",
       "      <td>2006.000000</td>\n",
       "      <td>1800.000000</td>\n",
       "      <td>1500.000000</td>\n",
       "      <td>1500.000000</td>\n",
       "      <td>1500.000000</td>\n",
       "      <td>21102.416667</td>\n",
       "      <td>2385.166667</td>\n",
       "      <td>0.285153</td>\n",
       "    </tr>\n",
       "    <tr>\n",
       "      <th>75%</th>\n",
       "      <td>240000.000000</td>\n",
       "      <td>41.000000</td>\n",
       "      <td>5009.000000</td>\n",
       "      <td>5000.000000</td>\n",
       "      <td>4510.500000</td>\n",
       "      <td>4001.500000</td>\n",
       "      <td>4000.000000</td>\n",
       "      <td>4000.000000</td>\n",
       "      <td>57202.125000</td>\n",
       "      <td>5542.208333</td>\n",
       "      <td>0.686613</td>\n",
       "    </tr>\n",
       "    <tr>\n",
       "      <th>max</th>\n",
       "      <td>684802.076605</td>\n",
       "      <td>72.451843</td>\n",
       "      <td>74504.235248</td>\n",
       "      <td>94520.207550</td>\n",
       "      <td>79505.869122</td>\n",
       "      <td>67756.589258</td>\n",
       "      <td>64477.658936</td>\n",
       "      <td>75035.886248</td>\n",
       "      <td>297416.038707</td>\n",
       "      <td>46250.906095</td>\n",
       "      <td>1.780622</td>\n",
       "    </tr>\n",
       "  </tbody>\n",
       "</table>\n",
       "</div>"
      ],
      "text/plain": [
       "           limit_bal           age      pay_amt1      pay_amt2      pay_amt3  \\\n",
       "count   22500.000000  22500.000000  22500.000000  22500.000000  22500.000000   \n",
       "mean   167219.347347     35.525296   5091.971806   5261.128031   4653.850035   \n",
       "std    129165.157323      9.228492   9912.110569  11516.629068  10262.975499   \n",
       "min     10000.000000     21.000000      0.000000      0.000000      0.000000   \n",
       "25%     50000.000000     28.000000   1000.000000    827.000000    390.000000   \n",
       "50%    140000.000000     34.000000   2100.000000   2006.000000   1800.000000   \n",
       "75%    240000.000000     41.000000   5009.000000   5000.000000   4510.500000   \n",
       "max    684802.076605     72.451843  74504.235248  94520.207550  79505.869122   \n",
       "\n",
       "           pay_amt4      pay_amt5      pay_amt6       avg_bill       avg_pay  \\\n",
       "count  22500.000000  22500.000000  22500.000000   22500.000000  22500.000000   \n",
       "mean    4225.705861   4143.559305   4431.180831   44141.196472   5040.408665   \n",
       "std     9247.161895   8835.252275  10384.344098   58864.410765   7536.284042   \n",
       "min        0.000000      0.000000      0.000000  -20913.333333      0.000000   \n",
       "25%      300.000000    258.000000    118.000000    4726.000000   1104.125000   \n",
       "50%     1500.000000   1500.000000   1500.000000   21102.416667   2385.166667   \n",
       "75%     4001.500000   4000.000000   4000.000000   57202.125000   5542.208333   \n",
       "max    67756.589258  64477.658936  75035.886248  297416.038707  46250.906095   \n",
       "\n",
       "           bill_pct  \n",
       "count  22500.000000  \n",
       "mean       0.372189  \n",
       "std        0.348800  \n",
       "min       -0.232590  \n",
       "25%        0.029979  \n",
       "50%        0.285153  \n",
       "75%        0.686613  \n",
       "max        1.780622  "
      ]
     },
     "execution_count": 68,
     "metadata": {},
     "output_type": "execute_result"
    }
   ],
   "source": [
    "\n",
    "rein_extremes(X, extremes)\n",
    "X[extremes].describe()"
   ]
  },
  {
   "cell_type": "code",
   "execution_count": 116,
   "metadata": {},
   "outputs": [
    {
     "name": "stdout",
     "output_type": "stream",
     "text": [
      "                            OLS Regression Results                            \n",
      "==============================================================================\n",
      "Dep. Variable:                default   R-squared:                       0.209\n",
      "Model:                            OLS   Adj. R-squared:                  0.206\n",
      "Method:                 Least Squares   F-statistic:                     89.68\n",
      "Date:                Tue, 19 May 2020   Prob (F-statistic):               0.00\n",
      "Time:                        18:38:57   Log-Likelihood:                -9506.6\n",
      "No. Observations:               22500   AIC:                         1.915e+04\n",
      "Df Residuals:                   22433   BIC:                         1.968e+04\n",
      "Df Model:                          66                                         \n",
      "Covariance Type:            nonrobust                                         \n",
      "=================================================================================\n",
      "                    coef    std err          t      P>|t|      [0.025      0.975]\n",
      "---------------------------------------------------------------------------------\n",
      "const             0.1565      0.015     10.473      0.000       0.127       0.186\n",
      "limit_bal     -1.621e-07      3e-08     -5.411      0.000   -2.21e-07   -1.03e-07\n",
      "sex               0.0169      0.005      3.307      0.001       0.007       0.027\n",
      "marriage          0.0167      0.006      2.963      0.003       0.006       0.028\n",
      "age               0.0008      0.000      2.649      0.008       0.000       0.001\n",
      "pay_amt1      -1.863e-06    3.5e-07     -5.328      0.000   -2.55e-06   -1.18e-06\n",
      "pay_amt2      -1.618e-06   3.13e-07     -5.173      0.000   -2.23e-06      -1e-06\n",
      "pay_amt3      -1.013e-06    3.4e-07     -2.981      0.003   -1.68e-06   -3.47e-07\n",
      "pay_amt4      -5.243e-07   3.67e-07     -1.430      0.153   -1.24e-06    1.94e-07\n",
      "pay_amt5      -1.309e-06   3.83e-07     -3.418      0.001   -2.06e-06   -5.59e-07\n",
      "pay_amt6      -8.906e-07    3.4e-07     -2.619      0.009   -1.56e-06   -2.24e-07\n",
      "education_2       0.0060      0.006      1.041      0.298      -0.005       0.017\n",
      "education_3      -0.0064      0.008     -0.806      0.420      -0.022       0.009\n",
      "education_4      -0.0879      0.021     -4.289      0.000      -0.128      -0.048\n",
      "pay_1_minus_1     0.0661      0.015      4.491      0.000       0.037       0.095\n",
      "pay_1_0          -0.0357      0.014     -2.518      0.012      -0.063      -0.008\n",
      "pay_1_1           0.1274      0.013      9.534      0.000       0.101       0.154\n",
      "pay_1_2           0.4082      0.016     25.741      0.000       0.377       0.439\n",
      "pay_1_3           0.4117      0.029     14.223      0.000       0.355       0.468\n",
      "pay_1_4           0.2602      0.056      4.606      0.000       0.149       0.371\n",
      "pay_1_5           0.2224      0.104      2.137      0.033       0.018       0.426\n",
      "pay_1_6           0.1997      0.172      1.158      0.247      -0.138       0.538\n",
      "pay_2_minus_1    -0.0231      0.012     -1.961      0.050      -0.046   -6.82e-06\n",
      "pay_2_1          -0.0314      0.093     -0.337      0.736      -0.214       0.151\n",
      "pay_2_2           0.0128      0.013      1.009      0.313      -0.012       0.038\n",
      "pay_2_3           0.0983      0.029      3.365      0.001       0.041       0.156\n",
      "pay_2_4          -0.1383      0.061     -2.282      0.023      -0.257      -0.019\n",
      "pay_2_5           0.1760      0.142      1.236      0.216      -0.103       0.455\n",
      "pay_2_6           0.0247      0.260      0.095      0.924      -0.485       0.535\n",
      "pay_3_minus_1     0.0069      0.016      0.422      0.673      -0.025       0.039\n",
      "pay_3_0           0.0101      0.017      0.582      0.561      -0.024       0.044\n",
      "pay_3_1          -0.2429      0.382     -0.636      0.525      -0.991       0.505\n",
      "pay_3_2           0.0687      0.019      3.554      0.000       0.031       0.107\n",
      "pay_3_3           0.1055      0.039      2.722      0.007       0.030       0.182\n",
      "pay_3_4          -0.0596      0.077     -0.776      0.438      -0.210       0.091\n",
      "pay_3_5           0.1323      0.210      0.630      0.528      -0.279       0.544\n",
      "pay_3_6           0.6315      0.161      3.925      0.000       0.316       0.947\n",
      "pay_3_7           0.0185      0.116      0.159      0.874      -0.210       0.247\n",
      "pay_3_8          -0.7055      0.390     -1.810      0.070      -1.469       0.058\n",
      "pay_4_minus_1    -0.0142      0.017     -0.811      0.417      -0.048       0.020\n",
      "pay_4_0           0.0039      0.019      0.202      0.840      -0.034       0.042\n",
      "pay_4_1           0.7911      0.525      1.507      0.132      -0.238       1.820\n",
      "pay_4_2           0.0624      0.022      2.882      0.004       0.020       0.105\n",
      "pay_4_3           0.0276      0.044      0.624      0.533      -0.059       0.114\n",
      "pay_4_4           0.2193      0.081      2.712      0.007       0.061       0.378\n",
      "pay_4_5          -0.2779      0.139     -2.005      0.045      -0.550      -0.006\n",
      "pay_4_6          -0.9498      0.359     -2.642      0.008      -1.654      -0.245\n",
      "pay_4_7           0.1384      0.088      1.581      0.114      -0.033       0.310\n",
      "pay_5_minus_1    -0.0055      0.017     -0.317      0.751      -0.040       0.029\n",
      "pay_5_0           0.0042      0.019      0.221      0.825      -0.033       0.042\n",
      "pay_5_2           0.0451      0.022      2.017      0.044       0.001       0.089\n",
      "pay_5_3           0.0213      0.042      0.509      0.611      -0.061       0.104\n",
      "pay_5_4          -0.1632      0.084     -1.952      0.051      -0.327       0.001\n",
      "pay_5_5           0.0659      0.146      0.452      0.651      -0.220       0.352\n",
      "pay_5_6           0.0488      0.272      0.179      0.858      -0.484       0.582\n",
      "pay_5_8          -0.4408      0.742     -0.594      0.552      -1.895       1.014\n",
      "pay_6_minus_1    -0.0282      0.014     -2.073      0.038      -0.055      -0.002\n",
      "pay_6_0          -0.0566      0.014     -3.924      0.000      -0.085      -0.028\n",
      "pay_6_2           0.0164      0.017      0.937      0.349      -0.018       0.051\n",
      "pay_6_3           0.1247      0.042      2.945      0.003       0.042       0.208\n",
      "pay_6_4           0.0922      0.083      1.112      0.266      -0.070       0.255\n",
      "pay_6_5           0.0403      0.154      0.261      0.794      -0.262       0.343\n",
      "pay_6_6           0.2240      0.100      2.234      0.025       0.027       0.421\n",
      "pay_6_8           1.4975      0.529      2.830      0.005       0.460       2.535\n",
      "avg_bill       1.832e-07    7.3e-08      2.510      0.012    4.01e-08    3.26e-07\n",
      "avg_pay        2.924e-06   1.05e-06      2.798      0.005    8.76e-07    4.97e-06\n",
      "bill_pct          0.0389      0.014      2.867      0.004       0.012       0.065\n",
      "==============================================================================\n",
      "Omnibus:                     3733.998   Durbin-Watson:                   1.997\n",
      "Prob(Omnibus):                  0.000   Jarque-Bera (JB):             5878.416\n",
      "Skew:                           1.188   Prob(JB):                         0.00\n",
      "Kurtosis:                       3.792   Cond. No.                     7.88e+07\n",
      "==============================================================================\n",
      "\n",
      "Warnings:\n",
      "[1] Standard Errors assume that the covariance matrix of the errors is correctly specified.\n",
      "[2] The condition number is large, 7.88e+07. This might indicate that there are\n",
      "strong multicollinearity or other numerical problems.\n"
     ]
    }
   ],
   "source": [
    "X_sm = sm.add_constant(X)\n",
    "est = sm.OLS(y, X_sm)\n",
    "est2 = est.fit()\n",
    "print(est2.summary())"
   ]
  },
  {
   "cell_type": "code",
   "execution_count": 117,
   "metadata": {},
   "outputs": [
    {
     "data": {
      "text/html": [
       "<div>\n",
       "<style scoped>\n",
       "    .dataframe tbody tr th:only-of-type {\n",
       "        vertical-align: middle;\n",
       "    }\n",
       "\n",
       "    .dataframe tbody tr th {\n",
       "        vertical-align: top;\n",
       "    }\n",
       "\n",
       "    .dataframe thead th {\n",
       "        text-align: right;\n",
       "    }\n",
       "</style>\n",
       "<table border=\"1\" class=\"dataframe\">\n",
       "  <thead>\n",
       "    <tr style=\"text-align: right;\">\n",
       "      <th></th>\n",
       "      <th>limit_bal</th>\n",
       "      <th>sex</th>\n",
       "      <th>marriage</th>\n",
       "      <th>age</th>\n",
       "      <th>pay_amt1</th>\n",
       "      <th>pay_amt2</th>\n",
       "      <th>pay_amt3</th>\n",
       "      <th>pay_amt5</th>\n",
       "      <th>pay_amt6</th>\n",
       "      <th>education_4</th>\n",
       "      <th>...</th>\n",
       "      <th>pay_5_2</th>\n",
       "      <th>pay_5_4</th>\n",
       "      <th>pay_6_minus_1</th>\n",
       "      <th>pay_6_0</th>\n",
       "      <th>pay_6_3</th>\n",
       "      <th>pay_6_6</th>\n",
       "      <th>pay_6_8</th>\n",
       "      <th>avg_bill</th>\n",
       "      <th>avg_pay</th>\n",
       "      <th>bill_pct</th>\n",
       "    </tr>\n",
       "  </thead>\n",
       "  <tbody>\n",
       "    <tr>\n",
       "      <th>0</th>\n",
       "      <td>200000.0</td>\n",
       "      <td>0.0</td>\n",
       "      <td>1.0</td>\n",
       "      <td>30.0</td>\n",
       "      <td>6600.0</td>\n",
       "      <td>6000.0</td>\n",
       "      <td>5860.0</td>\n",
       "      <td>5000.0</td>\n",
       "      <td>0.0</td>\n",
       "      <td>0.0</td>\n",
       "      <td>...</td>\n",
       "      <td>1.0</td>\n",
       "      <td>0.0</td>\n",
       "      <td>0.0</td>\n",
       "      <td>0.0</td>\n",
       "      <td>0.0</td>\n",
       "      <td>0.0</td>\n",
       "      <td>0.0</td>\n",
       "      <td>146221.333333</td>\n",
       "      <td>4910.000000</td>\n",
       "      <td>0.731107</td>\n",
       "    </tr>\n",
       "    <tr>\n",
       "      <th>1</th>\n",
       "      <td>200000.0</td>\n",
       "      <td>0.0</td>\n",
       "      <td>0.0</td>\n",
       "      <td>27.0</td>\n",
       "      <td>0.0</td>\n",
       "      <td>0.0</td>\n",
       "      <td>0.0</td>\n",
       "      <td>0.0</td>\n",
       "      <td>0.0</td>\n",
       "      <td>1.0</td>\n",
       "      <td>...</td>\n",
       "      <td>0.0</td>\n",
       "      <td>0.0</td>\n",
       "      <td>0.0</td>\n",
       "      <td>0.0</td>\n",
       "      <td>0.0</td>\n",
       "      <td>0.0</td>\n",
       "      <td>0.0</td>\n",
       "      <td>0.000000</td>\n",
       "      <td>0.000000</td>\n",
       "      <td>0.000000</td>\n",
       "    </tr>\n",
       "    <tr>\n",
       "      <th>2</th>\n",
       "      <td>20000.0</td>\n",
       "      <td>0.0</td>\n",
       "      <td>0.0</td>\n",
       "      <td>28.0</td>\n",
       "      <td>3353.0</td>\n",
       "      <td>3.0</td>\n",
       "      <td>5101.0</td>\n",
       "      <td>6530.0</td>\n",
       "      <td>8103.0</td>\n",
       "      <td>0.0</td>\n",
       "      <td>...</td>\n",
       "      <td>0.0</td>\n",
       "      <td>0.0</td>\n",
       "      <td>0.0</td>\n",
       "      <td>1.0</td>\n",
       "      <td>0.0</td>\n",
       "      <td>0.0</td>\n",
       "      <td>0.0</td>\n",
       "      <td>6543.833333</td>\n",
       "      <td>3849.333333</td>\n",
       "      <td>0.327192</td>\n",
       "    </tr>\n",
       "    <tr>\n",
       "      <th>3</th>\n",
       "      <td>50000.0</td>\n",
       "      <td>1.0</td>\n",
       "      <td>0.0</td>\n",
       "      <td>23.0</td>\n",
       "      <td>4175.0</td>\n",
       "      <td>41000.0</td>\n",
       "      <td>51705.0</td>\n",
       "      <td>718.0</td>\n",
       "      <td>700.0</td>\n",
       "      <td>0.0</td>\n",
       "      <td>...</td>\n",
       "      <td>0.0</td>\n",
       "      <td>0.0</td>\n",
       "      <td>0.0</td>\n",
       "      <td>1.0</td>\n",
       "      <td>0.0</td>\n",
       "      <td>0.0</td>\n",
       "      <td>0.0</td>\n",
       "      <td>39625.000000</td>\n",
       "      <td>16499.666667</td>\n",
       "      <td>0.792500</td>\n",
       "    </tr>\n",
       "    <tr>\n",
       "      <th>4</th>\n",
       "      <td>20000.0</td>\n",
       "      <td>1.0</td>\n",
       "      <td>1.0</td>\n",
       "      <td>47.0</td>\n",
       "      <td>780.0</td>\n",
       "      <td>0.0</td>\n",
       "      <td>0.0</td>\n",
       "      <td>0.0</td>\n",
       "      <td>0.0</td>\n",
       "      <td>0.0</td>\n",
       "      <td>...</td>\n",
       "      <td>0.0</td>\n",
       "      <td>0.0</td>\n",
       "      <td>0.0</td>\n",
       "      <td>0.0</td>\n",
       "      <td>0.0</td>\n",
       "      <td>0.0</td>\n",
       "      <td>0.0</td>\n",
       "      <td>195.000000</td>\n",
       "      <td>130.000000</td>\n",
       "      <td>0.009750</td>\n",
       "    </tr>\n",
       "  </tbody>\n",
       "</table>\n",
       "<p>5 rows × 38 columns</p>\n",
       "</div>"
      ],
      "text/plain": [
       "   limit_bal  sex  marriage   age  pay_amt1  pay_amt2  pay_amt3  pay_amt5  \\\n",
       "0   200000.0  0.0       1.0  30.0    6600.0    6000.0    5860.0    5000.0   \n",
       "1   200000.0  0.0       0.0  27.0       0.0       0.0       0.0       0.0   \n",
       "2    20000.0  0.0       0.0  28.0    3353.0       3.0    5101.0    6530.0   \n",
       "3    50000.0  1.0       0.0  23.0    4175.0   41000.0   51705.0     718.0   \n",
       "4    20000.0  1.0       1.0  47.0     780.0       0.0       0.0       0.0   \n",
       "\n",
       "   pay_amt6  education_4  ...  pay_5_2  pay_5_4  pay_6_minus_1  pay_6_0  \\\n",
       "0       0.0          0.0  ...      1.0      0.0            0.0      0.0   \n",
       "1       0.0          1.0  ...      0.0      0.0            0.0      0.0   \n",
       "2    8103.0          0.0  ...      0.0      0.0            0.0      1.0   \n",
       "3     700.0          0.0  ...      0.0      0.0            0.0      1.0   \n",
       "4       0.0          0.0  ...      0.0      0.0            0.0      0.0   \n",
       "\n",
       "   pay_6_3  pay_6_6  pay_6_8       avg_bill       avg_pay  bill_pct  \n",
       "0      0.0      0.0      0.0  146221.333333   4910.000000  0.731107  \n",
       "1      0.0      0.0      0.0       0.000000      0.000000  0.000000  \n",
       "2      0.0      0.0      0.0    6543.833333   3849.333333  0.327192  \n",
       "3      0.0      0.0      0.0   39625.000000  16499.666667  0.792500  \n",
       "4      0.0      0.0      0.0     195.000000    130.000000  0.009750  \n",
       "\n",
       "[5 rows x 38 columns]"
      ]
     },
     "execution_count": 117,
     "metadata": {},
     "output_type": "execute_result"
    }
   ],
   "source": [
    "p = est2.pvalues\n",
    "high_p = p[p > .1].keys()\n",
    "\n",
    "X_simp = X.drop(columns=high_p)\n",
    "\n",
    "X_simp.head()"
   ]
  },
  {
   "cell_type": "code",
   "execution_count": 118,
   "metadata": {},
   "outputs": [
    {
     "name": "stdout",
     "output_type": "stream",
     "text": [
      "                            OLS Regression Results                            \n",
      "==============================================================================\n",
      "Dep. Variable:                default   R-squared:                       0.207\n",
      "Model:                            OLS   Adj. R-squared:                  0.206\n",
      "Method:                 Least Squares   F-statistic:                     154.6\n",
      "Date:                Tue, 19 May 2020   Prob (F-statistic):               0.00\n",
      "Time:                        18:38:59   Log-Likelihood:                -9527.0\n",
      "No. Observations:               22500   AIC:                         1.913e+04\n",
      "Df Residuals:                   22461   BIC:                         1.944e+04\n",
      "Df Model:                          38                                         \n",
      "Covariance Type:            nonrobust                                         \n",
      "=================================================================================\n",
      "                    coef    std err          t      P>|t|      [0.025      0.975]\n",
      "---------------------------------------------------------------------------------\n",
      "const             0.1656      0.015     11.421      0.000       0.137       0.194\n",
      "limit_bal     -1.699e-07   2.94e-08     -5.778      0.000   -2.28e-07   -1.12e-07\n",
      "sex               0.0175      0.005      3.422      0.001       0.007       0.027\n",
      "marriage          0.0173      0.006      3.103      0.002       0.006       0.028\n",
      "age               0.0007      0.000      2.337      0.019       0.000       0.001\n",
      "pay_amt1      -1.689e-06   3.34e-07     -5.060      0.000   -2.34e-06   -1.03e-06\n",
      "pay_amt2      -1.396e-06   2.91e-07     -4.803      0.000   -1.97e-06   -8.26e-07\n",
      "pay_amt3      -9.979e-07    3.2e-07     -3.120      0.002   -1.62e-06   -3.71e-07\n",
      "pay_amt5       -1.11e-06   3.71e-07     -2.993      0.003   -1.84e-06   -3.83e-07\n",
      "pay_amt6      -6.782e-07   3.25e-07     -2.087      0.037   -1.31e-06   -4.14e-08\n",
      "education_4      -0.0909      0.020     -4.503      0.000      -0.130      -0.051\n",
      "pay_1_minus_1     0.0746      0.013      5.713      0.000       0.049       0.100\n",
      "pay_1_0          -0.0260      0.011     -2.394      0.017      -0.047      -0.005\n",
      "pay_1_1           0.1378      0.012     11.632      0.000       0.115       0.161\n",
      "pay_1_2           0.4234      0.014     30.881      0.000       0.397       0.450\n",
      "pay_1_3           0.4441      0.026     16.908      0.000       0.393       0.496\n",
      "pay_1_4           0.2751      0.056      4.932      0.000       0.166       0.384\n",
      "pay_1_5           0.2357      0.104      2.270      0.023       0.032       0.439\n",
      "pay_2_minus_1    -0.0325      0.010     -3.253      0.001      -0.052      -0.013\n",
      "pay_2_3           0.0854      0.027      3.155      0.002       0.032       0.138\n",
      "pay_2_4          -0.1664      0.058     -2.887      0.004      -0.279      -0.053\n",
      "pay_3_2           0.0681      0.010      6.986      0.000       0.049       0.087\n",
      "pay_3_3           0.1163      0.034      3.436      0.001       0.050       0.183\n",
      "pay_3_6           0.5359      0.142      3.775      0.000       0.258       0.814\n",
      "pay_3_8          -0.7412      0.326     -2.276      0.023      -1.380      -0.103\n",
      "pay_4_2           0.0575      0.011      5.033      0.000       0.035       0.080\n",
      "pay_4_4           0.2715      0.061      4.459      0.000       0.152       0.391\n",
      "pay_4_5          -0.1858      0.112     -1.657      0.098      -0.406       0.034\n",
      "pay_4_6          -0.7419      0.277     -2.680      0.007      -1.285      -0.199\n",
      "pay_5_2           0.0532      0.012      4.571      0.000       0.030       0.076\n",
      "pay_5_4          -0.1781      0.068     -2.624      0.009      -0.311      -0.045\n",
      "pay_6_minus_1    -0.0398      0.009     -4.384      0.000      -0.058      -0.022\n",
      "pay_6_0          -0.0591      0.008     -7.845      0.000      -0.074      -0.044\n",
      "pay_6_3           0.1201      0.037      3.212      0.001       0.047       0.193\n",
      "pay_6_6           0.2891      0.094      3.068      0.002       0.104       0.474\n",
      "pay_6_8           1.1917      0.359      3.321      0.001       0.488       1.895\n",
      "avg_bill       1.994e-07   7.28e-08      2.740      0.006    5.68e-08    3.42e-07\n",
      "avg_pay         1.92e-06   8.68e-07      2.211      0.027    2.18e-07    3.62e-06\n",
      "bill_pct          0.0486      0.013      3.709      0.000       0.023       0.074\n",
      "==============================================================================\n",
      "Omnibus:                     3717.023   Durbin-Watson:                   1.997\n",
      "Prob(Omnibus):                  0.000   Jarque-Bera (JB):             5838.524\n",
      "Skew:                           1.186   Prob(JB):                         0.00\n",
      "Kurtosis:                       3.778   Cond. No.                     4.08e+07\n",
      "==============================================================================\n",
      "\n",
      "Warnings:\n",
      "[1] Standard Errors assume that the covariance matrix of the errors is correctly specified.\n",
      "[2] The condition number is large, 4.08e+07. This might indicate that there are\n",
      "strong multicollinearity or other numerical problems.\n"
     ]
    }
   ],
   "source": [
    "X_sm2 = sm.add_constant(X_simp)\n",
    "est = sm.OLS(y, X_sm2)\n",
    "est2 = est.fit()\n",
    "print(est2.summary())"
   ]
  },
  {
   "cell_type": "markdown",
   "metadata": {},
   "source": [
    "## INTERACTIONS"
   ]
  },
  {
   "cell_type": "code",
   "execution_count": 69,
   "metadata": {},
   "outputs": [],
   "source": [
    "# from sklearn.preprocessing import PolynomialFeatures\n",
    "\n",
    "# polynomial_features_2 = PolynomialFeatures(degree=2, include_bias=False)\n",
    "# X_poly = polynomial_features_2.fit_transform(X)\n",
    "# poly_columns = polynomial_features_2.get_feature_names(X.columns)\n",
    "\n",
    "# X_poly = pd.DataFrame(X_poly, columns=poly_columns)\n",
    "# X_poly.head()"
   ]
  },
  {
   "cell_type": "code",
   "execution_count": 70,
   "metadata": {},
   "outputs": [],
   "source": [
    "# X_poly_cols = [col.replace(' ', '_') for col in X_poly.columns]\n",
    "# X_poly.columns = X_poly_cols"
   ]
  },
  {
   "cell_type": "code",
   "execution_count": 71,
   "metadata": {},
   "outputs": [],
   "source": [
    "# # Create correlation matrix\n",
    "# corr_matrix = X_poly.corr().abs()\n",
    "\n",
    "# # Select upper triangle of correlation matrix\n",
    "# upper = corr_matrix.where(np.triu(np.ones(corr_matrix.shape), k=1).astype(np.bool))\n",
    "# upper"
   ]
  },
  {
   "cell_type": "code",
   "execution_count": 72,
   "metadata": {},
   "outputs": [],
   "source": [
    "# # Find index of feature columns with correlation greater than 0.90\n",
    "# to_drop = [column for column in upper.columns if any(upper[column] > 0.8)]\n",
    "# X_poly.drop(columns=to_drop, inplace=True)\n",
    "# X_poly.shape\n"
   ]
  },
  {
   "cell_type": "code",
   "execution_count": 73,
   "metadata": {},
   "outputs": [],
   "source": [
    "# X_poly.head()"
   ]
  },
  {
   "cell_type": "code",
   "execution_count": 74,
   "metadata": {},
   "outputs": [],
   "source": [
    "# sns.set(style=\"white\")\n",
    "\n",
    "# # Compute the correlation matrix\n",
    "# corr = X_poly.corr()\n",
    "\n",
    "# # Generate a mask for the upper triangle\n",
    "# mask = np.zeros_like(corr, dtype=np.bool)\n",
    "# mask[np.triu_indices_from(mask)] = True\n",
    "\n",
    "# # Set up the matplotlib figure\n",
    "# f, ax = plt.subplots(figsize=(44, 36))\n",
    "\n",
    "# # Generate a custom diverging colormap\n",
    "# cmap = sns.diverging_palette(220, 10, as_cmap=True)\n",
    "\n",
    "# # Draw the heatmap with the mask and correct aspect ratio\n",
    "# sns.heatmap(corr, mask=mask, cmap=cmap, vmax=1, center=0,\n",
    "#             square=True, linewidths=.5, cbar_kws={\"shrink\": .5})"
   ]
  },
  {
   "cell_type": "code",
   "execution_count": 75,
   "metadata": {},
   "outputs": [],
   "source": [
    "\n",
    "\n",
    "\n",
    "# X_poly_2 = sm.add_constant(X_poly)\n",
    "# est = sm.OLS(y, X_poly_2)\n",
    "# est2 = est.fit()\n",
    "# print(est2.summary())"
   ]
  },
  {
   "cell_type": "code",
   "execution_count": 77,
   "metadata": {},
   "outputs": [],
   "source": [
    "# result.summary()"
   ]
  },
  {
   "cell_type": "code",
   "execution_count": 78,
   "metadata": {},
   "outputs": [],
   "source": [
    "# p = est2.pvalues\n",
    "# high_p = p[p > .2].keys()\n",
    "\n",
    "# X_poly_simplified = X_poly.drop(columns=high_p)\n",
    "# X_poly_simplified.drop(columns=['education_2_education_3', 'education_2_education_4', 'education_3_education_4'],\n",
    "#                       inplace=True)\n",
    "# X_poly_simplified.head()"
   ]
  },
  {
   "cell_type": "code",
   "execution_count": 79,
   "metadata": {},
   "outputs": [],
   "source": [
    "# X_poly_2 = sm.add_constant(X_poly_simplified)\n",
    "# est = sm.OLS(y, X_poly_2)\n",
    "# est2 = est.fit()\n",
    "# print(est2.summary())"
   ]
  },
  {
   "cell_type": "code",
   "execution_count": 80,
   "metadata": {},
   "outputs": [],
   "source": [
    "# p = est2.pvalues\n",
    "# high_p = p[p > .2].keys()\n",
    "\n",
    "# X_poly_simplified = X_poly_simplified.drop(columns=high_p)\n",
    "# # X_poly_simplified.drop(columns=poly_drop,\n",
    "# #                       inplace=True)\n",
    "# X_poly_simplified.head()"
   ]
  },
  {
   "cell_type": "code",
   "execution_count": 81,
   "metadata": {},
   "outputs": [],
   "source": [
    "# X_poly_2 = sm.add_constant(X_poly_simplified)\n",
    "# est = sm.OLS(y, X_poly_2)\n",
    "# est2 = est.fit()\n",
    "# print(est2.summary())"
   ]
  },
  {
   "cell_type": "code",
   "execution_count": 82,
   "metadata": {},
   "outputs": [],
   "source": [
    "# sns.set(style=\"white\")\n",
    "\n",
    "# # Compute the correlation matrix\n",
    "# corr = X_poly_simplified.corr()\n",
    "\n",
    "# # Generate a mask for the upper triangle\n",
    "# mask = np.zeros_like(corr, dtype=np.bool)\n",
    "# mask[np.triu_indices_from(mask)] = True\n",
    "\n",
    "# # Set up the matplotlib figure\n",
    "# f, ax = plt.subplots(figsize=(44, 36))\n",
    "\n",
    "# # Generate a custom diverging colormap\n",
    "# cmap = sns.diverging_palette(220, 10, as_cmap=True)\n",
    "\n",
    "# # Draw the heatmap with the mask and correct aspect ratio\n",
    "# sns.heatmap(corr, mask=mask, cmap=cmap, vmax=1, center=0,\n",
    "#             square=True, linewidths=.5, cbar_kws={\"shrink\": .5})"
   ]
  },
  {
   "cell_type": "markdown",
   "metadata": {},
   "source": [
    "## TRAIN-TEST SPLIT"
   ]
  },
  {
   "cell_type": "code",
   "execution_count": 134,
   "metadata": {},
   "outputs": [
    {
     "data": {
      "text/html": [
       "<div>\n",
       "<style scoped>\n",
       "    .dataframe tbody tr th:only-of-type {\n",
       "        vertical-align: middle;\n",
       "    }\n",
       "\n",
       "    .dataframe tbody tr th {\n",
       "        vertical-align: top;\n",
       "    }\n",
       "\n",
       "    .dataframe thead th {\n",
       "        text-align: right;\n",
       "    }\n",
       "</style>\n",
       "<table border=\"1\" class=\"dataframe\">\n",
       "  <thead>\n",
       "    <tr style=\"text-align: right;\">\n",
       "      <th></th>\n",
       "      <th>limit_bal</th>\n",
       "      <th>sex</th>\n",
       "      <th>marriage</th>\n",
       "      <th>age</th>\n",
       "      <th>pay_amt1</th>\n",
       "      <th>pay_amt2</th>\n",
       "      <th>pay_amt3</th>\n",
       "      <th>pay_amt5</th>\n",
       "      <th>pay_amt6</th>\n",
       "      <th>education_4</th>\n",
       "      <th>...</th>\n",
       "      <th>pay_5_2</th>\n",
       "      <th>pay_5_4</th>\n",
       "      <th>pay_6_minus_1</th>\n",
       "      <th>pay_6_0</th>\n",
       "      <th>pay_6_3</th>\n",
       "      <th>pay_6_6</th>\n",
       "      <th>pay_6_8</th>\n",
       "      <th>avg_bill</th>\n",
       "      <th>avg_pay</th>\n",
       "      <th>bill_pct</th>\n",
       "    </tr>\n",
       "  </thead>\n",
       "  <tbody>\n",
       "    <tr>\n",
       "      <th>0</th>\n",
       "      <td>200000.0</td>\n",
       "      <td>0.0</td>\n",
       "      <td>1.0</td>\n",
       "      <td>30.0</td>\n",
       "      <td>6600.0</td>\n",
       "      <td>6000.0</td>\n",
       "      <td>5860.0</td>\n",
       "      <td>5000.0</td>\n",
       "      <td>0.0</td>\n",
       "      <td>0.0</td>\n",
       "      <td>...</td>\n",
       "      <td>1.0</td>\n",
       "      <td>0.0</td>\n",
       "      <td>0.0</td>\n",
       "      <td>0.0</td>\n",
       "      <td>0.0</td>\n",
       "      <td>0.0</td>\n",
       "      <td>0.0</td>\n",
       "      <td>146221.333333</td>\n",
       "      <td>4910.000000</td>\n",
       "      <td>0.731107</td>\n",
       "    </tr>\n",
       "    <tr>\n",
       "      <th>1</th>\n",
       "      <td>200000.0</td>\n",
       "      <td>0.0</td>\n",
       "      <td>0.0</td>\n",
       "      <td>27.0</td>\n",
       "      <td>0.0</td>\n",
       "      <td>0.0</td>\n",
       "      <td>0.0</td>\n",
       "      <td>0.0</td>\n",
       "      <td>0.0</td>\n",
       "      <td>1.0</td>\n",
       "      <td>...</td>\n",
       "      <td>0.0</td>\n",
       "      <td>0.0</td>\n",
       "      <td>0.0</td>\n",
       "      <td>0.0</td>\n",
       "      <td>0.0</td>\n",
       "      <td>0.0</td>\n",
       "      <td>0.0</td>\n",
       "      <td>0.000000</td>\n",
       "      <td>0.000000</td>\n",
       "      <td>0.000000</td>\n",
       "    </tr>\n",
       "    <tr>\n",
       "      <th>2</th>\n",
       "      <td>20000.0</td>\n",
       "      <td>0.0</td>\n",
       "      <td>0.0</td>\n",
       "      <td>28.0</td>\n",
       "      <td>3353.0</td>\n",
       "      <td>3.0</td>\n",
       "      <td>5101.0</td>\n",
       "      <td>6530.0</td>\n",
       "      <td>8103.0</td>\n",
       "      <td>0.0</td>\n",
       "      <td>...</td>\n",
       "      <td>0.0</td>\n",
       "      <td>0.0</td>\n",
       "      <td>0.0</td>\n",
       "      <td>1.0</td>\n",
       "      <td>0.0</td>\n",
       "      <td>0.0</td>\n",
       "      <td>0.0</td>\n",
       "      <td>6543.833333</td>\n",
       "      <td>3849.333333</td>\n",
       "      <td>0.327192</td>\n",
       "    </tr>\n",
       "    <tr>\n",
       "      <th>3</th>\n",
       "      <td>50000.0</td>\n",
       "      <td>1.0</td>\n",
       "      <td>0.0</td>\n",
       "      <td>23.0</td>\n",
       "      <td>4175.0</td>\n",
       "      <td>41000.0</td>\n",
       "      <td>51705.0</td>\n",
       "      <td>718.0</td>\n",
       "      <td>700.0</td>\n",
       "      <td>0.0</td>\n",
       "      <td>...</td>\n",
       "      <td>0.0</td>\n",
       "      <td>0.0</td>\n",
       "      <td>0.0</td>\n",
       "      <td>1.0</td>\n",
       "      <td>0.0</td>\n",
       "      <td>0.0</td>\n",
       "      <td>0.0</td>\n",
       "      <td>39625.000000</td>\n",
       "      <td>16499.666667</td>\n",
       "      <td>0.792500</td>\n",
       "    </tr>\n",
       "    <tr>\n",
       "      <th>4</th>\n",
       "      <td>20000.0</td>\n",
       "      <td>1.0</td>\n",
       "      <td>1.0</td>\n",
       "      <td>47.0</td>\n",
       "      <td>780.0</td>\n",
       "      <td>0.0</td>\n",
       "      <td>0.0</td>\n",
       "      <td>0.0</td>\n",
       "      <td>0.0</td>\n",
       "      <td>0.0</td>\n",
       "      <td>...</td>\n",
       "      <td>0.0</td>\n",
       "      <td>0.0</td>\n",
       "      <td>0.0</td>\n",
       "      <td>0.0</td>\n",
       "      <td>0.0</td>\n",
       "      <td>0.0</td>\n",
       "      <td>0.0</td>\n",
       "      <td>195.000000</td>\n",
       "      <td>130.000000</td>\n",
       "      <td>0.009750</td>\n",
       "    </tr>\n",
       "  </tbody>\n",
       "</table>\n",
       "<p>5 rows × 38 columns</p>\n",
       "</div>"
      ],
      "text/plain": [
       "   limit_bal  sex  marriage   age  pay_amt1  pay_amt2  pay_amt3  pay_amt5  \\\n",
       "0   200000.0  0.0       1.0  30.0    6600.0    6000.0    5860.0    5000.0   \n",
       "1   200000.0  0.0       0.0  27.0       0.0       0.0       0.0       0.0   \n",
       "2    20000.0  0.0       0.0  28.0    3353.0       3.0    5101.0    6530.0   \n",
       "3    50000.0  1.0       0.0  23.0    4175.0   41000.0   51705.0     718.0   \n",
       "4    20000.0  1.0       1.0  47.0     780.0       0.0       0.0       0.0   \n",
       "\n",
       "   pay_amt6  education_4  ...  pay_5_2  pay_5_4  pay_6_minus_1  pay_6_0  \\\n",
       "0       0.0          0.0  ...      1.0      0.0            0.0      0.0   \n",
       "1       0.0          1.0  ...      0.0      0.0            0.0      0.0   \n",
       "2    8103.0          0.0  ...      0.0      0.0            0.0      1.0   \n",
       "3     700.0          0.0  ...      0.0      0.0            0.0      1.0   \n",
       "4       0.0          0.0  ...      0.0      0.0            0.0      0.0   \n",
       "\n",
       "   pay_6_3  pay_6_6  pay_6_8       avg_bill       avg_pay  bill_pct  \n",
       "0      0.0      0.0      0.0  146221.333333   4910.000000  0.731107  \n",
       "1      0.0      0.0      0.0       0.000000      0.000000  0.000000  \n",
       "2      0.0      0.0      0.0    6543.833333   3849.333333  0.327192  \n",
       "3      0.0      0.0      0.0   39625.000000  16499.666667  0.792500  \n",
       "4      0.0      0.0      0.0     195.000000    130.000000  0.009750  \n",
       "\n",
       "[5 rows x 38 columns]"
      ]
     },
     "execution_count": 134,
     "metadata": {},
     "output_type": "execute_result"
    }
   ],
   "source": [
    "X_simp.head()"
   ]
  },
  {
   "cell_type": "code",
   "execution_count": 146,
   "metadata": {},
   "outputs": [],
   "source": [
    "X_train, X_test, y_train, y_test = train_test_split(X, y, random_state=1)\n",
    "\n",
    "scaler = StandardScaler()  \n",
    "scaler.fit(X_train)\n",
    "\n",
    "X_train = scaler.transform(X_train)  \n",
    "X_test = scaler.transform(X_test)"
   ]
  },
  {
   "cell_type": "markdown",
   "metadata": {},
   "source": [
    "### Baseline"
   ]
  },
  {
   "cell_type": "code",
   "execution_count": 147,
   "metadata": {
    "scrolled": true
   },
   "outputs": [
    {
     "data": {
      "text/plain": [
       "LogisticRegression(C=1.0, class_weight=None, dual=False, fit_intercept=True,\n",
       "                   intercept_scaling=1, l1_ratio=None, max_iter=100,\n",
       "                   multi_class='auto', n_jobs=None, penalty='l2',\n",
       "                   random_state=None, solver='lbfgs', tol=0.0001, verbose=0,\n",
       "                   warm_start=False)"
      ]
     },
     "execution_count": 147,
     "metadata": {},
     "output_type": "execute_result"
    }
   ],
   "source": [
    "logreg = LogisticRegression()\n",
    "logreg.fit(X_train, y_train)"
   ]
  },
  {
   "cell_type": "code",
   "execution_count": 148,
   "metadata": {},
   "outputs": [
    {
     "name": "stdout",
     "output_type": "stream",
     "text": [
      "0.459620596205962\n",
      "0.8227555555555556\n",
      "0.6849757673667205\n",
      "0.3458401305057096\n"
     ]
    }
   ],
   "source": [
    "y_pred = logreg.predict(X_test)\n",
    "\n",
    "print(f1_score(y_test, y_pred))\n",
    "print(accuracy_score(y_test, y_pred))\n",
    "print(precision_score(y_test, y_pred))\n",
    "print(recall_score(y_test, y_pred))"
   ]
  },
  {
   "cell_type": "code",
   "execution_count": 149,
   "metadata": {},
   "outputs": [],
   "source": [
    "results['baseline'] = (f1_score(y_test, y_pred))"
   ]
  },
  {
   "cell_type": "code",
   "execution_count": 154,
   "metadata": {},
   "outputs": [
    {
     "data": {
      "text/html": [
       "<div>\n",
       "<style scoped>\n",
       "    .dataframe tbody tr th:only-of-type {\n",
       "        vertical-align: middle;\n",
       "    }\n",
       "\n",
       "    .dataframe tbody tr th {\n",
       "        vertical-align: top;\n",
       "    }\n",
       "\n",
       "    .dataframe thead th {\n",
       "        text-align: right;\n",
       "    }\n",
       "</style>\n",
       "<table border=\"1\" class=\"dataframe\">\n",
       "  <thead>\n",
       "    <tr style=\"text-align: right;\">\n",
       "      <th></th>\n",
       "      <th>0</th>\n",
       "    </tr>\n",
       "  </thead>\n",
       "  <tbody>\n",
       "    <tr>\n",
       "      <th>pay_amt2</th>\n",
       "      <td>-0.245857</td>\n",
       "    </tr>\n",
       "    <tr>\n",
       "      <th>pay_amt1</th>\n",
       "      <td>-0.228242</td>\n",
       "    </tr>\n",
       "    <tr>\n",
       "      <th>limit_bal</th>\n",
       "      <td>-0.176005</td>\n",
       "    </tr>\n",
       "    <tr>\n",
       "      <th>pay_6_0</th>\n",
       "      <td>-0.167211</td>\n",
       "    </tr>\n",
       "    <tr>\n",
       "      <th>pay_amt3</th>\n",
       "      <td>-0.160401</td>\n",
       "    </tr>\n",
       "    <tr>\n",
       "      <th>...</th>\n",
       "      <td>...</td>\n",
       "    </tr>\n",
       "    <tr>\n",
       "      <th>pay_1_3</th>\n",
       "      <td>0.210832</td>\n",
       "    </tr>\n",
       "    <tr>\n",
       "      <th>pay_1_minus_1</th>\n",
       "      <td>0.216816</td>\n",
       "    </tr>\n",
       "    <tr>\n",
       "      <th>pay_1_1</th>\n",
       "      <td>0.256816</td>\n",
       "    </tr>\n",
       "    <tr>\n",
       "      <th>avg_pay</th>\n",
       "      <td>0.341984</td>\n",
       "    </tr>\n",
       "    <tr>\n",
       "      <th>pay_1_2</th>\n",
       "      <td>0.552034</td>\n",
       "    </tr>\n",
       "  </tbody>\n",
       "</table>\n",
       "<p>66 rows × 1 columns</p>\n",
       "</div>"
      ],
      "text/plain": [
       "                      0\n",
       "pay_amt2      -0.245857\n",
       "pay_amt1      -0.228242\n",
       "limit_bal     -0.176005\n",
       "pay_6_0       -0.167211\n",
       "pay_amt3      -0.160401\n",
       "...                 ...\n",
       "pay_1_3        0.210832\n",
       "pay_1_minus_1  0.216816\n",
       "pay_1_1        0.256816\n",
       "avg_pay        0.341984\n",
       "pay_1_2        0.552034\n",
       "\n",
       "[66 rows x 1 columns]"
      ]
     },
     "execution_count": 154,
     "metadata": {},
     "output_type": "execute_result"
    }
   ],
   "source": [
    "lr_coef_df = pd.DataFrame(data=logreg.coef_)\n",
    "lr_coef_df.columns = X.columns\n",
    "lr_coef_df = lr_coef_df.T.sort_values(by=0).T\n",
    "lr_coef_df.T"
   ]
  },
  {
   "cell_type": "code",
   "execution_count": 151,
   "metadata": {},
   "outputs": [
    {
     "data": {
      "text/html": [
       "<div>\n",
       "<style scoped>\n",
       "    .dataframe tbody tr th:only-of-type {\n",
       "        vertical-align: middle;\n",
       "    }\n",
       "\n",
       "    .dataframe tbody tr th {\n",
       "        vertical-align: top;\n",
       "    }\n",
       "\n",
       "    .dataframe thead th {\n",
       "        text-align: right;\n",
       "    }\n",
       "</style>\n",
       "<table border=\"1\" class=\"dataframe\">\n",
       "  <thead>\n",
       "    <tr style=\"text-align: right;\">\n",
       "      <th></th>\n",
       "      <th>0</th>\n",
       "    </tr>\n",
       "  </thead>\n",
       "  <tbody>\n",
       "    <tr>\n",
       "      <th>59</th>\n",
       "      <td>0.018685</td>\n",
       "    </tr>\n",
       "    <tr>\n",
       "      <th>22</th>\n",
       "      <td>0.010362</td>\n",
       "    </tr>\n",
       "    <tr>\n",
       "      <th>48</th>\n",
       "      <td>-0.009421</td>\n",
       "    </tr>\n",
       "    <tr>\n",
       "      <th>26</th>\n",
       "      <td>0.009036</td>\n",
       "    </tr>\n",
       "    <tr>\n",
       "      <th>60</th>\n",
       "      <td>0.005592</td>\n",
       "    </tr>\n",
       "    <tr>\n",
       "      <th>42</th>\n",
       "      <td>-0.005260</td>\n",
       "    </tr>\n",
       "    <tr>\n",
       "      <th>50</th>\n",
       "      <td>0.004104</td>\n",
       "    </tr>\n",
       "    <tr>\n",
       "      <th>11</th>\n",
       "      <td>-0.003615</td>\n",
       "    </tr>\n",
       "    <tr>\n",
       "      <th>36</th>\n",
       "      <td>0.000830</td>\n",
       "    </tr>\n",
       "    <tr>\n",
       "      <th>33</th>\n",
       "      <td>0.000764</td>\n",
       "    </tr>\n",
       "  </tbody>\n",
       "</table>\n",
       "</div>"
      ],
      "text/plain": [
       "           0\n",
       "59  0.018685\n",
       "22  0.010362\n",
       "48 -0.009421\n",
       "26  0.009036\n",
       "60  0.005592\n",
       "42 -0.005260\n",
       "50  0.004104\n",
       "11 -0.003615\n",
       "36  0.000830\n",
       "33  0.000764"
      ]
     },
     "execution_count": 151,
     "metadata": {},
     "output_type": "execute_result"
    }
   ],
   "source": [
    "sorted_df = lr_coef_df.T\n",
    "sorted_df.iloc[sorted_df[0].abs().argsort()][::-1].tail(10)"
   ]
  },
  {
   "cell_type": "code",
   "execution_count": 152,
   "metadata": {},
   "outputs": [
    {
     "data": {
      "text/plain": [
       "<matplotlib.axes._subplots.AxesSubplot at 0x1358af160>"
      ]
     },
     "execution_count": 152,
     "metadata": {},
     "output_type": "execute_result"
    },
    {
     "data": {
      "image/png": "[encoded data removed]",
      "text/plain": [
       "<Figure size 1152x576 with 1 Axes>"
      ]
     },
     "metadata": {},
     "output_type": "display_data"
    }
   ],
   "source": [
    "lr_coefs = sum(sorted_df[0].abs())\n",
    "lr_coef_df.plot(kind='bar', title='Model Coefficients', legend=False, figsize=(16,8))"
   ]
  },
  {
   "cell_type": "markdown",
   "metadata": {},
   "source": [
    "## GRIDSEARCH SETUP"
   ]
  },
  {
   "cell_type": "code",
   "execution_count": 229,
   "metadata": {},
   "outputs": [],
   "source": [
    "param_grid = { \n",
    "    'penalty': ['l1', 'l2', 'elasticnet'],\n",
    "    'C': [.0001, .0005, .001, .01, .1, 1.0, 10.0],\n",
    "    'solver': ['sag', 'saga', 'liblinear', 'lbfgs'],\n",
    "#     'class_weight': [{1:}]\n",
    "}"
   ]
  },
  {
   "cell_type": "markdown",
   "metadata": {},
   "source": [
    "### Class imbalance treatment"
   ]
  },
  {
   "cell_type": "markdown",
   "metadata": {},
   "source": [
    "### SMOTE"
   ]
  },
  {
   "cell_type": "code",
   "execution_count": 155,
   "metadata": {},
   "outputs": [],
   "source": [
    "smoten = SMOTE(sampling_strategy='minority', random_state=23)\n",
    "X_train_smote, y_train_smote = smoten.fit_sample(X_train, y_train)"
   ]
  },
  {
   "cell_type": "code",
   "execution_count": 156,
   "metadata": {},
   "outputs": [
    {
     "name": "stdout",
     "output_type": "stream",
     "text": [
      "Fitting 5 folds for each of 63 candidates, totalling 315 fits\n"
     ]
    },
    {
     "name": "stderr",
     "output_type": "stream",
     "text": [
      "[Parallel(n_jobs=-1)]: Using backend LokyBackend with 8 concurrent workers.\n",
      "[Parallel(n_jobs=-1)]: Done  52 tasks      | elapsed:    2.1s\n",
      "[Parallel(n_jobs=-1)]: Done 239 tasks      | elapsed:   34.7s\n",
      "[Parallel(n_jobs=-1)]: Done 315 out of 315 | elapsed:   51.6s finished\n"
     ]
    },
    {
     "data": {
      "text/plain": [
       "GridSearchCV(cv=None, error_score=nan,\n",
       "             estimator=LogisticRegression(C=1.0, class_weight=None, dual=False,\n",
       "                                          fit_intercept=True,\n",
       "                                          intercept_scaling=1, l1_ratio=None,\n",
       "                                          max_iter=100, multi_class='auto',\n",
       "                                          n_jobs=None, penalty='l2',\n",
       "                                          random_state=None, solver='lbfgs',\n",
       "                                          tol=0.0001, verbose=0,\n",
       "                                          warm_start=False),\n",
       "             iid='deprecated', n_jobs=-1,\n",
       "             param_grid={'C': [0.0001, 0.0005, 0.001, 0.01, 0.1, 1.0, 10.0],\n",
       "                         'penalty': ['l1', 'l2', 'elasticnet'],\n",
       "                         'solver': ['sag', 'saga', 'liblinear']},\n",
       "             pre_dispatch='2*n_jobs', refit=True, return_train_score=False,\n",
       "             scoring='f1', verbose=1)"
      ]
     },
     "execution_count": 156,
     "metadata": {},
     "output_type": "execute_result"
    }
   ],
   "source": [
    "CV_smote = GridSearchCV(LogisticRegression(),\n",
    "                      param_grid, n_jobs=-1, scoring='f1', verbose=1)\n",
    "CV_smote.fit(X_train_smote, y_train_smote)"
   ]
  },
  {
   "cell_type": "code",
   "execution_count": 157,
   "metadata": {},
   "outputs": [
    {
     "name": "stdout",
     "output_type": "stream",
     "text": [
      "LogisticRegression(C=0.0001, class_weight=None, dual=False, fit_intercept=True,\n",
      "                   intercept_scaling=1, l1_ratio=None, max_iter=100,\n",
      "                   multi_class='auto', n_jobs=None, penalty='l2',\n",
      "                   random_state=None, solver='liblinear', tol=0.0001, verbose=0,\n",
      "                   warm_start=False)\n",
      "0.6696505835975433\n"
     ]
    }
   ],
   "source": [
    "### Identify the best params \n",
    "print(CV_smote.best_estimator_)\n",
    "\n",
    "#Identify the best score during fitting with cross-validation\n",
    "print(CV_smote.best_score_)"
   ]
  },
  {
   "cell_type": "code",
   "execution_count": 158,
   "metadata": {},
   "outputs": [
    {
     "name": "stdout",
     "output_type": "stream",
     "text": [
      "Test Accuracy score:  0.7493333333333333\n",
      "Test Precision score:  0.4446450060168472\n",
      "Test Recall score:  0.6027732463295269\n",
      "Test F1 score:  0.5117728531855956\n"
     ]
    }
   ],
   "source": [
    "y_pred_smote = CV_smote.best_estimator_.predict(X_test)\n",
    "\n",
    "# checking metrics\n",
    "print('Test Accuracy score: ', accuracy_score(y_test, y_pred_smote))\n",
    "print('Test Precision score: ', precision_score(y_test, y_pred_smote))\n",
    "print('Test Recall score: ', recall_score(y_test, y_pred_smote))\n",
    "print('Test F1 score: ', f1_score(y_test, y_pred_smote))"
   ]
  },
  {
   "cell_type": "code",
   "execution_count": 159,
   "metadata": {},
   "outputs": [],
   "source": [
    "results['smote'] = f1_score(y_test, y_pred_smote)"
   ]
  },
  {
   "cell_type": "code",
   "execution_count": 160,
   "metadata": {
    "scrolled": true
   },
   "outputs": [],
   "source": [
    "# print(confusion_matrix(y_test, y_pred_smote))"
   ]
  },
  {
   "cell_type": "markdown",
   "metadata": {},
   "source": [
    "### Weighted"
   ]
  },
  {
   "cell_type": "code",
   "execution_count": 230,
   "metadata": {
    "scrolled": true
   },
   "outputs": [
    {
     "name": "stdout",
     "output_type": "stream",
     "text": [
      "Fitting 5 folds for each of 84 candidates, totalling 420 fits\n"
     ]
    },
    {
     "name": "stderr",
     "output_type": "stream",
     "text": [
      "[Parallel(n_jobs=-1)]: Using backend LokyBackend with 8 concurrent workers.\n",
      "[Parallel(n_jobs=-1)]: Done  25 tasks      | elapsed:    2.2s\n",
      "[Parallel(n_jobs=-1)]: Done 333 tasks      | elapsed:   22.2s\n",
      "[Parallel(n_jobs=-1)]: Done 420 out of 420 | elapsed:   29.3s finished\n"
     ]
    },
    {
     "data": {
      "text/plain": [
       "GridSearchCV(cv=None, error_score=nan,\n",
       "             estimator=LogisticRegression(C=1.0, class_weight='balanced',\n",
       "                                          dual=False, fit_intercept=True,\n",
       "                                          intercept_scaling=1, l1_ratio=None,\n",
       "                                          max_iter=100, multi_class='auto',\n",
       "                                          n_jobs=None, penalty='l2',\n",
       "                                          random_state=None, solver='lbfgs',\n",
       "                                          tol=0.0001, verbose=0,\n",
       "                                          warm_start=False),\n",
       "             iid='deprecated', n_jobs=-1,\n",
       "             param_grid={'C': [0.0001, 0.0005, 0.001, 0.01, 0.1, 1.0, 10.0],\n",
       "                         'penalty': ['l1', 'l2', 'elasticnet'],\n",
       "                         'solver': ['sag', 'saga', 'liblinear', 'lbfgs']},\n",
       "             pre_dispatch='2*n_jobs', refit=True, return_train_score=False,\n",
       "             scoring='f1', verbose=2)"
      ]
     },
     "execution_count": 230,
     "metadata": {},
     "output_type": "execute_result"
    }
   ],
   "source": [
    "#create a grid search object and fit it to the data\n",
    "\n",
    "CV_weighted = GridSearchCV(LogisticRegression(class_weight='balanced'),\n",
    "                      param_grid, n_jobs=-1, scoring='f1', verbose=2)\n",
    "CV_weighted.fit(X_train, y_train)"
   ]
  },
  {
   "cell_type": "code",
   "execution_count": 231,
   "metadata": {},
   "outputs": [
    {
     "name": "stdout",
     "output_type": "stream",
     "text": [
      "LogisticRegression(C=0.001, class_weight='balanced', dual=False,\n",
      "                   fit_intercept=True, intercept_scaling=1, l1_ratio=None,\n",
      "                   max_iter=100, multi_class='auto', n_jobs=None, penalty='l2',\n",
      "                   random_state=None, solver='sag', tol=0.0001, verbose=0,\n",
      "                   warm_start=False)\n",
      "0.5330907296968661\n"
     ]
    }
   ],
   "source": [
    "\n",
    "### Identify the best params \n",
    "print(CV_weighted.best_estimator_)\n",
    "\n",
    "\n",
    "#Identify the best score during fitting with cross-validation\n",
    "print(CV_weighted.best_score_)"
   ]
  },
  {
   "cell_type": "code",
   "execution_count": 232,
   "metadata": {},
   "outputs": [
    {
     "name": "stdout",
     "output_type": "stream",
     "text": [
      "Test Accuracy score:  0.7799111111111111\n",
      "Test Precision score:  0.4956896551724138\n",
      "Test Recall score:  0.5628058727569332\n",
      "Test F1 score:  0.5271199388846447\n"
     ]
    }
   ],
   "source": [
    "#predict on the test set\n",
    "\n",
    "y_pred_weighted = CV_weighted.best_estimator_.predict(X_test)\n",
    "\n",
    "# checking metrics\n",
    "print('Test Accuracy score: ', accuracy_score(y_test, y_pred_weighted))\n",
    "print('Test Precision score: ', precision_score(y_test, y_pred_weighted))\n",
    "print('Test Recall score: ', recall_score(y_test, y_pred_weighted))\n",
    "print('Test F1 score: ', f1_score(y_test, y_pred_weighted))"
   ]
  },
  {
   "cell_type": "code",
   "execution_count": 233,
   "metadata": {},
   "outputs": [],
   "source": [
    "results['weighted'] = f1_score(y_test, y_pred_weighted)"
   ]
  },
  {
   "cell_type": "markdown",
   "metadata": {},
   "source": [
    "### Weighted simplified"
   ]
  },
  {
   "cell_type": "code",
   "execution_count": null,
   "metadata": {},
   "outputs": [],
   "source": [
    "# X_train2, X_test2, y_train2, y_test2 = train_test_split(X, y, random_state=1)\n",
    "\n",
    "# scaler = StandardScaler()  \n",
    "# scaler.fit(X_train2)\n",
    "\n",
    "# X_train2 = scaler.transform(X_train2)  \n",
    "# X_test2 = scaler.transform(X_test2)"
   ]
  },
  {
   "cell_type": "code",
   "execution_count": null,
   "metadata": {
    "scrolled": true
   },
   "outputs": [],
   "source": [
    "# #create a grid search object and fit it to the data\n",
    "\n",
    "# CV_weighted2 = GridSearchCV(LogisticRegression(class_weight='balanced'),\n",
    "#                       param_grid, n_jobs=-1, scoring='f1', verbose=2)\n",
    "# CV_weighted2.fit(X_train2, y_train2)"
   ]
  },
  {
   "cell_type": "code",
   "execution_count": null,
   "metadata": {},
   "outputs": [],
   "source": [
    "# ### Identify the best params \n",
    "# print(CV_weighted2.best_estimator_)\n",
    "\n",
    "\n",
    "# #Identify the best score during fitting with cross-validation\n",
    "# print(CV_weighted2.best_score_)"
   ]
  },
  {
   "cell_type": "code",
   "execution_count": null,
   "metadata": {},
   "outputs": [],
   "source": [
    "# #predict on the test set\n",
    "\n",
    "# y_pred_weighted2 = CV_weighted2.best_estimator_.predict(X_test2)\n",
    "\n",
    "# # checking metrics\n",
    "# print('Test Accuracy score: ', metrics.accuracy_score(y_test2, y_pred_weighted2))\n",
    "# print('Test Precision score: ', metrics.precision_score(y_test2, y_pred_weighted2))\n",
    "# print('Test Recall score: ', metrics.recall_score(y_test2, y_pred_weighted2))\n",
    "# print('Test F1 score: ', metrics.f1_score(y_test2, y_pred_weighted2))"
   ]
  },
  {
   "cell_type": "code",
   "execution_count": null,
   "metadata": {},
   "outputs": [],
   "source": [
    "# results['weighted_simp'] = f1_score(y_test2, y_pred_weighted2)"
   ]
  },
  {
   "cell_type": "code",
   "execution_count": null,
   "metadata": {},
   "outputs": [],
   "source": []
  },
  {
   "cell_type": "markdown",
   "metadata": {},
   "source": [
    "### DECISION TREE"
   ]
  },
  {
   "cell_type": "code",
   "execution_count": 195,
   "metadata": {},
   "outputs": [],
   "source": [
    "# creating our parameters to test\n",
    "params_dtc = {'max_depth': range(1,11),\n",
    "                  'max_features': range(5,21),\n",
    "#                   'min_samples_split': [.9, .8, .7, .6, .5],\n",
    "#                   'min_samples_leaf': [.00001, .0001, .001, .01, .1],\n",
    "           }\n",
    "\n",
    "#create our estimaor\n",
    "d_tree = DecisionTreeClassifier(random_state=1)\n",
    "\n",
    "#create the instance of GridSearchCV using the F1 metric for our scoring. \n",
    "CV_tree = GridSearchCV(d_tree, params_dtc, scoring='f1', n_jobs=-1, verbose=1)"
   ]
  },
  {
   "cell_type": "code",
   "execution_count": 196,
   "metadata": {},
   "outputs": [
    {
     "name": "stdout",
     "output_type": "stream",
     "text": [
      "Fitting 5 folds for each of 160 candidates, totalling 800 fits\n"
     ]
    },
    {
     "name": "stderr",
     "output_type": "stream",
     "text": [
      "[Parallel(n_jobs=-1)]: Using backend LokyBackend with 8 concurrent workers.\n",
      "[Parallel(n_jobs=-1)]: Done  34 tasks      | elapsed:    1.8s\n",
      "[Parallel(n_jobs=-1)]: Done 572 tasks      | elapsed:    5.2s\n",
      "[Parallel(n_jobs=-1)]: Done 800 out of 800 | elapsed:    7.2s finished\n"
     ]
    },
    {
     "data": {
      "text/plain": [
       "GridSearchCV(cv=None, error_score=nan,\n",
       "             estimator=DecisionTreeClassifier(ccp_alpha=0.0, class_weight=None,\n",
       "                                              criterion='gini', max_depth=None,\n",
       "                                              max_features=None,\n",
       "                                              max_leaf_nodes=None,\n",
       "                                              min_impurity_decrease=0.0,\n",
       "                                              min_impurity_split=None,\n",
       "                                              min_samples_leaf=1,\n",
       "                                              min_samples_split=2,\n",
       "                                              min_weight_fraction_leaf=0.0,\n",
       "                                              presort='deprecated',\n",
       "                                              random_state=1, splitter='best'),\n",
       "             iid='deprecated', n_jobs=-1,\n",
       "             param_grid={'max_depth': range(1, 11),\n",
       "                         'max_features': range(5, 21)},\n",
       "             pre_dispatch='2*n_jobs', refit=True, return_train_score=False,\n",
       "             scoring='f1', verbose=1)"
      ]
     },
     "execution_count": 196,
     "metadata": {},
     "output_type": "execute_result"
    }
   ],
   "source": [
    "#fit the Gridsearch to our data\n",
    "CV_tree.fit(X_train, y_train)"
   ]
  },
  {
   "cell_type": "code",
   "execution_count": 197,
   "metadata": {},
   "outputs": [
    {
     "name": "stdout",
     "output_type": "stream",
     "text": [
      "0.4580497423655925\n",
      "{'max_depth': 3, 'max_features': 15}\n",
      "DecisionTreeClassifier(ccp_alpha=0.0, class_weight=None, criterion='gini',\n",
      "                       max_depth=3, max_features=15, max_leaf_nodes=None,\n",
      "                       min_impurity_decrease=0.0, min_impurity_split=None,\n",
      "                       min_samples_leaf=1, min_samples_split=2,\n",
      "                       min_weight_fraction_leaf=0.0, presort='deprecated',\n",
      "                       random_state=1, splitter='best')\n"
     ]
    }
   ],
   "source": [
    "# examine the best model\n",
    "\n",
    "# Single best score achieved across all params (min_samples_split)\n",
    "print(CV_tree.best_score_)\n",
    "\n",
    "# Dictionary containing the parameters (min_samples_split) used to generate that score\n",
    "print(CV_tree.best_params_)\n",
    "\n",
    "# Actual model object fit with those best parameters\n",
    "# Shows default parameters that we did not specify\n",
    "print(CV_tree.best_estimator_)"
   ]
  },
  {
   "cell_type": "code",
   "execution_count": 198,
   "metadata": {},
   "outputs": [
    {
     "name": "stdout",
     "output_type": "stream",
     "text": [
      "F1 Score: 0.4741170778906628\n"
     ]
    }
   ],
   "source": [
    "#Predict the response for test dataset\n",
    "y_pred_tree = CV_tree.best_estimator_.predict(X_test)\n",
    "\n",
    "# Model Accuracy, how often is the classifier correct?\n",
    "print(\"F1 Score:\", f1_score(y_test, y_pred_tree))"
   ]
  },
  {
   "cell_type": "code",
   "execution_count": 199,
   "metadata": {},
   "outputs": [],
   "source": [
    "results['d_tree'] = f1_score(y_test, y_pred_tree)"
   ]
  },
  {
   "cell_type": "code",
   "execution_count": 200,
   "metadata": {},
   "outputs": [
    {
     "data": {
      "text/plain": [
       "{'knn_van': 0.31260096930533116,\n",
       " 'weight_van': 0.5214152700186221,\n",
       " 'tree_van': 0.5142378559463987,\n",
       " 'forest_van': 0.44432373709940254,\n",
       " 'baseline': 0.459620596205962,\n",
       " 'smote': 0.5117728531855956,\n",
       " 'weighted': 0.5271199388846447,\n",
       " 'd_tree': 0.4741170778906628,\n",
       " 'forest': 0.4517876489707475}"
      ]
     },
     "execution_count": 200,
     "metadata": {},
     "output_type": "execute_result"
    }
   ],
   "source": [
    "results"
   ]
  },
  {
   "cell_type": "markdown",
   "metadata": {},
   "source": [
    "### RANDOM FOREST"
   ]
  },
  {
   "cell_type": "code",
   "execution_count": 191,
   "metadata": {},
   "outputs": [],
   "source": [
    "#create a dictionary of all the parameters you want to tune\n",
    "params_forest = { \n",
    "    'max_depth': range(5,11),\n",
    "    'max_features': range(10,21),\n",
    "    'min_samples_split': (.001,.01,.1,.2),\n",
    "    'min_samples_leaf': (.001,.01,.1),\n",
    "#     'n_estimators': (100, 250, 500)\n",
    "}"
   ]
  },
  {
   "cell_type": "code",
   "execution_count": 192,
   "metadata": {},
   "outputs": [
    {
     "name": "stdout",
     "output_type": "stream",
     "text": [
      "Fitting 5 folds for each of 792 candidates, totalling 3960 fits\n"
     ]
    },
    {
     "name": "stderr",
     "output_type": "stream",
     "text": [
      "[Parallel(n_jobs=-1)]: Using backend LokyBackend with 8 concurrent workers.\n",
      "[Parallel(n_jobs=-1)]: Done  25 tasks      | elapsed:    7.6s\n",
      "[Parallel(n_jobs=-1)]: Done 146 tasks      | elapsed:   33.7s\n",
      "[Parallel(n_jobs=-1)]: Done 349 tasks      | elapsed:  1.4min\n",
      "[Parallel(n_jobs=-1)]: Done 632 tasks      | elapsed:  2.7min\n",
      "[Parallel(n_jobs=-1)]: Done 997 tasks      | elapsed:  4.1min\n",
      "[Parallel(n_jobs=-1)]: Done 1442 tasks      | elapsed:  6.2min\n",
      "[Parallel(n_jobs=-1)]: Done 1969 tasks      | elapsed:  8.9min\n",
      "[Parallel(n_jobs=-1)]: Done 2576 tasks      | elapsed: 11.7min\n",
      "[Parallel(n_jobs=-1)]: Done 3265 tasks      | elapsed: 15.4min\n",
      "[Parallel(n_jobs=-1)]: Done 3960 out of 3960 | elapsed: 18.9min finished\n"
     ]
    },
    {
     "data": {
      "text/plain": [
       "GridSearchCV(cv=None, error_score=nan,\n",
       "             estimator=RandomForestClassifier(bootstrap=True, ccp_alpha=0.0,\n",
       "                                              class_weight=None,\n",
       "                                              criterion='gini', max_depth=None,\n",
       "                                              max_features='auto',\n",
       "                                              max_leaf_nodes=None,\n",
       "                                              max_samples=None,\n",
       "                                              min_impurity_decrease=0.0,\n",
       "                                              min_impurity_split=None,\n",
       "                                              min_samples_leaf=1,\n",
       "                                              min_samples_split=2,\n",
       "                                              min_weight_fraction_leaf=0.0,\n",
       "                                              n_estimators=100, n_jobs=None,\n",
       "                                              oob_score=False, random_state=1,\n",
       "                                              verbose=0, warm_start=False),\n",
       "             iid='deprecated', n_jobs=-1,\n",
       "             param_grid={'max_depth': range(5, 11),\n",
       "                         'max_features': range(10, 21),\n",
       "                         'min_samples_leaf': (0.001, 0.01, 0.1),\n",
       "                         'min_samples_split': (0.001, 0.01, 0.1, 0.2)},\n",
       "             pre_dispatch='2*n_jobs', refit=True, return_train_score=False,\n",
       "             scoring='f1', verbose=2)"
      ]
     },
     "execution_count": 192,
     "metadata": {},
     "output_type": "execute_result"
    }
   ],
   "source": [
    "#create a grid search object and fit it to the data\n",
    "forest = RandomForestClassifier(random_state = 1, n_estimators=100)\n",
    "CV_forest = GridSearchCV(forest, params_forest, scoring='f1', n_jobs=-1, verbose=2)\n",
    "CV_forest.fit(X_train, y_train)"
   ]
  },
  {
   "cell_type": "code",
   "execution_count": 193,
   "metadata": {},
   "outputs": [
    {
     "name": "stdout",
     "output_type": "stream",
     "text": [
      "0.45978564968625946\n",
      "{'max_depth': 10, 'max_features': 16, 'min_samples_leaf': 0.001, 'min_samples_split': 0.001}\n",
      "RandomForestClassifier(bootstrap=True, ccp_alpha=0.0, class_weight=None,\n",
      "                       criterion='gini', max_depth=10, max_features=16,\n",
      "                       max_leaf_nodes=None, max_samples=None,\n",
      "                       min_impurity_decrease=0.0, min_impurity_split=None,\n",
      "                       min_samples_leaf=0.001, min_samples_split=0.001,\n",
      "                       min_weight_fraction_leaf=0.0, n_estimators=100,\n",
      "                       n_jobs=None, oob_score=False, random_state=1, verbose=0,\n",
      "                       warm_start=False)\n"
     ]
    }
   ],
   "source": [
    "# examine the best model\n",
    "\n",
    "# Single best score achieved across all params (min_samples_split)\n",
    "print(CV_forest.best_score_)\n",
    "\n",
    "# Dictionary containing the parameters (min_samples_split) used to generate that score\n",
    "print(CV_forest.best_params_)\n",
    "\n",
    "# Actual model object fit with those best parameters\n",
    "# Shows default parameters that we did not specify\n",
    "print(CV_forest.best_estimator_)"
   ]
  },
  {
   "cell_type": "code",
   "execution_count": 194,
   "metadata": {},
   "outputs": [
    {
     "name": "stdout",
     "output_type": "stream",
     "text": [
      "Test Accuracy score:  0.8200888888888889\n",
      "Test Precision score:  0.6731391585760518\n",
      "Test Recall score:  0.33931484502446985\n",
      "Test F1 score:  0.4511930585683297\n"
     ]
    }
   ],
   "source": [
    "#Predict the response for test dataset\n",
    "y_pred_forest = CV_forest.best_estimator_.predict(X_test)\n",
    "\n",
    "# checking metrics\n",
    "print('Test Accuracy score: ', accuracy_score(y_test, y_pred_forest))\n",
    "print('Test Precision score: ', precision_score(y_test, y_pred_forest))\n",
    "print('Test Recall score: ', recall_score(y_test, y_pred_forest))\n",
    "print('Test F1 score: ', f1_score(y_test, y_pred_forest))"
   ]
  },
  {
   "cell_type": "code",
   "execution_count": 171,
   "metadata": {},
   "outputs": [],
   "source": [
    "results['forest'] = f1_score(y_test, y_pred_forest)"
   ]
  },
  {
   "cell_type": "code",
   "execution_count": 172,
   "metadata": {},
   "outputs": [
    {
     "data": {
      "text/plain": [
       "{'knn_van': 0.31260096930533116,\n",
       " 'weight_van': 0.5214152700186221,\n",
       " 'tree_van': 0.5142378559463987,\n",
       " 'forest_van': 0.44432373709940254,\n",
       " 'baseline': 0.459620596205962,\n",
       " 'smote': 0.5117728531855956,\n",
       " 'weighted': 0.5271199388846447,\n",
       " 'd_tree': 0.4741170778906628,\n",
       " 'forest': 0.4517876489707475}"
      ]
     },
     "execution_count": 172,
     "metadata": {},
     "output_type": "execute_result"
    }
   ],
   "source": [
    "results"
   ]
  },
  {
   "cell_type": "markdown",
   "metadata": {},
   "source": [
    "### ENSEMBLE - VOTING"
   ]
  },
  {
   "cell_type": "code",
   "execution_count": 202,
   "metadata": {},
   "outputs": [],
   "source": [
    "from sklearn.ensemble import VotingClassifier"
   ]
  },
  {
   "cell_type": "code",
   "execution_count": 228,
   "metadata": {},
   "outputs": [
    {
     "name": "stdout",
     "output_type": "stream",
     "text": [
      "0.5290923196276183\n"
     ]
    }
   ],
   "source": [
    "\n",
    "\n",
    "voting_clf = VotingClassifier(\n",
    "                estimators=[('lr', CV_weighted.best_estimator_),\n",
    "                            ('smote', CV_smote.best_estimator_),\n",
    "                            ('lr_van', CV_van_weight.best_estimator_),\n",
    "#                             ('tree', grid_tree_van.best_estimator_)\n",
    "                           ], \n",
    "                voting='hard')\n",
    "\n",
    "voting_clf.fit(X_train, y_train)\n",
    "\n",
    "vc_preds = voting_clf.predict(X_test)\n",
    "\n",
    "vc_f1 = f1_score(y_test, vc_preds)\n",
    "\n",
    "print(vc_f1)"
   ]
  },
  {
   "cell_type": "code",
   "execution_count": 210,
   "metadata": {},
   "outputs": [
    {
     "data": {
      "text/plain": [
       "{'knn_van': 0.31260096930533116,\n",
       " 'weight_van': 0.5214152700186221,\n",
       " 'tree_van': 0.5142378559463987,\n",
       " 'forest_van': 0.44432373709940254,\n",
       " 'baseline': 0.459620596205962,\n",
       " 'smote': 0.5117728531855956,\n",
       " 'weighted': 0.5271199388846447,\n",
       " 'd_tree': 0.4741170778906628,\n",
       " 'forest': 0.4517876489707475,\n",
       " 'ensemble_multiple': 0.5290923196276183}"
      ]
     },
     "execution_count": 210,
     "metadata": {},
     "output_type": "execute_result"
    }
   ],
   "source": [
    "results['ensemble_multiple'] = f1_score(y_test, vc_preds)\n",
    "results"
   ]
  },
  {
   "cell_type": "markdown",
   "metadata": {},
   "source": [
    "### ENSEMBLE WEIGHTED LR"
   ]
  },
  {
   "cell_type": "code",
   "execution_count": 222,
   "metadata": {},
   "outputs": [],
   "source": [
    "C_param_range = [\n",
    "#     .00001,\n",
    "                 .00005, .0001, .0005, .001, .005, \n",
    "#                  .01, .05, .1, .5, 1, 5\n",
    "                ]\n",
    "titles = [\n",
    "#     'lr_0_00001',\n",
    "          'lr_0_00005', 'lr_0_0001', 'lr_0_0005', 'lr_0_001', 'lr_0_005', \n",
    "#           'lr_0_01', 'lr_0_05', 'lr_0_1', 'lr_0_5', 'lr_1', 'lr_5'\n",
    "         ]\n",
    "\n",
    "params = dict(zip(titles, C_param_range)) \n",
    "models = {}\n",
    "\n",
    "table = pd.DataFrame(columns = ['C_parameter','F1'])\n",
    "table['C_parameter'] = C_param_range\n",
    "j = 0\n",
    "\n",
    "for k , v  in params.items():\n",
    "    \n",
    "    # Create model using different value for c  \n",
    "    lr = LogisticRegression(penalty = 'l2', C = v, random_state = 1, class_weight='balanced', solver='sag')\n",
    "    \n",
    "    #save the model to a dictionary to use later in our voting classifiers\n",
    "    models[k]= lr\n",
    "    \n",
    "    #the steps below this point are unnecessary in order to create a voting classifier, \n",
    "    #but it is easy to fit the model and see how performance changes for different levels of regularization\n",
    "    lr.fit(X_train, y_train)\n",
    "    \n",
    "    # Predict using model\n",
    "    y_preds = lr.predict(X_test)\n",
    "\n",
    "    # Saving accuracy score in table\n",
    "    table.iloc[j,1] = f1_score(y_test, y_preds)\n",
    "    j += 1"
   ]
  },
  {
   "cell_type": "code",
   "execution_count": 223,
   "metadata": {},
   "outputs": [
    {
     "data": {
      "text/html": [
       "<div>\n",
       "<style scoped>\n",
       "    .dataframe tbody tr th:only-of-type {\n",
       "        vertical-align: middle;\n",
       "    }\n",
       "\n",
       "    .dataframe tbody tr th {\n",
       "        vertical-align: top;\n",
       "    }\n",
       "\n",
       "    .dataframe thead th {\n",
       "        text-align: right;\n",
       "    }\n",
       "</style>\n",
       "<table border=\"1\" class=\"dataframe\">\n",
       "  <thead>\n",
       "    <tr style=\"text-align: right;\">\n",
       "      <th></th>\n",
       "      <th>C_parameter</th>\n",
       "      <th>F1</th>\n",
       "    </tr>\n",
       "  </thead>\n",
       "  <tbody>\n",
       "    <tr>\n",
       "      <th>0</th>\n",
       "      <td>0.00005</td>\n",
       "      <td>0.526275</td>\n",
       "    </tr>\n",
       "    <tr>\n",
       "      <th>1</th>\n",
       "      <td>0.00010</td>\n",
       "      <td>0.529481</td>\n",
       "    </tr>\n",
       "    <tr>\n",
       "      <th>2</th>\n",
       "      <td>0.00050</td>\n",
       "      <td>0.526641</td>\n",
       "    </tr>\n",
       "    <tr>\n",
       "      <th>3</th>\n",
       "      <td>0.00100</td>\n",
       "      <td>0.52712</td>\n",
       "    </tr>\n",
       "    <tr>\n",
       "      <th>4</th>\n",
       "      <td>0.00500</td>\n",
       "      <td>0.523952</td>\n",
       "    </tr>\n",
       "  </tbody>\n",
       "</table>\n",
       "</div>"
      ],
      "text/plain": [
       "   C_parameter        F1\n",
       "0      0.00005  0.526275\n",
       "1      0.00010  0.529481\n",
       "2      0.00050  0.526641\n",
       "3      0.00100   0.52712\n",
       "4      0.00500  0.523952"
      ]
     },
     "execution_count": 223,
     "metadata": {},
     "output_type": "execute_result"
    }
   ],
   "source": [
    "table"
   ]
  },
  {
   "cell_type": "code",
   "execution_count": 224,
   "metadata": {},
   "outputs": [
    {
     "name": "stdout",
     "output_type": "stream",
     "text": [
      "0.527820710973725\n"
     ]
    }
   ],
   "source": [
    "lr_voting = VotingClassifier(estimators=list(models.items()), \n",
    "                              voting='hard')\n",
    "\n",
    "lr_voting.fit(X_train, y_train)\n",
    "\n",
    "lrv_preds = lr_voting.predict(X_test)\n",
    "\n",
    "lrv_f1 = f1_score(y_test, lrv_preds)\n",
    "\n",
    "print(lrv_f1)"
   ]
  },
  {
   "cell_type": "code",
   "execution_count": 225,
   "metadata": {},
   "outputs": [],
   "source": [
    "results['ensemble_lr'] = f1_score(y_test, lrv_preds)"
   ]
  },
  {
   "cell_type": "code",
   "execution_count": 226,
   "metadata": {},
   "outputs": [
    {
     "data": {
      "text/plain": [
       "{'knn_van': 0.31260096930533116,\n",
       " 'weight_van': 0.5214152700186221,\n",
       " 'tree_van': 0.5142378559463987,\n",
       " 'forest_van': 0.44432373709940254,\n",
       " 'baseline': 0.459620596205962,\n",
       " 'smote': 0.5117728531855956,\n",
       " 'weighted': 0.5271199388846447,\n",
       " 'd_tree': 0.4741170778906628,\n",
       " 'forest': 0.4517876489707475,\n",
       " 'ensemble_multiple': 0.5290923196276183,\n",
       " 'ensemble_lr': 0.527820710973725}"
      ]
     },
     "execution_count": 226,
     "metadata": {},
     "output_type": "execute_result"
    }
   ],
   "source": [
    "results"
   ]
  },
  {
   "cell_type": "markdown",
   "metadata": {},
   "source": [
    "### BAGGING - LR"
   ]
  },
  {
   "cell_type": "code",
   "execution_count": 235,
   "metadata": {},
   "outputs": [],
   "source": [
    "from sklearn.ensemble import BaggingClassifier, RandomForestRegressor, ExtraTreesRegressor"
   ]
  },
  {
   "cell_type": "code",
   "execution_count": 248,
   "metadata": {},
   "outputs": [],
   "source": [
    "bc_lr = BaggingClassifier(\n",
    "            base_estimator=LogisticRegression(random_state = 1, class_weight='balanced', C=0.001,\n",
    "                                              solver='sag', penalty='l2'), \n",
    "            n_estimators= 100,\n",
    "            max_samples= .7,\n",
    "            max_features= 10,\n",
    "            oob_score= True\n",
    "                )"
   ]
  },
  {
   "cell_type": "code",
   "execution_count": 249,
   "metadata": {},
   "outputs": [
    {
     "data": {
      "text/plain": [
       "BaggingClassifier(base_estimator=LogisticRegression(C=0.001,\n",
       "                                                    class_weight='balanced',\n",
       "                                                    dual=False,\n",
       "                                                    fit_intercept=True,\n",
       "                                                    intercept_scaling=1,\n",
       "                                                    l1_ratio=None, max_iter=100,\n",
       "                                                    multi_class='auto',\n",
       "                                                    n_jobs=None, penalty='l2',\n",
       "                                                    random_state=1,\n",
       "                                                    solver='sag', tol=0.0001,\n",
       "                                                    verbose=0,\n",
       "                                                    warm_start=False),\n",
       "                  bootstrap=True, bootstrap_features=False, max_features=10,\n",
       "                  max_samples=0.7, n_estimators=100, n_jobs=None,\n",
       "                  oob_score=True, random_state=None, verbose=0,\n",
       "                  warm_start=False)"
      ]
     },
     "execution_count": 249,
     "metadata": {},
     "output_type": "execute_result"
    }
   ],
   "source": [
    "bc_lr.fit(X_train, y_train)"
   ]
  },
  {
   "cell_type": "code",
   "execution_count": 250,
   "metadata": {},
   "outputs": [
    {
     "data": {
      "text/plain": [
       "0.7781333333333333"
      ]
     },
     "execution_count": 250,
     "metadata": {},
     "output_type": "execute_result"
    }
   ],
   "source": [
    "bc_lr.oob_score_"
   ]
  },
  {
   "cell_type": "code",
   "execution_count": 251,
   "metadata": {},
   "outputs": [
    {
     "name": "stdout",
     "output_type": "stream",
     "text": [
      "0.5258654220147803\n"
     ]
    }
   ],
   "source": [
    "bc_lr_preds = bc_lr.predict(X_test)\n",
    "\n",
    "bc_lr_f1 = f1_score(y_test, bc_lr_preds)\n",
    "\n",
    "print(bc_lr_f1)"
   ]
  },
  {
   "cell_type": "code",
   "execution_count": null,
   "metadata": {},
   "outputs": [],
   "source": []
  },
  {
   "cell_type": "code",
   "execution_count": null,
   "metadata": {},
   "outputs": [],
   "source": []
  },
  {
   "cell_type": "code",
   "execution_count": null,
   "metadata": {},
   "outputs": [],
   "source": []
  },
  {
   "cell_type": "code",
   "execution_count": null,
   "metadata": {},
   "outputs": [],
   "source": []
  },
  {
   "cell_type": "code",
   "execution_count": null,
   "metadata": {},
   "outputs": [],
   "source": [
    "lr_clf_weighted = LogisticRegression(solver='liblinear', class_weight='balanced')\n",
    "\n",
    "lr_clf_weighted.fit(X_train, y_train)\n",
    "\n",
    "y_pred_weighted = lr_clf_weighted.predict(X_test)\n",
    "\n",
    "# checking accuracy\n",
    "print('Test Accuracy score: ', metrics.accuracy_score(y_test, y_pred_weighted))\n",
    "print('Test Precision score: ', metrics.precision_score(y_test, y_pred_weighted))\n",
    "print('Test Recall score: ', metrics.recall_score(y_test, y_pred_weighted))\n",
    "print('Test F1 score: ', metrics.f1_score(y_test, y_pred_weighted))"
   ]
  },
  {
   "cell_type": "code",
   "execution_count": null,
   "metadata": {},
   "outputs": [],
   "source": [
    "lr_coef_df = pd.DataFrame(data=CV_weighted.best_estimator_.coef_)\n",
    "lr_coef_df.columns = X_poly_simplified.columns\n",
    "lr_coef_df = lr_coef_df.T.sort_values(by=0).T\n",
    "\n",
    "sorted_df = lr_coef_df.T\n",
    "sorted_df.iloc[sorted_df[0].abs().argsort()][::-1].tail(20)"
   ]
  },
  {
   "cell_type": "code",
   "execution_count": null,
   "metadata": {},
   "outputs": [],
   "source": [
    "poly_drop = list(sorted_df[sorted_df[0].abs() < .025].index)"
   ]
  },
  {
   "cell_type": "code",
   "execution_count": null,
   "metadata": {},
   "outputs": [],
   "source": [
    "print(metrics.confusion_matrix(y_test, y_pred_weighted))"
   ]
  },
  {
   "cell_type": "code",
   "execution_count": null,
   "metadata": {},
   "outputs": [],
   "source": [
    "from sklearn.metrics import confusion_matrix\n",
    "cm = confusion_matrix(y_test, y_pred_weighted)\n",
    "classes = ['No Default', 'Defaulted']"
   ]
  },
  {
   "cell_type": "code",
   "execution_count": null,
   "metadata": {},
   "outputs": [],
   "source": [
    "def plot_confusion_matrix(cm, classes,\n",
    "                          normalize=False,\n",
    "                          title='Confusion matrix',\n",
    "                          cmap=plt.cm.Blues):\n",
    "    \"\"\"\n",
    "    This function prints and plots the confusion matrix.\n",
    "    Normalization can be applied by setting `normalize=True`.\n",
    "    \"\"\"\n",
    "    if normalize:\n",
    "        cm = cm.astype('float') / cm.sum(axis=1)[:, np.newaxis]\n",
    "        print(\"Normalized confusion matrix\")\n",
    "    else:\n",
    "        print('Confusion Matrix, without normalization')\n",
    "\n",
    "    print(cm)\n",
    "\n",
    "    plt.imshow(cm, interpolation='nearest', cmap=cmap)\n",
    "    plt.title(title)\n",
    "    plt.colorbar()\n",
    "    tick_marks = np.arange(len(classes))\n",
    "    plt.xticks(tick_marks, classes, rotation=45)\n",
    "    plt.yticks(tick_marks, classes)\n",
    "\n",
    "    fmt = '.2f' if normalize else 'd'\n",
    "    thresh = cm.max() / 2.\n",
    "    for i, j in itertools.product(range(cm.shape[0]), range(cm.shape[1])):\n",
    "        plt.text(j, i, format(cm[i, j], fmt),\n",
    "                 horizontalalignment=\"center\",\n",
    "                 color=\"white\" if cm[i, j] > thresh else \"black\")\n",
    "\n",
    "    plt.tight_layout()\n",
    "    plt.ylabel('True label')\n",
    "    plt.xlabel('Predicted label')"
   ]
  },
  {
   "cell_type": "code",
   "execution_count": null,
   "metadata": {},
   "outputs": [],
   "source": [
    "import itertools\n",
    "plot_confusion_matrix(cm, classes,\n",
    "                          normalize=False,\n",
    "                          title='Confusion matrix',\n",
    "                          cmap=plt.cm.Blues)"
   ]
  },
  {
   "cell_type": "code",
   "execution_count": null,
   "metadata": {},
   "outputs": [],
   "source": [
    "lr_clf_coef_df = pd.DataFrame(data=lr_clf_weighted.coef_)\n",
    "lr_clf_coef_df.columns = X_poly.columns\n",
    "lr_clf_coef_df = lr_clf_coef_df.T.sort_values(by=0).T\n",
    "lr_clf_coef_df.T"
   ]
  },
  {
   "cell_type": "code",
   "execution_count": null,
   "metadata": {},
   "outputs": [],
   "source": [
    "list(sorted_df2[sorted_df2[0].abs() < .01].index)"
   ]
  },
  {
   "cell_type": "code",
   "execution_count": null,
   "metadata": {
    "scrolled": true
   },
   "outputs": [],
   "source": [
    "sorted_df2 = lr_clf_coef_df.T\n",
    "sorted_df2.iloc[sorted_df2[0].abs().argsort()][::-1].tail(20)"
   ]
  },
  {
   "cell_type": "code",
   "execution_count": null,
   "metadata": {},
   "outputs": [],
   "source": [
    "# from sklearn.neighbors import KNeighborsClassifier\n",
    "# knn = KNeighborsClassifier()\n",
    "# neighbors = list(range(1,16,2))\n",
    "# algos = ['ball_tree', 'kd_tree', 'brute']\n",
    "# p = list(range(1,6))\n",
    "# weight = ['uniform', 'distance']\n",
    "# params = {'n_neighbors': neighbors, 'algorithm': algos, 'p': p, 'weights': weight}\n",
    "# grid_k = GridSearchCV(KNeighborsClassifier(), params, scoring='f1', verbose=1, n_jobs=-1, cv=7)\n",
    "# grid_k.fit(X_train, y_train)"
   ]
  },
  {
   "cell_type": "code",
   "execution_count": null,
   "metadata": {},
   "outputs": [],
   "source": [
    "# # examine the best model\n",
    "# print(grid_k.best_score_)\n",
    "# print(grid_k.best_params_)\n",
    "# print(grid_k.best_estimator_)"
   ]
  },
  {
   "cell_type": "code",
   "execution_count": null,
   "metadata": {},
   "outputs": [],
   "source": [
    "print(metrics.confusion_matrix(y_test, rfc_pred))"
   ]
  },
  {
   "cell_type": "code",
   "execution_count": null,
   "metadata": {},
   "outputs": [],
   "source": [
    "results = {}\n",
    "\n",
    "results['imbalanced'] = (accuracy_score(y_test, y_pred_test), f1_score(y_test, y_pred_test))"
   ]
  },
  {
   "cell_type": "code",
   "execution_count": null,
   "metadata": {
    "scrolled": false
   },
   "outputs": [],
   "source": [
    "df_train.hist('limit_bal')"
   ]
  },
  {
   "cell_type": "code",
   "execution_count": null,
   "metadata": {},
   "outputs": [],
   "source": [
    "#create a list of parameters to check \n",
    "parameter_dict={'min_samples_leaf':[.01,.05,.1], 'max_depth':range(1,11), 'min_impurity_decrease':[.01,.05,.1]}\n",
    "\n",
    "#create our estimaor\n",
    "reg_tree=DecisionTreeRegressor(random_state=1)"
   ]
  },
  {
   "cell_type": "code",
   "execution_count": null,
   "metadata": {},
   "outputs": [],
   "source": [
    "#create the instance of GridSearchCV\n",
    "grid_tree=GridSearchCV(reg_tree, parameter_dict, cv=5, verbose=1, scoring='neg_mean_squared_error')\n",
    "\n",
    "#fit the Gridsearch to our data\n",
    "grid_tree.fit(X_train,y_train)"
   ]
  },
  {
   "cell_type": "code",
   "execution_count": null,
   "metadata": {},
   "outputs": [],
   "source": [
    "# examine the best model\n",
    "\n",
    "# Single best score achieved across all params (min_samples_split)\n",
    "print(grid_tree.best_score_)\n",
    "\n",
    "# Dictionary containing the parameters (min_samples_split) used to generate that score\n",
    "print(grid_tree.best_params_)\n",
    "\n",
    "# Actual model object fit with those best parameters\n",
    "# Shows default parameters that we did not specify\n",
    "print(grid_tree.best_estimator_)"
   ]
  },
  {
   "cell_type": "code",
   "execution_count": null,
   "metadata": {},
   "outputs": [],
   "source": [
    "from sklearn.metrics import mean_squared_error\n",
    "\n",
    "#Predict the response for test dataset\n",
    "y_pred_tree = grid_tree.best_estimator_.predict(X_test)\n",
    "\n",
    "# Model Accuracy, how often is the classifier correct?\n",
    "print(\"Testing Metric:\", metrics.mean_squared_error(y_test, y_pred_tree))"
   ]
  },
  {
   "cell_type": "code",
   "execution_count": null,
   "metadata": {
    "scrolled": true
   },
   "outputs": [],
   "source": [
    "df_train.boxplot('sum_paycodes', 'default', showfliers=False)"
   ]
  },
  {
   "cell_type": "code",
   "execution_count": null,
   "metadata": {},
   "outputs": [],
   "source": [
    "df_train.boxplot('pay_1', 'default', showfliers=False)"
   ]
  },
  {
   "cell_type": "code",
   "execution_count": null,
   "metadata": {},
   "outputs": [],
   "source": [
    "conditions = [df_train.pay_1 <= 0, df_train.pay_1 > 0]\n",
    "choices = [0, 1]\n",
    "\n",
    "print(df_train.pay_1.value_counts())\n",
    "df_train['pay1_simplified'] = np.select(conditions, choices, df_train.pay_1)\n",
    "print(df_train.pay1_simplified.value_counts())"
   ]
  },
  {
   "cell_type": "code",
   "execution_count": null,
   "metadata": {},
   "outputs": [],
   "source": [
    "df_train.groupby('default').pay1_simplified.value_counts(normalize=True)"
   ]
  },
  {
   "cell_type": "code",
   "execution_count": null,
   "metadata": {},
   "outputs": [],
   "source": [
    "conditions = [df_train.pay_2 <= 0, df_train.pay_2 > 0]\n",
    "choices = [0, 1]\n",
    "\n",
    "print(df_train.pay_2.value_counts())\n",
    "df_train['pay2_simplified'] = np.select(conditions, choices, df_train.pay_2)\n",
    "print(df_train.pay2_simplified.value_counts())"
   ]
  },
  {
   "cell_type": "code",
   "execution_count": null,
   "metadata": {},
   "outputs": [],
   "source": [
    "df_train.groupby('default').pay2_simplified.value_counts(normalize=True)"
   ]
  },
  {
   "cell_type": "code",
   "execution_count": null,
   "metadata": {
    "scrolled": true
   },
   "outputs": [],
   "source": [
    "df_train.head()"
   ]
  },
  {
   "cell_type": "code",
   "execution_count": null,
   "metadata": {
    "scrolled": true
   },
   "outputs": [],
   "source": [
    "df_train.groupby('default').sum_paycodes.describe()"
   ]
  },
  {
   "cell_type": "code",
   "execution_count": null,
   "metadata": {},
   "outputs": [],
   "source": [
    "df_train.boxplot('age', 'default', showfliers=False)"
   ]
  },
  {
   "cell_type": "code",
   "execution_count": null,
   "metadata": {},
   "outputs": [],
   "source": [
    "plt.scatter(x = df_train[df_train['default']==0].sum_paycodes.head(1000), y = df_train[df_train['default']==0].limit_bal.head(1000),\n",
    "                        alpha = .50,edgecolor= 'black',  c = 'grey', s= 75, label = 'Did Not Default')\n",
    "plt.scatter(x = df_train[df_train['default']==1].sum_paycodes.head(1000), y = df_train[df_train['default']==1].limit_bal.head(1000),\n",
    "                        alpha = .50,edgecolors= 'black',  c = 'lightgreen', s= 75, label = 'Defaulted')\n",
    "plt.xlabel('Age')\n",
    "plt.ylabel('CC Limit')\n",
    "plt.title('Age vs CC Limit')\n",
    "plt.legend()\n",
    "\n",
    "plt.show()"
   ]
  },
  {
   "cell_type": "code",
   "execution_count": null,
   "metadata": {
    "scrolled": false
   },
   "outputs": [],
   "source": [
    "df_train.hist('bill_amt1')"
   ]
  },
  {
   "cell_type": "markdown",
   "metadata": {},
   "source": [
    "* drop pay_amt6\n",
    "* drop bill_amt2, drop bill_amt4, drop bill_amt6"
   ]
  },
  {
   "cell_type": "code",
   "execution_count": null,
   "metadata": {},
   "outputs": [],
   "source": [
    "df_train['']"
   ]
  },
  {
   "cell_type": "code",
   "execution_count": null,
   "metadata": {},
   "outputs": [],
   "source": [
    "df_train.iloc[:,5:].head(20)"
   ]
  },
  {
   "cell_type": "code",
   "execution_count": null,
   "metadata": {
    "scrolled": false
   },
   "outputs": [],
   "source": [
    "df_train.iloc[:,5:].corr()"
   ]
  },
  {
   "cell_type": "code",
   "execution_count": null,
   "metadata": {},
   "outputs": [],
   "source": [
    "df_train.plot.scatter('PAY_0', 'default payment next month')"
   ]
  },
  {
   "cell_type": "code",
   "execution_count": null,
   "metadata": {},
   "outputs": [],
   "source": [
    "cols =[]\n",
    "for i in df_train:\n",
    "    cols.append(i)"
   ]
  },
  {
   "cell_type": "code",
   "execution_count": null,
   "metadata": {},
   "outputs": [],
   "source": [
    "n = 4\n",
    "row_groups= [cols[i:i+n] for i in range(0, len(cols), n) ]\n",
    "for i in row_groups:\n",
    "    pp = sns.pairplot(data=df_train, y_vars=['default payment next month'],x_vars=i, kind='reg', height=3)"
   ]
  },
  {
   "cell_type": "code",
   "execution_count": null,
   "metadata": {},
   "outputs": [],
   "source": [
    "df_train.hist('AGE')"
   ]
  },
  {
   "cell_type": "code",
   "execution_count": null,
   "metadata": {},
   "outputs": [],
   "source": [
    "plt.scatter(x = df_train[df_train['default']==0].age.head(1000), y = df_train[df_train['default']==0].limit_bal.head(1000),\n",
    "                        alpha = .50,edgecolor= 'black',  c = 'grey', s= 75, label = 'Did Not Default')\n",
    "plt.scatter(x = df_train[df_train['default']==1].age.head(1000), y = df_train[df_train['default']==1].limit_bal.head(1000),\n",
    "                        alpha = .50,edgecolors= 'black',  c = 'lightgreen', s= 75, label = 'Defaulted')\n",
    "plt.xlabel('Age')\n",
    "plt.ylabel('CC Limit')\n",
    "plt.title('Age vs CC Limit')\n",
    "plt.legend()\n",
    "\n",
    "plt.show()"
   ]
  },
  {
   "cell_type": "code",
   "execution_count": null,
   "metadata": {},
   "outputs": [],
   "source": [
    "plt.scatter(x = df_train[df_train['default']==0].age.head(1000), y = df_train[df_train['default']==0].pay_1.head(1000),\n",
    "                        alpha = .50,edgecolor= 'black',  c = 'grey', s= 75, label = 'Did Not Default')\n",
    "plt.scatter(x = df_train[df_train['default']==1].age.head(1000), y = df_train[df_train['default']==1].pay_1.head(1000),\n",
    "                        alpha = .50,edgecolors= 'black',  c = 'lightgreen', s= 75, label = 'Defaulted')\n",
    "plt.xlabel('Age')\n",
    "plt.ylabel('Payment Code 1')\n",
    "plt.title('Age vs Payment Code 1')\n",
    "plt.legend()\n",
    "\n",
    "plt.show()"
   ]
  },
  {
   "cell_type": "code",
   "execution_count": null,
   "metadata": {},
   "outputs": [],
   "source": [
    "plt.scatter(x = df_train[df_train['default']==0].limit_bal.head(1000), y = df_train[df_train['default']==0].pay_1.head(1000),\n",
    "                        alpha = .50,edgecolor= 'black',  c = 'grey', s= 75, label = 'Did Not Default')\n",
    "plt.scatter(x = df_train[df_train['default']==1].limit_bal.head(1000), y = df_train[df_train['default']==1].pay_1.head(1000),\n",
    "                        alpha = .50,edgecolors= 'black',  c = 'lightgreen', s= 75, label = 'Defaulted')\n",
    "plt.xlabel('CC Limit')\n",
    "plt.ylabel('Payment Code 1')\n",
    "plt.title('CC Limit vs Payment Code 1')\n",
    "plt.legend()\n",
    "\n",
    "plt.show()"
   ]
  },
  {
   "cell_type": "code",
   "execution_count": null,
   "metadata": {},
   "outputs": [],
   "source": [
    "from sklearn.preprocessing import PolynomialFeatures\n",
    "\n",
    "polynomial_features_2 = PolynomialFeatures(degree=2, include_bias=False)\n",
    "features_poly = polynomial_features_2.fit_transform(df_train)\n",
    "poly_columns = polynomial_features_2.get_feature_names(df_train.columns)\n",
    "\n",
    "features_poly = pd.DataFrame(features_poly, columns=poly_columns)\n",
    "features_poly.head()"
   ]
  },
  {
   "cell_type": "code",
   "execution_count": null,
   "metadata": {},
   "outputs": [],
   "source": [
    "features_poly.columns"
   ]
  },
  {
   "cell_type": "code",
   "execution_count": null,
   "metadata": {},
   "outputs": [],
   "source": []
  },
  {
   "cell_type": "code",
   "execution_count": null,
   "metadata": {},
   "outputs": [],
   "source": [
    "# trying logistic regression again with the balanced dataset\n",
    "y_train_up = upsampled.default\n",
    "X_train_up = upsampled.drop('default', axis=1)\n",
    "\n",
    "upsampled_dt = DecisionTreeClassifier(max_depth=5)\n",
    "\n",
    "upsampled_dt.fit(X_train, y_train)\n",
    "\n",
    "upsampled_pred = upsampled_dt.predict(X_test)\n",
    "\n",
    "# checking f1\n",
    "print('Test F1 score: ', f1_score(y_test, upsampled_pred))"
   ]
  }
 ],
 "metadata": {
  "kernelspec": {
   "display_name": "Python [conda env:learn-env] *",
   "language": "python",
   "name": "conda-env-learn-env-py"
  },
  "language_info": {
   "codemirror_mode": {
    "name": "ipython",
    "version": 3
   },
   "file_extension": ".py",
   "mimetype": "text/x-python",
   "name": "python",
   "nbconvert_exporter": "python",
   "pygments_lexer": "ipython3",
   "version": "3.6.9"
  }
 },
 "nbformat": 4,
 "nbformat_minor": 2
}
