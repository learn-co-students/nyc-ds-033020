{
 "cells": [
  {
   "cell_type": "code",
   "execution_count": 5,
   "metadata": {},
   "outputs": [],
   "source": [
    "import pandas as pd\n",
    "import numpy as np\n",
    "from collections import Counter\n",
    "\n",
    "import matplotlib.pyplot as plt\n",
    "%matplotlib inline \n",
    "import seaborn as sns\n",
    "sns.set_style('ticks')\n",
    "\n",
    "from sklearn.model_selection import train_test_split\n",
    "from sklearn.model_selection import GridSearchCV\n",
    "from sklearn.preprocessing import PolynomialFeatures\n",
    "from sklearn.preprocessing import StandardScaler\n",
    "from sklearn.preprocessing import MinMaxScaler\n",
    "from sklearn.tree import DecisionTreeClassifier\n",
    "from sklearn.tree import DecisionTreeRegressor\n",
    "from sklearn.dummy import DummyClassifier\n",
    "from sklearn.metrics import accuracy_score, precision_score, recall_score, f1_score, roc_curve, roc_auc_score\n",
    "from sklearn import datasets, linear_model\n",
    "from sklearn.neighbors import KNeighborsClassifier\n",
    "from sklearn.linear_model import LinearRegression\n",
    "from sklearn.linear_model import LogisticRegression\n",
    "from sklearn.utils import resample\n",
    "from sklearn.ensemble import RandomForestClassifier\n",
    "from imblearn.over_sampling import SMOTE\n",
    "from imblearn.under_sampling import TomekLinks\n",
    "import statsmodels.api as sm\n",
    "from scipy import stats\n",
    "\n",
    "import warnings\n",
    "warnings.filterwarnings('ignore')"
   ]
  },
  {
   "cell_type": "code",
   "execution_count": 59,
   "metadata": {},
   "outputs": [],
   "source": [
    "df_train = pd.read_csv('dataset.csv', index_col=0)\n",
    "\n",
    "df_test = pd.read_csv('validation_set.csv', index_col=0)"
   ]
  },
  {
   "cell_type": "code",
   "execution_count": 60,
   "metadata": {},
   "outputs": [],
   "source": [
    "def df_cleaner(df_train):\n",
    "    df_train = df_train.astype(float)\n",
    "    df_train.SEX = np.where(df_train.SEX == 2, 0, df_train.SEX)\n",
    "\n",
    "    conditions_mar = [df_train.MARRIAGE == 3, df_train.MARRIAGE == 2]\n",
    "    choices_mar = [0, 0]\n",
    "    df_train.MARRIAGE = np.select(conditions_mar, choices_mar, df_train.MARRIAGE)\n",
    "\n",
    "    conditions_edu = [df_train.EDUCATION == 5, df_train.EDUCATION == 6, df_train.EDUCATION == 0]\n",
    "    choices_edu = [4, 4, 4]\n",
    "    df_train.EDUCATION = np.select(conditions_edu, choices_edu, df_train.EDUCATION)\n",
    "    \n",
    "    df_train.rename(columns={'default payment next month': 'default', 'PAY_0': 'PAY_1'}, inplace=True)\n",
    "\n",
    "    col_dict = {col: col.lower() for col in df_train.columns}\n",
    "    df_train.rename(columns=col_dict, inplace = True) \n",
    "    \n",
    "    to_dummy = ['education', 'pay_1', 'pay_2', 'pay_3', 'pay_4', 'pay_5', 'pay_6']\n",
    "    df_train = pd.get_dummies(df_train, columns=to_dummy, prefix=to_dummy, drop_first=True, dtype=float)\n",
    "\n",
    "    df_train.columns = [col.replace('.0', '').replace('-', 'minus_') for col in df_train.columns]\n",
    "    \n",
    "    return df_train"
   ]
  },
  {
   "cell_type": "code",
   "execution_count": 61,
   "metadata": {},
   "outputs": [],
   "source": [
    "df_train = df_cleaner(df_train)\n",
    "df_test = df_cleaner(df_test)"
   ]
  },
  {
   "cell_type": "code",
   "execution_count": 62,
   "metadata": {},
   "outputs": [
    {
     "data": {
      "text/plain": [
       "['pay_5_8', 'pay_6_8']"
      ]
     },
     "execution_count": 62,
     "metadata": {},
     "output_type": "execute_result"
    }
   ],
   "source": [
    "train_drop = list(np.setdiff1d(list(df_train.columns),list(df_test.columns)))\n",
    "# yields the elements in `train columns` that are NOT in `test columns`\n",
    "train_drop.remove('default')\n",
    "train_drop"
   ]
  },
  {
   "cell_type": "code",
   "execution_count": 63,
   "metadata": {},
   "outputs": [
    {
     "data": {
      "text/html": [
       "<div>\n",
       "<style scoped>\n",
       "    .dataframe tbody tr th:only-of-type {\n",
       "        vertical-align: middle;\n",
       "    }\n",
       "\n",
       "    .dataframe tbody tr th {\n",
       "        vertical-align: top;\n",
       "    }\n",
       "\n",
       "    .dataframe thead th {\n",
       "        text-align: right;\n",
       "    }\n",
       "</style>\n",
       "<table border=\"1\" class=\"dataframe\">\n",
       "  <thead>\n",
       "    <tr style=\"text-align: right;\">\n",
       "      <th></th>\n",
       "      <th>limit_bal</th>\n",
       "      <th>sex</th>\n",
       "      <th>marriage</th>\n",
       "      <th>age</th>\n",
       "      <th>bill_amt1</th>\n",
       "      <th>bill_amt2</th>\n",
       "      <th>bill_amt3</th>\n",
       "      <th>bill_amt4</th>\n",
       "      <th>bill_amt5</th>\n",
       "      <th>bill_amt6</th>\n",
       "      <th>...</th>\n",
       "      <th>pay_5_6</th>\n",
       "      <th>pay_5_7</th>\n",
       "      <th>pay_6_minus_1</th>\n",
       "      <th>pay_6_0</th>\n",
       "      <th>pay_6_2</th>\n",
       "      <th>pay_6_3</th>\n",
       "      <th>pay_6_4</th>\n",
       "      <th>pay_6_5</th>\n",
       "      <th>pay_6_6</th>\n",
       "      <th>pay_6_7</th>\n",
       "    </tr>\n",
       "  </thead>\n",
       "  <tbody>\n",
       "    <tr>\n",
       "      <th>0</th>\n",
       "      <td>200000.0</td>\n",
       "      <td>0.0</td>\n",
       "      <td>1.0</td>\n",
       "      <td>30.0</td>\n",
       "      <td>140327.0</td>\n",
       "      <td>143137.0</td>\n",
       "      <td>145374.0</td>\n",
       "      <td>147273.0</td>\n",
       "      <td>149244.0</td>\n",
       "      <td>151973.0</td>\n",
       "      <td>...</td>\n",
       "      <td>0.0</td>\n",
       "      <td>0.0</td>\n",
       "      <td>0.0</td>\n",
       "      <td>0.0</td>\n",
       "      <td>1.0</td>\n",
       "      <td>0.0</td>\n",
       "      <td>0.0</td>\n",
       "      <td>0.0</td>\n",
       "      <td>0.0</td>\n",
       "      <td>0.0</td>\n",
       "    </tr>\n",
       "    <tr>\n",
       "      <th>1</th>\n",
       "      <td>200000.0</td>\n",
       "      <td>0.0</td>\n",
       "      <td>0.0</td>\n",
       "      <td>27.0</td>\n",
       "      <td>0.0</td>\n",
       "      <td>0.0</td>\n",
       "      <td>0.0</td>\n",
       "      <td>0.0</td>\n",
       "      <td>0.0</td>\n",
       "      <td>0.0</td>\n",
       "      <td>...</td>\n",
       "      <td>0.0</td>\n",
       "      <td>0.0</td>\n",
       "      <td>0.0</td>\n",
       "      <td>0.0</td>\n",
       "      <td>0.0</td>\n",
       "      <td>0.0</td>\n",
       "      <td>0.0</td>\n",
       "      <td>0.0</td>\n",
       "      <td>0.0</td>\n",
       "      <td>0.0</td>\n",
       "    </tr>\n",
       "    <tr>\n",
       "      <th>2</th>\n",
       "      <td>20000.0</td>\n",
       "      <td>0.0</td>\n",
       "      <td>0.0</td>\n",
       "      <td>28.0</td>\n",
       "      <td>2937.0</td>\n",
       "      <td>5696.0</td>\n",
       "      <td>4144.0</td>\n",
       "      <td>8168.0</td>\n",
       "      <td>6894.0</td>\n",
       "      <td>11424.0</td>\n",
       "      <td>...</td>\n",
       "      <td>0.0</td>\n",
       "      <td>0.0</td>\n",
       "      <td>0.0</td>\n",
       "      <td>1.0</td>\n",
       "      <td>0.0</td>\n",
       "      <td>0.0</td>\n",
       "      <td>0.0</td>\n",
       "      <td>0.0</td>\n",
       "      <td>0.0</td>\n",
       "      <td>0.0</td>\n",
       "    </tr>\n",
       "    <tr>\n",
       "      <th>3</th>\n",
       "      <td>50000.0</td>\n",
       "      <td>1.0</td>\n",
       "      <td>0.0</td>\n",
       "      <td>23.0</td>\n",
       "      <td>51274.0</td>\n",
       "      <td>50474.0</td>\n",
       "      <td>49724.0</td>\n",
       "      <td>48437.0</td>\n",
       "      <td>18712.0</td>\n",
       "      <td>19129.0</td>\n",
       "      <td>...</td>\n",
       "      <td>0.0</td>\n",
       "      <td>0.0</td>\n",
       "      <td>0.0</td>\n",
       "      <td>1.0</td>\n",
       "      <td>0.0</td>\n",
       "      <td>0.0</td>\n",
       "      <td>0.0</td>\n",
       "      <td>0.0</td>\n",
       "      <td>0.0</td>\n",
       "      <td>0.0</td>\n",
       "    </tr>\n",
       "    <tr>\n",
       "      <th>4</th>\n",
       "      <td>20000.0</td>\n",
       "      <td>1.0</td>\n",
       "      <td>1.0</td>\n",
       "      <td>47.0</td>\n",
       "      <td>390.0</td>\n",
       "      <td>780.0</td>\n",
       "      <td>0.0</td>\n",
       "      <td>0.0</td>\n",
       "      <td>0.0</td>\n",
       "      <td>0.0</td>\n",
       "      <td>...</td>\n",
       "      <td>0.0</td>\n",
       "      <td>0.0</td>\n",
       "      <td>0.0</td>\n",
       "      <td>0.0</td>\n",
       "      <td>0.0</td>\n",
       "      <td>0.0</td>\n",
       "      <td>0.0</td>\n",
       "      <td>0.0</td>\n",
       "      <td>0.0</td>\n",
       "      <td>0.0</td>\n",
       "    </tr>\n",
       "  </tbody>\n",
       "</table>\n",
       "<p>5 rows × 75 columns</p>\n",
       "</div>"
      ],
      "text/plain": [
       "   limit_bal  sex  marriage   age  bill_amt1  bill_amt2  bill_amt3  bill_amt4  \\\n",
       "0   200000.0  0.0       1.0  30.0   140327.0   143137.0   145374.0   147273.0   \n",
       "1   200000.0  0.0       0.0  27.0        0.0        0.0        0.0        0.0   \n",
       "2    20000.0  0.0       0.0  28.0     2937.0     5696.0     4144.0     8168.0   \n",
       "3    50000.0  1.0       0.0  23.0    51274.0    50474.0    49724.0    48437.0   \n",
       "4    20000.0  1.0       1.0  47.0      390.0      780.0        0.0        0.0   \n",
       "\n",
       "   bill_amt5  bill_amt6  ...  pay_5_6  pay_5_7  pay_6_minus_1  pay_6_0  \\\n",
       "0   149244.0   151973.0  ...      0.0      0.0            0.0      0.0   \n",
       "1        0.0        0.0  ...      0.0      0.0            0.0      0.0   \n",
       "2     6894.0    11424.0  ...      0.0      0.0            0.0      1.0   \n",
       "3    18712.0    19129.0  ...      0.0      0.0            0.0      1.0   \n",
       "4        0.0        0.0  ...      0.0      0.0            0.0      0.0   \n",
       "\n",
       "   pay_6_2  pay_6_3  pay_6_4  pay_6_5  pay_6_6  pay_6_7  \n",
       "0      1.0      0.0      0.0      0.0      0.0      0.0  \n",
       "1      0.0      0.0      0.0      0.0      0.0      0.0  \n",
       "2      0.0      0.0      0.0      0.0      0.0      0.0  \n",
       "3      0.0      0.0      0.0      0.0      0.0      0.0  \n",
       "4      0.0      0.0      0.0      0.0      0.0      0.0  \n",
       "\n",
       "[5 rows x 75 columns]"
      ]
     },
     "execution_count": 63,
     "metadata": {},
     "output_type": "execute_result"
    }
   ],
   "source": [
    "df_train = df_train.drop(columns=train_drop, axis=1)\n",
    "df_train.head()"
   ]
  },
  {
   "cell_type": "markdown",
   "metadata": {},
   "source": [
    "## FEATURE CREATION/SELECTION"
   ]
  },
  {
   "cell_type": "code",
   "execution_count": 64,
   "metadata": {},
   "outputs": [],
   "source": [
    "def df_features(df_train):\n",
    "    df_train['avg_bill'] = (df_train['bill_amt1'] + df_train['bill_amt2'] + df_train['bill_amt3'] + df_train['bill_amt4'] + df_train['bill_amt5'] + df_train['bill_amt6']).apply(lambda x: x/6)\n",
    "    df_train['avg_pay'] = (df_train['pay_amt1'] + df_train['pay_amt2'] + df_train['pay_amt3'] + df_train['pay_amt4'] + df_train['pay_amt5'] + df_train['pay_amt6']).apply(lambda x: x/6)\n",
    "    df_train['bill_pct'] = df_train['avg_bill'] / df_train['limit_bal']\n",
    "\n",
    "    to_drop = ['bill_amt1', 'bill_amt2', 'bill_amt3', 'bill_amt4', 'bill_amt5', 'bill_amt6']\n",
    "    df_train.drop(columns=to_drop, inplace=True)\n",
    "\n",
    "    corr_drop = ['pay_1_8', 'pay_4_8', 'pay_5_7', 'pay_2_7', 'pay_1_7', 'pay_2_0', 'pay_6_7']\n",
    "    df_train.drop(columns=corr_drop, inplace=True)\n",
    "    \n",
    "    return df_train"
   ]
  },
  {
   "cell_type": "code",
   "execution_count": 65,
   "metadata": {},
   "outputs": [],
   "source": [
    "df_train = df_features(df_train)\n",
    "df_test = df_features(df_test)\n",
    "\n",
    "X_train = df_train.drop(columns=['default'], axis=1)\n",
    "y_train = df_train['default']\n",
    "\n",
    "X_test = df_test.copy()"
   ]
  },
  {
   "cell_type": "code",
   "execution_count": 66,
   "metadata": {},
   "outputs": [],
   "source": [
    "def find_extremes(df):\n",
    "    '''Takes in a dataframe and returns a list of columns with values farther than 4 standard deviations from the mean.'''\n",
    "    extreme_list = []\n",
    "    for column in list(df.columns):\n",
    "        if (df[column].max() > (df[column].mean() + 4*df[column].std())) or (df[column].min() < (df[column].mean() - 4*df[column].std())):\n",
    "            extreme_list.append(column)\n",
    "    return extreme_list\n",
    "\n",
    "def rein_extremes(df, columns):\n",
    "    '''Takes in a dataframe and a list of columns and changes any values farther than 4 standard deviations from the mean\n",
    "    to 4 standard deviations from the mean.\n",
    "    Overwrites the input column!'''\n",
    "    for column in columns:\n",
    "        mean = df[column].mean()\n",
    "        std = df[column].std()\n",
    "        conditions = [df[column] > mean + 4*std,\n",
    "                      df[column] < mean - 4*std]\n",
    "        choices = [mean + 4*std,\n",
    "                   mean - 4*std]\n",
    "        df[column] = np.select(conditions, choices, df[column])"
   ]
  },
  {
   "cell_type": "code",
   "execution_count": 67,
   "metadata": {},
   "outputs": [
    {
     "data": {
      "text/plain": [
       "['limit_bal',\n",
       " 'age',\n",
       " 'pay_amt1',\n",
       " 'pay_amt2',\n",
       " 'pay_amt3',\n",
       " 'pay_amt4',\n",
       " 'pay_amt5',\n",
       " 'pay_amt6',\n",
       " 'avg_bill',\n",
       " 'avg_pay',\n",
       " 'bill_pct']"
      ]
     },
     "execution_count": 67,
     "metadata": {},
     "output_type": "execute_result"
    }
   ],
   "source": [
    "['limit_bal',\n",
    " 'age',\n",
    " 'pay_amt1',\n",
    " 'pay_amt2',\n",
    " 'pay_amt3',\n",
    " 'pay_amt4',\n",
    " 'pay_amt5',\n",
    " 'pay_amt6',\n",
    " 'avg_bill',\n",
    " 'avg_pay',\n",
    " 'bill_pct']"
   ]
  },
  {
   "cell_type": "code",
   "execution_count": 68,
   "metadata": {},
   "outputs": [
    {
     "data": {
      "text/plain": [
       "['limit_bal',\n",
       " 'age',\n",
       " 'pay_amt1',\n",
       " 'pay_amt2',\n",
       " 'pay_amt3',\n",
       " 'pay_amt4',\n",
       " 'pay_amt5',\n",
       " 'pay_amt6',\n",
       " 'avg_bill',\n",
       " 'avg_pay',\n",
       " 'bill_pct']"
      ]
     },
     "execution_count": 68,
     "metadata": {},
     "output_type": "execute_result"
    }
   ],
   "source": [
    "extreme_cols = find_extremes(X_train)\n",
    "extremes = extreme_cols[:8]\n",
    "extremes.extend(extreme_cols[-3:])\n",
    "extremes"
   ]
  },
  {
   "cell_type": "code",
   "execution_count": 69,
   "metadata": {},
   "outputs": [],
   "source": [
    "rein_extremes(X_train, extremes)\n",
    "rein_extremes(X_test, extremes)"
   ]
  },
  {
   "cell_type": "code",
   "execution_count": 74,
   "metadata": {},
   "outputs": [],
   "source": [
    "X_sm = sm.add_constant(X_train)\n",
    "est = sm.OLS(y, X_sm)\n",
    "est2 = est.fit()\n",
    "\n",
    "p = est2.pvalues\n",
    "high_p = p[p > .05].keys()\n",
    "\n",
    "X_train = X_train.drop(columns=high_p, axis=1)\n",
    "X_test = X_test.drop(columns=high_p, axis=1)\n"
   ]
  },
  {
   "cell_type": "code",
   "execution_count": 128,
   "metadata": {},
   "outputs": [
    {
     "data": {
      "text/html": [
       "<table class=\"simpletable\">\n",
       "<caption>OLS Regression Results</caption>\n",
       "<tr>\n",
       "  <th>Dep. Variable:</th>         <td>default</td>     <th>  R-squared:         </th> <td>   0.208</td> \n",
       "</tr>\n",
       "<tr>\n",
       "  <th>Model:</th>                   <td>OLS</td>       <th>  Adj. R-squared:    </th> <td>   0.206</td> \n",
       "</tr>\n",
       "<tr>\n",
       "  <th>Method:</th>             <td>Least Squares</td>  <th>  F-statistic:       </th> <td>   92.26</td> \n",
       "</tr>\n",
       "<tr>\n",
       "  <th>Date:</th>             <td>Fri, 22 May 2020</td> <th>  Prob (F-statistic):</th>  <td>  0.00</td>  \n",
       "</tr>\n",
       "<tr>\n",
       "  <th>Time:</th>                 <td>13:40:21</td>     <th>  Log-Likelihood:    </th> <td> -9512.4</td> \n",
       "</tr>\n",
       "<tr>\n",
       "  <th>No. Observations:</th>      <td> 22500</td>      <th>  AIC:               </th> <td>1.915e+04</td>\n",
       "</tr>\n",
       "<tr>\n",
       "  <th>Df Residuals:</th>          <td> 22435</td>      <th>  BIC:               </th> <td>1.968e+04</td>\n",
       "</tr>\n",
       "<tr>\n",
       "  <th>Df Model:</th>              <td>    64</td>      <th>                     </th>     <td> </td>    \n",
       "</tr>\n",
       "<tr>\n",
       "  <th>Covariance Type:</th>      <td>nonrobust</td>    <th>                     </th>     <td> </td>    \n",
       "</tr>\n",
       "</table>\n",
       "<table class=\"simpletable\">\n",
       "<tr>\n",
       "        <td></td>           <th>coef</th>     <th>std err</th>      <th>t</th>      <th>P>|t|</th>  <th>[0.025</th>    <th>0.975]</th>  \n",
       "</tr>\n",
       "<tr>\n",
       "  <th>const</th>         <td>    0.1567</td> <td>    0.015</td> <td>   10.484</td> <td> 0.000</td> <td>    0.127</td> <td>    0.186</td>\n",
       "</tr>\n",
       "<tr>\n",
       "  <th>limit_bal</th>     <td>-1.617e-07</td> <td>    3e-08</td> <td>   -5.398</td> <td> 0.000</td> <td> -2.2e-07</td> <td>-1.03e-07</td>\n",
       "</tr>\n",
       "<tr>\n",
       "  <th>sex</th>           <td>    0.0170</td> <td>    0.005</td> <td>    3.329</td> <td> 0.001</td> <td>    0.007</td> <td>    0.027</td>\n",
       "</tr>\n",
       "<tr>\n",
       "  <th>marriage</th>      <td>    0.0169</td> <td>    0.006</td> <td>    2.990</td> <td> 0.003</td> <td>    0.006</td> <td>    0.028</td>\n",
       "</tr>\n",
       "<tr>\n",
       "  <th>age</th>           <td>    0.0008</td> <td>    0.000</td> <td>    2.640</td> <td> 0.008</td> <td>    0.000</td> <td>    0.001</td>\n",
       "</tr>\n",
       "<tr>\n",
       "  <th>pay_amt1</th>      <td>-1.865e-06</td> <td>  3.5e-07</td> <td>   -5.331</td> <td> 0.000</td> <td>-2.55e-06</td> <td>-1.18e-06</td>\n",
       "</tr>\n",
       "<tr>\n",
       "  <th>pay_amt2</th>      <td>-1.614e-06</td> <td> 3.13e-07</td> <td>   -5.158</td> <td> 0.000</td> <td>-2.23e-06</td> <td>   -1e-06</td>\n",
       "</tr>\n",
       "<tr>\n",
       "  <th>pay_amt3</th>      <td> -1.01e-06</td> <td>  3.4e-07</td> <td>   -2.972</td> <td> 0.003</td> <td>-1.68e-06</td> <td>-3.44e-07</td>\n",
       "</tr>\n",
       "<tr>\n",
       "  <th>pay_amt4</th>      <td>-5.219e-07</td> <td> 3.67e-07</td> <td>   -1.423</td> <td> 0.155</td> <td>-1.24e-06</td> <td> 1.97e-07</td>\n",
       "</tr>\n",
       "<tr>\n",
       "  <th>pay_amt5</th>      <td>-1.313e-06</td> <td> 3.83e-07</td> <td>   -3.428</td> <td> 0.001</td> <td>-2.06e-06</td> <td>-5.62e-07</td>\n",
       "</tr>\n",
       "<tr>\n",
       "  <th>pay_amt6</th>      <td> -8.93e-07</td> <td>  3.4e-07</td> <td>   -2.625</td> <td> 0.009</td> <td>-1.56e-06</td> <td>-2.26e-07</td>\n",
       "</tr>\n",
       "<tr>\n",
       "  <th>education_2</th>   <td>    0.0061</td> <td>    0.006</td> <td>    1.057</td> <td> 0.290</td> <td>   -0.005</td> <td>    0.018</td>\n",
       "</tr>\n",
       "<tr>\n",
       "  <th>education_3</th>   <td>   -0.0064</td> <td>    0.008</td> <td>   -0.811</td> <td> 0.417</td> <td>   -0.022</td> <td>    0.009</td>\n",
       "</tr>\n",
       "<tr>\n",
       "  <th>education_4</th>   <td>   -0.0880</td> <td>    0.021</td> <td>   -4.292</td> <td> 0.000</td> <td>   -0.128</td> <td>   -0.048</td>\n",
       "</tr>\n",
       "<tr>\n",
       "  <th>pay_1_minus_1</th> <td>    0.0656</td> <td>    0.015</td> <td>    4.460</td> <td> 0.000</td> <td>    0.037</td> <td>    0.094</td>\n",
       "</tr>\n",
       "<tr>\n",
       "  <th>pay_1_0</th>       <td>   -0.0365</td> <td>    0.014</td> <td>   -2.580</td> <td> 0.010</td> <td>   -0.064</td> <td>   -0.009</td>\n",
       "</tr>\n",
       "<tr>\n",
       "  <th>pay_1_1</th>       <td>    0.1271</td> <td>    0.013</td> <td>    9.509</td> <td> 0.000</td> <td>    0.101</td> <td>    0.153</td>\n",
       "</tr>\n",
       "<tr>\n",
       "  <th>pay_1_2</th>       <td>    0.4072</td> <td>    0.016</td> <td>   25.688</td> <td> 0.000</td> <td>    0.376</td> <td>    0.438</td>\n",
       "</tr>\n",
       "<tr>\n",
       "  <th>pay_1_3</th>       <td>    0.4156</td> <td>    0.029</td> <td>   14.369</td> <td> 0.000</td> <td>    0.359</td> <td>    0.472</td>\n",
       "</tr>\n",
       "<tr>\n",
       "  <th>pay_1_4</th>       <td>    0.2564</td> <td>    0.056</td> <td>    4.539</td> <td> 0.000</td> <td>    0.146</td> <td>    0.367</td>\n",
       "</tr>\n",
       "<tr>\n",
       "  <th>pay_1_5</th>       <td>    0.2235</td> <td>    0.104</td> <td>    2.147</td> <td> 0.032</td> <td>    0.019</td> <td>    0.427</td>\n",
       "</tr>\n",
       "<tr>\n",
       "  <th>pay_1_6</th>       <td>    0.2163</td> <td>    0.172</td> <td>    1.255</td> <td> 0.210</td> <td>   -0.122</td> <td>    0.554</td>\n",
       "</tr>\n",
       "<tr>\n",
       "  <th>pay_2_minus_1</th> <td>   -0.0232</td> <td>    0.012</td> <td>   -1.970</td> <td> 0.049</td> <td>   -0.046</td> <td>   -0.000</td>\n",
       "</tr>\n",
       "<tr>\n",
       "  <th>pay_2_1</th>       <td>   -0.0315</td> <td>    0.093</td> <td>   -0.339</td> <td> 0.735</td> <td>   -0.214</td> <td>    0.151</td>\n",
       "</tr>\n",
       "<tr>\n",
       "  <th>pay_2_2</th>       <td>    0.0120</td> <td>    0.013</td> <td>    0.947</td> <td> 0.344</td> <td>   -0.013</td> <td>    0.037</td>\n",
       "</tr>\n",
       "<tr>\n",
       "  <th>pay_2_3</th>       <td>    0.1005</td> <td>    0.029</td> <td>    3.442</td> <td> 0.001</td> <td>    0.043</td> <td>    0.158</td>\n",
       "</tr>\n",
       "<tr>\n",
       "  <th>pay_2_4</th>       <td>   -0.1415</td> <td>    0.061</td> <td>   -2.334</td> <td> 0.020</td> <td>   -0.260</td> <td>   -0.023</td>\n",
       "</tr>\n",
       "<tr>\n",
       "  <th>pay_2_5</th>       <td>    0.1591</td> <td>    0.142</td> <td>    1.118</td> <td> 0.264</td> <td>   -0.120</td> <td>    0.438</td>\n",
       "</tr>\n",
       "<tr>\n",
       "  <th>pay_2_6</th>       <td>    0.0883</td> <td>    0.259</td> <td>    0.341</td> <td> 0.733</td> <td>   -0.420</td> <td>    0.597</td>\n",
       "</tr>\n",
       "<tr>\n",
       "  <th>pay_3_minus_1</th> <td>    0.0078</td> <td>    0.016</td> <td>    0.474</td> <td> 0.635</td> <td>   -0.024</td> <td>    0.040</td>\n",
       "</tr>\n",
       "<tr>\n",
       "  <th>pay_3_0</th>       <td>    0.0112</td> <td>    0.017</td> <td>    0.642</td> <td> 0.521</td> <td>   -0.023</td> <td>    0.045</td>\n",
       "</tr>\n",
       "<tr>\n",
       "  <th>pay_3_1</th>       <td>   -0.2419</td> <td>    0.382</td> <td>   -0.634</td> <td> 0.526</td> <td>   -0.990</td> <td>    0.506</td>\n",
       "</tr>\n",
       "<tr>\n",
       "  <th>pay_3_2</th>       <td>    0.0700</td> <td>    0.019</td> <td>    3.621</td> <td> 0.000</td> <td>    0.032</td> <td>    0.108</td>\n",
       "</tr>\n",
       "<tr>\n",
       "  <th>pay_3_3</th>       <td>    0.1081</td> <td>    0.039</td> <td>    2.789</td> <td> 0.005</td> <td>    0.032</td> <td>    0.184</td>\n",
       "</tr>\n",
       "<tr>\n",
       "  <th>pay_3_4</th>       <td>   -0.0643</td> <td>    0.077</td> <td>   -0.837</td> <td> 0.403</td> <td>   -0.215</td> <td>    0.086</td>\n",
       "</tr>\n",
       "<tr>\n",
       "  <th>pay_3_5</th>       <td>    0.0564</td> <td>    0.208</td> <td>    0.271</td> <td> 0.786</td> <td>   -0.352</td> <td>    0.464</td>\n",
       "</tr>\n",
       "<tr>\n",
       "  <th>pay_3_6</th>       <td>    0.4795</td> <td>    0.151</td> <td>    3.175</td> <td> 0.001</td> <td>    0.184</td> <td>    0.775</td>\n",
       "</tr>\n",
       "<tr>\n",
       "  <th>pay_3_7</th>       <td>    0.1161</td> <td>    0.113</td> <td>    1.029</td> <td> 0.303</td> <td>   -0.105</td> <td>    0.337</td>\n",
       "</tr>\n",
       "<tr>\n",
       "  <th>pay_3_8</th>       <td>   -0.1252</td> <td>    0.268</td> <td>   -0.467</td> <td> 0.641</td> <td>   -0.651</td> <td>    0.401</td>\n",
       "</tr>\n",
       "<tr>\n",
       "  <th>pay_4_minus_1</th> <td>   -0.0141</td> <td>    0.017</td> <td>   -0.808</td> <td> 0.419</td> <td>   -0.048</td> <td>    0.020</td>\n",
       "</tr>\n",
       "<tr>\n",
       "  <th>pay_4_0</th>       <td>    0.0039</td> <td>    0.019</td> <td>    0.198</td> <td> 0.843</td> <td>   -0.034</td> <td>    0.042</td>\n",
       "</tr>\n",
       "<tr>\n",
       "  <th>pay_4_1</th>       <td>    0.7901</td> <td>    0.525</td> <td>    1.505</td> <td> 0.132</td> <td>   -0.239</td> <td>    1.819</td>\n",
       "</tr>\n",
       "<tr>\n",
       "  <th>pay_4_2</th>       <td>    0.0624</td> <td>    0.022</td> <td>    2.880</td> <td> 0.004</td> <td>    0.020</td> <td>    0.105</td>\n",
       "</tr>\n",
       "<tr>\n",
       "  <th>pay_4_3</th>       <td>    0.0318</td> <td>    0.044</td> <td>    0.720</td> <td> 0.472</td> <td>   -0.055</td> <td>    0.118</td>\n",
       "</tr>\n",
       "<tr>\n",
       "  <th>pay_4_4</th>       <td>    0.2334</td> <td>    0.081</td> <td>    2.892</td> <td> 0.004</td> <td>    0.075</td> <td>    0.391</td>\n",
       "</tr>\n",
       "<tr>\n",
       "  <th>pay_4_5</th>       <td>   -0.1775</td> <td>    0.134</td> <td>   -1.329</td> <td> 0.184</td> <td>   -0.439</td> <td>    0.084</td>\n",
       "</tr>\n",
       "<tr>\n",
       "  <th>pay_4_6</th>       <td>   -0.2689</td> <td>    0.264</td> <td>   -1.019</td> <td> 0.308</td> <td>   -0.786</td> <td>    0.248</td>\n",
       "</tr>\n",
       "<tr>\n",
       "  <th>pay_4_7</th>       <td>    0.0915</td> <td>    0.086</td> <td>    1.059</td> <td> 0.290</td> <td>   -0.078</td> <td>    0.261</td>\n",
       "</tr>\n",
       "<tr>\n",
       "  <th>pay_5_minus_1</th> <td>   -0.0058</td> <td>    0.017</td> <td>   -0.336</td> <td> 0.737</td> <td>   -0.040</td> <td>    0.028</td>\n",
       "</tr>\n",
       "<tr>\n",
       "  <th>pay_5_0</th>       <td>    0.0036</td> <td>    0.019</td> <td>    0.190</td> <td> 0.849</td> <td>   -0.034</td> <td>    0.041</td>\n",
       "</tr>\n",
       "<tr>\n",
       "  <th>pay_5_2</th>       <td>    0.0443</td> <td>    0.022</td> <td>    1.984</td> <td> 0.047</td> <td>    0.001</td> <td>    0.088</td>\n",
       "</tr>\n",
       "<tr>\n",
       "  <th>pay_5_3</th>       <td>    0.0183</td> <td>    0.042</td> <td>    0.437</td> <td> 0.662</td> <td>   -0.064</td> <td>    0.100</td>\n",
       "</tr>\n",
       "<tr>\n",
       "  <th>pay_5_4</th>       <td>   -0.1627</td> <td>    0.084</td> <td>   -1.946</td> <td> 0.052</td> <td>   -0.327</td> <td>    0.001</td>\n",
       "</tr>\n",
       "<tr>\n",
       "  <th>pay_5_5</th>       <td>   -0.0090</td> <td>    0.143</td> <td>   -0.063</td> <td> 0.950</td> <td>   -0.289</td> <td>    0.271</td>\n",
       "</tr>\n",
       "<tr>\n",
       "  <th>pay_5_6</th>       <td>   -0.1488</td> <td>    0.261</td> <td>   -0.571</td> <td> 0.568</td> <td>   -0.660</td> <td>    0.362</td>\n",
       "</tr>\n",
       "<tr>\n",
       "  <th>pay_6_minus_1</th> <td>   -0.0285</td> <td>    0.014</td> <td>   -2.091</td> <td> 0.037</td> <td>   -0.055</td> <td>   -0.002</td>\n",
       "</tr>\n",
       "<tr>\n",
       "  <th>pay_6_0</th>       <td>   -0.0571</td> <td>    0.014</td> <td>   -3.955</td> <td> 0.000</td> <td>   -0.085</td> <td>   -0.029</td>\n",
       "</tr>\n",
       "<tr>\n",
       "  <th>pay_6_2</th>       <td>    0.0159</td> <td>    0.017</td> <td>    0.909</td> <td> 0.363</td> <td>   -0.018</td> <td>    0.050</td>\n",
       "</tr>\n",
       "<tr>\n",
       "  <th>pay_6_3</th>       <td>    0.1230</td> <td>    0.042</td> <td>    2.905</td> <td> 0.004</td> <td>    0.040</td> <td>    0.206</td>\n",
       "</tr>\n",
       "<tr>\n",
       "  <th>pay_6_4</th>       <td>    0.0811</td> <td>    0.083</td> <td>    0.978</td> <td> 0.328</td> <td>   -0.081</td> <td>    0.244</td>\n",
       "</tr>\n",
       "<tr>\n",
       "  <th>pay_6_5</th>       <td>    0.0983</td> <td>    0.153</td> <td>    0.644</td> <td> 0.520</td> <td>   -0.201</td> <td>    0.397</td>\n",
       "</tr>\n",
       "<tr>\n",
       "  <th>pay_6_6</th>       <td>    0.1688</td> <td>    0.099</td> <td>    1.712</td> <td> 0.087</td> <td>   -0.024</td> <td>    0.362</td>\n",
       "</tr>\n",
       "<tr>\n",
       "  <th>avg_bill</th>      <td> 1.846e-07</td> <td>  7.3e-08</td> <td>    2.527</td> <td> 0.011</td> <td> 4.14e-08</td> <td> 3.28e-07</td>\n",
       "</tr>\n",
       "<tr>\n",
       "  <th>avg_pay</th>       <td> 2.918e-06</td> <td> 1.05e-06</td> <td>    2.792</td> <td> 0.005</td> <td>  8.7e-07</td> <td> 4.97e-06</td>\n",
       "</tr>\n",
       "<tr>\n",
       "  <th>bill_pct</th>      <td>    0.0399</td> <td>    0.014</td> <td>    2.943</td> <td> 0.003</td> <td>    0.013</td> <td>    0.066</td>\n",
       "</tr>\n",
       "</table>\n",
       "<table class=\"simpletable\">\n",
       "<tr>\n",
       "  <th>Omnibus:</th>       <td>3728.195</td> <th>  Durbin-Watson:     </th> <td>   1.998</td>\n",
       "</tr>\n",
       "<tr>\n",
       "  <th>Prob(Omnibus):</th>  <td> 0.000</td>  <th>  Jarque-Bera (JB):  </th> <td>5865.191</td>\n",
       "</tr>\n",
       "<tr>\n",
       "  <th>Skew:</th>           <td> 1.187</td>  <th>  Prob(JB):          </th> <td>    0.00</td>\n",
       "</tr>\n",
       "<tr>\n",
       "  <th>Kurtosis:</th>       <td> 3.789</td>  <th>  Cond. No.          </th> <td>5.30e+07</td>\n",
       "</tr>\n",
       "</table><br/><br/>Warnings:<br/>[1] Standard Errors assume that the covariance matrix of the errors is correctly specified.<br/>[2] The condition number is large, 5.3e+07. This might indicate that there are<br/>strong multicollinearity or other numerical problems."
      ],
      "text/plain": [
       "<class 'statsmodels.iolib.summary.Summary'>\n",
       "\"\"\"\n",
       "                            OLS Regression Results                            \n",
       "==============================================================================\n",
       "Dep. Variable:                default   R-squared:                       0.208\n",
       "Model:                            OLS   Adj. R-squared:                  0.206\n",
       "Method:                 Least Squares   F-statistic:                     92.26\n",
       "Date:                Fri, 22 May 2020   Prob (F-statistic):               0.00\n",
       "Time:                        13:40:21   Log-Likelihood:                -9512.4\n",
       "No. Observations:               22500   AIC:                         1.915e+04\n",
       "Df Residuals:                   22435   BIC:                         1.968e+04\n",
       "Df Model:                          64                                         \n",
       "Covariance Type:            nonrobust                                         \n",
       "=================================================================================\n",
       "                    coef    std err          t      P>|t|      [0.025      0.975]\n",
       "---------------------------------------------------------------------------------\n",
       "const             0.1567      0.015     10.484      0.000       0.127       0.186\n",
       "limit_bal     -1.617e-07      3e-08     -5.398      0.000    -2.2e-07   -1.03e-07\n",
       "sex               0.0170      0.005      3.329      0.001       0.007       0.027\n",
       "marriage          0.0169      0.006      2.990      0.003       0.006       0.028\n",
       "age               0.0008      0.000      2.640      0.008       0.000       0.001\n",
       "pay_amt1      -1.865e-06    3.5e-07     -5.331      0.000   -2.55e-06   -1.18e-06\n",
       "pay_amt2      -1.614e-06   3.13e-07     -5.158      0.000   -2.23e-06      -1e-06\n",
       "pay_amt3       -1.01e-06    3.4e-07     -2.972      0.003   -1.68e-06   -3.44e-07\n",
       "pay_amt4      -5.219e-07   3.67e-07     -1.423      0.155   -1.24e-06    1.97e-07\n",
       "pay_amt5      -1.313e-06   3.83e-07     -3.428      0.001   -2.06e-06   -5.62e-07\n",
       "pay_amt6       -8.93e-07    3.4e-07     -2.625      0.009   -1.56e-06   -2.26e-07\n",
       "education_2       0.0061      0.006      1.057      0.290      -0.005       0.018\n",
       "education_3      -0.0064      0.008     -0.811      0.417      -0.022       0.009\n",
       "education_4      -0.0880      0.021     -4.292      0.000      -0.128      -0.048\n",
       "pay_1_minus_1     0.0656      0.015      4.460      0.000       0.037       0.094\n",
       "pay_1_0          -0.0365      0.014     -2.580      0.010      -0.064      -0.009\n",
       "pay_1_1           0.1271      0.013      9.509      0.000       0.101       0.153\n",
       "pay_1_2           0.4072      0.016     25.688      0.000       0.376       0.438\n",
       "pay_1_3           0.4156      0.029     14.369      0.000       0.359       0.472\n",
       "pay_1_4           0.2564      0.056      4.539      0.000       0.146       0.367\n",
       "pay_1_5           0.2235      0.104      2.147      0.032       0.019       0.427\n",
       "pay_1_6           0.2163      0.172      1.255      0.210      -0.122       0.554\n",
       "pay_2_minus_1    -0.0232      0.012     -1.970      0.049      -0.046      -0.000\n",
       "pay_2_1          -0.0315      0.093     -0.339      0.735      -0.214       0.151\n",
       "pay_2_2           0.0120      0.013      0.947      0.344      -0.013       0.037\n",
       "pay_2_3           0.1005      0.029      3.442      0.001       0.043       0.158\n",
       "pay_2_4          -0.1415      0.061     -2.334      0.020      -0.260      -0.023\n",
       "pay_2_5           0.1591      0.142      1.118      0.264      -0.120       0.438\n",
       "pay_2_6           0.0883      0.259      0.341      0.733      -0.420       0.597\n",
       "pay_3_minus_1     0.0078      0.016      0.474      0.635      -0.024       0.040\n",
       "pay_3_0           0.0112      0.017      0.642      0.521      -0.023       0.045\n",
       "pay_3_1          -0.2419      0.382     -0.634      0.526      -0.990       0.506\n",
       "pay_3_2           0.0700      0.019      3.621      0.000       0.032       0.108\n",
       "pay_3_3           0.1081      0.039      2.789      0.005       0.032       0.184\n",
       "pay_3_4          -0.0643      0.077     -0.837      0.403      -0.215       0.086\n",
       "pay_3_5           0.0564      0.208      0.271      0.786      -0.352       0.464\n",
       "pay_3_6           0.4795      0.151      3.175      0.001       0.184       0.775\n",
       "pay_3_7           0.1161      0.113      1.029      0.303      -0.105       0.337\n",
       "pay_3_8          -0.1252      0.268     -0.467      0.641      -0.651       0.401\n",
       "pay_4_minus_1    -0.0141      0.017     -0.808      0.419      -0.048       0.020\n",
       "pay_4_0           0.0039      0.019      0.198      0.843      -0.034       0.042\n",
       "pay_4_1           0.7901      0.525      1.505      0.132      -0.239       1.819\n",
       "pay_4_2           0.0624      0.022      2.880      0.004       0.020       0.105\n",
       "pay_4_3           0.0318      0.044      0.720      0.472      -0.055       0.118\n",
       "pay_4_4           0.2334      0.081      2.892      0.004       0.075       0.391\n",
       "pay_4_5          -0.1775      0.134     -1.329      0.184      -0.439       0.084\n",
       "pay_4_6          -0.2689      0.264     -1.019      0.308      -0.786       0.248\n",
       "pay_4_7           0.0915      0.086      1.059      0.290      -0.078       0.261\n",
       "pay_5_minus_1    -0.0058      0.017     -0.336      0.737      -0.040       0.028\n",
       "pay_5_0           0.0036      0.019      0.190      0.849      -0.034       0.041\n",
       "pay_5_2           0.0443      0.022      1.984      0.047       0.001       0.088\n",
       "pay_5_3           0.0183      0.042      0.437      0.662      -0.064       0.100\n",
       "pay_5_4          -0.1627      0.084     -1.946      0.052      -0.327       0.001\n",
       "pay_5_5          -0.0090      0.143     -0.063      0.950      -0.289       0.271\n",
       "pay_5_6          -0.1488      0.261     -0.571      0.568      -0.660       0.362\n",
       "pay_6_minus_1    -0.0285      0.014     -2.091      0.037      -0.055      -0.002\n",
       "pay_6_0          -0.0571      0.014     -3.955      0.000      -0.085      -0.029\n",
       "pay_6_2           0.0159      0.017      0.909      0.363      -0.018       0.050\n",
       "pay_6_3           0.1230      0.042      2.905      0.004       0.040       0.206\n",
       "pay_6_4           0.0811      0.083      0.978      0.328      -0.081       0.244\n",
       "pay_6_5           0.0983      0.153      0.644      0.520      -0.201       0.397\n",
       "pay_6_6           0.1688      0.099      1.712      0.087      -0.024       0.362\n",
       "avg_bill       1.846e-07    7.3e-08      2.527      0.011    4.14e-08    3.28e-07\n",
       "avg_pay        2.918e-06   1.05e-06      2.792      0.005     8.7e-07    4.97e-06\n",
       "bill_pct          0.0399      0.014      2.943      0.003       0.013       0.066\n",
       "==============================================================================\n",
       "Omnibus:                     3728.195   Durbin-Watson:                   1.998\n",
       "Prob(Omnibus):                  0.000   Jarque-Bera (JB):             5865.191\n",
       "Skew:                           1.187   Prob(JB):                         0.00\n",
       "Kurtosis:                       3.789   Cond. No.                     5.30e+07\n",
       "==============================================================================\n",
       "\n",
       "Warnings:\n",
       "[1] Standard Errors assume that the covariance matrix of the errors is correctly specified.\n",
       "[2] The condition number is large, 5.3e+07. This might indicate that there are\n",
       "strong multicollinearity or other numerical problems.\n",
       "\"\"\""
      ]
     },
     "execution_count": 128,
     "metadata": {},
     "output_type": "execute_result"
    }
   ],
   "source": [
    "est2.summary()"
   ]
  },
  {
   "cell_type": "code",
   "execution_count": 75,
   "metadata": {},
   "outputs": [
    {
     "name": "stdout",
     "output_type": "stream",
     "text": [
      "(22500, 32)\n",
      "(7500, 33)\n"
     ]
    }
   ],
   "source": [
    "print(X_train.shape)\n",
    "print(X_test.shape)"
   ]
  },
  {
   "cell_type": "code",
   "execution_count": 78,
   "metadata": {},
   "outputs": [
    {
     "data": {
      "text/plain": [
       "['pay_2_8']"
      ]
     },
     "execution_count": 78,
     "metadata": {},
     "output_type": "execute_result"
    }
   ],
   "source": [
    "test_drop = list(np.setdiff1d(list(X_test.columns),list(X_train.columns)))\n",
    "# yields the elements in `test columns` that are NOT in `train columns`\n",
    "test_drop"
   ]
  },
  {
   "cell_type": "code",
   "execution_count": 79,
   "metadata": {},
   "outputs": [
    {
     "data": {
      "text/plain": [
       "(7500, 32)"
      ]
     },
     "execution_count": 79,
     "metadata": {},
     "output_type": "execute_result"
    }
   ],
   "source": [
    "X_test = X_test.drop(columns=test_drop, axis=1)\n",
    "X_test.shape"
   ]
  },
  {
   "cell_type": "markdown",
   "metadata": {},
   "source": [
    "## SCALE"
   ]
  },
  {
   "cell_type": "code",
   "execution_count": 80,
   "metadata": {},
   "outputs": [],
   "source": [
    "scaler = StandardScaler()  \n",
    "scaler.fit(X_train)\n",
    "\n",
    "X_train = scaler.transform(X_train)  \n",
    "X_test = scaler.transform(X_test)"
   ]
  },
  {
   "cell_type": "markdown",
   "metadata": {},
   "source": [
    "### Model"
   ]
  },
  {
   "cell_type": "code",
   "execution_count": 116,
   "metadata": {},
   "outputs": [
    {
     "name": "stdout",
     "output_type": "stream",
     "text": [
      "Fitting 5 folds for each of 120 candidates, totalling 600 fits\n"
     ]
    },
    {
     "name": "stderr",
     "output_type": "stream",
     "text": [
      "[Parallel(n_jobs=-1)]: Using backend LokyBackend with 8 concurrent workers.\n",
      "[Parallel(n_jobs=-1)]: Done 124 tasks      | elapsed:    2.0s\n",
      "[Parallel(n_jobs=-1)]: Done 600 out of 600 | elapsed:    7.9s finished\n"
     ]
    },
    {
     "data": {
      "text/plain": [
       "GridSearchCV(cv=None, error_score=nan,\n",
       "             estimator=LogisticRegression(C=1.0, class_weight='balanced',\n",
       "                                          dual=False, fit_intercept=True,\n",
       "                                          intercept_scaling=1, l1_ratio=None,\n",
       "                                          max_iter=100, multi_class='auto',\n",
       "                                          n_jobs=None, penalty='l2',\n",
       "                                          random_state=42, solver='lbfgs',\n",
       "                                          tol=0.0001, verbose=0,\n",
       "                                          warm_start=False),\n",
       "             iid='deprecated', n_jobs=-1,\n",
       "             param_grid={'C': [0.00125, 0.0013, 0.00135, 0.0014, 0.00145,\n",
       "                               0.0015, 0.00155, 0.0016, 0.00165, 0.0017],\n",
       "                         'penalty': ['l1', 'l2', 'elasticnet'],\n",
       "                         'solver': ['sag', 'saga', 'liblinear', 'lbfgs']},\n",
       "             pre_dispatch='2*n_jobs', refit=True, return_train_score=False,\n",
       "             scoring='f1', verbose=2)"
      ]
     },
     "execution_count": 116,
     "metadata": {},
     "output_type": "execute_result"
    }
   ],
   "source": [
    "params = { \n",
    "    'penalty': ['l1', 'l2', 'elasticnet'],\n",
    "    'C': [round(0.00125+(.00005*i), 5) for i in range(10)],\n",
    "    'solver': ['sag', 'saga', 'liblinear', 'lbfgs']\n",
    "}\n",
    "\n",
    "#create a grid search object and fit it to the data\n",
    "CV_weighted = GridSearchCV(LogisticRegression(class_weight='balanced', random_state=42),\n",
    "                      params, n_jobs=-1, scoring='f1', verbose=2)\n",
    "CV_weighted.fit(X_train, y_train)"
   ]
  },
  {
   "cell_type": "code",
   "execution_count": 117,
   "metadata": {},
   "outputs": [
    {
     "name": "stdout",
     "output_type": "stream",
     "text": [
      "LogisticRegression(C=0.0014, class_weight='balanced', dual=False,\n",
      "                   fit_intercept=True, intercept_scaling=1, l1_ratio=None,\n",
      "                   max_iter=100, multi_class='auto', n_jobs=None, penalty='l2',\n",
      "                   random_state=42, solver='sag', tol=0.0001, verbose=0,\n",
      "                   warm_start=False)\n",
      "0.531238041870105\n"
     ]
    }
   ],
   "source": [
    "### Identify the best params \n",
    "print(CV_weighted.best_estimator_)\n",
    "\n",
    "#Identify the best score during fitting with cross-validation\n",
    "print(CV_weighted.best_score_)"
   ]
  },
  {
   "cell_type": "code",
   "execution_count": null,
   "metadata": {},
   "outputs": [],
   "source": []
  },
  {
   "cell_type": "code",
   "execution_count": null,
   "metadata": {},
   "outputs": [],
   "source": []
  },
  {
   "cell_type": "code",
   "execution_count": 118,
   "metadata": {},
   "outputs": [
    {
     "data": {
      "text/plain": [
       "array([0., 0., 0., ..., 0., 0., 0.])"
      ]
     },
     "execution_count": 118,
     "metadata": {},
     "output_type": "execute_result"
    }
   ],
   "source": [
    "y_preds = CV_weighted.best_estimator_.predict(X_test)\n",
    "y_preds"
   ]
  },
  {
   "cell_type": "code",
   "execution_count": 132,
   "metadata": {},
   "outputs": [],
   "source": [
    "pd.DataFrame(y_preds, columns=['default']).to_csv('predictions_CF_JS.csv')"
   ]
  },
  {
   "cell_type": "code",
   "execution_count": 133,
   "metadata": {},
   "outputs": [],
   "source": [
    "predictions = pd.read_csv('predictions_CF_JS.csv', index_col=0)"
   ]
  },
  {
   "cell_type": "code",
   "execution_count": 135,
   "metadata": {},
   "outputs": [
    {
     "data": {
      "text/plain": [
       "0.0    0.738133\n",
       "1.0    0.261867\n",
       "Name: default, dtype: float64"
      ]
     },
     "execution_count": 135,
     "metadata": {},
     "output_type": "execute_result"
    }
   ],
   "source": [
    "predictions['default'].value_counts(normalize=True)"
   ]
  },
  {
   "cell_type": "code",
   "execution_count": null,
   "metadata": {},
   "outputs": [],
   "source": []
  }
 ],
 "metadata": {
  "kernelspec": {
   "display_name": "Python [conda env:learn-env] *",
   "language": "python",
   "name": "conda-env-learn-env-py"
  },
  "language_info": {
   "codemirror_mode": {
    "name": "ipython",
    "version": 3
   },
   "file_extension": ".py",
   "mimetype": "text/x-python",
   "name": "python",
   "nbconvert_exporter": "python",
   "pygments_lexer": "ipython3",
   "version": "3.6.9"
  }
 },
 "nbformat": 4,
 "nbformat_minor": 2
}
