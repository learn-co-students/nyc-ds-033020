{
 "cells": [
  {
   "cell_type": "code",
   "execution_count": 230,
   "metadata": {},
   "outputs": [],
   "source": [
    "import itertools\n",
    "import numpy as np\n",
    "import pandas as pd \n",
    "from scipy import stats\n",
    "import matplotlib.pyplot as plt\n",
    "import seaborn as sns\n",
    "%matplotlib inline\n",
    "sns.set_style('ticks')\n",
    "\n",
    "import pickle\n",
    "\n",
    "from sklearn.metrics import mean_squared_error, roc_curve, roc_auc_score, accuracy_score\n",
    "from sklearn.linear_model import LinearRegression\n",
    "from sklearn.model_selection import train_test_split\n",
    "from sklearn.preprocessing import PolynomialFeatures\n",
    "from sklearn.preprocessing import StandardScaler\n",
    "import statsmodels.api as sm\n",
    "from statsmodels.formula.api import ols\n",
    "\n",
    "\n",
    "from sklearn import metrics\n"
   ]
  },
  {
   "cell_type": "code",
   "execution_count": 28,
   "metadata": {},
   "outputs": [],
   "source": [
    "df = pd.read_csv('kc_house_data_train.csv', index_col=0)\n",
    "df_test_features = pd.read_csv('kc_house_data_test_features.csv', index_col=0)"
   ]
  },
  {
   "cell_type": "code",
   "execution_count": 102,
   "metadata": {},
   "outputs": [],
   "source": [
    "df_untouched = pd.read_csv('kc_house_data_train.csv', index_col=0)"
   ]
  },
  {
   "cell_type": "code",
   "execution_count": 30,
   "metadata": {},
   "outputs": [
    {
     "data": {
      "text/html": [
       "<div>\n",
       "<style scoped>\n",
       "    .dataframe tbody tr th:only-of-type {\n",
       "        vertical-align: middle;\n",
       "    }\n",
       "\n",
       "    .dataframe tbody tr th {\n",
       "        vertical-align: top;\n",
       "    }\n",
       "\n",
       "    .dataframe thead th {\n",
       "        text-align: right;\n",
       "    }\n",
       "</style>\n",
       "<table border=\"1\" class=\"dataframe\">\n",
       "  <thead>\n",
       "    <tr style=\"text-align: right;\">\n",
       "      <th></th>\n",
       "      <th>id</th>\n",
       "      <th>date</th>\n",
       "      <th>price</th>\n",
       "      <th>bedrooms</th>\n",
       "      <th>bathrooms</th>\n",
       "      <th>sqft_living</th>\n",
       "      <th>sqft_lot</th>\n",
       "      <th>floors</th>\n",
       "      <th>waterfront</th>\n",
       "      <th>view</th>\n",
       "      <th>...</th>\n",
       "      <th>grade</th>\n",
       "      <th>sqft_above</th>\n",
       "      <th>sqft_basement</th>\n",
       "      <th>yr_built</th>\n",
       "      <th>yr_renovated</th>\n",
       "      <th>zipcode</th>\n",
       "      <th>lat</th>\n",
       "      <th>long</th>\n",
       "      <th>sqft_living15</th>\n",
       "      <th>sqft_lot15</th>\n",
       "    </tr>\n",
       "  </thead>\n",
       "  <tbody>\n",
       "    <tr>\n",
       "      <th>0</th>\n",
       "      <td>2591820310</td>\n",
       "      <td>20141006T000000</td>\n",
       "      <td>365000.0</td>\n",
       "      <td>4</td>\n",
       "      <td>2.25</td>\n",
       "      <td>2070</td>\n",
       "      <td>8893</td>\n",
       "      <td>2.0</td>\n",
       "      <td>0</td>\n",
       "      <td>0</td>\n",
       "      <td>...</td>\n",
       "      <td>8</td>\n",
       "      <td>2070</td>\n",
       "      <td>0</td>\n",
       "      <td>1986</td>\n",
       "      <td>0</td>\n",
       "      <td>98058</td>\n",
       "      <td>47.4388</td>\n",
       "      <td>-122.162</td>\n",
       "      <td>2390</td>\n",
       "      <td>7700</td>\n",
       "    </tr>\n",
       "    <tr>\n",
       "      <th>1</th>\n",
       "      <td>7974200820</td>\n",
       "      <td>20140821T000000</td>\n",
       "      <td>865000.0</td>\n",
       "      <td>5</td>\n",
       "      <td>3.00</td>\n",
       "      <td>2900</td>\n",
       "      <td>6730</td>\n",
       "      <td>1.0</td>\n",
       "      <td>0</td>\n",
       "      <td>0</td>\n",
       "      <td>...</td>\n",
       "      <td>8</td>\n",
       "      <td>1830</td>\n",
       "      <td>1070</td>\n",
       "      <td>1977</td>\n",
       "      <td>0</td>\n",
       "      <td>98115</td>\n",
       "      <td>47.6784</td>\n",
       "      <td>-122.285</td>\n",
       "      <td>2370</td>\n",
       "      <td>6283</td>\n",
       "    </tr>\n",
       "    <tr>\n",
       "      <th>2</th>\n",
       "      <td>7701450110</td>\n",
       "      <td>20140815T000000</td>\n",
       "      <td>1038000.0</td>\n",
       "      <td>4</td>\n",
       "      <td>2.50</td>\n",
       "      <td>3770</td>\n",
       "      <td>10893</td>\n",
       "      <td>2.0</td>\n",
       "      <td>0</td>\n",
       "      <td>2</td>\n",
       "      <td>...</td>\n",
       "      <td>11</td>\n",
       "      <td>3770</td>\n",
       "      <td>0</td>\n",
       "      <td>1997</td>\n",
       "      <td>0</td>\n",
       "      <td>98006</td>\n",
       "      <td>47.5646</td>\n",
       "      <td>-122.129</td>\n",
       "      <td>3710</td>\n",
       "      <td>9685</td>\n",
       "    </tr>\n",
       "    <tr>\n",
       "      <th>3</th>\n",
       "      <td>9522300010</td>\n",
       "      <td>20150331T000000</td>\n",
       "      <td>1490000.0</td>\n",
       "      <td>3</td>\n",
       "      <td>3.50</td>\n",
       "      <td>4560</td>\n",
       "      <td>14608</td>\n",
       "      <td>2.0</td>\n",
       "      <td>0</td>\n",
       "      <td>2</td>\n",
       "      <td>...</td>\n",
       "      <td>12</td>\n",
       "      <td>4560</td>\n",
       "      <td>0</td>\n",
       "      <td>1990</td>\n",
       "      <td>0</td>\n",
       "      <td>98034</td>\n",
       "      <td>47.6995</td>\n",
       "      <td>-122.228</td>\n",
       "      <td>4050</td>\n",
       "      <td>14226</td>\n",
       "    </tr>\n",
       "    <tr>\n",
       "      <th>4</th>\n",
       "      <td>9510861140</td>\n",
       "      <td>20140714T000000</td>\n",
       "      <td>711000.0</td>\n",
       "      <td>3</td>\n",
       "      <td>2.50</td>\n",
       "      <td>2550</td>\n",
       "      <td>5376</td>\n",
       "      <td>2.0</td>\n",
       "      <td>0</td>\n",
       "      <td>0</td>\n",
       "      <td>...</td>\n",
       "      <td>9</td>\n",
       "      <td>2550</td>\n",
       "      <td>0</td>\n",
       "      <td>2004</td>\n",
       "      <td>0</td>\n",
       "      <td>98052</td>\n",
       "      <td>47.6647</td>\n",
       "      <td>-122.083</td>\n",
       "      <td>2250</td>\n",
       "      <td>4050</td>\n",
       "    </tr>\n",
       "  </tbody>\n",
       "</table>\n",
       "<p>5 rows × 21 columns</p>\n",
       "</div>"
      ],
      "text/plain": [
       "           id             date      price  bedrooms  bathrooms  sqft_living  \\\n",
       "0  2591820310  20141006T000000   365000.0         4       2.25         2070   \n",
       "1  7974200820  20140821T000000   865000.0         5       3.00         2900   \n",
       "2  7701450110  20140815T000000  1038000.0         4       2.50         3770   \n",
       "3  9522300010  20150331T000000  1490000.0         3       3.50         4560   \n",
       "4  9510861140  20140714T000000   711000.0         3       2.50         2550   \n",
       "\n",
       "   sqft_lot  floors  waterfront  view  ...  grade  sqft_above  sqft_basement  \\\n",
       "0      8893     2.0           0     0  ...      8        2070              0   \n",
       "1      6730     1.0           0     0  ...      8        1830           1070   \n",
       "2     10893     2.0           0     2  ...     11        3770              0   \n",
       "3     14608     2.0           0     2  ...     12        4560              0   \n",
       "4      5376     2.0           0     0  ...      9        2550              0   \n",
       "\n",
       "   yr_built  yr_renovated  zipcode      lat     long  sqft_living15  \\\n",
       "0      1986             0    98058  47.4388 -122.162           2390   \n",
       "1      1977             0    98115  47.6784 -122.285           2370   \n",
       "2      1997             0    98006  47.5646 -122.129           3710   \n",
       "3      1990             0    98034  47.6995 -122.228           4050   \n",
       "4      2004             0    98052  47.6647 -122.083           2250   \n",
       "\n",
       "   sqft_lot15  \n",
       "0        7700  \n",
       "1        6283  \n",
       "2        9685  \n",
       "3       14226  \n",
       "4        4050  \n",
       "\n",
       "[5 rows x 21 columns]"
      ]
     },
     "execution_count": 30,
     "metadata": {},
     "output_type": "execute_result"
    }
   ],
   "source": [
    "df.head()"
   ]
  },
  {
   "cell_type": "code",
   "execution_count": 31,
   "metadata": {},
   "outputs": [
    {
     "data": {
      "text/plain": [
       "(17290, 21)"
      ]
     },
     "execution_count": 31,
     "metadata": {},
     "output_type": "execute_result"
    }
   ],
   "source": [
    "df.shape"
   ]
  },
  {
   "cell_type": "code",
   "execution_count": 32,
   "metadata": {
    "scrolled": true
   },
   "outputs": [
    {
     "data": {
      "text/html": [
       "<div>\n",
       "<style scoped>\n",
       "    .dataframe tbody tr th:only-of-type {\n",
       "        vertical-align: middle;\n",
       "    }\n",
       "\n",
       "    .dataframe tbody tr th {\n",
       "        vertical-align: top;\n",
       "    }\n",
       "\n",
       "    .dataframe thead th {\n",
       "        text-align: right;\n",
       "    }\n",
       "</style>\n",
       "<table border=\"1\" class=\"dataframe\">\n",
       "  <thead>\n",
       "    <tr style=\"text-align: right;\">\n",
       "      <th></th>\n",
       "      <th>id</th>\n",
       "      <th>price</th>\n",
       "      <th>bedrooms</th>\n",
       "      <th>bathrooms</th>\n",
       "      <th>sqft_living</th>\n",
       "      <th>sqft_lot</th>\n",
       "      <th>floors</th>\n",
       "      <th>waterfront</th>\n",
       "      <th>view</th>\n",
       "      <th>condition</th>\n",
       "      <th>grade</th>\n",
       "      <th>sqft_above</th>\n",
       "      <th>sqft_basement</th>\n",
       "      <th>yr_built</th>\n",
       "      <th>yr_renovated</th>\n",
       "      <th>zipcode</th>\n",
       "      <th>lat</th>\n",
       "      <th>long</th>\n",
       "      <th>sqft_living15</th>\n",
       "      <th>sqft_lot15</th>\n",
       "    </tr>\n",
       "  </thead>\n",
       "  <tbody>\n",
       "    <tr>\n",
       "      <th>count</th>\n",
       "      <td>1.729000e+04</td>\n",
       "      <td>1.729000e+04</td>\n",
       "      <td>17290.000000</td>\n",
       "      <td>17290.000000</td>\n",
       "      <td>17290.000000</td>\n",
       "      <td>1.729000e+04</td>\n",
       "      <td>17290.000000</td>\n",
       "      <td>17290.000000</td>\n",
       "      <td>17290.000000</td>\n",
       "      <td>17290.000000</td>\n",
       "      <td>17290.000000</td>\n",
       "      <td>17290.000000</td>\n",
       "      <td>17290.000000</td>\n",
       "      <td>17290.000000</td>\n",
       "      <td>17290.000000</td>\n",
       "      <td>17290.000000</td>\n",
       "      <td>17290.000000</td>\n",
       "      <td>17290.000000</td>\n",
       "      <td>17290.000000</td>\n",
       "      <td>17290.000000</td>\n",
       "    </tr>\n",
       "    <tr>\n",
       "      <th>mean</th>\n",
       "      <td>4.565502e+09</td>\n",
       "      <td>5.407395e+05</td>\n",
       "      <td>3.372470</td>\n",
       "      <td>2.111943</td>\n",
       "      <td>2081.464604</td>\n",
       "      <td>1.524340e+04</td>\n",
       "      <td>1.490312</td>\n",
       "      <td>0.007981</td>\n",
       "      <td>0.238519</td>\n",
       "      <td>3.408502</td>\n",
       "      <td>7.654425</td>\n",
       "      <td>1789.306015</td>\n",
       "      <td>292.158589</td>\n",
       "      <td>1970.792019</td>\n",
       "      <td>83.806304</td>\n",
       "      <td>98078.193175</td>\n",
       "      <td>47.560058</td>\n",
       "      <td>-122.214258</td>\n",
       "      <td>1987.986698</td>\n",
       "      <td>12873.475824</td>\n",
       "    </tr>\n",
       "    <tr>\n",
       "      <th>std</th>\n",
       "      <td>2.874656e+09</td>\n",
       "      <td>3.733190e+05</td>\n",
       "      <td>0.939346</td>\n",
       "      <td>0.770476</td>\n",
       "      <td>920.018539</td>\n",
       "      <td>4.230462e+04</td>\n",
       "      <td>0.538909</td>\n",
       "      <td>0.088985</td>\n",
       "      <td>0.775229</td>\n",
       "      <td>0.651296</td>\n",
       "      <td>1.174718</td>\n",
       "      <td>829.265107</td>\n",
       "      <td>443.151874</td>\n",
       "      <td>29.343516</td>\n",
       "      <td>400.329376</td>\n",
       "      <td>53.607949</td>\n",
       "      <td>0.138412</td>\n",
       "      <td>0.140857</td>\n",
       "      <td>684.802635</td>\n",
       "      <td>27227.437583</td>\n",
       "    </tr>\n",
       "    <tr>\n",
       "      <th>min</th>\n",
       "      <td>1.000102e+06</td>\n",
       "      <td>7.500000e+04</td>\n",
       "      <td>0.000000</td>\n",
       "      <td>0.000000</td>\n",
       "      <td>290.000000</td>\n",
       "      <td>5.720000e+02</td>\n",
       "      <td>1.000000</td>\n",
       "      <td>0.000000</td>\n",
       "      <td>0.000000</td>\n",
       "      <td>1.000000</td>\n",
       "      <td>1.000000</td>\n",
       "      <td>290.000000</td>\n",
       "      <td>0.000000</td>\n",
       "      <td>1900.000000</td>\n",
       "      <td>0.000000</td>\n",
       "      <td>98001.000000</td>\n",
       "      <td>47.155900</td>\n",
       "      <td>-122.519000</td>\n",
       "      <td>399.000000</td>\n",
       "      <td>659.000000</td>\n",
       "    </tr>\n",
       "    <tr>\n",
       "      <th>25%</th>\n",
       "      <td>2.114701e+09</td>\n",
       "      <td>3.210000e+05</td>\n",
       "      <td>3.000000</td>\n",
       "      <td>1.500000</td>\n",
       "      <td>1430.000000</td>\n",
       "      <td>5.081250e+03</td>\n",
       "      <td>1.000000</td>\n",
       "      <td>0.000000</td>\n",
       "      <td>0.000000</td>\n",
       "      <td>3.000000</td>\n",
       "      <td>7.000000</td>\n",
       "      <td>1200.000000</td>\n",
       "      <td>0.000000</td>\n",
       "      <td>1951.000000</td>\n",
       "      <td>0.000000</td>\n",
       "      <td>98033.000000</td>\n",
       "      <td>47.471200</td>\n",
       "      <td>-122.329000</td>\n",
       "      <td>1490.000000</td>\n",
       "      <td>5111.250000</td>\n",
       "    </tr>\n",
       "    <tr>\n",
       "      <th>50%</th>\n",
       "      <td>3.903650e+09</td>\n",
       "      <td>4.500000e+05</td>\n",
       "      <td>3.000000</td>\n",
       "      <td>2.250000</td>\n",
       "      <td>1920.000000</td>\n",
       "      <td>7.642000e+03</td>\n",
       "      <td>1.500000</td>\n",
       "      <td>0.000000</td>\n",
       "      <td>0.000000</td>\n",
       "      <td>3.000000</td>\n",
       "      <td>7.000000</td>\n",
       "      <td>1560.000000</td>\n",
       "      <td>0.000000</td>\n",
       "      <td>1974.000000</td>\n",
       "      <td>0.000000</td>\n",
       "      <td>98065.000000</td>\n",
       "      <td>47.571600</td>\n",
       "      <td>-122.230000</td>\n",
       "      <td>1840.000000</td>\n",
       "      <td>7622.500000</td>\n",
       "    </tr>\n",
       "    <tr>\n",
       "      <th>75%</th>\n",
       "      <td>7.301150e+09</td>\n",
       "      <td>6.450000e+05</td>\n",
       "      <td>4.000000</td>\n",
       "      <td>2.500000</td>\n",
       "      <td>2550.000000</td>\n",
       "      <td>1.072575e+04</td>\n",
       "      <td>2.000000</td>\n",
       "      <td>0.000000</td>\n",
       "      <td>0.000000</td>\n",
       "      <td>4.000000</td>\n",
       "      <td>8.000000</td>\n",
       "      <td>2214.500000</td>\n",
       "      <td>560.000000</td>\n",
       "      <td>1996.000000</td>\n",
       "      <td>0.000000</td>\n",
       "      <td>98118.000000</td>\n",
       "      <td>47.677900</td>\n",
       "      <td>-122.126000</td>\n",
       "      <td>2360.000000</td>\n",
       "      <td>10101.750000</td>\n",
       "    </tr>\n",
       "    <tr>\n",
       "      <th>max</th>\n",
       "      <td>9.900000e+09</td>\n",
       "      <td>7.700000e+06</td>\n",
       "      <td>33.000000</td>\n",
       "      <td>8.000000</td>\n",
       "      <td>13540.000000</td>\n",
       "      <td>1.651359e+06</td>\n",
       "      <td>3.500000</td>\n",
       "      <td>1.000000</td>\n",
       "      <td>4.000000</td>\n",
       "      <td>5.000000</td>\n",
       "      <td>13.000000</td>\n",
       "      <td>9410.000000</td>\n",
       "      <td>4820.000000</td>\n",
       "      <td>2015.000000</td>\n",
       "      <td>2015.000000</td>\n",
       "      <td>98199.000000</td>\n",
       "      <td>47.777600</td>\n",
       "      <td>-121.315000</td>\n",
       "      <td>6210.000000</td>\n",
       "      <td>858132.000000</td>\n",
       "    </tr>\n",
       "  </tbody>\n",
       "</table>\n",
       "</div>"
      ],
      "text/plain": [
       "                 id         price      bedrooms     bathrooms   sqft_living  \\\n",
       "count  1.729000e+04  1.729000e+04  17290.000000  17290.000000  17290.000000   \n",
       "mean   4.565502e+09  5.407395e+05      3.372470      2.111943   2081.464604   \n",
       "std    2.874656e+09  3.733190e+05      0.939346      0.770476    920.018539   \n",
       "min    1.000102e+06  7.500000e+04      0.000000      0.000000    290.000000   \n",
       "25%    2.114701e+09  3.210000e+05      3.000000      1.500000   1430.000000   \n",
       "50%    3.903650e+09  4.500000e+05      3.000000      2.250000   1920.000000   \n",
       "75%    7.301150e+09  6.450000e+05      4.000000      2.500000   2550.000000   \n",
       "max    9.900000e+09  7.700000e+06     33.000000      8.000000  13540.000000   \n",
       "\n",
       "           sqft_lot        floors    waterfront          view     condition  \\\n",
       "count  1.729000e+04  17290.000000  17290.000000  17290.000000  17290.000000   \n",
       "mean   1.524340e+04      1.490312      0.007981      0.238519      3.408502   \n",
       "std    4.230462e+04      0.538909      0.088985      0.775229      0.651296   \n",
       "min    5.720000e+02      1.000000      0.000000      0.000000      1.000000   \n",
       "25%    5.081250e+03      1.000000      0.000000      0.000000      3.000000   \n",
       "50%    7.642000e+03      1.500000      0.000000      0.000000      3.000000   \n",
       "75%    1.072575e+04      2.000000      0.000000      0.000000      4.000000   \n",
       "max    1.651359e+06      3.500000      1.000000      4.000000      5.000000   \n",
       "\n",
       "              grade    sqft_above  sqft_basement      yr_built  yr_renovated  \\\n",
       "count  17290.000000  17290.000000   17290.000000  17290.000000  17290.000000   \n",
       "mean       7.654425   1789.306015     292.158589   1970.792019     83.806304   \n",
       "std        1.174718    829.265107     443.151874     29.343516    400.329376   \n",
       "min        1.000000    290.000000       0.000000   1900.000000      0.000000   \n",
       "25%        7.000000   1200.000000       0.000000   1951.000000      0.000000   \n",
       "50%        7.000000   1560.000000       0.000000   1974.000000      0.000000   \n",
       "75%        8.000000   2214.500000     560.000000   1996.000000      0.000000   \n",
       "max       13.000000   9410.000000    4820.000000   2015.000000   2015.000000   \n",
       "\n",
       "            zipcode           lat          long  sqft_living15     sqft_lot15  \n",
       "count  17290.000000  17290.000000  17290.000000   17290.000000   17290.000000  \n",
       "mean   98078.193175     47.560058   -122.214258    1987.986698   12873.475824  \n",
       "std       53.607949      0.138412      0.140857     684.802635   27227.437583  \n",
       "min    98001.000000     47.155900   -122.519000     399.000000     659.000000  \n",
       "25%    98033.000000     47.471200   -122.329000    1490.000000    5111.250000  \n",
       "50%    98065.000000     47.571600   -122.230000    1840.000000    7622.500000  \n",
       "75%    98118.000000     47.677900   -122.126000    2360.000000   10101.750000  \n",
       "max    98199.000000     47.777600   -121.315000    6210.000000  858132.000000  "
      ]
     },
     "execution_count": 32,
     "metadata": {},
     "output_type": "execute_result"
    }
   ],
   "source": [
    "df.describe()"
   ]
  },
  {
   "cell_type": "code",
   "execution_count": 33,
   "metadata": {},
   "outputs": [],
   "source": [
    "df_cheap = df[df['price'] < 1500000]"
   ]
  },
  {
   "cell_type": "code",
   "execution_count": 34,
   "metadata": {
    "scrolled": true
   },
   "outputs": [
    {
     "data": {
      "text/plain": [
       "<matplotlib.axes._subplots.AxesSubplot at 0x12a981da0>"
      ]
     },
     "execution_count": 34,
     "metadata": {},
     "output_type": "execute_result"
    },
    {
     "data": {
      "image/png": "[encoded data removed]",
      "text/plain": [
       "<Figure size 432x288 with 1 Axes>"
      ]
     },
     "metadata": {},
     "output_type": "display_data"
    }
   ],
   "source": [
    "df_cheap.boxplot('price', 'condition')"
   ]
  },
  {
   "cell_type": "code",
   "execution_count": 35,
   "metadata": {},
   "outputs": [
    {
     "data": {
      "text/plain": [
       "Index(['id', 'date', 'price', 'bedrooms', 'bathrooms', 'sqft_living',\n",
       "       'sqft_lot', 'floors', 'waterfront', 'view', 'condition', 'grade',\n",
       "       'sqft_above', 'sqft_basement', 'yr_built', 'yr_renovated', 'zipcode',\n",
       "       'lat', 'long', 'sqft_living15', 'sqft_lot15'],\n",
       "      dtype='object')"
      ]
     },
     "execution_count": 35,
     "metadata": {},
     "output_type": "execute_result"
    }
   ],
   "source": [
    "df.columns"
   ]
  },
  {
   "cell_type": "code",
   "execution_count": 36,
   "metadata": {},
   "outputs": [],
   "source": [
    "df['log_price'] = df['price'].apply(lambda x: np.log(x))"
   ]
  },
  {
   "cell_type": "code",
   "execution_count": 37,
   "metadata": {},
   "outputs": [
    {
     "data": {
      "text/plain": [
       "<matplotlib.axes._subplots.AxesSubplot at 0x107f4d358>"
      ]
     },
     "execution_count": 37,
     "metadata": {},
     "output_type": "execute_result"
    },
    {
     "data": {
      "image/png": "[encoded data removed]",
      "text/plain": [
       "<Figure size 432x288 with 1 Axes>"
      ]
     },
     "metadata": {},
     "output_type": "display_data"
    }
   ],
   "source": [
    "df.boxplot('log_price', 'grade')"
   ]
  },
  {
   "cell_type": "code",
   "execution_count": 38,
   "metadata": {},
   "outputs": [
    {
     "data": {
      "text/plain": [
       "<matplotlib.axes._subplots.AxesSubplot at 0x1277f3320>"
      ]
     },
     "execution_count": 38,
     "metadata": {},
     "output_type": "execute_result"
    },
    {
     "data": {
      "image/png": "[encoded data removed]",
      "text/plain": [
       "<Figure size 432x288 with 1 Axes>"
      ]
     },
     "metadata": {},
     "output_type": "display_data"
    }
   ],
   "source": [
    "df.boxplot('log_price', 'condition')"
   ]
  },
  {
   "cell_type": "code",
   "execution_count": 39,
   "metadata": {},
   "outputs": [
    {
     "data": {
      "text/plain": [
       "<matplotlib.axes._subplots.AxesSubplot at 0x127813a20>"
      ]
     },
     "execution_count": 39,
     "metadata": {},
     "output_type": "execute_result"
    },
    {
     "data": {
      "image/png": "[encoded data removed]",
      "text/plain": [
       "<Figure size 432x288 with 1 Axes>"
      ]
     },
     "metadata": {},
     "output_type": "display_data"
    }
   ],
   "source": [
    "df.boxplot('log_price', 'view')"
   ]
  },
  {
   "cell_type": "code",
   "execution_count": 40,
   "metadata": {},
   "outputs": [
    {
     "data": {
      "text/plain": [
       "<matplotlib.axes._subplots.AxesSubplot at 0x127915748>"
      ]
     },
     "execution_count": 40,
     "metadata": {},
     "output_type": "execute_result"
    },
    {
     "data": {
      "image/png": "[encoded data removed]",
      "text/plain": [
       "<Figure size 432x288 with 1 Axes>"
      ]
     },
     "metadata": {},
     "output_type": "display_data"
    }
   ],
   "source": [
    "df.boxplot('log_price', 'waterfront')"
   ]
  },
  {
   "cell_type": "code",
   "execution_count": 41,
   "metadata": {
    "scrolled": false
   },
   "outputs": [
    {
     "data": {
      "text/plain": [
       "<matplotlib.axes._subplots.AxesSubplot at 0x127c4cdd8>"
      ]
     },
     "execution_count": 41,
     "metadata": {},
     "output_type": "execute_result"
    },
    {
     "data": {
      "image/png": "[encoded data removed]",
      "text/plain": [
       "<Figure size 432x288 with 1 Axes>"
      ]
     },
     "metadata": {},
     "output_type": "display_data"
    }
   ],
   "source": [
    "df['waterfront_view'] = df['waterfront'] * df['view']\n",
    "df.boxplot('log_price', 'waterfront_view')"
   ]
  },
  {
   "cell_type": "code",
   "execution_count": 42,
   "metadata": {
    "scrolled": true
   },
   "outputs": [
    {
     "data": {
      "text/plain": [
       "<matplotlib.axes._subplots.AxesSubplot at 0x12a8edf98>"
      ]
     },
     "execution_count": 42,
     "metadata": {},
     "output_type": "execute_result"
    },
    {
     "data": {
      "image/png": "[encoded data removed]",
      "text/plain": [
       "<Figure size 432x288 with 1 Axes>"
      ]
     },
     "metadata": {},
     "output_type": "display_data"
    }
   ],
   "source": [
    "df['waterfront_cond'] = df['waterfront'] * df['condition']\n",
    "df.boxplot('log_price', 'waterfront_cond')"
   ]
  },
  {
   "cell_type": "code",
   "execution_count": 43,
   "metadata": {},
   "outputs": [
    {
     "data": {
      "text/plain": [
       "<matplotlib.axes._subplots.AxesSubplot at 0x12b180f98>"
      ]
     },
     "execution_count": 43,
     "metadata": {},
     "output_type": "execute_result"
    },
    {
     "data": {
      "image/png": "[encoded data removed]",
      "text/plain": [
       "<Figure size 432x288 with 1 Axes>"
      ]
     },
     "metadata": {},
     "output_type": "display_data"
    }
   ],
   "source": [
    "df['waterfront_grade'] = df['waterfront'] * df['grade']\n",
    "df.boxplot('log_price', 'waterfront_grade')"
   ]
  },
  {
   "cell_type": "code",
   "execution_count": 44,
   "metadata": {},
   "outputs": [],
   "source": [
    "df['bedrooms'] = np.where(df['bedrooms'] > 10, 10, df['bedrooms'])"
   ]
  },
  {
   "cell_type": "code",
   "execution_count": 45,
   "metadata": {},
   "outputs": [
    {
     "data": {
      "text/plain": [
       "<matplotlib.axes._subplots.AxesSubplot at 0x12a237278>"
      ]
     },
     "execution_count": 45,
     "metadata": {},
     "output_type": "execute_result"
    },
    {
     "data": {
      "image/png": "[encoded data removed]",
      "text/plain": [
       "<Figure size 432x288 with 1 Axes>"
      ]
     },
     "metadata": {},
     "output_type": "display_data"
    }
   ],
   "source": [
    "df.boxplot('log_price', 'bedrooms')"
   ]
  },
  {
   "cell_type": "code",
   "execution_count": 46,
   "metadata": {},
   "outputs": [],
   "source": [
    "df['living_bed_ratio'] = df['sqft_living'] / df['bedrooms']"
   ]
  },
  {
   "cell_type": "code",
   "execution_count": 47,
   "metadata": {},
   "outputs": [],
   "source": [
    "df['log_living_bed_ratio'] = df['living_bed_ratio'].apply(lambda x: np.log(x))"
   ]
  },
  {
   "cell_type": "code",
   "execution_count": 137,
   "metadata": {
    "scrolled": true
   },
   "outputs": [
    {
     "data": {
      "text/plain": [
       "<matplotlib.axes._subplots.AxesSubplot at 0x1403970f0>"
      ]
     },
     "execution_count": 137,
     "metadata": {},
     "output_type": "execute_result"
    },
    {
     "data": {
      "image/png": "[encoded data removed]",
      "text/plain": [
       "<Figure size 432x288 with 1 Axes>"
      ]
     },
     "metadata": {},
     "output_type": "display_data"
    }
   ],
   "source": [
    "df.plot.scatter('living_bed_ratio', 'log_price')"
   ]
  },
  {
   "cell_type": "code",
   "execution_count": 138,
   "metadata": {},
   "outputs": [
    {
     "data": {
      "text/plain": [
       "<matplotlib.axes._subplots.AxesSubplot at 0x14037b358>"
      ]
     },
     "execution_count": 138,
     "metadata": {},
     "output_type": "execute_result"
    },
    {
     "data": {
      "image/png": "[encoded data removed]",
      "text/plain": [
       "<Figure size 432x288 with 1 Axes>"
      ]
     },
     "metadata": {},
     "output_type": "display_data"
    }
   ],
   "source": [
    "df.plot.scatter('log_living_bed_ratio', 'log_price')"
   ]
  },
  {
   "cell_type": "code",
   "execution_count": 50,
   "metadata": {},
   "outputs": [],
   "source": [
    "df['bed_bath_ratio'] = df['bedrooms'] / df['bathrooms']"
   ]
  },
  {
   "cell_type": "code",
   "execution_count": 51,
   "metadata": {
    "scrolled": true
   },
   "outputs": [
    {
     "data": {
      "text/plain": [
       "<matplotlib.axes._subplots.AxesSubplot at 0x1251b7e48>"
      ]
     },
     "execution_count": 51,
     "metadata": {},
     "output_type": "execute_result"
    },
    {
     "data": {
      "image/png": "[encoded data removed]",
      "text/plain": [
       "<Figure size 432x288 with 1 Axes>"
      ]
     },
     "metadata": {},
     "output_type": "display_data"
    }
   ],
   "source": [
    "df.plot.scatter('bed_bath_ratio', 'log_price')"
   ]
  },
  {
   "cell_type": "code",
   "execution_count": 52,
   "metadata": {},
   "outputs": [
    {
     "data": {
      "text/plain": [
       "<matplotlib.axes._subplots.AxesSubplot at 0x129f1c908>"
      ]
     },
     "execution_count": 52,
     "metadata": {},
     "output_type": "execute_result"
    },
    {
     "data": {
      "image/png": "[encoded data removed]",
      "text/plain": [
       "<Figure size 432x288 with 1 Axes>"
      ]
     },
     "metadata": {},
     "output_type": "display_data"
    }
   ],
   "source": [
    "df['log_sqft_lot'] = df['sqft_lot'].apply(lambda x: np.log(x))\n",
    "df.plot.scatter('log_price', 'log_sqft_lot')"
   ]
  },
  {
   "cell_type": "code",
   "execution_count": 53,
   "metadata": {
    "scrolled": true
   },
   "outputs": [
    {
     "data": {
      "text/plain": [
       "count    17290.000000\n",
       "mean         2.111943\n",
       "std          0.770476\n",
       "min          0.000000\n",
       "25%          1.500000\n",
       "50%          2.250000\n",
       "75%          2.500000\n",
       "max          8.000000\n",
       "Name: bathrooms, dtype: float64"
      ]
     },
     "execution_count": 53,
     "metadata": {},
     "output_type": "execute_result"
    }
   ],
   "source": [
    "df['bathrooms'].describe()"
   ]
  },
  {
   "cell_type": "code",
   "execution_count": 54,
   "metadata": {
    "scrolled": true
   },
   "outputs": [
    {
     "data": {
      "text/html": [
       "<div>\n",
       "<style scoped>\n",
       "    .dataframe tbody tr th:only-of-type {\n",
       "        vertical-align: middle;\n",
       "    }\n",
       "\n",
       "    .dataframe tbody tr th {\n",
       "        vertical-align: top;\n",
       "    }\n",
       "\n",
       "    .dataframe thead th {\n",
       "        text-align: right;\n",
       "    }\n",
       "</style>\n",
       "<table border=\"1\" class=\"dataframe\">\n",
       "  <thead>\n",
       "    <tr style=\"text-align: right;\">\n",
       "      <th></th>\n",
       "      <th>id</th>\n",
       "      <th>date</th>\n",
       "      <th>price</th>\n",
       "      <th>bedrooms</th>\n",
       "      <th>bathrooms</th>\n",
       "      <th>sqft_living</th>\n",
       "      <th>sqft_lot</th>\n",
       "      <th>floors</th>\n",
       "      <th>waterfront</th>\n",
       "      <th>view</th>\n",
       "      <th>...</th>\n",
       "      <th>sqft_living15</th>\n",
       "      <th>sqft_lot15</th>\n",
       "      <th>log_price</th>\n",
       "      <th>waterfront_view</th>\n",
       "      <th>waterfront_cond</th>\n",
       "      <th>waterfront_grade</th>\n",
       "      <th>living_bed_ratio</th>\n",
       "      <th>log_living_bed_ratio</th>\n",
       "      <th>bed_bath_ratio</th>\n",
       "      <th>log_sqft_lot</th>\n",
       "    </tr>\n",
       "  </thead>\n",
       "  <tbody>\n",
       "    <tr>\n",
       "      <th>0</th>\n",
       "      <td>2591820310</td>\n",
       "      <td>20141006T000000</td>\n",
       "      <td>365000.0</td>\n",
       "      <td>4</td>\n",
       "      <td>2.25</td>\n",
       "      <td>2070</td>\n",
       "      <td>8893</td>\n",
       "      <td>2.0</td>\n",
       "      <td>0</td>\n",
       "      <td>0</td>\n",
       "      <td>...</td>\n",
       "      <td>2390</td>\n",
       "      <td>7700</td>\n",
       "      <td>12.807653</td>\n",
       "      <td>0</td>\n",
       "      <td>0</td>\n",
       "      <td>0</td>\n",
       "      <td>517.5</td>\n",
       "      <td>6.249010</td>\n",
       "      <td>1.777778</td>\n",
       "      <td>9.093020</td>\n",
       "    </tr>\n",
       "    <tr>\n",
       "      <th>1</th>\n",
       "      <td>7974200820</td>\n",
       "      <td>20140821T000000</td>\n",
       "      <td>865000.0</td>\n",
       "      <td>5</td>\n",
       "      <td>3.00</td>\n",
       "      <td>2900</td>\n",
       "      <td>6730</td>\n",
       "      <td>1.0</td>\n",
       "      <td>0</td>\n",
       "      <td>0</td>\n",
       "      <td>...</td>\n",
       "      <td>2370</td>\n",
       "      <td>6283</td>\n",
       "      <td>13.670485</td>\n",
       "      <td>0</td>\n",
       "      <td>0</td>\n",
       "      <td>0</td>\n",
       "      <td>580.0</td>\n",
       "      <td>6.363028</td>\n",
       "      <td>1.666667</td>\n",
       "      <td>8.814330</td>\n",
       "    </tr>\n",
       "    <tr>\n",
       "      <th>2</th>\n",
       "      <td>7701450110</td>\n",
       "      <td>20140815T000000</td>\n",
       "      <td>1038000.0</td>\n",
       "      <td>4</td>\n",
       "      <td>2.50</td>\n",
       "      <td>3770</td>\n",
       "      <td>10893</td>\n",
       "      <td>2.0</td>\n",
       "      <td>0</td>\n",
       "      <td>2</td>\n",
       "      <td>...</td>\n",
       "      <td>3710</td>\n",
       "      <td>9685</td>\n",
       "      <td>13.852806</td>\n",
       "      <td>0</td>\n",
       "      <td>0</td>\n",
       "      <td>0</td>\n",
       "      <td>942.5</td>\n",
       "      <td>6.848536</td>\n",
       "      <td>1.600000</td>\n",
       "      <td>9.295876</td>\n",
       "    </tr>\n",
       "    <tr>\n",
       "      <th>3</th>\n",
       "      <td>9522300010</td>\n",
       "      <td>20150331T000000</td>\n",
       "      <td>1490000.0</td>\n",
       "      <td>3</td>\n",
       "      <td>3.50</td>\n",
       "      <td>4560</td>\n",
       "      <td>14608</td>\n",
       "      <td>2.0</td>\n",
       "      <td>0</td>\n",
       "      <td>2</td>\n",
       "      <td>...</td>\n",
       "      <td>4050</td>\n",
       "      <td>14226</td>\n",
       "      <td>14.214287</td>\n",
       "      <td>0</td>\n",
       "      <td>0</td>\n",
       "      <td>0</td>\n",
       "      <td>1520.0</td>\n",
       "      <td>7.326466</td>\n",
       "      <td>0.857143</td>\n",
       "      <td>9.589325</td>\n",
       "    </tr>\n",
       "    <tr>\n",
       "      <th>4</th>\n",
       "      <td>9510861140</td>\n",
       "      <td>20140714T000000</td>\n",
       "      <td>711000.0</td>\n",
       "      <td>3</td>\n",
       "      <td>2.50</td>\n",
       "      <td>2550</td>\n",
       "      <td>5376</td>\n",
       "      <td>2.0</td>\n",
       "      <td>0</td>\n",
       "      <td>0</td>\n",
       "      <td>...</td>\n",
       "      <td>2250</td>\n",
       "      <td>4050</td>\n",
       "      <td>13.474428</td>\n",
       "      <td>0</td>\n",
       "      <td>0</td>\n",
       "      <td>0</td>\n",
       "      <td>850.0</td>\n",
       "      <td>6.745236</td>\n",
       "      <td>1.200000</td>\n",
       "      <td>8.589700</td>\n",
       "    </tr>\n",
       "  </tbody>\n",
       "</table>\n",
       "<p>5 rows × 29 columns</p>\n",
       "</div>"
      ],
      "text/plain": [
       "           id             date      price  bedrooms  bathrooms  sqft_living  \\\n",
       "0  2591820310  20141006T000000   365000.0         4       2.25         2070   \n",
       "1  7974200820  20140821T000000   865000.0         5       3.00         2900   \n",
       "2  7701450110  20140815T000000  1038000.0         4       2.50         3770   \n",
       "3  9522300010  20150331T000000  1490000.0         3       3.50         4560   \n",
       "4  9510861140  20140714T000000   711000.0         3       2.50         2550   \n",
       "\n",
       "   sqft_lot  floors  waterfront  view  ...  sqft_living15  sqft_lot15  \\\n",
       "0      8893     2.0           0     0  ...           2390        7700   \n",
       "1      6730     1.0           0     0  ...           2370        6283   \n",
       "2     10893     2.0           0     2  ...           3710        9685   \n",
       "3     14608     2.0           0     2  ...           4050       14226   \n",
       "4      5376     2.0           0     0  ...           2250        4050   \n",
       "\n",
       "   log_price  waterfront_view  waterfront_cond  waterfront_grade  \\\n",
       "0  12.807653                0                0                 0   \n",
       "1  13.670485                0                0                 0   \n",
       "2  13.852806                0                0                 0   \n",
       "3  14.214287                0                0                 0   \n",
       "4  13.474428                0                0                 0   \n",
       "\n",
       "   living_bed_ratio  log_living_bed_ratio  bed_bath_ratio  log_sqft_lot  \n",
       "0             517.5              6.249010        1.777778      9.093020  \n",
       "1             580.0              6.363028        1.666667      8.814330  \n",
       "2             942.5              6.848536        1.600000      9.295876  \n",
       "3            1520.0              7.326466        0.857143      9.589325  \n",
       "4             850.0              6.745236        1.200000      8.589700  \n",
       "\n",
       "[5 rows x 29 columns]"
      ]
     },
     "execution_count": 54,
     "metadata": {},
     "output_type": "execute_result"
    }
   ],
   "source": [
    "df.head()"
   ]
  },
  {
   "cell_type": "code",
   "execution_count": 55,
   "metadata": {},
   "outputs": [
    {
     "data": {
      "text/plain": [
       "array([0, 2, 3, 4, 1])"
      ]
     },
     "execution_count": 55,
     "metadata": {},
     "output_type": "execute_result"
    }
   ],
   "source": [
    "df['view'].unique()"
   ]
  },
  {
   "cell_type": "code",
   "execution_count": 56,
   "metadata": {},
   "outputs": [
    {
     "data": {
      "text/plain": [
       "array([2.25, 3.  , 2.5 , 3.5 , 2.  , 1.  , 1.75, 3.75, 3.25, 4.25, 2.75,\n",
       "       1.5 , 4.5 , 4.  , 4.75, 0.75, 0.  , 5.  , 5.5 , 6.  , 1.25, 5.75,\n",
       "       6.75, 5.25, 6.5 , 8.  , 7.5 , 6.25, 0.5 , 7.75])"
      ]
     },
     "execution_count": 56,
     "metadata": {},
     "output_type": "execute_result"
    }
   ],
   "source": [
    "df['bathrooms'].unique()"
   ]
  },
  {
   "cell_type": "code",
   "execution_count": 57,
   "metadata": {
    "scrolled": true
   },
   "outputs": [
    {
     "data": {
      "text/plain": [
       "array([[<matplotlib.axes._subplots.AxesSubplot object at 0x12b06c710>]],\n",
       "      dtype=object)"
      ]
     },
     "execution_count": 57,
     "metadata": {},
     "output_type": "execute_result"
    },
    {
     "data": {
      "image/png": "[encoded data removed]",
      "text/plain": [
       "<Figure size 432x288 with 1 Axes>"
      ]
     },
     "metadata": {},
     "output_type": "display_data"
    }
   ],
   "source": [
    "df.hist('log_price', bins=20)"
   ]
  },
  {
   "cell_type": "code",
   "execution_count": 58,
   "metadata": {
    "scrolled": true
   },
   "outputs": [
    {
     "data": {
      "text/plain": [
       "array([[<matplotlib.axes._subplots.AxesSubplot object at 0x12aaefb70>]],\n",
       "      dtype=object)"
      ]
     },
     "execution_count": 58,
     "metadata": {},
     "output_type": "execute_result"
    },
    {
     "data": {
      "image/png": "[encoded data removed]",
      "text/plain": [
       "<Figure size 432x288 with 1 Axes>"
      ]
     },
     "metadata": {},
     "output_type": "display_data"
    }
   ],
   "source": [
    "df_cheap.hist('price', bins=20)"
   ]
  },
  {
   "cell_type": "code",
   "execution_count": 59,
   "metadata": {},
   "outputs": [
    {
     "data": {
      "text/plain": [
       "<matplotlib.axes._subplots.AxesSubplot at 0x12ad89908>"
      ]
     },
     "execution_count": 59,
     "metadata": {},
     "output_type": "execute_result"
    },
    {
     "data": {
      "image/png": "[encoded data removed]",
      "text/plain": [
       "<Figure size 432x288 with 1 Axes>"
      ]
     },
     "metadata": {},
     "output_type": "display_data"
    }
   ],
   "source": [
    "df.boxplot('price', 'grade')"
   ]
  },
  {
   "cell_type": "code",
   "execution_count": 60,
   "metadata": {},
   "outputs": [
    {
     "data": {
      "text/html": [
       "<div>\n",
       "<style scoped>\n",
       "    .dataframe tbody tr th:only-of-type {\n",
       "        vertical-align: middle;\n",
       "    }\n",
       "\n",
       "    .dataframe tbody tr th {\n",
       "        vertical-align: top;\n",
       "    }\n",
       "\n",
       "    .dataframe thead th {\n",
       "        text-align: right;\n",
       "    }\n",
       "</style>\n",
       "<table border=\"1\" class=\"dataframe\">\n",
       "  <thead>\n",
       "    <tr style=\"text-align: right;\">\n",
       "      <th></th>\n",
       "      <th>id</th>\n",
       "      <th>date</th>\n",
       "      <th>price</th>\n",
       "      <th>bedrooms</th>\n",
       "      <th>bathrooms</th>\n",
       "      <th>sqft_living</th>\n",
       "      <th>sqft_lot</th>\n",
       "      <th>floors</th>\n",
       "      <th>waterfront</th>\n",
       "      <th>view</th>\n",
       "      <th>...</th>\n",
       "      <th>sqft_lot15</th>\n",
       "      <th>log_price</th>\n",
       "      <th>waterfront_view</th>\n",
       "      <th>waterfront_cond</th>\n",
       "      <th>waterfront_grade</th>\n",
       "      <th>living_bed_ratio</th>\n",
       "      <th>log_living_bed_ratio</th>\n",
       "      <th>bed_bath_ratio</th>\n",
       "      <th>log_sqft_lot</th>\n",
       "      <th>sqft_yard</th>\n",
       "    </tr>\n",
       "  </thead>\n",
       "  <tbody>\n",
       "    <tr>\n",
       "      <th>0</th>\n",
       "      <td>2591820310</td>\n",
       "      <td>20141006T000000</td>\n",
       "      <td>365000.0</td>\n",
       "      <td>4</td>\n",
       "      <td>2.25</td>\n",
       "      <td>2070</td>\n",
       "      <td>8893</td>\n",
       "      <td>2.0</td>\n",
       "      <td>0</td>\n",
       "      <td>0</td>\n",
       "      <td>...</td>\n",
       "      <td>7700</td>\n",
       "      <td>12.807653</td>\n",
       "      <td>0</td>\n",
       "      <td>0</td>\n",
       "      <td>0</td>\n",
       "      <td>517.5</td>\n",
       "      <td>6.249010</td>\n",
       "      <td>1.777778</td>\n",
       "      <td>9.093020</td>\n",
       "      <td>7858.0</td>\n",
       "    </tr>\n",
       "    <tr>\n",
       "      <th>1</th>\n",
       "      <td>7974200820</td>\n",
       "      <td>20140821T000000</td>\n",
       "      <td>865000.0</td>\n",
       "      <td>5</td>\n",
       "      <td>3.00</td>\n",
       "      <td>2900</td>\n",
       "      <td>6730</td>\n",
       "      <td>1.0</td>\n",
       "      <td>0</td>\n",
       "      <td>0</td>\n",
       "      <td>...</td>\n",
       "      <td>6283</td>\n",
       "      <td>13.670485</td>\n",
       "      <td>0</td>\n",
       "      <td>0</td>\n",
       "      <td>0</td>\n",
       "      <td>580.0</td>\n",
       "      <td>6.363028</td>\n",
       "      <td>1.666667</td>\n",
       "      <td>8.814330</td>\n",
       "      <td>3830.0</td>\n",
       "    </tr>\n",
       "    <tr>\n",
       "      <th>2</th>\n",
       "      <td>7701450110</td>\n",
       "      <td>20140815T000000</td>\n",
       "      <td>1038000.0</td>\n",
       "      <td>4</td>\n",
       "      <td>2.50</td>\n",
       "      <td>3770</td>\n",
       "      <td>10893</td>\n",
       "      <td>2.0</td>\n",
       "      <td>0</td>\n",
       "      <td>2</td>\n",
       "      <td>...</td>\n",
       "      <td>9685</td>\n",
       "      <td>13.852806</td>\n",
       "      <td>0</td>\n",
       "      <td>0</td>\n",
       "      <td>0</td>\n",
       "      <td>942.5</td>\n",
       "      <td>6.848536</td>\n",
       "      <td>1.600000</td>\n",
       "      <td>9.295876</td>\n",
       "      <td>9008.0</td>\n",
       "    </tr>\n",
       "    <tr>\n",
       "      <th>3</th>\n",
       "      <td>9522300010</td>\n",
       "      <td>20150331T000000</td>\n",
       "      <td>1490000.0</td>\n",
       "      <td>3</td>\n",
       "      <td>3.50</td>\n",
       "      <td>4560</td>\n",
       "      <td>14608</td>\n",
       "      <td>2.0</td>\n",
       "      <td>0</td>\n",
       "      <td>2</td>\n",
       "      <td>...</td>\n",
       "      <td>14226</td>\n",
       "      <td>14.214287</td>\n",
       "      <td>0</td>\n",
       "      <td>0</td>\n",
       "      <td>0</td>\n",
       "      <td>1520.0</td>\n",
       "      <td>7.326466</td>\n",
       "      <td>0.857143</td>\n",
       "      <td>9.589325</td>\n",
       "      <td>12328.0</td>\n",
       "    </tr>\n",
       "    <tr>\n",
       "      <th>4</th>\n",
       "      <td>9510861140</td>\n",
       "      <td>20140714T000000</td>\n",
       "      <td>711000.0</td>\n",
       "      <td>3</td>\n",
       "      <td>2.50</td>\n",
       "      <td>2550</td>\n",
       "      <td>5376</td>\n",
       "      <td>2.0</td>\n",
       "      <td>0</td>\n",
       "      <td>0</td>\n",
       "      <td>...</td>\n",
       "      <td>4050</td>\n",
       "      <td>13.474428</td>\n",
       "      <td>0</td>\n",
       "      <td>0</td>\n",
       "      <td>0</td>\n",
       "      <td>850.0</td>\n",
       "      <td>6.745236</td>\n",
       "      <td>1.200000</td>\n",
       "      <td>8.589700</td>\n",
       "      <td>4101.0</td>\n",
       "    </tr>\n",
       "  </tbody>\n",
       "</table>\n",
       "<p>5 rows × 30 columns</p>\n",
       "</div>"
      ],
      "text/plain": [
       "           id             date      price  bedrooms  bathrooms  sqft_living  \\\n",
       "0  2591820310  20141006T000000   365000.0         4       2.25         2070   \n",
       "1  7974200820  20140821T000000   865000.0         5       3.00         2900   \n",
       "2  7701450110  20140815T000000  1038000.0         4       2.50         3770   \n",
       "3  9522300010  20150331T000000  1490000.0         3       3.50         4560   \n",
       "4  9510861140  20140714T000000   711000.0         3       2.50         2550   \n",
       "\n",
       "   sqft_lot  floors  waterfront  view  ...  sqft_lot15  log_price  \\\n",
       "0      8893     2.0           0     0  ...        7700  12.807653   \n",
       "1      6730     1.0           0     0  ...        6283  13.670485   \n",
       "2     10893     2.0           0     2  ...        9685  13.852806   \n",
       "3     14608     2.0           0     2  ...       14226  14.214287   \n",
       "4      5376     2.0           0     0  ...        4050  13.474428   \n",
       "\n",
       "   waterfront_view  waterfront_cond  waterfront_grade  living_bed_ratio  \\\n",
       "0                0                0                 0             517.5   \n",
       "1                0                0                 0             580.0   \n",
       "2                0                0                 0             942.5   \n",
       "3                0                0                 0            1520.0   \n",
       "4                0                0                 0             850.0   \n",
       "\n",
       "   log_living_bed_ratio  bed_bath_ratio  log_sqft_lot  sqft_yard  \n",
       "0              6.249010        1.777778      9.093020     7858.0  \n",
       "1              6.363028        1.666667      8.814330     3830.0  \n",
       "2              6.848536        1.600000      9.295876     9008.0  \n",
       "3              7.326466        0.857143      9.589325    12328.0  \n",
       "4              6.745236        1.200000      8.589700     4101.0  \n",
       "\n",
       "[5 rows x 30 columns]"
      ]
     },
     "execution_count": 60,
     "metadata": {},
     "output_type": "execute_result"
    }
   ],
   "source": [
    "df['sqft_yard'] = df['sqft_lot'] - (df['sqft_living'] / df['floors'])\n",
    "df.head()"
   ]
  },
  {
   "cell_type": "code",
   "execution_count": 61,
   "metadata": {},
   "outputs": [],
   "source": [
    "df['log_sqft_yard'] = df['sqft_yard'].apply(lambda x: np.log(x))"
   ]
  },
  {
   "cell_type": "code",
   "execution_count": 62,
   "metadata": {
    "scrolled": true
   },
   "outputs": [
    {
     "data": {
      "text/plain": [
       "<matplotlib.axes._subplots.AxesSubplot at 0x12bc1ef98>"
      ]
     },
     "execution_count": 62,
     "metadata": {},
     "output_type": "execute_result"
    },
    {
     "data": {
      "image/png": "[encoded data removed]",
      "text/plain": [
       "<Figure size 432x288 with 1 Axes>"
      ]
     },
     "metadata": {},
     "output_type": "display_data"
    }
   ],
   "source": [
    "df.plot.scatter('log_sqft_yard', 'log_price')"
   ]
  },
  {
   "cell_type": "code",
   "execution_count": 63,
   "metadata": {},
   "outputs": [],
   "source": [
    "df['log_sqft_living'] = df['sqft_living'].apply(lambda x: np.log(x))"
   ]
  },
  {
   "cell_type": "code",
   "execution_count": 64,
   "metadata": {},
   "outputs": [
    {
     "data": {
      "text/plain": [
       "<matplotlib.axes._subplots.AxesSubplot at 0x12bdb0668>"
      ]
     },
     "execution_count": 64,
     "metadata": {},
     "output_type": "execute_result"
    },
    {
     "data": {
      "image/png": "[encoded data removed]",
      "text/plain": [
       "<Figure size 432x288 with 1 Axes>"
      ]
     },
     "metadata": {},
     "output_type": "display_data"
    }
   ],
   "source": [
    "sns.regplot(df['log_sqft_living'], df['log_price'])"
   ]
  },
  {
   "cell_type": "code",
   "execution_count": 65,
   "metadata": {},
   "outputs": [
    {
     "data": {
      "text/plain": [
       "Index(['id', 'date', 'price', 'bedrooms', 'bathrooms', 'sqft_living',\n",
       "       'sqft_lot', 'floors', 'waterfront', 'view', 'condition', 'grade',\n",
       "       'sqft_above', 'sqft_basement', 'yr_built', 'yr_renovated', 'zipcode',\n",
       "       'lat', 'long', 'sqft_living15', 'sqft_lot15', 'log_price',\n",
       "       'waterfront_view', 'waterfront_cond', 'waterfront_grade',\n",
       "       'living_bed_ratio', 'log_living_bed_ratio', 'bed_bath_ratio',\n",
       "       'log_sqft_lot', 'sqft_yard', 'log_sqft_yard', 'log_sqft_living'],\n",
       "      dtype='object')"
      ]
     },
     "execution_count": 65,
     "metadata": {},
     "output_type": "execute_result"
    }
   ],
   "source": [
    "df.columns"
   ]
  },
  {
   "cell_type": "code",
   "execution_count": 66,
   "metadata": {},
   "outputs": [
    {
     "data": {
      "text/plain": [
       "array([4, 5, 3, 2, 1])"
      ]
     },
     "execution_count": 66,
     "metadata": {},
     "output_type": "execute_result"
    }
   ],
   "source": [
    "df['condition'].unique()"
   ]
  },
  {
   "cell_type": "code",
   "execution_count": 67,
   "metadata": {},
   "outputs": [
    {
     "data": {
      "text/html": [
       "<table class=\"simpletable\">\n",
       "<caption>OLS Regression Results</caption>\n",
       "<tr>\n",
       "  <th>Dep. Variable:</th>          <td>price</td>      <th>  R-squared:         </th>  <td>   0.495</td>  \n",
       "</tr>\n",
       "<tr>\n",
       "  <th>Model:</th>                   <td>OLS</td>       <th>  Adj. R-squared:    </th>  <td>   0.495</td>  \n",
       "</tr>\n",
       "<tr>\n",
       "  <th>Method:</th>             <td>Least Squares</td>  <th>  F-statistic:       </th>  <td>1.694e+04</td> \n",
       "</tr>\n",
       "<tr>\n",
       "  <th>Date:</th>             <td>Fri, 01 May 2020</td> <th>  Prob (F-statistic):</th>   <td>  0.00</td>   \n",
       "</tr>\n",
       "<tr>\n",
       "  <th>Time:</th>                 <td>10:33:58</td>     <th>  Log-Likelihood:    </th> <td>-2.4046e+05</td>\n",
       "</tr>\n",
       "<tr>\n",
       "  <th>No. Observations:</th>      <td> 17290</td>      <th>  AIC:               </th>  <td>4.809e+05</td> \n",
       "</tr>\n",
       "<tr>\n",
       "  <th>Df Residuals:</th>          <td> 17288</td>      <th>  BIC:               </th>  <td>4.809e+05</td> \n",
       "</tr>\n",
       "<tr>\n",
       "  <th>Df Model:</th>              <td>     1</td>      <th>                     </th>      <td> </td>     \n",
       "</tr>\n",
       "<tr>\n",
       "  <th>Covariance Type:</th>      <td>nonrobust</td>    <th>                     </th>      <td> </td>     \n",
       "</tr>\n",
       "</table>\n",
       "<table class=\"simpletable\">\n",
       "<tr>\n",
       "       <td></td>          <th>coef</th>     <th>std err</th>      <th>t</th>      <th>P>|t|</th>  <th>[0.025</th>    <th>0.975]</th>  \n",
       "</tr>\n",
       "<tr>\n",
       "  <th>Intercept</th>   <td>-5.347e+04</td> <td> 4991.006</td> <td>  -10.714</td> <td> 0.000</td> <td>-6.33e+04</td> <td>-4.37e+04</td>\n",
       "</tr>\n",
       "<tr>\n",
       "  <th>sqft_living</th> <td>  285.4779</td> <td>    2.193</td> <td>  130.167</td> <td> 0.000</td> <td>  281.179</td> <td>  289.777</td>\n",
       "</tr>\n",
       "</table>\n",
       "<table class=\"simpletable\">\n",
       "<tr>\n",
       "  <th>Omnibus:</th>       <td>12367.474</td> <th>  Durbin-Watson:     </th>  <td>   2.019</td> \n",
       "</tr>\n",
       "<tr>\n",
       "  <th>Prob(Omnibus):</th>  <td> 0.000</td>   <th>  Jarque-Bera (JB):  </th> <td>507839.480</td>\n",
       "</tr>\n",
       "<tr>\n",
       "  <th>Skew:</th>           <td> 2.968</td>   <th>  Prob(JB):          </th>  <td>    0.00</td> \n",
       "</tr>\n",
       "<tr>\n",
       "  <th>Kurtosis:</th>       <td>28.878</td>   <th>  Cond. No.          </th>  <td>5.63e+03</td> \n",
       "</tr>\n",
       "</table><br/><br/>Warnings:<br/>[1] Standard Errors assume that the covariance matrix of the errors is correctly specified.<br/>[2] The condition number is large, 5.63e+03. This might indicate that there are<br/>strong multicollinearity or other numerical problems."
      ],
      "text/plain": [
       "<class 'statsmodels.iolib.summary.Summary'>\n",
       "\"\"\"\n",
       "                            OLS Regression Results                            \n",
       "==============================================================================\n",
       "Dep. Variable:                  price   R-squared:                       0.495\n",
       "Model:                            OLS   Adj. R-squared:                  0.495\n",
       "Method:                 Least Squares   F-statistic:                 1.694e+04\n",
       "Date:                Fri, 01 May 2020   Prob (F-statistic):               0.00\n",
       "Time:                        10:33:58   Log-Likelihood:            -2.4046e+05\n",
       "No. Observations:               17290   AIC:                         4.809e+05\n",
       "Df Residuals:                   17288   BIC:                         4.809e+05\n",
       "Df Model:                           1                                         \n",
       "Covariance Type:            nonrobust                                         \n",
       "===============================================================================\n",
       "                  coef    std err          t      P>|t|      [0.025      0.975]\n",
       "-------------------------------------------------------------------------------\n",
       "Intercept   -5.347e+04   4991.006    -10.714      0.000   -6.33e+04   -4.37e+04\n",
       "sqft_living   285.4779      2.193    130.167      0.000     281.179     289.777\n",
       "==============================================================================\n",
       "Omnibus:                    12367.474   Durbin-Watson:                   2.019\n",
       "Prob(Omnibus):                  0.000   Jarque-Bera (JB):           507839.480\n",
       "Skew:                           2.968   Prob(JB):                         0.00\n",
       "Kurtosis:                      28.878   Cond. No.                     5.63e+03\n",
       "==============================================================================\n",
       "\n",
       "Warnings:\n",
       "[1] Standard Errors assume that the covariance matrix of the errors is correctly specified.\n",
       "[2] The condition number is large, 5.63e+03. This might indicate that there are\n",
       "strong multicollinearity or other numerical problems.\n",
       "\"\"\""
      ]
     },
     "execution_count": 67,
     "metadata": {},
     "output_type": "execute_result"
    }
   ],
   "source": [
    "f = 'price~sqft_living'\n",
    "model = ols(formula=f, data=df).fit()\n",
    "model.summary()"
   ]
  },
  {
   "cell_type": "code",
   "execution_count": 68,
   "metadata": {},
   "outputs": [],
   "source": [
    "conditions = [\n",
    "                df['grade'] <= 3,\n",
    "                df['grade'] <= 5,\n",
    "                df['grade'] <= 8,\n",
    "                df['grade'] <= 10,\n",
    "]\n",
    "\n",
    "choices =  [\n",
    "            1,\n",
    "            2,\n",
    "            3,\n",
    "            4,\n",
    "]\n"
   ]
  },
  {
   "cell_type": "code",
   "execution_count": 71,
   "metadata": {},
   "outputs": [
    {
     "data": {
      "text/plain": [
       "0       16564\n",
       "2014       71\n",
       "2007       32\n",
       "2005       32\n",
       "2000       31\n",
       "        ...  \n",
       "1934        1\n",
       "1959        1\n",
       "1944        1\n",
       "1951        1\n",
       "1948        1\n",
       "Name: yr_renovated, Length: 69, dtype: int64"
      ]
     },
     "execution_count": 71,
     "metadata": {},
     "output_type": "execute_result"
    }
   ],
   "source": [
    "df['yr_renovated'].value_counts()"
   ]
  },
  {
   "cell_type": "code",
   "execution_count": 72,
   "metadata": {
    "scrolled": true
   },
   "outputs": [
    {
     "data": {
      "text/html": [
       "<div>\n",
       "<style scoped>\n",
       "    .dataframe tbody tr th:only-of-type {\n",
       "        vertical-align: middle;\n",
       "    }\n",
       "\n",
       "    .dataframe tbody tr th {\n",
       "        vertical-align: top;\n",
       "    }\n",
       "\n",
       "    .dataframe thead th {\n",
       "        text-align: right;\n",
       "    }\n",
       "</style>\n",
       "<table border=\"1\" class=\"dataframe\">\n",
       "  <thead>\n",
       "    <tr style=\"text-align: right;\">\n",
       "      <th></th>\n",
       "      <th>id</th>\n",
       "      <th>date</th>\n",
       "      <th>price</th>\n",
       "      <th>bedrooms</th>\n",
       "      <th>bathrooms</th>\n",
       "      <th>sqft_living</th>\n",
       "      <th>sqft_lot</th>\n",
       "      <th>floors</th>\n",
       "      <th>waterfront</th>\n",
       "      <th>view</th>\n",
       "      <th>...</th>\n",
       "      <th>waterfront_cond</th>\n",
       "      <th>waterfront_grade</th>\n",
       "      <th>living_bed_ratio</th>\n",
       "      <th>log_living_bed_ratio</th>\n",
       "      <th>bed_bath_ratio</th>\n",
       "      <th>log_sqft_lot</th>\n",
       "      <th>sqft_yard</th>\n",
       "      <th>log_sqft_yard</th>\n",
       "      <th>log_sqft_living</th>\n",
       "      <th>grade_binned</th>\n",
       "    </tr>\n",
       "  </thead>\n",
       "  <tbody>\n",
       "    <tr>\n",
       "      <th>0</th>\n",
       "      <td>2591820310</td>\n",
       "      <td>20141006T000000</td>\n",
       "      <td>365000.0</td>\n",
       "      <td>4</td>\n",
       "      <td>2.25</td>\n",
       "      <td>2070</td>\n",
       "      <td>8893</td>\n",
       "      <td>2.0</td>\n",
       "      <td>0</td>\n",
       "      <td>0</td>\n",
       "      <td>...</td>\n",
       "      <td>0</td>\n",
       "      <td>0</td>\n",
       "      <td>517.5</td>\n",
       "      <td>6.249010</td>\n",
       "      <td>1.777778</td>\n",
       "      <td>9.093020</td>\n",
       "      <td>7858.0</td>\n",
       "      <td>8.969287</td>\n",
       "      <td>7.635304</td>\n",
       "      <td>3</td>\n",
       "    </tr>\n",
       "    <tr>\n",
       "      <th>1</th>\n",
       "      <td>7974200820</td>\n",
       "      <td>20140821T000000</td>\n",
       "      <td>865000.0</td>\n",
       "      <td>5</td>\n",
       "      <td>3.00</td>\n",
       "      <td>2900</td>\n",
       "      <td>6730</td>\n",
       "      <td>1.0</td>\n",
       "      <td>0</td>\n",
       "      <td>0</td>\n",
       "      <td>...</td>\n",
       "      <td>0</td>\n",
       "      <td>0</td>\n",
       "      <td>580.0</td>\n",
       "      <td>6.363028</td>\n",
       "      <td>1.666667</td>\n",
       "      <td>8.814330</td>\n",
       "      <td>3830.0</td>\n",
       "      <td>8.250620</td>\n",
       "      <td>7.972466</td>\n",
       "      <td>3</td>\n",
       "    </tr>\n",
       "    <tr>\n",
       "      <th>2</th>\n",
       "      <td>7701450110</td>\n",
       "      <td>20140815T000000</td>\n",
       "      <td>1038000.0</td>\n",
       "      <td>4</td>\n",
       "      <td>2.50</td>\n",
       "      <td>3770</td>\n",
       "      <td>10893</td>\n",
       "      <td>2.0</td>\n",
       "      <td>0</td>\n",
       "      <td>2</td>\n",
       "      <td>...</td>\n",
       "      <td>0</td>\n",
       "      <td>0</td>\n",
       "      <td>942.5</td>\n",
       "      <td>6.848536</td>\n",
       "      <td>1.600000</td>\n",
       "      <td>9.295876</td>\n",
       "      <td>9008.0</td>\n",
       "      <td>9.105868</td>\n",
       "      <td>8.234830</td>\n",
       "      <td>5</td>\n",
       "    </tr>\n",
       "    <tr>\n",
       "      <th>3</th>\n",
       "      <td>9522300010</td>\n",
       "      <td>20150331T000000</td>\n",
       "      <td>1490000.0</td>\n",
       "      <td>3</td>\n",
       "      <td>3.50</td>\n",
       "      <td>4560</td>\n",
       "      <td>14608</td>\n",
       "      <td>2.0</td>\n",
       "      <td>0</td>\n",
       "      <td>2</td>\n",
       "      <td>...</td>\n",
       "      <td>0</td>\n",
       "      <td>0</td>\n",
       "      <td>1520.0</td>\n",
       "      <td>7.326466</td>\n",
       "      <td>0.857143</td>\n",
       "      <td>9.589325</td>\n",
       "      <td>12328.0</td>\n",
       "      <td>9.419628</td>\n",
       "      <td>8.425078</td>\n",
       "      <td>5</td>\n",
       "    </tr>\n",
       "    <tr>\n",
       "      <th>4</th>\n",
       "      <td>9510861140</td>\n",
       "      <td>20140714T000000</td>\n",
       "      <td>711000.0</td>\n",
       "      <td>3</td>\n",
       "      <td>2.50</td>\n",
       "      <td>2550</td>\n",
       "      <td>5376</td>\n",
       "      <td>2.0</td>\n",
       "      <td>0</td>\n",
       "      <td>0</td>\n",
       "      <td>...</td>\n",
       "      <td>0</td>\n",
       "      <td>0</td>\n",
       "      <td>850.0</td>\n",
       "      <td>6.745236</td>\n",
       "      <td>1.200000</td>\n",
       "      <td>8.589700</td>\n",
       "      <td>4101.0</td>\n",
       "      <td>8.318986</td>\n",
       "      <td>7.843849</td>\n",
       "      <td>4</td>\n",
       "    </tr>\n",
       "  </tbody>\n",
       "</table>\n",
       "<p>5 rows × 33 columns</p>\n",
       "</div>"
      ],
      "text/plain": [
       "           id             date      price  bedrooms  bathrooms  sqft_living  \\\n",
       "0  2591820310  20141006T000000   365000.0         4       2.25         2070   \n",
       "1  7974200820  20140821T000000   865000.0         5       3.00         2900   \n",
       "2  7701450110  20140815T000000  1038000.0         4       2.50         3770   \n",
       "3  9522300010  20150331T000000  1490000.0         3       3.50         4560   \n",
       "4  9510861140  20140714T000000   711000.0         3       2.50         2550   \n",
       "\n",
       "   sqft_lot  floors  waterfront  view  ...  waterfront_cond  waterfront_grade  \\\n",
       "0      8893     2.0           0     0  ...                0                 0   \n",
       "1      6730     1.0           0     0  ...                0                 0   \n",
       "2     10893     2.0           0     2  ...                0                 0   \n",
       "3     14608     2.0           0     2  ...                0                 0   \n",
       "4      5376     2.0           0     0  ...                0                 0   \n",
       "\n",
       "   living_bed_ratio  log_living_bed_ratio  bed_bath_ratio  log_sqft_lot  \\\n",
       "0             517.5              6.249010        1.777778      9.093020   \n",
       "1             580.0              6.363028        1.666667      8.814330   \n",
       "2             942.5              6.848536        1.600000      9.295876   \n",
       "3            1520.0              7.326466        0.857143      9.589325   \n",
       "4             850.0              6.745236        1.200000      8.589700   \n",
       "\n",
       "   sqft_yard  log_sqft_yard  log_sqft_living  grade_binned  \n",
       "0     7858.0       8.969287         7.635304             3  \n",
       "1     3830.0       8.250620         7.972466             3  \n",
       "2     9008.0       9.105868         8.234830             5  \n",
       "3    12328.0       9.419628         8.425078             5  \n",
       "4     4101.0       8.318986         7.843849             4  \n",
       "\n",
       "[5 rows x 33 columns]"
      ]
     },
     "execution_count": 72,
     "metadata": {},
     "output_type": "execute_result"
    }
   ],
   "source": [
    "df.head()"
   ]
  },
  {
   "cell_type": "code",
   "execution_count": 73,
   "metadata": {},
   "outputs": [
    {
     "data": {
      "text/plain": [
       "Index(['id', 'date', 'price', 'bedrooms', 'bathrooms', 'sqft_living',\n",
       "       'sqft_lot', 'waterfront', 'sqft_above', 'sqft_basement', 'yr_built',\n",
       "       'yr_renovated', 'zipcode', 'lat', 'long', 'sqft_living15', 'sqft_lot15',\n",
       "       'log_price', 'waterfront_view', 'waterfront_cond', 'waterfront_grade',\n",
       "       'living_bed_ratio', 'log_living_bed_ratio', 'bed_bath_ratio',\n",
       "       'log_sqft_lot', 'sqft_yard', 'log_sqft_yard', 'log_sqft_living',\n",
       "       'grade_binned', 'grade_3', 'grade_4', 'grade_5', 'grade_6', 'grade_7',\n",
       "       'grade_8', 'grade_9', 'grade_10', 'grade_11', 'grade_12', 'grade_13',\n",
       "       'view_1', 'view_2', 'view_3', 'view_4', 'condition_2', 'condition_3',\n",
       "       'condition_4', 'condition_5', 'floors_1.5', 'floors_2.0', 'floors_2.5',\n",
       "       'floors_3.0', 'floors_3.5'],\n",
       "      dtype='object')"
      ]
     },
     "execution_count": 73,
     "metadata": {},
     "output_type": "execute_result"
    }
   ],
   "source": [
    "columns = ['grade', 'view', 'condition', 'floors']\n",
    "dummies = pd.get_dummies(data=df, columns=columns, prefix=columns, drop_first=True)\n",
    "dummies.columns"
   ]
  },
  {
   "cell_type": "code",
   "execution_count": 74,
   "metadata": {},
   "outputs": [
    {
     "data": {
      "text/plain": [
       "(17290, 53)"
      ]
     },
     "execution_count": 74,
     "metadata": {},
     "output_type": "execute_result"
    }
   ],
   "source": [
    "dummies.shape"
   ]
  },
  {
   "cell_type": "code",
   "execution_count": 75,
   "metadata": {},
   "outputs": [
    {
     "data": {
      "text/plain": [
       "(17290, 33)"
      ]
     },
     "execution_count": 75,
     "metadata": {},
     "output_type": "execute_result"
    }
   ],
   "source": [
    "df.shape"
   ]
  },
  {
   "cell_type": "code",
   "execution_count": 77,
   "metadata": {},
   "outputs": [],
   "source": [
    "df['yr_built_reno'] = np.where(df['yr_renovated'] == 0, df['yr_built'], df['yr_renovated'])"
   ]
  },
  {
   "cell_type": "code",
   "execution_count": 78,
   "metadata": {
    "scrolled": false
   },
   "outputs": [
    {
     "data": {
      "text/plain": [
       "dtype('int64')"
      ]
     },
     "execution_count": 78,
     "metadata": {},
     "output_type": "execute_result"
    }
   ],
   "source": [
    "df['yr_built_reno'].dtype"
   ]
  },
  {
   "cell_type": "code",
   "execution_count": 79,
   "metadata": {},
   "outputs": [
    {
     "data": {
      "text/plain": [
       "count    17290.000000\n",
       "mean      1973.158010\n",
       "std         28.805976\n",
       "min       1900.000000\n",
       "25%       1954.000000\n",
       "50%       1977.000000\n",
       "75%       1999.000000\n",
       "max       2015.000000\n",
       "Name: yr_built_reno, dtype: float64"
      ]
     },
     "execution_count": 79,
     "metadata": {},
     "output_type": "execute_result"
    }
   ],
   "source": [
    "df['yr_built_reno'].describe()"
   ]
  },
  {
   "cell_type": "code",
   "execution_count": 80,
   "metadata": {},
   "outputs": [],
   "source": [
    "df_cheap = df[df['price'] < 1500000]"
   ]
  },
  {
   "cell_type": "code",
   "execution_count": 81,
   "metadata": {},
   "outputs": [
    {
     "data": {
      "text/plain": [
       "<matplotlib.axes._subplots.AxesSubplot at 0x12bfbea20>"
      ]
     },
     "execution_count": 81,
     "metadata": {},
     "output_type": "execute_result"
    },
    {
     "data": {
      "image/png": "[encoded data removed]",
      "text/plain": [
       "<Figure size 432x288 with 1 Axes>"
      ]
     },
     "metadata": {},
     "output_type": "display_data"
    }
   ],
   "source": [
    "df_cheap.plot.scatter('yr_built_reno', 'price')"
   ]
  },
  {
   "cell_type": "code",
   "execution_count": 82,
   "metadata": {},
   "outputs": [
    {
     "data": {
      "text/html": [
       "<div>\n",
       "<style scoped>\n",
       "    .dataframe tbody tr th:only-of-type {\n",
       "        vertical-align: middle;\n",
       "    }\n",
       "\n",
       "    .dataframe tbody tr th {\n",
       "        vertical-align: top;\n",
       "    }\n",
       "\n",
       "    .dataframe thead th {\n",
       "        text-align: right;\n",
       "    }\n",
       "</style>\n",
       "<table border=\"1\" class=\"dataframe\">\n",
       "  <thead>\n",
       "    <tr style=\"text-align: right;\">\n",
       "      <th></th>\n",
       "      <th>id</th>\n",
       "      <th>date</th>\n",
       "      <th>price</th>\n",
       "      <th>bedrooms</th>\n",
       "      <th>bathrooms</th>\n",
       "      <th>sqft_living</th>\n",
       "      <th>sqft_lot</th>\n",
       "      <th>floors</th>\n",
       "      <th>waterfront</th>\n",
       "      <th>view</th>\n",
       "      <th>...</th>\n",
       "      <th>living_bed_ratio</th>\n",
       "      <th>log_living_bed_ratio</th>\n",
       "      <th>bed_bath_ratio</th>\n",
       "      <th>log_sqft_lot</th>\n",
       "      <th>sqft_yard</th>\n",
       "      <th>log_sqft_yard</th>\n",
       "      <th>log_sqft_living</th>\n",
       "      <th>grade_binned</th>\n",
       "      <th>yr_built_reno</th>\n",
       "      <th>built_reno</th>\n",
       "    </tr>\n",
       "  </thead>\n",
       "  <tbody>\n",
       "    <tr>\n",
       "      <th>0</th>\n",
       "      <td>2591820310</td>\n",
       "      <td>20141006T000000</td>\n",
       "      <td>365000.0</td>\n",
       "      <td>4</td>\n",
       "      <td>2.25</td>\n",
       "      <td>2070</td>\n",
       "      <td>8893</td>\n",
       "      <td>2.0</td>\n",
       "      <td>0</td>\n",
       "      <td>0</td>\n",
       "      <td>...</td>\n",
       "      <td>517.5</td>\n",
       "      <td>6.249010</td>\n",
       "      <td>1.777778</td>\n",
       "      <td>9.093020</td>\n",
       "      <td>7858.0</td>\n",
       "      <td>8.969287</td>\n",
       "      <td>7.635304</td>\n",
       "      <td>3</td>\n",
       "      <td>1986</td>\n",
       "      <td>4</td>\n",
       "    </tr>\n",
       "    <tr>\n",
       "      <th>1</th>\n",
       "      <td>7974200820</td>\n",
       "      <td>20140821T000000</td>\n",
       "      <td>865000.0</td>\n",
       "      <td>5</td>\n",
       "      <td>3.00</td>\n",
       "      <td>2900</td>\n",
       "      <td>6730</td>\n",
       "      <td>1.0</td>\n",
       "      <td>0</td>\n",
       "      <td>0</td>\n",
       "      <td>...</td>\n",
       "      <td>580.0</td>\n",
       "      <td>6.363028</td>\n",
       "      <td>1.666667</td>\n",
       "      <td>8.814330</td>\n",
       "      <td>3830.0</td>\n",
       "      <td>8.250620</td>\n",
       "      <td>7.972466</td>\n",
       "      <td>3</td>\n",
       "      <td>1977</td>\n",
       "      <td>4</td>\n",
       "    </tr>\n",
       "    <tr>\n",
       "      <th>2</th>\n",
       "      <td>7701450110</td>\n",
       "      <td>20140815T000000</td>\n",
       "      <td>1038000.0</td>\n",
       "      <td>4</td>\n",
       "      <td>2.50</td>\n",
       "      <td>3770</td>\n",
       "      <td>10893</td>\n",
       "      <td>2.0</td>\n",
       "      <td>0</td>\n",
       "      <td>2</td>\n",
       "      <td>...</td>\n",
       "      <td>942.5</td>\n",
       "      <td>6.848536</td>\n",
       "      <td>1.600000</td>\n",
       "      <td>9.295876</td>\n",
       "      <td>9008.0</td>\n",
       "      <td>9.105868</td>\n",
       "      <td>8.234830</td>\n",
       "      <td>5</td>\n",
       "      <td>1997</td>\n",
       "      <td>5</td>\n",
       "    </tr>\n",
       "    <tr>\n",
       "      <th>3</th>\n",
       "      <td>9522300010</td>\n",
       "      <td>20150331T000000</td>\n",
       "      <td>1490000.0</td>\n",
       "      <td>3</td>\n",
       "      <td>3.50</td>\n",
       "      <td>4560</td>\n",
       "      <td>14608</td>\n",
       "      <td>2.0</td>\n",
       "      <td>0</td>\n",
       "      <td>2</td>\n",
       "      <td>...</td>\n",
       "      <td>1520.0</td>\n",
       "      <td>7.326466</td>\n",
       "      <td>0.857143</td>\n",
       "      <td>9.589325</td>\n",
       "      <td>12328.0</td>\n",
       "      <td>9.419628</td>\n",
       "      <td>8.425078</td>\n",
       "      <td>5</td>\n",
       "      <td>1990</td>\n",
       "      <td>4</td>\n",
       "    </tr>\n",
       "    <tr>\n",
       "      <th>4</th>\n",
       "      <td>9510861140</td>\n",
       "      <td>20140714T000000</td>\n",
       "      <td>711000.0</td>\n",
       "      <td>3</td>\n",
       "      <td>2.50</td>\n",
       "      <td>2550</td>\n",
       "      <td>5376</td>\n",
       "      <td>2.0</td>\n",
       "      <td>0</td>\n",
       "      <td>0</td>\n",
       "      <td>...</td>\n",
       "      <td>850.0</td>\n",
       "      <td>6.745236</td>\n",
       "      <td>1.200000</td>\n",
       "      <td>8.589700</td>\n",
       "      <td>4101.0</td>\n",
       "      <td>8.318986</td>\n",
       "      <td>7.843849</td>\n",
       "      <td>4</td>\n",
       "      <td>2004</td>\n",
       "      <td>5</td>\n",
       "    </tr>\n",
       "  </tbody>\n",
       "</table>\n",
       "<p>5 rows × 35 columns</p>\n",
       "</div>"
      ],
      "text/plain": [
       "           id             date      price  bedrooms  bathrooms  sqft_living  \\\n",
       "0  2591820310  20141006T000000   365000.0         4       2.25         2070   \n",
       "1  7974200820  20140821T000000   865000.0         5       3.00         2900   \n",
       "2  7701450110  20140815T000000  1038000.0         4       2.50         3770   \n",
       "3  9522300010  20150331T000000  1490000.0         3       3.50         4560   \n",
       "4  9510861140  20140714T000000   711000.0         3       2.50         2550   \n",
       "\n",
       "   sqft_lot  floors  waterfront  view  ...  living_bed_ratio  \\\n",
       "0      8893     2.0           0     0  ...             517.5   \n",
       "1      6730     1.0           0     0  ...             580.0   \n",
       "2     10893     2.0           0     2  ...             942.5   \n",
       "3     14608     2.0           0     2  ...            1520.0   \n",
       "4      5376     2.0           0     0  ...             850.0   \n",
       "\n",
       "   log_living_bed_ratio  bed_bath_ratio  log_sqft_lot  sqft_yard  \\\n",
       "0              6.249010        1.777778      9.093020     7858.0   \n",
       "1              6.363028        1.666667      8.814330     3830.0   \n",
       "2              6.848536        1.600000      9.295876     9008.0   \n",
       "3              7.326466        0.857143      9.589325    12328.0   \n",
       "4              6.745236        1.200000      8.589700     4101.0   \n",
       "\n",
       "   log_sqft_yard  log_sqft_living  grade_binned  yr_built_reno  built_reno  \n",
       "0       8.969287         7.635304             3           1986           4  \n",
       "1       8.250620         7.972466             3           1977           4  \n",
       "2       9.105868         8.234830             5           1997           5  \n",
       "3       9.419628         8.425078             5           1990           4  \n",
       "4       8.318986         7.843849             4           2004           5  \n",
       "\n",
       "[5 rows x 35 columns]"
      ]
     },
     "execution_count": 82,
     "metadata": {},
     "output_type": "execute_result"
    }
   ],
   "source": [
    "conditions = [\n",
    "                df['yr_built_reno'] <= 1923,\n",
    "                df['yr_built_reno'] <= 1946,\n",
    "                df['yr_built_reno'] <= 1969,\n",
    "                df['yr_built_reno'] <= 1992\n",
    "]\n",
    "\n",
    "choices = [\n",
    "            1,\n",
    "            2,\n",
    "            3,\n",
    "            4\n",
    "]\n",
    "\n",
    "df['built_reno'] = np.select(conditions, choices, 5)\n",
    "df.head()"
   ]
  },
  {
   "cell_type": "code",
   "execution_count": 83,
   "metadata": {},
   "outputs": [
    {
     "data": {
      "text/plain": [
       "array([[<matplotlib.axes._subplots.AxesSubplot object at 0x12bd93e10>]],\n",
       "      dtype=object)"
      ]
     },
     "execution_count": 83,
     "metadata": {},
     "output_type": "execute_result"
    },
    {
     "data": {
      "image/png": "[encoded data removed]",
      "text/plain": [
       "<Figure size 432x288 with 1 Axes>"
      ]
     },
     "metadata": {},
     "output_type": "display_data"
    }
   ],
   "source": [
    "df.hist('grade')"
   ]
  },
  {
   "cell_type": "code",
   "execution_count": 84,
   "metadata": {},
   "outputs": [
    {
     "data": {
      "text/html": [
       "<table class=\"simpletable\">\n",
       "<caption>OLS Regression Results</caption>\n",
       "<tr>\n",
       "  <th>Dep. Variable:</th>          <td>price</td>      <th>  R-squared:         </th>  <td>   0.012</td>  \n",
       "</tr>\n",
       "<tr>\n",
       "  <th>Model:</th>                   <td>OLS</td>       <th>  Adj. R-squared:    </th>  <td>   0.012</td>  \n",
       "</tr>\n",
       "<tr>\n",
       "  <th>Method:</th>             <td>Least Squares</td>  <th>  F-statistic:       </th>  <td>   205.7</td>  \n",
       "</tr>\n",
       "<tr>\n",
       "  <th>Date:</th>             <td>Fri, 01 May 2020</td> <th>  Prob (F-statistic):</th>  <td>2.18e-46</td>  \n",
       "</tr>\n",
       "<tr>\n",
       "  <th>Time:</th>                 <td>10:35:33</td>     <th>  Log-Likelihood:    </th> <td>-2.4626e+05</td>\n",
       "</tr>\n",
       "<tr>\n",
       "  <th>No. Observations:</th>      <td> 17290</td>      <th>  AIC:               </th>  <td>4.925e+05</td> \n",
       "</tr>\n",
       "<tr>\n",
       "  <th>Df Residuals:</th>          <td> 17288</td>      <th>  BIC:               </th>  <td>4.925e+05</td> \n",
       "</tr>\n",
       "<tr>\n",
       "  <th>Df Model:</th>              <td>     1</td>      <th>                     </th>      <td> </td>     \n",
       "</tr>\n",
       "<tr>\n",
       "  <th>Covariance Type:</th>      <td>nonrobust</td>    <th>                     </th>      <td> </td>     \n",
       "</tr>\n",
       "</table>\n",
       "<table class=\"simpletable\">\n",
       "<tr>\n",
       "       <td></td>         <th>coef</th>     <th>std err</th>      <th>t</th>      <th>P>|t|</th>  <th>[0.025</th>    <th>0.975]</th>  \n",
       "</tr>\n",
       "<tr>\n",
       "  <th>Intercept</th>  <td> 4.203e+05</td> <td> 8860.689</td> <td>   47.431</td> <td> 0.000</td> <td> 4.03e+05</td> <td> 4.38e+05</td>\n",
       "</tr>\n",
       "<tr>\n",
       "  <th>built_reno</th> <td> 3.316e+04</td> <td> 2311.666</td> <td>   14.343</td> <td> 0.000</td> <td> 2.86e+04</td> <td> 3.77e+04</td>\n",
       "</tr>\n",
       "</table>\n",
       "<table class=\"simpletable\">\n",
       "<tr>\n",
       "  <th>Omnibus:</th>       <td>16026.495</td> <th>  Durbin-Watson:     </th>  <td>   2.012</td>  \n",
       "</tr>\n",
       "<tr>\n",
       "  <th>Prob(Omnibus):</th>  <td> 0.000</td>   <th>  Jarque-Bera (JB):  </th> <td>1121345.860</td>\n",
       "</tr>\n",
       "<tr>\n",
       "  <th>Skew:</th>           <td> 4.281</td>   <th>  Prob(JB):          </th>  <td>    0.00</td>  \n",
       "</tr>\n",
       "<tr>\n",
       "  <th>Kurtosis:</th>       <td>41.513</td>   <th>  Cond. No.          </th>  <td>    12.8</td>  \n",
       "</tr>\n",
       "</table><br/><br/>Warnings:<br/>[1] Standard Errors assume that the covariance matrix of the errors is correctly specified."
      ],
      "text/plain": [
       "<class 'statsmodels.iolib.summary.Summary'>\n",
       "\"\"\"\n",
       "                            OLS Regression Results                            \n",
       "==============================================================================\n",
       "Dep. Variable:                  price   R-squared:                       0.012\n",
       "Model:                            OLS   Adj. R-squared:                  0.012\n",
       "Method:                 Least Squares   F-statistic:                     205.7\n",
       "Date:                Fri, 01 May 2020   Prob (F-statistic):           2.18e-46\n",
       "Time:                        10:35:33   Log-Likelihood:            -2.4626e+05\n",
       "No. Observations:               17290   AIC:                         4.925e+05\n",
       "Df Residuals:                   17288   BIC:                         4.925e+05\n",
       "Df Model:                           1                                         \n",
       "Covariance Type:            nonrobust                                         \n",
       "==============================================================================\n",
       "                 coef    std err          t      P>|t|      [0.025      0.975]\n",
       "------------------------------------------------------------------------------\n",
       "Intercept   4.203e+05   8860.689     47.431      0.000    4.03e+05    4.38e+05\n",
       "built_reno  3.316e+04   2311.666     14.343      0.000    2.86e+04    3.77e+04\n",
       "==============================================================================\n",
       "Omnibus:                    16026.495   Durbin-Watson:                   2.012\n",
       "Prob(Omnibus):                  0.000   Jarque-Bera (JB):          1121345.860\n",
       "Skew:                           4.281   Prob(JB):                         0.00\n",
       "Kurtosis:                      41.513   Cond. No.                         12.8\n",
       "==============================================================================\n",
       "\n",
       "Warnings:\n",
       "[1] Standard Errors assume that the covariance matrix of the errors is correctly specified.\n",
       "\"\"\""
      ]
     },
     "execution_count": 84,
     "metadata": {},
     "output_type": "execute_result"
    }
   ],
   "source": [
    "f = 'price~built_reno'\n",
    "model = ols(formula=f, data=df).fit()\n",
    "model.summary()"
   ]
  },
  {
   "cell_type": "code",
   "execution_count": 85,
   "metadata": {},
   "outputs": [
    {
     "data": {
      "text/html": [
       "<div>\n",
       "<style scoped>\n",
       "    .dataframe tbody tr th:only-of-type {\n",
       "        vertical-align: middle;\n",
       "    }\n",
       "\n",
       "    .dataframe tbody tr th {\n",
       "        vertical-align: top;\n",
       "    }\n",
       "\n",
       "    .dataframe thead th {\n",
       "        text-align: right;\n",
       "    }\n",
       "</style>\n",
       "<table border=\"1\" class=\"dataframe\">\n",
       "  <thead>\n",
       "    <tr style=\"text-align: right;\">\n",
       "      <th></th>\n",
       "      <th>count</th>\n",
       "      <th>mean</th>\n",
       "      <th>std</th>\n",
       "      <th>min</th>\n",
       "      <th>25%</th>\n",
       "      <th>50%</th>\n",
       "      <th>75%</th>\n",
       "      <th>max</th>\n",
       "    </tr>\n",
       "    <tr>\n",
       "      <th>floors</th>\n",
       "      <th></th>\n",
       "      <th></th>\n",
       "      <th></th>\n",
       "      <th></th>\n",
       "      <th></th>\n",
       "      <th></th>\n",
       "      <th></th>\n",
       "      <th></th>\n",
       "    </tr>\n",
       "  </thead>\n",
       "  <tbody>\n",
       "    <tr>\n",
       "      <th>1.0</th>\n",
       "      <td>8606.0</td>\n",
       "      <td>4.434050e+05</td>\n",
       "      <td>2.666541e+05</td>\n",
       "      <td>75000.0</td>\n",
       "      <td>277338.0</td>\n",
       "      <td>390000.0</td>\n",
       "      <td>530000.0</td>\n",
       "      <td>4668000.0</td>\n",
       "    </tr>\n",
       "    <tr>\n",
       "      <th>1.5</th>\n",
       "      <td>1524.0</td>\n",
       "      <td>5.525950e+05</td>\n",
       "      <td>2.957326e+05</td>\n",
       "      <td>92000.0</td>\n",
       "      <td>350000.0</td>\n",
       "      <td>517000.0</td>\n",
       "      <td>682000.0</td>\n",
       "      <td>3650000.0</td>\n",
       "    </tr>\n",
       "    <tr>\n",
       "      <th>2.0</th>\n",
       "      <td>6538.0</td>\n",
       "      <td>6.504333e+05</td>\n",
       "      <td>4.427774e+05</td>\n",
       "      <td>130000.0</td>\n",
       "      <td>379000.0</td>\n",
       "      <td>546350.0</td>\n",
       "      <td>774000.0</td>\n",
       "      <td>7062500.0</td>\n",
       "    </tr>\n",
       "    <tr>\n",
       "      <th>2.5</th>\n",
       "      <td>140.0</td>\n",
       "      <td>1.094988e+06</td>\n",
       "      <td>9.025717e+05</td>\n",
       "      <td>255000.0</td>\n",
       "      <td>550000.0</td>\n",
       "      <td>824000.0</td>\n",
       "      <td>1327500.0</td>\n",
       "      <td>7700000.0</td>\n",
       "    </tr>\n",
       "    <tr>\n",
       "      <th>3.0</th>\n",
       "      <td>475.0</td>\n",
       "      <td>5.861594e+05</td>\n",
       "      <td>3.477195e+05</td>\n",
       "      <td>205000.0</td>\n",
       "      <td>385000.0</td>\n",
       "      <td>499000.0</td>\n",
       "      <td>631000.0</td>\n",
       "      <td>3100000.0</td>\n",
       "    </tr>\n",
       "    <tr>\n",
       "      <th>3.5</th>\n",
       "      <td>7.0</td>\n",
       "      <td>1.004500e+06</td>\n",
       "      <td>1.034411e+06</td>\n",
       "      <td>479000.0</td>\n",
       "      <td>525000.0</td>\n",
       "      <td>544000.0</td>\n",
       "      <td>829250.0</td>\n",
       "      <td>3300000.0</td>\n",
       "    </tr>\n",
       "  </tbody>\n",
       "</table>\n",
       "</div>"
      ],
      "text/plain": [
       "         count          mean           std       min       25%       50%  \\\n",
       "floors                                                                     \n",
       "1.0     8606.0  4.434050e+05  2.666541e+05   75000.0  277338.0  390000.0   \n",
       "1.5     1524.0  5.525950e+05  2.957326e+05   92000.0  350000.0  517000.0   \n",
       "2.0     6538.0  6.504333e+05  4.427774e+05  130000.0  379000.0  546350.0   \n",
       "2.5      140.0  1.094988e+06  9.025717e+05  255000.0  550000.0  824000.0   \n",
       "3.0      475.0  5.861594e+05  3.477195e+05  205000.0  385000.0  499000.0   \n",
       "3.5        7.0  1.004500e+06  1.034411e+06  479000.0  525000.0  544000.0   \n",
       "\n",
       "              75%        max  \n",
       "floors                        \n",
       "1.0      530000.0  4668000.0  \n",
       "1.5      682000.0  3650000.0  \n",
       "2.0      774000.0  7062500.0  \n",
       "2.5     1327500.0  7700000.0  \n",
       "3.0      631000.0  3100000.0  \n",
       "3.5      829250.0  3300000.0  "
      ]
     },
     "execution_count": 85,
     "metadata": {},
     "output_type": "execute_result"
    }
   ],
   "source": [
    "df.groupby('floors')['price'].describe()"
   ]
  },
  {
   "cell_type": "code",
   "execution_count": 86,
   "metadata": {},
   "outputs": [
    {
     "data": {
      "text/plain": [
       "<matplotlib.axes._subplots.AxesSubplot at 0x12b9c3f28>"
      ]
     },
     "execution_count": 86,
     "metadata": {},
     "output_type": "execute_result"
    },
    {
     "data": {
      "image/png": "[encoded data removed]",
      "text/plain": [
       "<Figure size 432x288 with 1 Axes>"
      ]
     },
     "metadata": {},
     "output_type": "display_data"
    }
   ],
   "source": [
    "df.plot.scatter('floors', 'price')"
   ]
  },
  {
   "cell_type": "code",
   "execution_count": 87,
   "metadata": {},
   "outputs": [
    {
     "data": {
      "text/plain": [
       "Index(['id', 'date', 'price', 'bedrooms', 'bathrooms', 'sqft_living',\n",
       "       'sqft_lot', 'waterfront', 'sqft_above', 'sqft_basement', 'yr_built',\n",
       "       'yr_renovated', 'zipcode', 'lat', 'long', 'sqft_living15', 'sqft_lot15',\n",
       "       'log_price', 'waterfront_view', 'waterfront_cond', 'waterfront_grade',\n",
       "       'living_bed_ratio', 'log_living_bed_ratio', 'bed_bath_ratio',\n",
       "       'log_sqft_lot', 'sqft_yard', 'log_sqft_yard', 'log_sqft_living',\n",
       "       'grade_binned', 'yr_built_reno', 'grade_3', 'grade_4', 'grade_5',\n",
       "       'grade_6', 'grade_7', 'grade_8', 'grade_9', 'grade_10', 'grade_11',\n",
       "       'grade_12', 'grade_13', 'view_1', 'view_2', 'view_3', 'view_4',\n",
       "       'condition_2', 'condition_3', 'condition_4', 'condition_5',\n",
       "       'floors_1.5', 'floors_2.0', 'floors_2.5', 'floors_3.0', 'floors_3.5',\n",
       "       'built_reno_2', 'built_reno_3', 'built_reno_4', 'built_reno_5'],\n",
       "      dtype='object')"
      ]
     },
     "execution_count": 87,
     "metadata": {},
     "output_type": "execute_result"
    }
   ],
   "source": [
    "columns = ['grade', 'view', 'condition', 'floors', 'built_reno']\n",
    "df = pd.get_dummies(data=df, columns=columns, prefix=columns, drop_first=True)\n",
    "df.columns"
   ]
  },
  {
   "cell_type": "code",
   "execution_count": 116,
   "metadata": {},
   "outputs": [
    {
     "data": {
      "text/plain": [
       "0"
      ]
     },
     "execution_count": 116,
     "metadata": {},
     "output_type": "execute_result"
    }
   ],
   "source": [
    "df['bed_bath_ratio'].fillna(value=0, inplace=True)\n",
    "df['bed_bath_ratio'].isna().sum()"
   ]
  },
  {
   "cell_type": "code",
   "execution_count": 117,
   "metadata": {},
   "outputs": [],
   "source": [
    "df['bed_bath_ratio'] = np.where(df['bed_bath_ratio'] == np.inf, 0, df['bed_bath_ratio'])"
   ]
  },
  {
   "cell_type": "code",
   "execution_count": 118,
   "metadata": {},
   "outputs": [
    {
     "data": {
      "text/html": [
       "<div>\n",
       "<style scoped>\n",
       "    .dataframe tbody tr th:only-of-type {\n",
       "        vertical-align: middle;\n",
       "    }\n",
       "\n",
       "    .dataframe tbody tr th {\n",
       "        vertical-align: top;\n",
       "    }\n",
       "\n",
       "    .dataframe thead th {\n",
       "        text-align: right;\n",
       "    }\n",
       "</style>\n",
       "<table border=\"1\" class=\"dataframe\">\n",
       "  <thead>\n",
       "    <tr style=\"text-align: right;\">\n",
       "      <th></th>\n",
       "      <th>id</th>\n",
       "      <th>date</th>\n",
       "      <th>price</th>\n",
       "      <th>bedrooms</th>\n",
       "      <th>bathrooms</th>\n",
       "      <th>sqft_living</th>\n",
       "      <th>sqft_lot</th>\n",
       "      <th>waterfront</th>\n",
       "      <th>sqft_above</th>\n",
       "      <th>sqft_basement</th>\n",
       "      <th>...</th>\n",
       "      <th>floors_1_half</th>\n",
       "      <th>floors_2</th>\n",
       "      <th>floors_2_half</th>\n",
       "      <th>floors_3</th>\n",
       "      <th>floors_3_half</th>\n",
       "      <th>built_reno_2</th>\n",
       "      <th>built_reno_3</th>\n",
       "      <th>built_reno_4</th>\n",
       "      <th>built_reno_5</th>\n",
       "      <th>log_sqft_living15</th>\n",
       "    </tr>\n",
       "  </thead>\n",
       "  <tbody>\n",
       "  </tbody>\n",
       "</table>\n",
       "<p>0 rows × 59 columns</p>\n",
       "</div>"
      ],
      "text/plain": [
       "Empty DataFrame\n",
       "Columns: [id, date, price, bedrooms, bathrooms, sqft_living, sqft_lot, waterfront, sqft_above, sqft_basement, yr_built, yr_renovated, zipcode, lat, long, sqft_living15, sqft_lot15, log_price, waterfront_view, waterfront_cond, waterfront_grade, living_bed_ratio, log_living_bed_ratio, bed_bath_ratio, log_sqft_lot, sqft_yard, log_sqft_yard, log_sqft_living, grade_binned, yr_built_reno, grade_3, grade_4, grade_5, grade_6, grade_7, grade_8, grade_9, grade_10, grade_11, grade_12, grade_13, view_1, view_2, view_3, view_4, condition_2, condition_3, condition_4, condition_5, floors_1_half, floors_2, floors_2_half, floors_3, floors_3_half, built_reno_2, built_reno_3, built_reno_4, built_reno_5, log_sqft_living15]\n",
       "Index: []\n",
       "\n",
       "[0 rows x 59 columns]"
      ]
     },
     "execution_count": 118,
     "metadata": {},
     "output_type": "execute_result"
    }
   ],
   "source": [
    "df[df['bed_bath_ratio'] == np.inf]"
   ]
  },
  {
   "cell_type": "code",
   "execution_count": 91,
   "metadata": {},
   "outputs": [
    {
     "data": {
      "text/plain": [
       "count    17290.000000\n",
       "mean         1.753484\n",
       "std          0.659255\n",
       "min          0.000000\n",
       "25%          1.333333\n",
       "50%          1.600000\n",
       "75%          2.000000\n",
       "max          8.000000\n",
       "Name: bed_bath_ratio, dtype: float64"
      ]
     },
     "execution_count": 91,
     "metadata": {},
     "output_type": "execute_result"
    }
   ],
   "source": [
    "df['bed_bath_ratio'].describe()"
   ]
  },
  {
   "cell_type": "code",
   "execution_count": 92,
   "metadata": {},
   "outputs": [
    {
     "data": {
      "text/plain": [
       "<matplotlib.axes._subplots.AxesSubplot at 0x125aef588>"
      ]
     },
     "execution_count": 92,
     "metadata": {},
     "output_type": "execute_result"
    },
    {
     "data": {
      "image/png": "[encoded data removed]",
      "text/plain": [
       "<Figure size 432x288 with 1 Axes>"
      ]
     },
     "metadata": {},
     "output_type": "display_data"
    }
   ],
   "source": [
    "df.plot.scatter('bedrooms', 'price')"
   ]
  },
  {
   "cell_type": "code",
   "execution_count": 93,
   "metadata": {},
   "outputs": [
    {
     "data": {
      "text/plain": [
       "Index(['id', 'date', 'price', 'bedrooms', 'bathrooms', 'sqft_living',\n",
       "       'sqft_lot', 'waterfront', 'sqft_above', 'sqft_basement', 'yr_built',\n",
       "       'yr_renovated', 'zipcode', 'lat', 'long', 'sqft_living15', 'sqft_lot15',\n",
       "       'log_price', 'waterfront_view', 'waterfront_cond', 'waterfront_grade',\n",
       "       'living_bed_ratio', 'log_living_bed_ratio', 'bed_bath_ratio',\n",
       "       'log_sqft_lot', 'sqft_yard', 'log_sqft_yard', 'log_sqft_living',\n",
       "       'grade_binned', 'yr_built_reno', 'grade_3', 'grade_4', 'grade_5',\n",
       "       'grade_6', 'grade_7', 'grade_8', 'grade_9', 'grade_10', 'grade_11',\n",
       "       'grade_12', 'grade_13', 'view_1', 'view_2', 'view_3', 'view_4',\n",
       "       'condition_2', 'condition_3', 'condition_4', 'condition_5',\n",
       "       'floors_1.5', 'floors_2.0', 'floors_2.5', 'floors_3.0', 'floors_3.5',\n",
       "       'built_reno_2', 'built_reno_3', 'built_reno_4', 'built_reno_5'],\n",
       "      dtype='object')"
      ]
     },
     "execution_count": 93,
     "metadata": {},
     "output_type": "execute_result"
    }
   ],
   "source": [
    "df.columns"
   ]
  },
  {
   "cell_type": "code",
   "execution_count": 94,
   "metadata": {},
   "outputs": [
    {
     "data": {
      "text/plain": [
       "'grade_3+grade_4+grade_5+grade_6+grade_7+grade_8+grade_9+grade_10+grade_11+grade_12+grade_13'"
      ]
     },
     "execution_count": 94,
     "metadata": {},
     "output_type": "execute_result"
    }
   ],
   "source": [
    "'+'.join(['grade_' + str(i) for i in range(3,14)])"
   ]
  },
  {
   "cell_type": "code",
   "execution_count": 95,
   "metadata": {},
   "outputs": [],
   "source": [
    "df['log_sqft_living'] = df['sqft_living'].apply(lambda x: np.log(x))"
   ]
  },
  {
   "cell_type": "code",
   "execution_count": 96,
   "metadata": {
    "scrolled": true
   },
   "outputs": [
    {
     "data": {
      "text/plain": [
       "array([[<matplotlib.axes._subplots.AxesSubplot object at 0x12da286d8>]],\n",
       "      dtype=object)"
      ]
     },
     "execution_count": 96,
     "metadata": {},
     "output_type": "execute_result"
    },
    {
     "data": {
      "image/png": "[encoded data removed]",
      "text/plain": [
       "<Figure size 432x288 with 1 Axes>"
      ]
     },
     "metadata": {},
     "output_type": "display_data"
    }
   ],
   "source": [
    "df.hist('log_sqft_living')"
   ]
  },
  {
   "cell_type": "code",
   "execution_count": 97,
   "metadata": {},
   "outputs": [],
   "source": [
    "floor_dict = {\n",
    "            'floors_1.5': 'floors_1_half',\n",
    "            'floors_2.0': 'floors_2',\n",
    "            'floors_2.5': 'floors_2_half',\n",
    "            'floors_3.0': 'floors_3',\n",
    "            'floors_3.5': 'floors_3_half'\n",
    "}"
   ]
  },
  {
   "cell_type": "code",
   "execution_count": 98,
   "metadata": {},
   "outputs": [
    {
     "data": {
      "text/plain": [
       "Index(['id', 'date', 'price', 'bedrooms', 'bathrooms', 'sqft_living',\n",
       "       'sqft_lot', 'waterfront', 'sqft_above', 'sqft_basement', 'yr_built',\n",
       "       'yr_renovated', 'zipcode', 'lat', 'long', 'sqft_living15', 'sqft_lot15',\n",
       "       'log_price', 'waterfront_view', 'waterfront_cond', 'waterfront_grade',\n",
       "       'living_bed_ratio', 'log_living_bed_ratio', 'bed_bath_ratio',\n",
       "       'log_sqft_lot', 'sqft_yard', 'log_sqft_yard', 'log_sqft_living',\n",
       "       'grade_binned', 'yr_built_reno', 'grade_3', 'grade_4', 'grade_5',\n",
       "       'grade_6', 'grade_7', 'grade_8', 'grade_9', 'grade_10', 'grade_11',\n",
       "       'grade_12', 'grade_13', 'view_1', 'view_2', 'view_3', 'view_4',\n",
       "       'condition_2', 'condition_3', 'condition_4', 'condition_5',\n",
       "       'floors_1_half', 'floors_2', 'floors_2_half', 'floors_3',\n",
       "       'floors_3_half', 'built_reno_2', 'built_reno_3', 'built_reno_4',\n",
       "       'built_reno_5'],\n",
       "      dtype='object')"
      ]
     },
     "execution_count": 98,
     "metadata": {},
     "output_type": "execute_result"
    }
   ],
   "source": [
    "df = df.rename(columns=floor_dict)\n",
    "df.columns"
   ]
  },
  {
   "cell_type": "code",
   "execution_count": 99,
   "metadata": {},
   "outputs": [
    {
     "data": {
      "text/plain": [
       "Index(['id', 'date', 'price', 'bedrooms', 'bathrooms', 'sqft_living',\n",
       "       'sqft_lot', 'floors', 'waterfront', 'view', 'condition', 'grade',\n",
       "       'sqft_above', 'sqft_basement', 'yr_built', 'yr_renovated', 'zipcode',\n",
       "       'lat', 'long', 'sqft_living15', 'sqft_lot15'],\n",
       "      dtype='object')"
      ]
     },
     "execution_count": 99,
     "metadata": {},
     "output_type": "execute_result"
    }
   ],
   "source": [
    "df_untouched.columns"
   ]
  },
  {
   "cell_type": "code",
   "execution_count": 100,
   "metadata": {},
   "outputs": [
    {
     "data": {
      "text/plain": [
       "'bedrooms+bathrooms+sqft_living+sqft_lot+floors+waterfront+view+condition+grade+sqft_above+sqft_basement+yr_built+yr_renovated+sqft_living15+sqft_lot15'"
      ]
     },
     "execution_count": 100,
     "metadata": {},
     "output_type": "execute_result"
    }
   ],
   "source": [
    "'+'.join(['bedrooms', 'bathrooms', 'sqft_living', 'sqft_lot', 'floors', 'waterfront', 'view', 'condition', 'grade',\n",
    "       'sqft_above', 'sqft_basement', 'yr_built', 'yr_renovated', 'sqft_living15', 'sqft_lot15'])"
   ]
  },
  {
   "cell_type": "code",
   "execution_count": 103,
   "metadata": {},
   "outputs": [
    {
     "data": {
      "text/html": [
       "<table class=\"simpletable\">\n",
       "<caption>OLS Regression Results</caption>\n",
       "<tr>\n",
       "  <th>Dep. Variable:</th>          <td>price</td>      <th>  R-squared:         </th>  <td>   0.653</td>  \n",
       "</tr>\n",
       "<tr>\n",
       "  <th>Model:</th>                   <td>OLS</td>       <th>  Adj. R-squared:    </th>  <td>   0.653</td>  \n",
       "</tr>\n",
       "<tr>\n",
       "  <th>Method:</th>             <td>Least Squares</td>  <th>  F-statistic:       </th>  <td>   2962.</td>  \n",
       "</tr>\n",
       "<tr>\n",
       "  <th>Date:</th>             <td>Fri, 01 May 2020</td> <th>  Prob (F-statistic):</th>   <td>  0.00</td>   \n",
       "</tr>\n",
       "<tr>\n",
       "  <th>Time:</th>                 <td>10:37:03</td>     <th>  Log-Likelihood:    </th> <td>-2.3721e+05</td>\n",
       "</tr>\n",
       "<tr>\n",
       "  <th>No. Observations:</th>      <td> 17290</td>      <th>  AIC:               </th>  <td>4.744e+05</td> \n",
       "</tr>\n",
       "<tr>\n",
       "  <th>Df Residuals:</th>          <td> 17278</td>      <th>  BIC:               </th>  <td>4.745e+05</td> \n",
       "</tr>\n",
       "<tr>\n",
       "  <th>Df Model:</th>              <td>    11</td>      <th>                     </th>      <td> </td>     \n",
       "</tr>\n",
       "<tr>\n",
       "  <th>Covariance Type:</th>      <td>nonrobust</td>    <th>                     </th>      <td> </td>     \n",
       "</tr>\n",
       "</table>\n",
       "<table class=\"simpletable\">\n",
       "<tr>\n",
       "        <td></td>           <th>coef</th>     <th>std err</th>      <th>t</th>      <th>P>|t|</th>  <th>[0.025</th>    <th>0.975]</th>  \n",
       "</tr>\n",
       "<tr>\n",
       "  <th>Intercept</th>     <td> 6.343e+06</td> <td> 1.48e+05</td> <td>   42.811</td> <td> 0.000</td> <td> 6.05e+06</td> <td> 6.63e+06</td>\n",
       "</tr>\n",
       "<tr>\n",
       "  <th>bedrooms</th>      <td>-3.889e+04</td> <td> 2261.372</td> <td>  -17.196</td> <td> 0.000</td> <td>-4.33e+04</td> <td>-3.45e+04</td>\n",
       "</tr>\n",
       "<tr>\n",
       "  <th>bathrooms</th>     <td> 4.688e+04</td> <td> 3878.429</td> <td>   12.087</td> <td> 0.000</td> <td> 3.93e+04</td> <td> 5.45e+04</td>\n",
       "</tr>\n",
       "<tr>\n",
       "  <th>sqft_living</th>   <td>  167.2713</td> <td>    4.050</td> <td>   41.306</td> <td> 0.000</td> <td>  159.334</td> <td>  175.209</td>\n",
       "</tr>\n",
       "<tr>\n",
       "  <th>floors</th>        <td> 2.375e+04</td> <td> 3894.875</td> <td>    6.098</td> <td> 0.000</td> <td> 1.61e+04</td> <td> 3.14e+04</td>\n",
       "</tr>\n",
       "<tr>\n",
       "  <th>waterfront</th>    <td> 5.927e+05</td> <td> 2.06e+04</td> <td>   28.741</td> <td> 0.000</td> <td> 5.52e+05</td> <td> 6.33e+05</td>\n",
       "</tr>\n",
       "<tr>\n",
       "  <th>view</th>          <td> 4.343e+04</td> <td> 2513.772</td> <td>   17.278</td> <td> 0.000</td> <td> 3.85e+04</td> <td> 4.84e+04</td>\n",
       "</tr>\n",
       "<tr>\n",
       "  <th>condition</th>     <td> 1.937e+04</td> <td> 2788.889</td> <td>    6.944</td> <td> 0.000</td> <td> 1.39e+04</td> <td> 2.48e+04</td>\n",
       "</tr>\n",
       "<tr>\n",
       "  <th>grade</th>         <td> 1.195e+05</td> <td> 2549.650</td> <td>   46.857</td> <td> 0.000</td> <td> 1.14e+05</td> <td> 1.24e+05</td>\n",
       "</tr>\n",
       "<tr>\n",
       "  <th>yr_built</th>      <td>-3649.3877</td> <td>   76.347</td> <td>  -47.800</td> <td> 0.000</td> <td>-3799.035</td> <td>-3499.740</td>\n",
       "</tr>\n",
       "<tr>\n",
       "  <th>sqft_living15</th> <td>   24.8856</td> <td>    4.016</td> <td>    6.197</td> <td> 0.000</td> <td>   17.014</td> <td>   32.757</td>\n",
       "</tr>\n",
       "<tr>\n",
       "  <th>sqft_lot15</th>    <td>   -0.5216</td> <td>    0.063</td> <td>   -8.240</td> <td> 0.000</td> <td>   -0.646</td> <td>   -0.398</td>\n",
       "</tr>\n",
       "</table>\n",
       "<table class=\"simpletable\">\n",
       "<tr>\n",
       "  <th>Omnibus:</th>       <td>13695.210</td> <th>  Durbin-Watson:     </th>  <td>   1.997</td>  \n",
       "</tr>\n",
       "<tr>\n",
       "  <th>Prob(Omnibus):</th>  <td> 0.000</td>   <th>  Jarque-Bera (JB):  </th> <td>1131223.215</td>\n",
       "</tr>\n",
       "<tr>\n",
       "  <th>Skew:</th>           <td> 3.228</td>   <th>  Prob(JB):          </th>  <td>    0.00</td>  \n",
       "</tr>\n",
       "<tr>\n",
       "  <th>Kurtosis:</th>       <td>42.097</td>   <th>  Cond. No.          </th>  <td>2.67e+06</td>  \n",
       "</tr>\n",
       "</table><br/><br/>Warnings:<br/>[1] Standard Errors assume that the covariance matrix of the errors is correctly specified.<br/>[2] The condition number is large, 2.67e+06. This might indicate that there are<br/>strong multicollinearity or other numerical problems."
      ],
      "text/plain": [
       "<class 'statsmodels.iolib.summary.Summary'>\n",
       "\"\"\"\n",
       "                            OLS Regression Results                            \n",
       "==============================================================================\n",
       "Dep. Variable:                  price   R-squared:                       0.653\n",
       "Model:                            OLS   Adj. R-squared:                  0.653\n",
       "Method:                 Least Squares   F-statistic:                     2962.\n",
       "Date:                Fri, 01 May 2020   Prob (F-statistic):               0.00\n",
       "Time:                        10:37:03   Log-Likelihood:            -2.3721e+05\n",
       "No. Observations:               17290   AIC:                         4.744e+05\n",
       "Df Residuals:                   17278   BIC:                         4.745e+05\n",
       "Df Model:                          11                                         \n",
       "Covariance Type:            nonrobust                                         \n",
       "=================================================================================\n",
       "                    coef    std err          t      P>|t|      [0.025      0.975]\n",
       "---------------------------------------------------------------------------------\n",
       "Intercept      6.343e+06   1.48e+05     42.811      0.000    6.05e+06    6.63e+06\n",
       "bedrooms      -3.889e+04   2261.372    -17.196      0.000   -4.33e+04   -3.45e+04\n",
       "bathrooms      4.688e+04   3878.429     12.087      0.000    3.93e+04    5.45e+04\n",
       "sqft_living     167.2713      4.050     41.306      0.000     159.334     175.209\n",
       "floors         2.375e+04   3894.875      6.098      0.000    1.61e+04    3.14e+04\n",
       "waterfront     5.927e+05   2.06e+04     28.741      0.000    5.52e+05    6.33e+05\n",
       "view           4.343e+04   2513.772     17.278      0.000    3.85e+04    4.84e+04\n",
       "condition      1.937e+04   2788.889      6.944      0.000    1.39e+04    2.48e+04\n",
       "grade          1.195e+05   2549.650     46.857      0.000    1.14e+05    1.24e+05\n",
       "yr_built      -3649.3877     76.347    -47.800      0.000   -3799.035   -3499.740\n",
       "sqft_living15    24.8856      4.016      6.197      0.000      17.014      32.757\n",
       "sqft_lot15       -0.5216      0.063     -8.240      0.000      -0.646      -0.398\n",
       "==============================================================================\n",
       "Omnibus:                    13695.210   Durbin-Watson:                   1.997\n",
       "Prob(Omnibus):                  0.000   Jarque-Bera (JB):          1131223.215\n",
       "Skew:                           3.228   Prob(JB):                         0.00\n",
       "Kurtosis:                      42.097   Cond. No.                     2.67e+06\n",
       "==============================================================================\n",
       "\n",
       "Warnings:\n",
       "[1] Standard Errors assume that the covariance matrix of the errors is correctly specified.\n",
       "[2] The condition number is large, 2.67e+06. This might indicate that there are\n",
       "strong multicollinearity or other numerical problems.\n",
       "\"\"\""
      ]
     },
     "execution_count": 103,
     "metadata": {},
     "output_type": "execute_result"
    }
   ],
   "source": [
    "f_untouched = 'price~bedrooms+bathrooms+sqft_living+floors+waterfront+view+condition+grade+yr_built+sqft_living15+sqft_lot15'\n",
    "model = ols(formula=f_untouched, data=df_untouched).fit()\n",
    "model.summary()"
   ]
  },
  {
   "cell_type": "code",
   "execution_count": 104,
   "metadata": {},
   "outputs": [
    {
     "data": {
      "text/plain": [
       "Index(['id', 'date', 'price', 'bedrooms', 'bathrooms', 'sqft_living',\n",
       "       'sqft_lot', 'waterfront', 'sqft_above', 'sqft_basement', 'yr_built',\n",
       "       'yr_renovated', 'zipcode', 'lat', 'long', 'sqft_living15', 'sqft_lot15',\n",
       "       'log_price', 'waterfront_view', 'waterfront_cond', 'waterfront_grade',\n",
       "       'living_bed_ratio', 'log_living_bed_ratio', 'bed_bath_ratio',\n",
       "       'log_sqft_lot', 'sqft_yard', 'log_sqft_yard', 'log_sqft_living',\n",
       "       'grade_binned', 'yr_built_reno', 'grade_3', 'grade_4', 'grade_5',\n",
       "       'grade_6', 'grade_7', 'grade_8', 'grade_9', 'grade_10', 'grade_11',\n",
       "       'grade_12', 'grade_13', 'view_1', 'view_2', 'view_3', 'view_4',\n",
       "       'condition_2', 'condition_3', 'condition_4', 'condition_5',\n",
       "       'floors_1_half', 'floors_2', 'floors_2_half', 'floors_3',\n",
       "       'floors_3_half', 'built_reno_2', 'built_reno_3', 'built_reno_4',\n",
       "       'built_reno_5'],\n",
       "      dtype='object')"
      ]
     },
     "execution_count": 104,
     "metadata": {},
     "output_type": "execute_result"
    }
   ],
   "source": [
    "df.columns"
   ]
  },
  {
   "cell_type": "code",
   "execution_count": 105,
   "metadata": {},
   "outputs": [],
   "source": [
    "df['log_sqft_living'] = df['sqft_living'].apply(lambda x: np.log(x))"
   ]
  },
  {
   "cell_type": "code",
   "execution_count": 106,
   "metadata": {},
   "outputs": [],
   "source": [
    "df['log_sqft_living15'] = df['sqft_living15'].apply(lambda x: np.log(x))"
   ]
  },
  {
   "cell_type": "code",
   "execution_count": 107,
   "metadata": {
    "scrolled": true
   },
   "outputs": [
    {
     "data": {
      "text/plain": [
       "(<matplotlib.axes._subplots.AxesSubplot at 0x12514aa58>,\n",
       " <matplotlib.axes._subplots.AxesSubplot at 0x12b03f518>)"
      ]
     },
     "execution_count": 107,
     "metadata": {},
     "output_type": "execute_result"
    },
    {
     "data": {
      "image/png": "[encoded data removed]",
      "text/plain": [
       "<Figure size 432x288 with 1 Axes>"
      ]
     },
     "metadata": {},
     "output_type": "display_data"
    },
    {
     "data": {
      "image/png": "[encoded data removed]",
      "text/plain": [
       "<Figure size 432x288 with 1 Axes>"
      ]
     },
     "metadata": {},
     "output_type": "display_data"
    }
   ],
   "source": [
    "df.plot.scatter('log_sqft_living15', 'log_price'), df.plot.scatter('log_sqft_living', 'log_price')"
   ]
  },
  {
   "cell_type": "code",
   "execution_count": 108,
   "metadata": {
    "scrolled": true
   },
   "outputs": [
    {
     "data": {
      "text/html": [
       "<table class=\"simpletable\">\n",
       "<caption>OLS Regression Results</caption>\n",
       "<tr>\n",
       "  <th>Dep. Variable:</th>          <td>price</td>      <th>  R-squared:         </th>  <td>   0.677</td>  \n",
       "</tr>\n",
       "<tr>\n",
       "  <th>Model:</th>                   <td>OLS</td>       <th>  Adj. R-squared:    </th>  <td>   0.676</td>  \n",
       "</tr>\n",
       "<tr>\n",
       "  <th>Method:</th>             <td>Least Squares</td>  <th>  F-statistic:       </th>  <td>   1166.</td>  \n",
       "</tr>\n",
       "<tr>\n",
       "  <th>Date:</th>             <td>Fri, 01 May 2020</td> <th>  Prob (F-statistic):</th>   <td>  0.00</td>   \n",
       "</tr>\n",
       "<tr>\n",
       "  <th>Time:</th>                 <td>10:37:13</td>     <th>  Log-Likelihood:    </th> <td>-2.3660e+05</td>\n",
       "</tr>\n",
       "<tr>\n",
       "  <th>No. Observations:</th>      <td> 17290</td>      <th>  AIC:               </th>  <td>4.733e+05</td> \n",
       "</tr>\n",
       "<tr>\n",
       "  <th>Df Residuals:</th>          <td> 17258</td>      <th>  BIC:               </th>  <td>4.735e+05</td> \n",
       "</tr>\n",
       "<tr>\n",
       "  <th>Df Model:</th>              <td>    31</td>      <th>                     </th>      <td> </td>     \n",
       "</tr>\n",
       "<tr>\n",
       "  <th>Covariance Type:</th>      <td>nonrobust</td>    <th>                     </th>      <td> </td>     \n",
       "</tr>\n",
       "</table>\n",
       "<table class=\"simpletable\">\n",
       "<tr>\n",
       "        <td></td>           <th>coef</th>     <th>std err</th>      <th>t</th>      <th>P>|t|</th>  <th>[0.025</th>    <th>0.975]</th>  \n",
       "</tr>\n",
       "<tr>\n",
       "  <th>Intercept</th>     <td> 2.418e+05</td> <td> 2.13e+05</td> <td>    1.138</td> <td> 0.255</td> <td>-1.75e+05</td> <td> 6.58e+05</td>\n",
       "</tr>\n",
       "<tr>\n",
       "  <th>waterfront</th>    <td> 5.339e+05</td> <td> 2.26e+04</td> <td>   23.642</td> <td> 0.000</td> <td>  4.9e+05</td> <td> 5.78e+05</td>\n",
       "</tr>\n",
       "<tr>\n",
       "  <th>view_1</th>        <td> 1.366e+05</td> <td> 1.33e+04</td> <td>   10.275</td> <td> 0.000</td> <td> 1.11e+05</td> <td> 1.63e+05</td>\n",
       "</tr>\n",
       "<tr>\n",
       "  <th>view_2</th>        <td> 7.143e+04</td> <td> 7973.600</td> <td>    8.958</td> <td> 0.000</td> <td> 5.58e+04</td> <td> 8.71e+04</td>\n",
       "</tr>\n",
       "<tr>\n",
       "  <th>view_3</th>        <td> 1.226e+05</td> <td> 1.09e+04</td> <td>   11.244</td> <td> 0.000</td> <td> 1.01e+05</td> <td> 1.44e+05</td>\n",
       "</tr>\n",
       "<tr>\n",
       "  <th>view_4</th>        <td> 2.715e+05</td> <td> 1.65e+04</td> <td>   16.453</td> <td> 0.000</td> <td> 2.39e+05</td> <td> 3.04e+05</td>\n",
       "</tr>\n",
       "<tr>\n",
       "  <th>floors_1_half</th> <td> 2294.1060</td> <td> 6464.218</td> <td>    0.355</td> <td> 0.723</td> <td>-1.04e+04</td> <td>  1.5e+04</td>\n",
       "</tr>\n",
       "<tr>\n",
       "  <th>floors_2</th>      <td>-2.053e+04</td> <td> 4917.273</td> <td>   -4.175</td> <td> 0.000</td> <td>-3.02e+04</td> <td>-1.09e+04</td>\n",
       "</tr>\n",
       "<tr>\n",
       "  <th>floors_2_half</th> <td> 1.161e+05</td> <td> 1.86e+04</td> <td>    6.238</td> <td> 0.000</td> <td> 7.97e+04</td> <td> 1.53e+05</td>\n",
       "</tr>\n",
       "<tr>\n",
       "  <th>floors_3</th>      <td> 7.218e+04</td> <td> 1.11e+04</td> <td>    6.527</td> <td> 0.000</td> <td> 5.05e+04</td> <td> 9.39e+04</td>\n",
       "</tr>\n",
       "<tr>\n",
       "  <th>floors_3_half</th> <td> 2.258e+05</td> <td> 8.05e+04</td> <td>    2.805</td> <td> 0.005</td> <td> 6.81e+04</td> <td> 3.84e+05</td>\n",
       "</tr>\n",
       "<tr>\n",
       "  <th>built_reno_2</th>  <td>-3.812e+04</td> <td> 7929.812</td> <td>   -4.807</td> <td> 0.000</td> <td>-5.37e+04</td> <td>-2.26e+04</td>\n",
       "</tr>\n",
       "<tr>\n",
       "  <th>built_reno_3</th>  <td>-1.467e+05</td> <td> 7404.172</td> <td>  -19.817</td> <td> 0.000</td> <td>-1.61e+05</td> <td>-1.32e+05</td>\n",
       "</tr>\n",
       "<tr>\n",
       "  <th>built_reno_4</th>  <td>-2.161e+05</td> <td> 7614.238</td> <td>  -28.384</td> <td> 0.000</td> <td>-2.31e+05</td> <td>-2.01e+05</td>\n",
       "</tr>\n",
       "<tr>\n",
       "  <th>built_reno_5</th>  <td>-1.866e+05</td> <td> 8185.579</td> <td>  -22.790</td> <td> 0.000</td> <td>-2.03e+05</td> <td>-1.71e+05</td>\n",
       "</tr>\n",
       "<tr>\n",
       "  <th>sqft_living</th>   <td>  161.7915</td> <td>    3.428</td> <td>   47.203</td> <td> 0.000</td> <td>  155.073</td> <td>  168.510</td>\n",
       "</tr>\n",
       "<tr>\n",
       "  <th>bedrooms</th>      <td>-1.561e+04</td> <td> 2326.626</td> <td>   -6.711</td> <td> 0.000</td> <td>-2.02e+04</td> <td>-1.11e+04</td>\n",
       "</tr>\n",
       "<tr>\n",
       "  <th>condition_2</th>   <td> 2.101e+04</td> <td>  4.8e+04</td> <td>    0.438</td> <td> 0.661</td> <td> -7.3e+04</td> <td> 1.15e+05</td>\n",
       "</tr>\n",
       "<tr>\n",
       "  <th>condition_3</th>   <td> 2.836e+04</td> <td> 4.47e+04</td> <td>    0.634</td> <td> 0.526</td> <td>-5.93e+04</td> <td> 1.16e+05</td>\n",
       "</tr>\n",
       "<tr>\n",
       "  <th>condition_4</th>   <td> 5.764e+04</td> <td> 4.47e+04</td> <td>    1.289</td> <td> 0.198</td> <td>   -3e+04</td> <td> 1.45e+05</td>\n",
       "</tr>\n",
       "<tr>\n",
       "  <th>condition_5</th>   <td> 1.092e+05</td> <td>  4.5e+04</td> <td>    2.429</td> <td> 0.015</td> <td> 2.11e+04</td> <td> 1.97e+05</td>\n",
       "</tr>\n",
       "<tr>\n",
       "  <th>grade_3</th>       <td>-1.494e+05</td> <td> 2.64e+05</td> <td>   -0.566</td> <td> 0.571</td> <td>-6.67e+05</td> <td> 3.68e+05</td>\n",
       "</tr>\n",
       "<tr>\n",
       "  <th>grade_4</th>       <td>-9.021e+04</td> <td> 2.21e+05</td> <td>   -0.407</td> <td> 0.684</td> <td>-5.24e+05</td> <td> 3.44e+05</td>\n",
       "</tr>\n",
       "<tr>\n",
       "  <th>grade_5</th>       <td>-1.205e+05</td> <td> 2.17e+05</td> <td>   -0.554</td> <td> 0.579</td> <td>-5.47e+05</td> <td> 3.06e+05</td>\n",
       "</tr>\n",
       "<tr>\n",
       "  <th>grade_6</th>       <td>-5.596e+04</td> <td> 2.17e+05</td> <td>   -0.258</td> <td> 0.797</td> <td>-4.82e+05</td> <td>  3.7e+05</td>\n",
       "</tr>\n",
       "<tr>\n",
       "  <th>grade_7</th>       <td>  3.48e+04</td> <td> 2.17e+05</td> <td>    0.160</td> <td> 0.873</td> <td>-3.91e+05</td> <td>  4.6e+05</td>\n",
       "</tr>\n",
       "<tr>\n",
       "  <th>grade_8</th>       <td> 1.241e+05</td> <td> 2.17e+05</td> <td>    0.571</td> <td> 0.568</td> <td>-3.02e+05</td> <td>  5.5e+05</td>\n",
       "</tr>\n",
       "<tr>\n",
       "  <th>grade_9</th>       <td> 2.562e+05</td> <td> 2.17e+05</td> <td>    1.179</td> <td> 0.238</td> <td> -1.7e+05</td> <td> 6.82e+05</td>\n",
       "</tr>\n",
       "<tr>\n",
       "  <th>grade_10</th>      <td> 4.347e+05</td> <td> 2.17e+05</td> <td>    2.000</td> <td> 0.046</td> <td> 8600.644</td> <td> 8.61e+05</td>\n",
       "</tr>\n",
       "<tr>\n",
       "  <th>grade_11</th>      <td> 6.954e+05</td> <td> 2.18e+05</td> <td>    3.194</td> <td> 0.001</td> <td> 2.69e+05</td> <td> 1.12e+06</td>\n",
       "</tr>\n",
       "<tr>\n",
       "  <th>grade_12</th>      <td> 1.203e+06</td> <td> 2.19e+05</td> <td>    5.490</td> <td> 0.000</td> <td> 7.73e+05</td> <td> 1.63e+06</td>\n",
       "</tr>\n",
       "<tr>\n",
       "  <th>grade_13</th>      <td> 2.609e+06</td> <td> 2.27e+05</td> <td>   11.474</td> <td> 0.000</td> <td> 2.16e+06</td> <td> 3.05e+06</td>\n",
       "</tr>\n",
       "</table>\n",
       "<table class=\"simpletable\">\n",
       "<tr>\n",
       "  <th>Omnibus:</th>       <td>10220.072</td> <th>  Durbin-Watson:     </th>  <td>   2.009</td> \n",
       "</tr>\n",
       "<tr>\n",
       "  <th>Prob(Omnibus):</th>  <td> 0.000</td>   <th>  Jarque-Bera (JB):  </th> <td>415110.045</td>\n",
       "</tr>\n",
       "<tr>\n",
       "  <th>Skew:</th>           <td> 2.218</td>   <th>  Prob(JB):          </th>  <td>    0.00</td> \n",
       "</tr>\n",
       "<tr>\n",
       "  <th>Kurtosis:</th>       <td>26.591</td>   <th>  Cond. No.          </th>  <td>1.06e+06</td> \n",
       "</tr>\n",
       "</table><br/><br/>Warnings:<br/>[1] Standard Errors assume that the covariance matrix of the errors is correctly specified.<br/>[2] The condition number is large, 1.06e+06. This might indicate that there are<br/>strong multicollinearity or other numerical problems."
      ],
      "text/plain": [
       "<class 'statsmodels.iolib.summary.Summary'>\n",
       "\"\"\"\n",
       "                            OLS Regression Results                            \n",
       "==============================================================================\n",
       "Dep. Variable:                  price   R-squared:                       0.677\n",
       "Model:                            OLS   Adj. R-squared:                  0.676\n",
       "Method:                 Least Squares   F-statistic:                     1166.\n",
       "Date:                Fri, 01 May 2020   Prob (F-statistic):               0.00\n",
       "Time:                        10:37:13   Log-Likelihood:            -2.3660e+05\n",
       "No. Observations:               17290   AIC:                         4.733e+05\n",
       "Df Residuals:                   17258   BIC:                         4.735e+05\n",
       "Df Model:                          31                                         \n",
       "Covariance Type:            nonrobust                                         \n",
       "=================================================================================\n",
       "                    coef    std err          t      P>|t|      [0.025      0.975]\n",
       "---------------------------------------------------------------------------------\n",
       "Intercept      2.418e+05   2.13e+05      1.138      0.255   -1.75e+05    6.58e+05\n",
       "waterfront     5.339e+05   2.26e+04     23.642      0.000     4.9e+05    5.78e+05\n",
       "view_1         1.366e+05   1.33e+04     10.275      0.000    1.11e+05    1.63e+05\n",
       "view_2         7.143e+04   7973.600      8.958      0.000    5.58e+04    8.71e+04\n",
       "view_3         1.226e+05   1.09e+04     11.244      0.000    1.01e+05    1.44e+05\n",
       "view_4         2.715e+05   1.65e+04     16.453      0.000    2.39e+05    3.04e+05\n",
       "floors_1_half  2294.1060   6464.218      0.355      0.723   -1.04e+04     1.5e+04\n",
       "floors_2      -2.053e+04   4917.273     -4.175      0.000   -3.02e+04   -1.09e+04\n",
       "floors_2_half  1.161e+05   1.86e+04      6.238      0.000    7.97e+04    1.53e+05\n",
       "floors_3       7.218e+04   1.11e+04      6.527      0.000    5.05e+04    9.39e+04\n",
       "floors_3_half  2.258e+05   8.05e+04      2.805      0.005    6.81e+04    3.84e+05\n",
       "built_reno_2  -3.812e+04   7929.812     -4.807      0.000   -5.37e+04   -2.26e+04\n",
       "built_reno_3  -1.467e+05   7404.172    -19.817      0.000   -1.61e+05   -1.32e+05\n",
       "built_reno_4  -2.161e+05   7614.238    -28.384      0.000   -2.31e+05   -2.01e+05\n",
       "built_reno_5  -1.866e+05   8185.579    -22.790      0.000   -2.03e+05   -1.71e+05\n",
       "sqft_living     161.7915      3.428     47.203      0.000     155.073     168.510\n",
       "bedrooms      -1.561e+04   2326.626     -6.711      0.000   -2.02e+04   -1.11e+04\n",
       "condition_2    2.101e+04    4.8e+04      0.438      0.661    -7.3e+04    1.15e+05\n",
       "condition_3    2.836e+04   4.47e+04      0.634      0.526   -5.93e+04    1.16e+05\n",
       "condition_4    5.764e+04   4.47e+04      1.289      0.198      -3e+04    1.45e+05\n",
       "condition_5    1.092e+05    4.5e+04      2.429      0.015    2.11e+04    1.97e+05\n",
       "grade_3       -1.494e+05   2.64e+05     -0.566      0.571   -6.67e+05    3.68e+05\n",
       "grade_4       -9.021e+04   2.21e+05     -0.407      0.684   -5.24e+05    3.44e+05\n",
       "grade_5       -1.205e+05   2.17e+05     -0.554      0.579   -5.47e+05    3.06e+05\n",
       "grade_6       -5.596e+04   2.17e+05     -0.258      0.797   -4.82e+05     3.7e+05\n",
       "grade_7         3.48e+04   2.17e+05      0.160      0.873   -3.91e+05     4.6e+05\n",
       "grade_8        1.241e+05   2.17e+05      0.571      0.568   -3.02e+05     5.5e+05\n",
       "grade_9        2.562e+05   2.17e+05      1.179      0.238    -1.7e+05    6.82e+05\n",
       "grade_10       4.347e+05   2.17e+05      2.000      0.046    8600.644    8.61e+05\n",
       "grade_11       6.954e+05   2.18e+05      3.194      0.001    2.69e+05    1.12e+06\n",
       "grade_12       1.203e+06   2.19e+05      5.490      0.000    7.73e+05    1.63e+06\n",
       "grade_13       2.609e+06   2.27e+05     11.474      0.000    2.16e+06    3.05e+06\n",
       "==============================================================================\n",
       "Omnibus:                    10220.072   Durbin-Watson:                   2.009\n",
       "Prob(Omnibus):                  0.000   Jarque-Bera (JB):           415110.045\n",
       "Skew:                           2.218   Prob(JB):                         0.00\n",
       "Kurtosis:                      26.591   Cond. No.                     1.06e+06\n",
       "==============================================================================\n",
       "\n",
       "Warnings:\n",
       "[1] Standard Errors assume that the covariance matrix of the errors is correctly specified.\n",
       "[2] The condition number is large, 1.06e+06. This might indicate that there are\n",
       "strong multicollinearity or other numerical problems.\n",
       "\"\"\""
      ]
     },
     "execution_count": 108,
     "metadata": {},
     "output_type": "execute_result"
    }
   ],
   "source": [
    "f = 'price~waterfront+view_1+view_2+view_3+view_4+floors_1_half+floors_2+floors_2_half+floors_3+floors_3_half+built_reno_2+built_reno_3+built_reno_4+built_reno_5+sqft_living+bedrooms+condition_2+condition_3+condition_4+condition_5+grade_3+grade_4+grade_5+grade_6+grade_7+grade_8+grade_9+grade_10+grade_11+grade_12+grade_13'\n",
    "model = ols(formula=f, data=df).fit()\n",
    "model.summary()"
   ]
  },
  {
   "cell_type": "code",
   "execution_count": 110,
   "metadata": {},
   "outputs": [
    {
     "data": {
      "text/plain": [
       "Index(['id', 'date', 'price', 'bedrooms', 'bathrooms', 'sqft_living',\n",
       "       'sqft_lot', 'waterfront', 'sqft_above', 'sqft_basement', 'yr_built',\n",
       "       'yr_renovated', 'zipcode', 'lat', 'long', 'sqft_living15', 'sqft_lot15',\n",
       "       'log_price', 'waterfront_view', 'waterfront_cond', 'waterfront_grade',\n",
       "       'living_bed_ratio', 'log_living_bed_ratio', 'bed_bath_ratio',\n",
       "       'log_sqft_lot', 'sqft_yard', 'log_sqft_yard', 'log_sqft_living',\n",
       "       'grade_binned', 'yr_built_reno', 'grade_3', 'grade_4', 'grade_5',\n",
       "       'grade_6', 'grade_7', 'grade_8', 'grade_9', 'grade_10', 'grade_11',\n",
       "       'grade_12', 'grade_13', 'view_1', 'view_2', 'view_3', 'view_4',\n",
       "       'condition_2', 'condition_3', 'condition_4', 'condition_5',\n",
       "       'floors_1_half', 'floors_2', 'floors_2_half', 'floors_3',\n",
       "       'floors_3_half', 'built_reno_2', 'built_reno_3', 'built_reno_4',\n",
       "       'built_reno_5', 'log_sqft_living15'],\n",
       "      dtype='object')"
      ]
     },
     "execution_count": 110,
     "metadata": {},
     "output_type": "execute_result"
    }
   ],
   "source": [
    "df.columns"
   ]
  },
  {
   "cell_type": "code",
   "execution_count": 257,
   "metadata": {},
   "outputs": [],
   "source": [
    "features = df.drop(['id', 'date', 'price', 'zipcode', 'lat', 'long', 'yr_built', 'yr_renovated', 'log_price', 'grade_binned'], axis = 1)"
   ]
  },
  {
   "cell_type": "code",
   "execution_count": 258,
   "metadata": {},
   "outputs": [],
   "source": [
    "features = features.drop(['sqft_living', 'sqft_lot', 'sqft_above', 'sqft_yard', 'yr_built_reno'], axis = 1)"
   ]
  },
  {
   "cell_type": "code",
   "execution_count": 126,
   "metadata": {},
   "outputs": [
    {
     "data": {
      "text/plain": [
       "pandas.core.frame.DataFrame"
      ]
     },
     "execution_count": 126,
     "metadata": {},
     "output_type": "execute_result"
    }
   ],
   "source": [
    "type(df)"
   ]
  },
  {
   "cell_type": "code",
   "execution_count": 129,
   "metadata": {},
   "outputs": [],
   "source": [
    "df['log_sqft_basement'] = df['sqft_basement'].apply(lambda x: np.log(x))"
   ]
  },
  {
   "cell_type": "code",
   "execution_count": 131,
   "metadata": {},
   "outputs": [
    {
     "data": {
      "text/plain": [
       "<matplotlib.axes._subplots.AxesSubplot at 0x12a87a358>"
      ]
     },
     "execution_count": 131,
     "metadata": {},
     "output_type": "execute_result"
    },
    {
     "data": {
      "image/png": "[encoded data removed]",
      "text/plain": [
       "<Figure size 432x288 with 1 Axes>"
      ]
     },
     "metadata": {},
     "output_type": "display_data"
    }
   ],
   "source": [
    "df.plot.scatter('sqft_basement', 'log_price')"
   ]
  },
  {
   "cell_type": "code",
   "execution_count": 133,
   "metadata": {
    "scrolled": true
   },
   "outputs": [
    {
     "data": {
      "text/html": [
       "<div>\n",
       "<style scoped>\n",
       "    .dataframe tbody tr th:only-of-type {\n",
       "        vertical-align: middle;\n",
       "    }\n",
       "\n",
       "    .dataframe tbody tr th {\n",
       "        vertical-align: top;\n",
       "    }\n",
       "\n",
       "    .dataframe thead th {\n",
       "        text-align: right;\n",
       "    }\n",
       "</style>\n",
       "<table border=\"1\" class=\"dataframe\">\n",
       "  <thead>\n",
       "    <tr style=\"text-align: right;\">\n",
       "      <th></th>\n",
       "      <th>id</th>\n",
       "      <th>date</th>\n",
       "      <th>price</th>\n",
       "      <th>bedrooms</th>\n",
       "      <th>bathrooms</th>\n",
       "      <th>sqft_living</th>\n",
       "      <th>sqft_lot</th>\n",
       "      <th>waterfront</th>\n",
       "      <th>sqft_above</th>\n",
       "      <th>sqft_basement</th>\n",
       "      <th>...</th>\n",
       "      <th>floors_2_half</th>\n",
       "      <th>floors_3</th>\n",
       "      <th>floors_3_half</th>\n",
       "      <th>built_reno_2</th>\n",
       "      <th>built_reno_3</th>\n",
       "      <th>built_reno_4</th>\n",
       "      <th>built_reno_5</th>\n",
       "      <th>log_sqft_living15</th>\n",
       "      <th>log_sqft_basement</th>\n",
       "      <th>has_basement</th>\n",
       "    </tr>\n",
       "  </thead>\n",
       "  <tbody>\n",
       "    <tr>\n",
       "      <th>0</th>\n",
       "      <td>2591820310</td>\n",
       "      <td>20141006T000000</td>\n",
       "      <td>365000.0</td>\n",
       "      <td>4</td>\n",
       "      <td>2.25</td>\n",
       "      <td>2070</td>\n",
       "      <td>8893</td>\n",
       "      <td>0</td>\n",
       "      <td>2070</td>\n",
       "      <td>0</td>\n",
       "      <td>...</td>\n",
       "      <td>0</td>\n",
       "      <td>0</td>\n",
       "      <td>0</td>\n",
       "      <td>0</td>\n",
       "      <td>0</td>\n",
       "      <td>1</td>\n",
       "      <td>0</td>\n",
       "      <td>7.779049</td>\n",
       "      <td>-inf</td>\n",
       "      <td>0</td>\n",
       "    </tr>\n",
       "    <tr>\n",
       "      <th>1</th>\n",
       "      <td>7974200820</td>\n",
       "      <td>20140821T000000</td>\n",
       "      <td>865000.0</td>\n",
       "      <td>5</td>\n",
       "      <td>3.00</td>\n",
       "      <td>2900</td>\n",
       "      <td>6730</td>\n",
       "      <td>0</td>\n",
       "      <td>1830</td>\n",
       "      <td>1070</td>\n",
       "      <td>...</td>\n",
       "      <td>0</td>\n",
       "      <td>0</td>\n",
       "      <td>0</td>\n",
       "      <td>0</td>\n",
       "      <td>0</td>\n",
       "      <td>1</td>\n",
       "      <td>0</td>\n",
       "      <td>7.770645</td>\n",
       "      <td>6.975414</td>\n",
       "      <td>1</td>\n",
       "    </tr>\n",
       "    <tr>\n",
       "      <th>2</th>\n",
       "      <td>7701450110</td>\n",
       "      <td>20140815T000000</td>\n",
       "      <td>1038000.0</td>\n",
       "      <td>4</td>\n",
       "      <td>2.50</td>\n",
       "      <td>3770</td>\n",
       "      <td>10893</td>\n",
       "      <td>0</td>\n",
       "      <td>3770</td>\n",
       "      <td>0</td>\n",
       "      <td>...</td>\n",
       "      <td>0</td>\n",
       "      <td>0</td>\n",
       "      <td>0</td>\n",
       "      <td>0</td>\n",
       "      <td>0</td>\n",
       "      <td>0</td>\n",
       "      <td>1</td>\n",
       "      <td>8.218787</td>\n",
       "      <td>-inf</td>\n",
       "      <td>0</td>\n",
       "    </tr>\n",
       "    <tr>\n",
       "      <th>3</th>\n",
       "      <td>9522300010</td>\n",
       "      <td>20150331T000000</td>\n",
       "      <td>1490000.0</td>\n",
       "      <td>3</td>\n",
       "      <td>3.50</td>\n",
       "      <td>4560</td>\n",
       "      <td>14608</td>\n",
       "      <td>0</td>\n",
       "      <td>4560</td>\n",
       "      <td>0</td>\n",
       "      <td>...</td>\n",
       "      <td>0</td>\n",
       "      <td>0</td>\n",
       "      <td>0</td>\n",
       "      <td>0</td>\n",
       "      <td>0</td>\n",
       "      <td>1</td>\n",
       "      <td>0</td>\n",
       "      <td>8.306472</td>\n",
       "      <td>-inf</td>\n",
       "      <td>0</td>\n",
       "    </tr>\n",
       "    <tr>\n",
       "      <th>4</th>\n",
       "      <td>9510861140</td>\n",
       "      <td>20140714T000000</td>\n",
       "      <td>711000.0</td>\n",
       "      <td>3</td>\n",
       "      <td>2.50</td>\n",
       "      <td>2550</td>\n",
       "      <td>5376</td>\n",
       "      <td>0</td>\n",
       "      <td>2550</td>\n",
       "      <td>0</td>\n",
       "      <td>...</td>\n",
       "      <td>0</td>\n",
       "      <td>0</td>\n",
       "      <td>0</td>\n",
       "      <td>0</td>\n",
       "      <td>0</td>\n",
       "      <td>0</td>\n",
       "      <td>1</td>\n",
       "      <td>7.718685</td>\n",
       "      <td>-inf</td>\n",
       "      <td>0</td>\n",
       "    </tr>\n",
       "  </tbody>\n",
       "</table>\n",
       "<p>5 rows × 61 columns</p>\n",
       "</div>"
      ],
      "text/plain": [
       "           id             date      price  bedrooms  bathrooms  sqft_living  \\\n",
       "0  2591820310  20141006T000000   365000.0         4       2.25         2070   \n",
       "1  7974200820  20140821T000000   865000.0         5       3.00         2900   \n",
       "2  7701450110  20140815T000000  1038000.0         4       2.50         3770   \n",
       "3  9522300010  20150331T000000  1490000.0         3       3.50         4560   \n",
       "4  9510861140  20140714T000000   711000.0         3       2.50         2550   \n",
       "\n",
       "   sqft_lot  waterfront  sqft_above  sqft_basement  ...  floors_2_half  \\\n",
       "0      8893           0        2070              0  ...              0   \n",
       "1      6730           0        1830           1070  ...              0   \n",
       "2     10893           0        3770              0  ...              0   \n",
       "3     14608           0        4560              0  ...              0   \n",
       "4      5376           0        2550              0  ...              0   \n",
       "\n",
       "   floors_3  floors_3_half  built_reno_2  built_reno_3  built_reno_4  \\\n",
       "0         0              0             0             0             1   \n",
       "1         0              0             0             0             1   \n",
       "2         0              0             0             0             0   \n",
       "3         0              0             0             0             1   \n",
       "4         0              0             0             0             0   \n",
       "\n",
       "   built_reno_5  log_sqft_living15  log_sqft_basement  has_basement  \n",
       "0             0           7.779049               -inf             0  \n",
       "1             0           7.770645           6.975414             1  \n",
       "2             1           8.218787               -inf             0  \n",
       "3             0           8.306472               -inf             0  \n",
       "4             1           7.718685               -inf             0  \n",
       "\n",
       "[5 rows x 61 columns]"
      ]
     },
     "execution_count": 133,
     "metadata": {},
     "output_type": "execute_result"
    }
   ],
   "source": [
    "df['has_basement'] = np.where(df['sqft_basement'] == 0, 0, 1)\n",
    "df.head()"
   ]
  },
  {
   "cell_type": "code",
   "execution_count": null,
   "metadata": {},
   "outputs": [],
   "source": [
    "df['has_basement'].unique()"
   ]
  },
  {
   "cell_type": "code",
   "execution_count": 135,
   "metadata": {},
   "outputs": [
    {
     "data": {
      "text/plain": [
       "<matplotlib.axes._subplots.AxesSubplot at 0x140c94e80>"
      ]
     },
     "execution_count": 135,
     "metadata": {},
     "output_type": "execute_result"
    },
    {
     "data": {
      "image/png": "[encoded data removed]",
      "text/plain": [
       "<Figure size 432x288 with 1 Axes>"
      ]
     },
     "metadata": {},
     "output_type": "display_data"
    }
   ],
   "source": [
    "df.boxplot('log_price', 'has_basement')"
   ]
  },
  {
   "cell_type": "code",
   "execution_count": 132,
   "metadata": {
    "scrolled": true
   },
   "outputs": [
    {
     "data": {
      "text/plain": [
       "Index(['id', 'date', 'price', 'bedrooms', 'bathrooms', 'sqft_living',\n",
       "       'sqft_lot', 'floors', 'waterfront', 'view', 'condition', 'grade',\n",
       "       'sqft_above', 'sqft_basement', 'yr_built', 'yr_renovated', 'zipcode',\n",
       "       'lat', 'long', 'sqft_living15', 'sqft_lot15'],\n",
       "      dtype='object')"
      ]
     },
     "execution_count": 132,
     "metadata": {},
     "output_type": "execute_result"
    }
   ],
   "source": [
    "df_untouched.columns"
   ]
  },
  {
   "cell_type": "code",
   "execution_count": 256,
   "metadata": {},
   "outputs": [
    {
     "data": {
      "text/plain": [
       "Index(['id', 'date', 'price', 'bedrooms', 'bathrooms', 'sqft_living',\n",
       "       'sqft_lot', 'waterfront', 'sqft_above', 'sqft_basement',\n",
       "       ...\n",
       "       'zipcode_98146', 'zipcode_98148', 'zipcode_98155', 'zipcode_98166',\n",
       "       'zipcode_98168', 'zipcode_98177', 'zipcode_98178', 'zipcode_98188',\n",
       "       'zipcode_98198', 'zipcode_98199'],\n",
       "      dtype='object', length=129)"
      ]
     },
     "execution_count": 256,
     "metadata": {},
     "output_type": "execute_result"
    }
   ],
   "source": [
    "features.columns"
   ]
  },
  {
   "cell_type": "code",
   "execution_count": 259,
   "metadata": {},
   "outputs": [],
   "source": [
    "features = features.drop(['sqft_living15', 'sqft_basement', 'sqft_living15', 'sqft_lot15', 'waterfront_view', 'waterfront_cond', 'waterfront_grade',\n",
    "       'living_bed_ratio', 'built_reno_2', 'built_reno_3', 'built_reno_4', 'built_reno_5'], axis = 1)"
   ]
  },
  {
   "cell_type": "code",
   "execution_count": 142,
   "metadata": {
    "scrolled": true
   },
   "outputs": [
    {
     "data": {
      "text/plain": [
       "Index(['bedrooms', 'bathrooms', 'waterfront', 'log_living_bed_ratio',\n",
       "       'bed_bath_ratio', 'log_sqft_lot', 'log_sqft_yard', 'log_sqft_living',\n",
       "       'grade_3', 'grade_4', 'grade_5', 'grade_6', 'grade_7', 'grade_8',\n",
       "       'grade_9', 'grade_10', 'grade_11', 'grade_12', 'grade_13', 'view_1',\n",
       "       'view_2', 'view_3', 'view_4', 'condition_2', 'condition_3',\n",
       "       'condition_4', 'condition_5', 'floors_1_half', 'floors_2',\n",
       "       'floors_2_half', 'floors_3', 'floors_3_half', 'log_sqft_living15'],\n",
       "      dtype='object')"
      ]
     },
     "execution_count": 142,
     "metadata": {},
     "output_type": "execute_result"
    }
   ],
   "source": [
    "features.columns"
   ]
  },
  {
   "cell_type": "code",
   "execution_count": 260,
   "metadata": {},
   "outputs": [],
   "source": [
    "features['log_price'] = df['log_price']\n",
    "# features['has_basement'] = df['has_basement']"
   ]
  },
  {
   "cell_type": "code",
   "execution_count": 261,
   "metadata": {},
   "outputs": [],
   "source": [
    "features['log_living_bed_ratio'] = np.where(features['log_living_bed_ratio'] == np.inf, 0, features['log_living_bed_ratio'])\n",
    "df['log_living_bed_ratio'] = np.where(df['log_living_bed_ratio'] == np.inf, 0, df['log_living_bed_ratio'])\n",
    "\n"
   ]
  },
  {
   "cell_type": "code",
   "execution_count": 262,
   "metadata": {},
   "outputs": [
    {
     "data": {
      "text/plain": [
       "(0.0, 8.13739583005665)"
      ]
     },
     "execution_count": 262,
     "metadata": {},
     "output_type": "execute_result"
    }
   ],
   "source": [
    "features['log_living_bed_ratio'].min(), features['log_living_bed_ratio'].max()"
   ]
  },
  {
   "cell_type": "code",
   "execution_count": 253,
   "metadata": {},
   "outputs": [
    {
     "data": {
      "text/plain": [
       "98052    474\n",
       "98115    465\n",
       "98103    461\n",
       "98038    455\n",
       "98117    437\n",
       "        ... \n",
       "98102     80\n",
       "98010     74\n",
       "98024     65\n",
       "98148     43\n",
       "98039     42\n",
       "Name: zipcode, Length: 70, dtype: int64"
      ]
     },
     "execution_count": 253,
     "metadata": {},
     "output_type": "execute_result"
    }
   ],
   "source": [
    "df['zipcode'].value_counts()"
   ]
  },
  {
   "cell_type": "code",
   "execution_count": 264,
   "metadata": {},
   "outputs": [],
   "source": [
    "features['zipcode'] = df['zipcode']"
   ]
  },
  {
   "cell_type": "code",
   "execution_count": 265,
   "metadata": {},
   "outputs": [
    {
     "data": {
      "text/plain": [
       "Index(['bedrooms', 'bathrooms', 'waterfront', 'log_living_bed_ratio',\n",
       "       'bed_bath_ratio', 'log_sqft_lot', 'log_sqft_yard', 'log_sqft_living',\n",
       "       'grade_3', 'grade_4',\n",
       "       ...\n",
       "       'zip_98146', 'zip_98148', 'zip_98155', 'zip_98166', 'zip_98168',\n",
       "       'zip_98177', 'zip_98178', 'zip_98188', 'zip_98198', 'zip_98199'],\n",
       "      dtype='object', length=105)"
      ]
     },
     "execution_count": 265,
     "metadata": {},
     "output_type": "execute_result"
    }
   ],
   "source": [
    "features = pd.get_dummies(data=features, columns=['zipcode'], prefix='zip', drop_first=True)\n",
    "features.columns"
   ]
  },
  {
   "cell_type": "code",
   "execution_count": 267,
   "metadata": {},
   "outputs": [],
   "source": [
    "features_list = list(features.columns)\n",
    "features_list.remove('log_price')"
   ]
  },
  {
   "cell_type": "code",
   "execution_count": 268,
   "metadata": {
    "scrolled": true
   },
   "outputs": [
    {
     "data": {
      "text/plain": [
       "'bedrooms+bathrooms+waterfront+log_living_bed_ratio+bed_bath_ratio+log_sqft_lot+log_sqft_yard+log_sqft_living+grade_3+grade_4+grade_5+grade_6+grade_7+grade_8+grade_9+grade_10+grade_11+grade_12+grade_13+view_1+view_2+view_3+view_4+condition_2+condition_3+condition_4+condition_5+floors_1_half+floors_2+floors_2_half+floors_3+floors_3_half+log_sqft_living15+log_sqft_basement+has_basement+zip_98002+zip_98003+zip_98004+zip_98005+zip_98006+zip_98007+zip_98008+zip_98010+zip_98011+zip_98014+zip_98019+zip_98022+zip_98023+zip_98024+zip_98027+zip_98028+zip_98029+zip_98030+zip_98031+zip_98032+zip_98033+zip_98034+zip_98038+zip_98039+zip_98040+zip_98042+zip_98045+zip_98052+zip_98053+zip_98055+zip_98056+zip_98058+zip_98059+zip_98065+zip_98070+zip_98072+zip_98074+zip_98075+zip_98077+zip_98092+zip_98102+zip_98103+zip_98105+zip_98106+zip_98107+zip_98108+zip_98109+zip_98112+zip_98115+zip_98116+zip_98117+zip_98118+zip_98119+zip_98122+zip_98125+zip_98126+zip_98133+zip_98136+zip_98144+zip_98146+zip_98148+zip_98155+zip_98166+zip_98168+zip_98177+zip_98178+zip_98188+zip_98198+zip_98199'"
      ]
     },
     "execution_count": 268,
     "metadata": {},
     "output_type": "execute_result"
    }
   ],
   "source": [
    "f_list = '+'.join(features_list)\n",
    "f_list"
   ]
  },
  {
   "cell_type": "code",
   "execution_count": 284,
   "metadata": {},
   "outputs": [],
   "source": [
    "features.replace([np.inf, -np.inf], 0, inplace=True)"
   ]
  },
  {
   "cell_type": "code",
   "execution_count": 316,
   "metadata": {},
   "outputs": [
    {
     "data": {
      "text/html": [
       "<table class=\"simpletable\">\n",
       "<caption>OLS Regression Results</caption>\n",
       "<tr>\n",
       "  <th>Dep. Variable:</th>        <td>log_price</td>    <th>  R-squared:         </th>  <td>   0.885</td> \n",
       "</tr>\n",
       "<tr>\n",
       "  <th>Model:</th>                   <td>OLS</td>       <th>  Adj. R-squared:    </th>  <td>   0.884</td> \n",
       "</tr>\n",
       "<tr>\n",
       "  <th>Method:</th>             <td>Least Squares</td>  <th>  F-statistic:       </th>  <td>   1267.</td> \n",
       "</tr>\n",
       "<tr>\n",
       "  <th>Date:</th>             <td>Fri, 01 May 2020</td> <th>  Prob (F-statistic):</th>   <td>  0.00</td>  \n",
       "</tr>\n",
       "<tr>\n",
       "  <th>Time:</th>                 <td>14:33:17</td>     <th>  Log-Likelihood:    </th>  <td>  5216.8</td> \n",
       "</tr>\n",
       "<tr>\n",
       "  <th>No. Observations:</th>      <td> 17290</td>      <th>  AIC:               </th> <td>-1.022e+04</td>\n",
       "</tr>\n",
       "<tr>\n",
       "  <th>Df Residuals:</th>          <td> 17185</td>      <th>  BIC:               </th>  <td>  -9409.</td> \n",
       "</tr>\n",
       "<tr>\n",
       "  <th>Df Model:</th>              <td>   104</td>      <th>                     </th>      <td> </td>    \n",
       "</tr>\n",
       "<tr>\n",
       "  <th>Covariance Type:</th>      <td>nonrobust</td>    <th>                     </th>      <td> </td>    \n",
       "</tr>\n",
       "</table>\n",
       "<table class=\"simpletable\">\n",
       "<tr>\n",
       "            <td></td>              <th>coef</th>     <th>std err</th>      <th>t</th>      <th>P>|t|</th>  <th>[0.025</th>    <th>0.975]</th>  \n",
       "</tr>\n",
       "<tr>\n",
       "  <th>Intercept</th>            <td>    7.4074</td> <td>    0.194</td> <td>   38.189</td> <td> 0.000</td> <td>    7.027</td> <td>    7.788</td>\n",
       "</tr>\n",
       "<tr>\n",
       "  <th>bedrooms</th>             <td>   -0.0205</td> <td>    0.004</td> <td>   -5.066</td> <td> 0.000</td> <td>   -0.028</td> <td>   -0.013</td>\n",
       "</tr>\n",
       "<tr>\n",
       "  <th>bathrooms</th>            <td>    0.0533</td> <td>    0.006</td> <td>    9.422</td> <td> 0.000</td> <td>    0.042</td> <td>    0.064</td>\n",
       "</tr>\n",
       "<tr>\n",
       "  <th>waterfront</th>           <td>    0.4647</td> <td>    0.019</td> <td>   23.892</td> <td> 0.000</td> <td>    0.427</td> <td>    0.503</td>\n",
       "</tr>\n",
       "<tr>\n",
       "  <th>log_living_bed_ratio</th> <td>    0.0042</td> <td>    0.007</td> <td>    0.584</td> <td> 0.559</td> <td>   -0.010</td> <td>    0.018</td>\n",
       "</tr>\n",
       "<tr>\n",
       "  <th>bed_bath_ratio</th>       <td>    0.0136</td> <td>    0.005</td> <td>    2.567</td> <td> 0.010</td> <td>    0.003</td> <td>    0.024</td>\n",
       "</tr>\n",
       "<tr>\n",
       "  <th>log_sqft_lot</th>         <td>    0.0269</td> <td>    0.013</td> <td>    2.023</td> <td> 0.043</td> <td>    0.001</td> <td>    0.053</td>\n",
       "</tr>\n",
       "<tr>\n",
       "  <th>log_sqft_yard</th>        <td>    0.0272</td> <td>    0.011</td> <td>    2.424</td> <td> 0.015</td> <td>    0.005</td> <td>    0.049</td>\n",
       "</tr>\n",
       "<tr>\n",
       "  <th>log_sqft_living</th>      <td>    0.4317</td> <td>    0.011</td> <td>   39.931</td> <td> 0.000</td> <td>    0.410</td> <td>    0.453</td>\n",
       "</tr>\n",
       "<tr>\n",
       "  <th>grade_3</th>              <td>   -0.3048</td> <td>    0.229</td> <td>   -1.331</td> <td> 0.183</td> <td>   -0.754</td> <td>    0.144</td>\n",
       "</tr>\n",
       "<tr>\n",
       "  <th>grade_4</th>              <td>   -0.2270</td> <td>    0.193</td> <td>   -1.178</td> <td> 0.239</td> <td>   -0.605</td> <td>    0.151</td>\n",
       "</tr>\n",
       "<tr>\n",
       "  <th>grade_5</th>              <td>   -0.2639</td> <td>    0.190</td> <td>   -1.389</td> <td> 0.165</td> <td>   -0.636</td> <td>    0.109</td>\n",
       "</tr>\n",
       "<tr>\n",
       "  <th>grade_6</th>              <td>   -0.2056</td> <td>    0.190</td> <td>   -1.083</td> <td> 0.279</td> <td>   -0.578</td> <td>    0.167</td>\n",
       "</tr>\n",
       "<tr>\n",
       "  <th>grade_7</th>              <td>   -0.1408</td> <td>    0.190</td> <td>   -0.741</td> <td> 0.458</td> <td>   -0.513</td> <td>    0.231</td>\n",
       "</tr>\n",
       "<tr>\n",
       "  <th>grade_8</th>              <td>   -0.0545</td> <td>    0.190</td> <td>   -0.287</td> <td> 0.774</td> <td>   -0.427</td> <td>    0.318</td>\n",
       "</tr>\n",
       "<tr>\n",
       "  <th>grade_9</th>              <td>    0.0602</td> <td>    0.190</td> <td>    0.317</td> <td> 0.752</td> <td>   -0.312</td> <td>    0.433</td>\n",
       "</tr>\n",
       "<tr>\n",
       "  <th>grade_10</th>             <td>    0.1498</td> <td>    0.190</td> <td>    0.787</td> <td> 0.431</td> <td>   -0.223</td> <td>    0.523</td>\n",
       "</tr>\n",
       "<tr>\n",
       "  <th>grade_11</th>             <td>    0.2633</td> <td>    0.191</td> <td>    1.381</td> <td> 0.167</td> <td>   -0.110</td> <td>    0.637</td>\n",
       "</tr>\n",
       "<tr>\n",
       "  <th>grade_12</th>             <td>    0.3800</td> <td>    0.192</td> <td>    1.981</td> <td> 0.048</td> <td>    0.004</td> <td>    0.756</td>\n",
       "</tr>\n",
       "<tr>\n",
       "  <th>grade_13</th>             <td>    0.6501</td> <td>    0.199</td> <td>    3.269</td> <td> 0.001</td> <td>    0.260</td> <td>    1.040</td>\n",
       "</tr>\n",
       "<tr>\n",
       "  <th>view_1</th>               <td>    0.1114</td> <td>    0.011</td> <td>    9.735</td> <td> 0.000</td> <td>    0.089</td> <td>    0.134</td>\n",
       "</tr>\n",
       "<tr>\n",
       "  <th>view_2</th>               <td>    0.1073</td> <td>    0.007</td> <td>   15.489</td> <td> 0.000</td> <td>    0.094</td> <td>    0.121</td>\n",
       "</tr>\n",
       "<tr>\n",
       "  <th>view_3</th>               <td>    0.1704</td> <td>    0.009</td> <td>   17.957</td> <td> 0.000</td> <td>    0.152</td> <td>    0.189</td>\n",
       "</tr>\n",
       "<tr>\n",
       "  <th>view_4</th>               <td>    0.2741</td> <td>    0.014</td> <td>   19.272</td> <td> 0.000</td> <td>    0.246</td> <td>    0.302</td>\n",
       "</tr>\n",
       "<tr>\n",
       "  <th>condition_2</th>          <td>    0.2021</td> <td>    0.041</td> <td>    4.971</td> <td> 0.000</td> <td>    0.122</td> <td>    0.282</td>\n",
       "</tr>\n",
       "<tr>\n",
       "  <th>condition_3</th>          <td>    0.3174</td> <td>    0.038</td> <td>    8.372</td> <td> 0.000</td> <td>    0.243</td> <td>    0.392</td>\n",
       "</tr>\n",
       "<tr>\n",
       "  <th>condition_4</th>          <td>    0.3547</td> <td>    0.038</td> <td>    9.350</td> <td> 0.000</td> <td>    0.280</td> <td>    0.429</td>\n",
       "</tr>\n",
       "<tr>\n",
       "  <th>condition_5</th>          <td>    0.4247</td> <td>    0.038</td> <td>   11.128</td> <td> 0.000</td> <td>    0.350</td> <td>    0.500</td>\n",
       "</tr>\n",
       "<tr>\n",
       "  <th>floors_1_half</th>        <td>    0.0042</td> <td>    0.006</td> <td>    0.759</td> <td> 0.448</td> <td>   -0.007</td> <td>    0.015</td>\n",
       "</tr>\n",
       "<tr>\n",
       "  <th>floors_2</th>             <td>   -0.0136</td> <td>    0.005</td> <td>   -2.804</td> <td> 0.005</td> <td>   -0.023</td> <td>   -0.004</td>\n",
       "</tr>\n",
       "<tr>\n",
       "  <th>floors_2_half</th>        <td>    0.0192</td> <td>    0.016</td> <td>    1.181</td> <td> 0.238</td> <td>   -0.013</td> <td>    0.051</td>\n",
       "</tr>\n",
       "<tr>\n",
       "  <th>floors_3</th>             <td>   -0.0899</td> <td>    0.010</td> <td>   -8.637</td> <td> 0.000</td> <td>   -0.110</td> <td>   -0.069</td>\n",
       "</tr>\n",
       "<tr>\n",
       "  <th>floors_3_half</th>        <td>    0.0158</td> <td>    0.069</td> <td>    0.230</td> <td> 0.818</td> <td>   -0.119</td> <td>    0.151</td>\n",
       "</tr>\n",
       "<tr>\n",
       "  <th>log_sqft_living15</th>    <td>    0.1416</td> <td>    0.007</td> <td>   18.933</td> <td> 0.000</td> <td>    0.127</td> <td>    0.156</td>\n",
       "</tr>\n",
       "<tr>\n",
       "  <th>log_sqft_basement</th>    <td>   -0.0379</td> <td>    0.004</td> <td>   -9.097</td> <td> 0.000</td> <td>   -0.046</td> <td>   -0.030</td>\n",
       "</tr>\n",
       "<tr>\n",
       "  <th>has_basement</th>         <td>    0.1983</td> <td>    0.026</td> <td>    7.655</td> <td> 0.000</td> <td>    0.148</td> <td>    0.249</td>\n",
       "</tr>\n",
       "<tr>\n",
       "  <th>zip_98002</th>            <td>   -0.0056</td> <td>    0.018</td> <td>   -0.313</td> <td> 0.755</td> <td>   -0.041</td> <td>    0.030</td>\n",
       "</tr>\n",
       "<tr>\n",
       "  <th>zip_98003</th>            <td>    0.0078</td> <td>    0.016</td> <td>    0.487</td> <td> 0.626</td> <td>   -0.024</td> <td>    0.039</td>\n",
       "</tr>\n",
       "<tr>\n",
       "  <th>zip_98004</th>            <td>    1.1291</td> <td>    0.016</td> <td>   70.273</td> <td> 0.000</td> <td>    1.098</td> <td>    1.161</td>\n",
       "</tr>\n",
       "<tr>\n",
       "  <th>zip_98005</th>            <td>    0.7206</td> <td>    0.019</td> <td>   38.435</td> <td> 0.000</td> <td>    0.684</td> <td>    0.757</td>\n",
       "</tr>\n",
       "<tr>\n",
       "  <th>zip_98006</th>            <td>    0.6421</td> <td>    0.014</td> <td>   44.790</td> <td> 0.000</td> <td>    0.614</td> <td>    0.670</td>\n",
       "</tr>\n",
       "<tr>\n",
       "  <th>zip_98007</th>            <td>    0.6561</td> <td>    0.020</td> <td>   33.608</td> <td> 0.000</td> <td>    0.618</td> <td>    0.694</td>\n",
       "</tr>\n",
       "<tr>\n",
       "  <th>zip_98008</th>            <td>    0.6620</td> <td>    0.016</td> <td>   41.086</td> <td> 0.000</td> <td>    0.630</td> <td>    0.694</td>\n",
       "</tr>\n",
       "<tr>\n",
       "  <th>zip_98010</th>            <td>    0.2159</td> <td>    0.024</td> <td>    9.175</td> <td> 0.000</td> <td>    0.170</td> <td>    0.262</td>\n",
       "</tr>\n",
       "<tr>\n",
       "  <th>zip_98011</th>            <td>    0.4466</td> <td>    0.018</td> <td>   25.228</td> <td> 0.000</td> <td>    0.412</td> <td>    0.481</td>\n",
       "</tr>\n",
       "<tr>\n",
       "  <th>zip_98014</th>            <td>    0.2785</td> <td>    0.021</td> <td>   13.215</td> <td> 0.000</td> <td>    0.237</td> <td>    0.320</td>\n",
       "</tr>\n",
       "<tr>\n",
       "  <th>zip_98019</th>            <td>    0.3135</td> <td>    0.018</td> <td>   17.031</td> <td> 0.000</td> <td>    0.277</td> <td>    0.350</td>\n",
       "</tr>\n",
       "<tr>\n",
       "  <th>zip_98022</th>            <td>    0.0333</td> <td>    0.017</td> <td>    1.955</td> <td> 0.051</td> <td>-8.87e-05</td> <td>    0.067</td>\n",
       "</tr>\n",
       "<tr>\n",
       "  <th>zip_98023</th>            <td>   -0.0245</td> <td>    0.014</td> <td>   -1.760</td> <td> 0.079</td> <td>   -0.052</td> <td>    0.003</td>\n",
       "</tr>\n",
       "<tr>\n",
       "  <th>zip_98024</th>            <td>    0.4244</td> <td>    0.025</td> <td>   16.874</td> <td> 0.000</td> <td>    0.375</td> <td>    0.474</td>\n",
       "</tr>\n",
       "<tr>\n",
       "  <th>zip_98027</th>            <td>    0.5074</td> <td>    0.015</td> <td>   34.551</td> <td> 0.000</td> <td>    0.479</td> <td>    0.536</td>\n",
       "</tr>\n",
       "<tr>\n",
       "  <th>zip_98028</th>            <td>    0.4165</td> <td>    0.016</td> <td>   25.732</td> <td> 0.000</td> <td>    0.385</td> <td>    0.448</td>\n",
       "</tr>\n",
       "<tr>\n",
       "  <th>zip_98029</th>            <td>    0.5983</td> <td>    0.016</td> <td>   37.869</td> <td> 0.000</td> <td>    0.567</td> <td>    0.629</td>\n",
       "</tr>\n",
       "<tr>\n",
       "  <th>zip_98030</th>            <td>    0.0396</td> <td>    0.017</td> <td>    2.393</td> <td> 0.017</td> <td>    0.007</td> <td>    0.072</td>\n",
       "</tr>\n",
       "<tr>\n",
       "  <th>zip_98031</th>            <td>    0.0700</td> <td>    0.016</td> <td>    4.303</td> <td> 0.000</td> <td>    0.038</td> <td>    0.102</td>\n",
       "</tr>\n",
       "<tr>\n",
       "  <th>zip_98032</th>            <td>   -0.0054</td> <td>    0.021</td> <td>   -0.261</td> <td> 0.794</td> <td>   -0.046</td> <td>    0.035</td>\n",
       "</tr>\n",
       "<tr>\n",
       "  <th>zip_98033</th>            <td>    0.7774</td> <td>    0.014</td> <td>   54.018</td> <td> 0.000</td> <td>    0.749</td> <td>    0.806</td>\n",
       "</tr>\n",
       "<tr>\n",
       "  <th>zip_98034</th>            <td>    0.5426</td> <td>    0.014</td> <td>   39.480</td> <td> 0.000</td> <td>    0.516</td> <td>    0.570</td>\n",
       "</tr>\n",
       "<tr>\n",
       "  <th>zip_98038</th>            <td>    0.1590</td> <td>    0.014</td> <td>   11.642</td> <td> 0.000</td> <td>    0.132</td> <td>    0.186</td>\n",
       "</tr>\n",
       "<tr>\n",
       "  <th>zip_98039</th>            <td>    1.2841</td> <td>    0.030</td> <td>   42.597</td> <td> 0.000</td> <td>    1.225</td> <td>    1.343</td>\n",
       "</tr>\n",
       "<tr>\n",
       "  <th>zip_98040</th>            <td>    0.8747</td> <td>    0.016</td> <td>   53.574</td> <td> 0.000</td> <td>    0.843</td> <td>    0.907</td>\n",
       "</tr>\n",
       "<tr>\n",
       "  <th>zip_98042</th>            <td>    0.0630</td> <td>    0.014</td> <td>    4.567</td> <td> 0.000</td> <td>    0.036</td> <td>    0.090</td>\n",
       "</tr>\n",
       "<tr>\n",
       "  <th>zip_98045</th>            <td>    0.3059</td> <td>    0.017</td> <td>   17.659</td> <td> 0.000</td> <td>    0.272</td> <td>    0.340</td>\n",
       "</tr>\n",
       "<tr>\n",
       "  <th>zip_98052</th>            <td>    0.6321</td> <td>    0.014</td> <td>   46.488</td> <td> 0.000</td> <td>    0.605</td> <td>    0.659</td>\n",
       "</tr>\n",
       "<tr>\n",
       "  <th>zip_98053</th>            <td>    0.5771</td> <td>    0.015</td> <td>   39.055</td> <td> 0.000</td> <td>    0.548</td> <td>    0.606</td>\n",
       "</tr>\n",
       "<tr>\n",
       "  <th>zip_98055</th>            <td>    0.1540</td> <td>    0.016</td> <td>    9.409</td> <td> 0.000</td> <td>    0.122</td> <td>    0.186</td>\n",
       "</tr>\n",
       "<tr>\n",
       "  <th>zip_98056</th>            <td>    0.3255</td> <td>    0.015</td> <td>   22.355</td> <td> 0.000</td> <td>    0.297</td> <td>    0.354</td>\n",
       "</tr>\n",
       "<tr>\n",
       "  <th>zip_98058</th>            <td>    0.1677</td> <td>    0.014</td> <td>   11.922</td> <td> 0.000</td> <td>    0.140</td> <td>    0.195</td>\n",
       "</tr>\n",
       "<tr>\n",
       "  <th>zip_98059</th>            <td>    0.3338</td> <td>    0.014</td> <td>   23.441</td> <td> 0.000</td> <td>    0.306</td> <td>    0.362</td>\n",
       "</tr>\n",
       "<tr>\n",
       "  <th>zip_98065</th>            <td>    0.4031</td> <td>    0.016</td> <td>   25.559</td> <td> 0.000</td> <td>    0.372</td> <td>    0.434</td>\n",
       "</tr>\n",
       "<tr>\n",
       "  <th>zip_98070</th>            <td>    0.2989</td> <td>    0.022</td> <td>   13.846</td> <td> 0.000</td> <td>    0.257</td> <td>    0.341</td>\n",
       "</tr>\n",
       "<tr>\n",
       "  <th>zip_98072</th>            <td>    0.4661</td> <td>    0.016</td> <td>   28.526</td> <td> 0.000</td> <td>    0.434</td> <td>    0.498</td>\n",
       "</tr>\n",
       "<tr>\n",
       "  <th>zip_98074</th>            <td>    0.5454</td> <td>    0.014</td> <td>   37.697</td> <td> 0.000</td> <td>    0.517</td> <td>    0.574</td>\n",
       "</tr>\n",
       "<tr>\n",
       "  <th>zip_98075</th>            <td>    0.5456</td> <td>    0.015</td> <td>   35.476</td> <td> 0.000</td> <td>    0.515</td> <td>    0.576</td>\n",
       "</tr>\n",
       "<tr>\n",
       "  <th>zip_98077</th>            <td>    0.4092</td> <td>    0.018</td> <td>   22.716</td> <td> 0.000</td> <td>    0.374</td> <td>    0.444</td>\n",
       "</tr>\n",
       "<tr>\n",
       "  <th>zip_98092</th>            <td>    0.0151</td> <td>    0.015</td> <td>    1.001</td> <td> 0.317</td> <td>   -0.014</td> <td>    0.045</td>\n",
       "</tr>\n",
       "<tr>\n",
       "  <th>zip_98102</th>            <td>    1.0097</td> <td>    0.023</td> <td>   43.606</td> <td> 0.000</td> <td>    0.964</td> <td>    1.055</td>\n",
       "</tr>\n",
       "<tr>\n",
       "  <th>zip_98103</th>            <td>    0.8970</td> <td>    0.014</td> <td>   63.743</td> <td> 0.000</td> <td>    0.869</td> <td>    0.925</td>\n",
       "</tr>\n",
       "<tr>\n",
       "  <th>zip_98105</th>            <td>    0.9876</td> <td>    0.018</td> <td>   55.725</td> <td> 0.000</td> <td>    0.953</td> <td>    1.022</td>\n",
       "</tr>\n",
       "<tr>\n",
       "  <th>zip_98106</th>            <td>    0.3831</td> <td>    0.016</td> <td>   24.567</td> <td> 0.000</td> <td>    0.353</td> <td>    0.414</td>\n",
       "</tr>\n",
       "<tr>\n",
       "  <th>zip_98107</th>            <td>    0.9118</td> <td>    0.017</td> <td>   54.360</td> <td> 0.000</td> <td>    0.879</td> <td>    0.945</td>\n",
       "</tr>\n",
       "<tr>\n",
       "  <th>zip_98108</th>            <td>    0.3945</td> <td>    0.018</td> <td>   21.644</td> <td> 0.000</td> <td>    0.359</td> <td>    0.430</td>\n",
       "</tr>\n",
       "<tr>\n",
       "  <th>zip_98109</th>            <td>    1.0377</td> <td>    0.023</td> <td>   45.884</td> <td> 0.000</td> <td>    0.993</td> <td>    1.082</td>\n",
       "</tr>\n",
       "<tr>\n",
       "  <th>zip_98112</th>            <td>    1.0952</td> <td>    0.017</td> <td>   65.812</td> <td> 0.000</td> <td>    1.063</td> <td>    1.128</td>\n",
       "</tr>\n",
       "<tr>\n",
       "  <th>zip_98115</th>            <td>    0.8531</td> <td>    0.014</td> <td>   61.991</td> <td> 0.000</td> <td>    0.826</td> <td>    0.880</td>\n",
       "</tr>\n",
       "<tr>\n",
       "  <th>zip_98116</th>            <td>    0.8025</td> <td>    0.016</td> <td>   51.358</td> <td> 0.000</td> <td>    0.772</td> <td>    0.833</td>\n",
       "</tr>\n",
       "<tr>\n",
       "  <th>zip_98117</th>            <td>    0.8637</td> <td>    0.014</td> <td>   61.756</td> <td> 0.000</td> <td>    0.836</td> <td>    0.891</td>\n",
       "</tr>\n",
       "<tr>\n",
       "  <th>zip_98118</th>            <td>    0.5015</td> <td>    0.014</td> <td>   35.603</td> <td> 0.000</td> <td>    0.474</td> <td>    0.529</td>\n",
       "</tr>\n",
       "<tr>\n",
       "  <th>zip_98119</th>            <td>    1.0449</td> <td>    0.019</td> <td>   56.261</td> <td> 0.000</td> <td>    1.008</td> <td>    1.081</td>\n",
       "</tr>\n",
       "<tr>\n",
       "  <th>zip_98122</th>            <td>    0.8598</td> <td>    0.016</td> <td>   52.907</td> <td> 0.000</td> <td>    0.828</td> <td>    0.892</td>\n",
       "</tr>\n",
       "<tr>\n",
       "  <th>zip_98125</th>            <td>    0.5840</td> <td>    0.015</td> <td>   39.649</td> <td> 0.000</td> <td>    0.555</td> <td>    0.613</td>\n",
       "</tr>\n",
       "<tr>\n",
       "  <th>zip_98126</th>            <td>    0.5948</td> <td>    0.015</td> <td>   38.556</td> <td> 0.000</td> <td>    0.565</td> <td>    0.625</td>\n",
       "</tr>\n",
       "<tr>\n",
       "  <th>zip_98133</th>            <td>    0.4889</td> <td>    0.014</td> <td>   34.795</td> <td> 0.000</td> <td>    0.461</td> <td>    0.516</td>\n",
       "</tr>\n",
       "<tr>\n",
       "  <th>zip_98136</th>            <td>    0.7328</td> <td>    0.017</td> <td>   44.318</td> <td> 0.000</td> <td>    0.700</td> <td>    0.765</td>\n",
       "</tr>\n",
       "<tr>\n",
       "  <th>zip_98144</th>            <td>    0.7316</td> <td>    0.016</td> <td>   46.618</td> <td> 0.000</td> <td>    0.701</td> <td>    0.762</td>\n",
       "</tr>\n",
       "<tr>\n",
       "  <th>zip_98146</th>            <td>    0.3001</td> <td>    0.016</td> <td>   19.044</td> <td> 0.000</td> <td>    0.269</td> <td>    0.331</td>\n",
       "</tr>\n",
       "<tr>\n",
       "  <th>zip_98148</th>            <td>    0.1463</td> <td>    0.029</td> <td>    4.974</td> <td> 0.000</td> <td>    0.089</td> <td>    0.204</td>\n",
       "</tr>\n",
       "<tr>\n",
       "  <th>zip_98155</th>            <td>    0.4393</td> <td>    0.014</td> <td>   30.539</td> <td> 0.000</td> <td>    0.411</td> <td>    0.468</td>\n",
       "</tr>\n",
       "<tr>\n",
       "  <th>zip_98166</th>            <td>    0.3127</td> <td>    0.016</td> <td>   18.977</td> <td> 0.000</td> <td>    0.280</td> <td>    0.345</td>\n",
       "</tr>\n",
       "<tr>\n",
       "  <th>zip_98168</th>            <td>    0.0828</td> <td>    0.016</td> <td>    5.059</td> <td> 0.000</td> <td>    0.051</td> <td>    0.115</td>\n",
       "</tr>\n",
       "<tr>\n",
       "  <th>zip_98177</th>            <td>    0.6082</td> <td>    0.016</td> <td>   37.241</td> <td> 0.000</td> <td>    0.576</td> <td>    0.640</td>\n",
       "</tr>\n",
       "<tr>\n",
       "  <th>zip_98178</th>            <td>    0.1659</td> <td>    0.016</td> <td>   10.136</td> <td> 0.000</td> <td>    0.134</td> <td>    0.198</td>\n",
       "</tr>\n",
       "<tr>\n",
       "  <th>zip_98188</th>            <td>    0.1070</td> <td>    0.020</td> <td>    5.283</td> <td> 0.000</td> <td>    0.067</td> <td>    0.147</td>\n",
       "</tr>\n",
       "<tr>\n",
       "  <th>zip_98198</th>            <td>    0.0760</td> <td>    0.016</td> <td>    4.691</td> <td> 0.000</td> <td>    0.044</td> <td>    0.108</td>\n",
       "</tr>\n",
       "<tr>\n",
       "  <th>zip_98199</th>            <td>    0.8882</td> <td>    0.016</td> <td>   56.748</td> <td> 0.000</td> <td>    0.857</td> <td>    0.919</td>\n",
       "</tr>\n",
       "</table>\n",
       "<table class=\"simpletable\">\n",
       "<tr>\n",
       "  <th>Omnibus:</th>       <td>1232.563</td> <th>  Durbin-Watson:     </th> <td>   2.006</td>\n",
       "</tr>\n",
       "<tr>\n",
       "  <th>Prob(Omnibus):</th>  <td> 0.000</td>  <th>  Jarque-Bera (JB):  </th> <td>5142.742</td>\n",
       "</tr>\n",
       "<tr>\n",
       "  <th>Skew:</th>           <td>-0.238</td>  <th>  Prob(JB):          </th> <td>    0.00</td>\n",
       "</tr>\n",
       "<tr>\n",
       "  <th>Kurtosis:</th>       <td> 5.629</td>  <th>  Cond. No.          </th> <td>8.88e+03</td>\n",
       "</tr>\n",
       "</table><br/><br/>Warnings:<br/>[1] Standard Errors assume that the covariance matrix of the errors is correctly specified.<br/>[2] The condition number is large, 8.88e+03. This might indicate that there are<br/>strong multicollinearity or other numerical problems."
      ],
      "text/plain": [
       "<class 'statsmodels.iolib.summary.Summary'>\n",
       "\"\"\"\n",
       "                            OLS Regression Results                            \n",
       "==============================================================================\n",
       "Dep. Variable:              log_price   R-squared:                       0.885\n",
       "Model:                            OLS   Adj. R-squared:                  0.884\n",
       "Method:                 Least Squares   F-statistic:                     1267.\n",
       "Date:                Fri, 01 May 2020   Prob (F-statistic):               0.00\n",
       "Time:                        14:33:17   Log-Likelihood:                 5216.8\n",
       "No. Observations:               17290   AIC:                        -1.022e+04\n",
       "Df Residuals:                   17185   BIC:                            -9409.\n",
       "Df Model:                         104                                         \n",
       "Covariance Type:            nonrobust                                         \n",
       "========================================================================================\n",
       "                           coef    std err          t      P>|t|      [0.025      0.975]\n",
       "----------------------------------------------------------------------------------------\n",
       "Intercept                7.4074      0.194     38.189      0.000       7.027       7.788\n",
       "bedrooms                -0.0205      0.004     -5.066      0.000      -0.028      -0.013\n",
       "bathrooms                0.0533      0.006      9.422      0.000       0.042       0.064\n",
       "waterfront               0.4647      0.019     23.892      0.000       0.427       0.503\n",
       "log_living_bed_ratio     0.0042      0.007      0.584      0.559      -0.010       0.018\n",
       "bed_bath_ratio           0.0136      0.005      2.567      0.010       0.003       0.024\n",
       "log_sqft_lot             0.0269      0.013      2.023      0.043       0.001       0.053\n",
       "log_sqft_yard            0.0272      0.011      2.424      0.015       0.005       0.049\n",
       "log_sqft_living          0.4317      0.011     39.931      0.000       0.410       0.453\n",
       "grade_3                 -0.3048      0.229     -1.331      0.183      -0.754       0.144\n",
       "grade_4                 -0.2270      0.193     -1.178      0.239      -0.605       0.151\n",
       "grade_5                 -0.2639      0.190     -1.389      0.165      -0.636       0.109\n",
       "grade_6                 -0.2056      0.190     -1.083      0.279      -0.578       0.167\n",
       "grade_7                 -0.1408      0.190     -0.741      0.458      -0.513       0.231\n",
       "grade_8                 -0.0545      0.190     -0.287      0.774      -0.427       0.318\n",
       "grade_9                  0.0602      0.190      0.317      0.752      -0.312       0.433\n",
       "grade_10                 0.1498      0.190      0.787      0.431      -0.223       0.523\n",
       "grade_11                 0.2633      0.191      1.381      0.167      -0.110       0.637\n",
       "grade_12                 0.3800      0.192      1.981      0.048       0.004       0.756\n",
       "grade_13                 0.6501      0.199      3.269      0.001       0.260       1.040\n",
       "view_1                   0.1114      0.011      9.735      0.000       0.089       0.134\n",
       "view_2                   0.1073      0.007     15.489      0.000       0.094       0.121\n",
       "view_3                   0.1704      0.009     17.957      0.000       0.152       0.189\n",
       "view_4                   0.2741      0.014     19.272      0.000       0.246       0.302\n",
       "condition_2              0.2021      0.041      4.971      0.000       0.122       0.282\n",
       "condition_3              0.3174      0.038      8.372      0.000       0.243       0.392\n",
       "condition_4              0.3547      0.038      9.350      0.000       0.280       0.429\n",
       "condition_5              0.4247      0.038     11.128      0.000       0.350       0.500\n",
       "floors_1_half            0.0042      0.006      0.759      0.448      -0.007       0.015\n",
       "floors_2                -0.0136      0.005     -2.804      0.005      -0.023      -0.004\n",
       "floors_2_half            0.0192      0.016      1.181      0.238      -0.013       0.051\n",
       "floors_3                -0.0899      0.010     -8.637      0.000      -0.110      -0.069\n",
       "floors_3_half            0.0158      0.069      0.230      0.818      -0.119       0.151\n",
       "log_sqft_living15        0.1416      0.007     18.933      0.000       0.127       0.156\n",
       "log_sqft_basement       -0.0379      0.004     -9.097      0.000      -0.046      -0.030\n",
       "has_basement             0.1983      0.026      7.655      0.000       0.148       0.249\n",
       "zip_98002               -0.0056      0.018     -0.313      0.755      -0.041       0.030\n",
       "zip_98003                0.0078      0.016      0.487      0.626      -0.024       0.039\n",
       "zip_98004                1.1291      0.016     70.273      0.000       1.098       1.161\n",
       "zip_98005                0.7206      0.019     38.435      0.000       0.684       0.757\n",
       "zip_98006                0.6421      0.014     44.790      0.000       0.614       0.670\n",
       "zip_98007                0.6561      0.020     33.608      0.000       0.618       0.694\n",
       "zip_98008                0.6620      0.016     41.086      0.000       0.630       0.694\n",
       "zip_98010                0.2159      0.024      9.175      0.000       0.170       0.262\n",
       "zip_98011                0.4466      0.018     25.228      0.000       0.412       0.481\n",
       "zip_98014                0.2785      0.021     13.215      0.000       0.237       0.320\n",
       "zip_98019                0.3135      0.018     17.031      0.000       0.277       0.350\n",
       "zip_98022                0.0333      0.017      1.955      0.051   -8.87e-05       0.067\n",
       "zip_98023               -0.0245      0.014     -1.760      0.079      -0.052       0.003\n",
       "zip_98024                0.4244      0.025     16.874      0.000       0.375       0.474\n",
       "zip_98027                0.5074      0.015     34.551      0.000       0.479       0.536\n",
       "zip_98028                0.4165      0.016     25.732      0.000       0.385       0.448\n",
       "zip_98029                0.5983      0.016     37.869      0.000       0.567       0.629\n",
       "zip_98030                0.0396      0.017      2.393      0.017       0.007       0.072\n",
       "zip_98031                0.0700      0.016      4.303      0.000       0.038       0.102\n",
       "zip_98032               -0.0054      0.021     -0.261      0.794      -0.046       0.035\n",
       "zip_98033                0.7774      0.014     54.018      0.000       0.749       0.806\n",
       "zip_98034                0.5426      0.014     39.480      0.000       0.516       0.570\n",
       "zip_98038                0.1590      0.014     11.642      0.000       0.132       0.186\n",
       "zip_98039                1.2841      0.030     42.597      0.000       1.225       1.343\n",
       "zip_98040                0.8747      0.016     53.574      0.000       0.843       0.907\n",
       "zip_98042                0.0630      0.014      4.567      0.000       0.036       0.090\n",
       "zip_98045                0.3059      0.017     17.659      0.000       0.272       0.340\n",
       "zip_98052                0.6321      0.014     46.488      0.000       0.605       0.659\n",
       "zip_98053                0.5771      0.015     39.055      0.000       0.548       0.606\n",
       "zip_98055                0.1540      0.016      9.409      0.000       0.122       0.186\n",
       "zip_98056                0.3255      0.015     22.355      0.000       0.297       0.354\n",
       "zip_98058                0.1677      0.014     11.922      0.000       0.140       0.195\n",
       "zip_98059                0.3338      0.014     23.441      0.000       0.306       0.362\n",
       "zip_98065                0.4031      0.016     25.559      0.000       0.372       0.434\n",
       "zip_98070                0.2989      0.022     13.846      0.000       0.257       0.341\n",
       "zip_98072                0.4661      0.016     28.526      0.000       0.434       0.498\n",
       "zip_98074                0.5454      0.014     37.697      0.000       0.517       0.574\n",
       "zip_98075                0.5456      0.015     35.476      0.000       0.515       0.576\n",
       "zip_98077                0.4092      0.018     22.716      0.000       0.374       0.444\n",
       "zip_98092                0.0151      0.015      1.001      0.317      -0.014       0.045\n",
       "zip_98102                1.0097      0.023     43.606      0.000       0.964       1.055\n",
       "zip_98103                0.8970      0.014     63.743      0.000       0.869       0.925\n",
       "zip_98105                0.9876      0.018     55.725      0.000       0.953       1.022\n",
       "zip_98106                0.3831      0.016     24.567      0.000       0.353       0.414\n",
       "zip_98107                0.9118      0.017     54.360      0.000       0.879       0.945\n",
       "zip_98108                0.3945      0.018     21.644      0.000       0.359       0.430\n",
       "zip_98109                1.0377      0.023     45.884      0.000       0.993       1.082\n",
       "zip_98112                1.0952      0.017     65.812      0.000       1.063       1.128\n",
       "zip_98115                0.8531      0.014     61.991      0.000       0.826       0.880\n",
       "zip_98116                0.8025      0.016     51.358      0.000       0.772       0.833\n",
       "zip_98117                0.8637      0.014     61.756      0.000       0.836       0.891\n",
       "zip_98118                0.5015      0.014     35.603      0.000       0.474       0.529\n",
       "zip_98119                1.0449      0.019     56.261      0.000       1.008       1.081\n",
       "zip_98122                0.8598      0.016     52.907      0.000       0.828       0.892\n",
       "zip_98125                0.5840      0.015     39.649      0.000       0.555       0.613\n",
       "zip_98126                0.5948      0.015     38.556      0.000       0.565       0.625\n",
       "zip_98133                0.4889      0.014     34.795      0.000       0.461       0.516\n",
       "zip_98136                0.7328      0.017     44.318      0.000       0.700       0.765\n",
       "zip_98144                0.7316      0.016     46.618      0.000       0.701       0.762\n",
       "zip_98146                0.3001      0.016     19.044      0.000       0.269       0.331\n",
       "zip_98148                0.1463      0.029      4.974      0.000       0.089       0.204\n",
       "zip_98155                0.4393      0.014     30.539      0.000       0.411       0.468\n",
       "zip_98166                0.3127      0.016     18.977      0.000       0.280       0.345\n",
       "zip_98168                0.0828      0.016      5.059      0.000       0.051       0.115\n",
       "zip_98177                0.6082      0.016     37.241      0.000       0.576       0.640\n",
       "zip_98178                0.1659      0.016     10.136      0.000       0.134       0.198\n",
       "zip_98188                0.1070      0.020      5.283      0.000       0.067       0.147\n",
       "zip_98198                0.0760      0.016      4.691      0.000       0.044       0.108\n",
       "zip_98199                0.8882      0.016     56.748      0.000       0.857       0.919\n",
       "==============================================================================\n",
       "Omnibus:                     1232.563   Durbin-Watson:                   2.006\n",
       "Prob(Omnibus):                  0.000   Jarque-Bera (JB):             5142.742\n",
       "Skew:                          -0.238   Prob(JB):                         0.00\n",
       "Kurtosis:                       5.629   Cond. No.                     8.88e+03\n",
       "==============================================================================\n",
       "\n",
       "Warnings:\n",
       "[1] Standard Errors assume that the covariance matrix of the errors is correctly specified.\n",
       "[2] The condition number is large, 8.88e+03. This might indicate that there are\n",
       "strong multicollinearity or other numerical problems.\n",
       "\"\"\""
      ]
     },
     "execution_count": 316,
     "metadata": {},
     "output_type": "execute_result"
    }
   ],
   "source": [
    "f = 'log_price~' + f_list\n",
    "model2 = ols(formula=f, data=features).fit()\n",
    "model2.summary()"
   ]
  },
  {
   "cell_type": "code",
   "execution_count": null,
   "metadata": {},
   "outputs": [],
   "source": [
    "df['log_sqft_living15'] = df['sqft_living15'].apply(lambda x: np.log(x))"
   ]
  },
  {
   "cell_type": "code",
   "execution_count": null,
   "metadata": {},
   "outputs": [],
   "source": [
    "df.plot.scatter('log_sqft_living', 'log_price')"
   ]
  },
  {
   "cell_type": "code",
   "execution_count": null,
   "metadata": {},
   "outputs": [],
   "source": [
    "df.plot.scatter('sqft_living', 'price')"
   ]
  },
  {
   "cell_type": "code",
   "execution_count": null,
   "metadata": {},
   "outputs": [],
   "source": [
    "df.plot.scatter('sqft_living15', 'log_price')"
   ]
  },
  {
   "cell_type": "code",
   "execution_count": null,
   "metadata": {},
   "outputs": [],
   "source": [
    "features.columns"
   ]
  },
  {
   "cell_type": "code",
   "execution_count": null,
   "metadata": {},
   "outputs": [],
   "source": [
    "df['log_sqft_living15'].corr(df_dummied['log_sqft_living'])"
   ]
  },
  {
   "cell_type": "markdown",
   "metadata": {},
   "source": [
    "# TRAIN-TEST SPLIT!!!"
   ]
  },
  {
   "cell_type": "code",
   "execution_count": 168,
   "metadata": {
    "scrolled": true
   },
   "outputs": [
    {
     "data": {
      "text/plain": [
       "Index(['bedrooms', 'bathrooms', 'waterfront', 'log_living_bed_ratio',\n",
       "       'bed_bath_ratio', 'log_sqft_lot', 'log_sqft_yard', 'log_sqft_living',\n",
       "       'grade_3', 'grade_4', 'grade_5', 'grade_6', 'grade_7', 'grade_8',\n",
       "       'grade_9', 'grade_10', 'grade_11', 'grade_12', 'grade_13', 'view_1',\n",
       "       'view_2', 'view_3', 'view_4', 'condition_2', 'condition_3',\n",
       "       'condition_4', 'condition_5', 'floors_1_half', 'floors_2',\n",
       "       'floors_2_half', 'floors_3', 'floors_3_half', 'log_sqft_living15',\n",
       "       'has_basement', 'log_price'],\n",
       "      dtype='object')"
      ]
     },
     "execution_count": 168,
     "metadata": {},
     "output_type": "execute_result"
    }
   ],
   "source": [
    "features.columns"
   ]
  },
  {
   "cell_type": "code",
   "execution_count": 217,
   "metadata": {},
   "outputs": [
    {
     "ename": "KeyError",
     "evalue": "'floors'",
     "output_type": "error",
     "traceback": [
      "\u001b[0;31m---------------------------------------------------------------------------\u001b[0m",
      "\u001b[0;31mKeyError\u001b[0m                                  Traceback (most recent call last)",
      "\u001b[0;32m/opt/anaconda3/envs/learn-env/lib/python3.6/site-packages/pandas/core/indexes/base.py\u001b[0m in \u001b[0;36mget_loc\u001b[0;34m(self, key, method, tolerance)\u001b[0m\n\u001b[1;32m   2645\u001b[0m             \u001b[0;32mtry\u001b[0m\u001b[0;34m:\u001b[0m\u001b[0;34m\u001b[0m\u001b[0;34m\u001b[0m\u001b[0m\n\u001b[0;32m-> 2646\u001b[0;31m                 \u001b[0;32mreturn\u001b[0m \u001b[0mself\u001b[0m\u001b[0;34m.\u001b[0m\u001b[0m_engine\u001b[0m\u001b[0;34m.\u001b[0m\u001b[0mget_loc\u001b[0m\u001b[0;34m(\u001b[0m\u001b[0mkey\u001b[0m\u001b[0;34m)\u001b[0m\u001b[0;34m\u001b[0m\u001b[0;34m\u001b[0m\u001b[0m\n\u001b[0m\u001b[1;32m   2647\u001b[0m             \u001b[0;32mexcept\u001b[0m \u001b[0mKeyError\u001b[0m\u001b[0;34m:\u001b[0m\u001b[0;34m\u001b[0m\u001b[0;34m\u001b[0m\u001b[0m\n",
      "\u001b[0;32mpandas/_libs/index.pyx\u001b[0m in \u001b[0;36mpandas._libs.index.IndexEngine.get_loc\u001b[0;34m()\u001b[0m\n",
      "\u001b[0;32mpandas/_libs/index.pyx\u001b[0m in \u001b[0;36mpandas._libs.index.IndexEngine.get_loc\u001b[0;34m()\u001b[0m\n",
      "\u001b[0;32mpandas/_libs/hashtable_class_helper.pxi\u001b[0m in \u001b[0;36mpandas._libs.hashtable.PyObjectHashTable.get_item\u001b[0;34m()\u001b[0m\n",
      "\u001b[0;32mpandas/_libs/hashtable_class_helper.pxi\u001b[0m in \u001b[0;36mpandas._libs.hashtable.PyObjectHashTable.get_item\u001b[0;34m()\u001b[0m\n",
      "\u001b[0;31mKeyError\u001b[0m: 'floors'",
      "\nDuring handling of the above exception, another exception occurred:\n",
      "\u001b[0;31mKeyError\u001b[0m                                  Traceback (most recent call last)",
      "\u001b[0;32m<ipython-input-217-2707dc6ebcd1>\u001b[0m in \u001b[0;36m<module>\u001b[0;34m\u001b[0m\n\u001b[0;32m----> 1\u001b[0;31m \u001b[0mdf\u001b[0m\u001b[0;34m[\u001b[0m\u001b[0;34m'floors'\u001b[0m\u001b[0;34m]\u001b[0m\u001b[0;34m\u001b[0m\u001b[0;34m\u001b[0m\u001b[0m\n\u001b[0m",
      "\u001b[0;32m/opt/anaconda3/envs/learn-env/lib/python3.6/site-packages/pandas/core/frame.py\u001b[0m in \u001b[0;36m__getitem__\u001b[0;34m(self, key)\u001b[0m\n\u001b[1;32m   2798\u001b[0m             \u001b[0;32mif\u001b[0m \u001b[0mself\u001b[0m\u001b[0;34m.\u001b[0m\u001b[0mcolumns\u001b[0m\u001b[0;34m.\u001b[0m\u001b[0mnlevels\u001b[0m \u001b[0;34m>\u001b[0m \u001b[0;36m1\u001b[0m\u001b[0;34m:\u001b[0m\u001b[0;34m\u001b[0m\u001b[0;34m\u001b[0m\u001b[0m\n\u001b[1;32m   2799\u001b[0m                 \u001b[0;32mreturn\u001b[0m \u001b[0mself\u001b[0m\u001b[0;34m.\u001b[0m\u001b[0m_getitem_multilevel\u001b[0m\u001b[0;34m(\u001b[0m\u001b[0mkey\u001b[0m\u001b[0;34m)\u001b[0m\u001b[0;34m\u001b[0m\u001b[0;34m\u001b[0m\u001b[0m\n\u001b[0;32m-> 2800\u001b[0;31m             \u001b[0mindexer\u001b[0m \u001b[0;34m=\u001b[0m \u001b[0mself\u001b[0m\u001b[0;34m.\u001b[0m\u001b[0mcolumns\u001b[0m\u001b[0;34m.\u001b[0m\u001b[0mget_loc\u001b[0m\u001b[0;34m(\u001b[0m\u001b[0mkey\u001b[0m\u001b[0;34m)\u001b[0m\u001b[0;34m\u001b[0m\u001b[0;34m\u001b[0m\u001b[0m\n\u001b[0m\u001b[1;32m   2801\u001b[0m             \u001b[0;32mif\u001b[0m \u001b[0mis_integer\u001b[0m\u001b[0;34m(\u001b[0m\u001b[0mindexer\u001b[0m\u001b[0;34m)\u001b[0m\u001b[0;34m:\u001b[0m\u001b[0;34m\u001b[0m\u001b[0;34m\u001b[0m\u001b[0m\n\u001b[1;32m   2802\u001b[0m                 \u001b[0mindexer\u001b[0m \u001b[0;34m=\u001b[0m \u001b[0;34m[\u001b[0m\u001b[0mindexer\u001b[0m\u001b[0;34m]\u001b[0m\u001b[0;34m\u001b[0m\u001b[0;34m\u001b[0m\u001b[0m\n",
      "\u001b[0;32m/opt/anaconda3/envs/learn-env/lib/python3.6/site-packages/pandas/core/indexes/base.py\u001b[0m in \u001b[0;36mget_loc\u001b[0;34m(self, key, method, tolerance)\u001b[0m\n\u001b[1;32m   2646\u001b[0m                 \u001b[0;32mreturn\u001b[0m \u001b[0mself\u001b[0m\u001b[0;34m.\u001b[0m\u001b[0m_engine\u001b[0m\u001b[0;34m.\u001b[0m\u001b[0mget_loc\u001b[0m\u001b[0;34m(\u001b[0m\u001b[0mkey\u001b[0m\u001b[0;34m)\u001b[0m\u001b[0;34m\u001b[0m\u001b[0;34m\u001b[0m\u001b[0m\n\u001b[1;32m   2647\u001b[0m             \u001b[0;32mexcept\u001b[0m \u001b[0mKeyError\u001b[0m\u001b[0;34m:\u001b[0m\u001b[0;34m\u001b[0m\u001b[0;34m\u001b[0m\u001b[0m\n\u001b[0;32m-> 2648\u001b[0;31m                 \u001b[0;32mreturn\u001b[0m \u001b[0mself\u001b[0m\u001b[0;34m.\u001b[0m\u001b[0m_engine\u001b[0m\u001b[0;34m.\u001b[0m\u001b[0mget_loc\u001b[0m\u001b[0;34m(\u001b[0m\u001b[0mself\u001b[0m\u001b[0;34m.\u001b[0m\u001b[0m_maybe_cast_indexer\u001b[0m\u001b[0;34m(\u001b[0m\u001b[0mkey\u001b[0m\u001b[0;34m)\u001b[0m\u001b[0;34m)\u001b[0m\u001b[0;34m\u001b[0m\u001b[0;34m\u001b[0m\u001b[0m\n\u001b[0m\u001b[1;32m   2649\u001b[0m         \u001b[0mindexer\u001b[0m \u001b[0;34m=\u001b[0m \u001b[0mself\u001b[0m\u001b[0;34m.\u001b[0m\u001b[0mget_indexer\u001b[0m\u001b[0;34m(\u001b[0m\u001b[0;34m[\u001b[0m\u001b[0mkey\u001b[0m\u001b[0;34m]\u001b[0m\u001b[0;34m,\u001b[0m \u001b[0mmethod\u001b[0m\u001b[0;34m=\u001b[0m\u001b[0mmethod\u001b[0m\u001b[0;34m,\u001b[0m \u001b[0mtolerance\u001b[0m\u001b[0;34m=\u001b[0m\u001b[0mtolerance\u001b[0m\u001b[0;34m)\u001b[0m\u001b[0;34m\u001b[0m\u001b[0;34m\u001b[0m\u001b[0m\n\u001b[1;32m   2650\u001b[0m         \u001b[0;32mif\u001b[0m \u001b[0mindexer\u001b[0m\u001b[0;34m.\u001b[0m\u001b[0mndim\u001b[0m \u001b[0;34m>\u001b[0m \u001b[0;36m1\u001b[0m \u001b[0;32mor\u001b[0m \u001b[0mindexer\u001b[0m\u001b[0;34m.\u001b[0m\u001b[0msize\u001b[0m \u001b[0;34m>\u001b[0m \u001b[0;36m1\u001b[0m\u001b[0;34m:\u001b[0m\u001b[0;34m\u001b[0m\u001b[0;34m\u001b[0m\u001b[0m\n",
      "\u001b[0;32mpandas/_libs/index.pyx\u001b[0m in \u001b[0;36mpandas._libs.index.IndexEngine.get_loc\u001b[0;34m()\u001b[0m\n",
      "\u001b[0;32mpandas/_libs/index.pyx\u001b[0m in \u001b[0;36mpandas._libs.index.IndexEngine.get_loc\u001b[0;34m()\u001b[0m\n",
      "\u001b[0;32mpandas/_libs/hashtable_class_helper.pxi\u001b[0m in \u001b[0;36mpandas._libs.hashtable.PyObjectHashTable.get_item\u001b[0;34m()\u001b[0m\n",
      "\u001b[0;32mpandas/_libs/hashtable_class_helper.pxi\u001b[0m in \u001b[0;36mpandas._libs.hashtable.PyObjectHashTable.get_item\u001b[0;34m()\u001b[0m\n",
      "\u001b[0;31mKeyError\u001b[0m: 'floors'"
     ]
    }
   ],
   "source": [
    "df['floors']"
   ]
  },
  {
   "cell_type": "code",
   "execution_count": 218,
   "metadata": {},
   "outputs": [
    {
     "data": {
      "text/plain": [
       "count    17286.000000\n",
       "mean         8.745708\n",
       "std          1.044236\n",
       "min          3.075775\n",
       "25%          8.244794\n",
       "50%          8.725751\n",
       "75%          9.115590\n",
       "max         14.316322\n",
       "Name: log_sqft_yard, dtype: float64"
      ]
     },
     "execution_count": 218,
     "metadata": {},
     "output_type": "execute_result"
    }
   ],
   "source": [
    "features['log_sqft_yard'].describe()"
   ]
  },
  {
   "cell_type": "code",
   "execution_count": 275,
   "metadata": {
    "scrolled": false
   },
   "outputs": [],
   "source": [
    "features['log_sqft_yard'].fillna(features['log_sqft_yard'].median(), inplace=True)"
   ]
  },
  {
   "cell_type": "code",
   "execution_count": 278,
   "metadata": {},
   "outputs": [
    {
     "data": {
      "text/plain": [
       "0"
      ]
     },
     "execution_count": 278,
     "metadata": {},
     "output_type": "execute_result"
    }
   ],
   "source": [
    "features['log_sqft_yard'].isna().sum()"
   ]
  },
  {
   "cell_type": "code",
   "execution_count": 193,
   "metadata": {
    "scrolled": true
   },
   "outputs": [
    {
     "data": {
      "text/plain": [
       "9.513403546466266"
      ]
     },
     "execution_count": 193,
     "metadata": {},
     "output_type": "execute_result"
    }
   ],
   "source": [
    "features['log_sqft_living'].max()"
   ]
  },
  {
   "cell_type": "code",
   "execution_count": 290,
   "metadata": {},
   "outputs": [],
   "source": [
    "Y = features.log_price\n",
    "feature_cols = ['bedrooms', 'bathrooms', 'waterfront', 'log_living_bed_ratio',\n",
    "       'log_sqft_lot', 'log_sqft_yard']\n",
    "X=features[feature_cols]\n",
    "from sklearn.model_selection import train_test_split\n",
    "x_train,x_test,y_train,y_test = train_test_split(X, Y, random_state=3)"
   ]
  },
  {
   "cell_type": "code",
   "execution_count": 291,
   "metadata": {},
   "outputs": [
    {
     "data": {
      "text/plain": [
       "LinearRegression(copy_X=True, fit_intercept=True, n_jobs=1, normalize=False)"
      ]
     },
     "execution_count": 291,
     "metadata": {},
     "output_type": "execute_result"
    }
   ],
   "source": [
    "from sklearn.linear_model import LinearRegression\n",
    "regressor = LinearRegression()\n",
    "regressor.fit(x_train, y_train)\n",
    "LinearRegression(copy_X=True, fit_intercept=True, n_jobs=1, normalize=False)"
   ]
  },
  {
   "cell_type": "code",
   "execution_count": 292,
   "metadata": {},
   "outputs": [
    {
     "data": {
      "text/plain": [
       "'Accuracy: 41%'"
      ]
     },
     "execution_count": 292,
     "metadata": {},
     "output_type": "execute_result"
    }
   ],
   "source": [
    "accuracy = regressor.score(x_test, y_test)\n",
    "\"Accuracy: {}%\".format(int(round(accuracy * 100)))"
   ]
  },
  {
   "cell_type": "code",
   "execution_count": 296,
   "metadata": {},
   "outputs": [],
   "source": [
    "Y = features.log_price\n",
    "feature_cols = features_list\n",
    "X=features[feature_cols]\n",
    "from sklearn.model_selection import train_test_split\n",
    "x_train,x_test,y_train,y_test = train_test_split(X, Y, random_state=3)\n"
   ]
  },
  {
   "cell_type": "code",
   "execution_count": 297,
   "metadata": {},
   "outputs": [],
   "source": [
    "target = features['log_price']\n",
    "X_train, X_test, y_train, y_test = train_test_split(features[feature_cols], target, random_state=20,test_size=0.2)"
   ]
  },
  {
   "cell_type": "code",
   "execution_count": 298,
   "metadata": {},
   "outputs": [],
   "source": [
    "scaler = StandardScaler()\n",
    "scaler.fit(X_train)\n",
    "X_train =pd.DataFrame(data=scaler.transform(X_train), columns=feature_cols)\n",
    "X_test =pd.DataFrame(data=scaler.transform(X_test), columns=feature_cols)"
   ]
  },
  {
   "cell_type": "code",
   "execution_count": 299,
   "metadata": {},
   "outputs": [
    {
     "name": "stdout",
     "output_type": "stream",
     "text": [
      "Training Root Mean Squared Error: 0.17800901828046325\n",
      "Testing Root Mean Squared Error: 0.18357130038675815\n",
      "Training:  0.17800901828046325 vs. Testing:  0.18357130038675815\n"
     ]
    }
   ],
   "source": [
    "#instantiate a linear regression object\n",
    "lm = LinearRegression()\n",
    "\n",
    "#fit the linear regression to the data\n",
    "lm = lm.fit(X_train, y_train)\n",
    "\n",
    "y_train_pred = lm.predict(X_train)\n",
    "\n",
    "\n",
    "train_rmse = np.sqrt(metrics.mean_squared_error(y_train, y_train_pred))\n",
    "\n",
    "\n",
    "print('Training Root Mean Squared Error:' , train_rmse)\n",
    "\n",
    "y_pred = lm.predict(X_test)\n",
    "\n",
    "test_rmse = np.sqrt(metrics.mean_squared_error(y_test, y_pred))\n",
    "\n",
    "print('Testing Root Mean Squared Error:' , test_rmse)\n",
    "\n",
    "\n",
    "print('Training: ', train_rmse, \"vs. Testing: \", test_rmse)"
   ]
  },
  {
   "cell_type": "code",
   "execution_count": 322,
   "metadata": {},
   "outputs": [
    {
     "name": "stdout",
     "output_type": "stream",
     "text": [
      "Training Error: 0.14252314366213187\n",
      "Testing Error: 0.1985714583841003\n"
     ]
    },
    {
     "data": {
      "text/plain": [
       "<matplotlib.axes._subplots.AxesSubplot at 0x12d157278>"
      ]
     },
     "execution_count": 322,
     "metadata": {},
     "output_type": "execute_result"
    },
    {
     "data": {
      "image/png": "[encoded data removed]",
      "text/plain": [
       "<Figure size 1152x576 with 1 Axes>"
      ]
     },
     "metadata": {},
     "output_type": "display_data"
    }
   ],
   "source": [
    "## training the model\n",
    "from sklearn.linear_model import Lasso\n",
    "\n",
    "lasso = Lasso(alpha=.005, normalize=False)\n",
    "\n",
    "lasso.fit(X_train,y_train)\n",
    "\n",
    "y_train_pred_lasso = lasso.predict(X_train)\n",
    "y_pred_lasso = lasso.predict(X_test)\n",
    "\n",
    "train_rmse = metrics.mean_absolute_error(y_train, y_train_pred_lasso)\n",
    "test_rmse = np.sqrt(metrics.mean_squared_error(y_test, y_pred_lasso))\n",
    "print('Training Error: '+ str(train_rmse) )\n",
    "print('Testing Error: '+ str(test_rmse) )\n",
    "\n",
    "lasso_coef01 = pd.DataFrame(data=lasso.coef_).T\n",
    "lasso_coef01.columns = X_train.columns\n",
    "lasso_coef01 = lasso_coef01.T.sort_values(by=0).T\n",
    "lasso_coef01.plot(kind='bar', title='Modal Coefficients', legend=False, figsize=(16,8))"
   ]
  },
  {
   "cell_type": "code",
   "execution_count": 311,
   "metadata": {},
   "outputs": [
    {
     "data": {
      "text/html": [
       "<div>\n",
       "<style scoped>\n",
       "    .dataframe tbody tr th:only-of-type {\n",
       "        vertical-align: middle;\n",
       "    }\n",
       "\n",
       "    .dataframe tbody tr th {\n",
       "        vertical-align: top;\n",
       "    }\n",
       "\n",
       "    .dataframe thead th {\n",
       "        text-align: right;\n",
       "    }\n",
       "</style>\n",
       "<table border=\"1\" class=\"dataframe\">\n",
       "  <thead>\n",
       "    <tr style=\"text-align: right;\">\n",
       "      <th></th>\n",
       "      <th>0</th>\n",
       "    </tr>\n",
       "  </thead>\n",
       "  <tbody>\n",
       "    <tr>\n",
       "      <th>zip_98023</th>\n",
       "      <td>-0.064947</td>\n",
       "    </tr>\n",
       "    <tr>\n",
       "      <th>zip_98042</th>\n",
       "      <td>-0.049383</td>\n",
       "    </tr>\n",
       "    <tr>\n",
       "      <th>zip_98092</th>\n",
       "      <td>-0.043468</td>\n",
       "    </tr>\n",
       "    <tr>\n",
       "      <th>zip_98003</th>\n",
       "      <td>-0.040747</td>\n",
       "    </tr>\n",
       "    <tr>\n",
       "      <th>zip_98038</th>\n",
       "      <td>-0.037927</td>\n",
       "    </tr>\n",
       "    <tr>\n",
       "      <th>...</th>\n",
       "      <td>...</td>\n",
       "    </tr>\n",
       "    <tr>\n",
       "      <th>zip_98103</th>\n",
       "      <td>0.049480</td>\n",
       "    </tr>\n",
       "    <tr>\n",
       "      <th>zip_98112</th>\n",
       "      <td>0.054193</td>\n",
       "    </tr>\n",
       "    <tr>\n",
       "      <th>zip_98004</th>\n",
       "      <td>0.067315</td>\n",
       "    </tr>\n",
       "    <tr>\n",
       "      <th>log_sqft_living15</th>\n",
       "      <td>0.070245</td>\n",
       "    </tr>\n",
       "    <tr>\n",
       "      <th>log_sqft_living</th>\n",
       "      <td>0.174099</td>\n",
       "    </tr>\n",
       "  </tbody>\n",
       "</table>\n",
       "<p>104 rows × 1 columns</p>\n",
       "</div>"
      ],
      "text/plain": [
       "                          0\n",
       "zip_98023         -0.064947\n",
       "zip_98042         -0.049383\n",
       "zip_98092         -0.043468\n",
       "zip_98003         -0.040747\n",
       "zip_98038         -0.037927\n",
       "...                     ...\n",
       "zip_98103          0.049480\n",
       "zip_98112          0.054193\n",
       "zip_98004          0.067315\n",
       "log_sqft_living15  0.070245\n",
       "log_sqft_living    0.174099\n",
       "\n",
       "[104 rows x 1 columns]"
      ]
     },
     "execution_count": 311,
     "metadata": {},
     "output_type": "execute_result"
    }
   ],
   "source": [
    "coefficient = lasso_coef01.T\n",
    "coefficient"
   ]
  },
  {
   "cell_type": "code",
   "execution_count": 315,
   "metadata": {},
   "outputs": [
    {
     "data": {
      "text/html": [
       "<div>\n",
       "<style scoped>\n",
       "    .dataframe tbody tr th:only-of-type {\n",
       "        vertical-align: middle;\n",
       "    }\n",
       "\n",
       "    .dataframe tbody tr th {\n",
       "        vertical-align: top;\n",
       "    }\n",
       "\n",
       "    .dataframe thead th {\n",
       "        text-align: right;\n",
       "    }\n",
       "</style>\n",
       "<table border=\"1\" class=\"dataframe\">\n",
       "  <thead>\n",
       "    <tr style=\"text-align: right;\">\n",
       "      <th></th>\n",
       "      <th>0</th>\n",
       "    </tr>\n",
       "  </thead>\n",
       "  <tbody>\n",
       "    <tr>\n",
       "      <th>zip_98024</th>\n",
       "      <td>0.0</td>\n",
       "    </tr>\n",
       "    <tr>\n",
       "      <th>zip_98014</th>\n",
       "      <td>-0.0</td>\n",
       "    </tr>\n",
       "    <tr>\n",
       "      <th>zip_98011</th>\n",
       "      <td>-0.0</td>\n",
       "    </tr>\n",
       "    <tr>\n",
       "      <th>zip_98010</th>\n",
       "      <td>-0.0</td>\n",
       "    </tr>\n",
       "    <tr>\n",
       "      <th>zip_98028</th>\n",
       "      <td>-0.0</td>\n",
       "    </tr>\n",
       "    <tr>\n",
       "      <th>zip_98065</th>\n",
       "      <td>-0.0</td>\n",
       "    </tr>\n",
       "    <tr>\n",
       "      <th>zip_98070</th>\n",
       "      <td>-0.0</td>\n",
       "    </tr>\n",
       "    <tr>\n",
       "      <th>zip_98072</th>\n",
       "      <td>0.0</td>\n",
       "    </tr>\n",
       "    <tr>\n",
       "      <th>zip_98027</th>\n",
       "      <td>0.0</td>\n",
       "    </tr>\n",
       "    <tr>\n",
       "      <th>bedrooms</th>\n",
       "      <td>-0.0</td>\n",
       "    </tr>\n",
       "    <tr>\n",
       "      <th>log_sqft_basement</th>\n",
       "      <td>0.0</td>\n",
       "    </tr>\n",
       "    <tr>\n",
       "      <th>bed_bath_ratio</th>\n",
       "      <td>-0.0</td>\n",
       "    </tr>\n",
       "    <tr>\n",
       "      <th>log_sqft_yard</th>\n",
       "      <td>0.0</td>\n",
       "    </tr>\n",
       "    <tr>\n",
       "      <th>grade_3</th>\n",
       "      <td>-0.0</td>\n",
       "    </tr>\n",
       "    <tr>\n",
       "      <th>grade_4</th>\n",
       "      <td>-0.0</td>\n",
       "    </tr>\n",
       "    <tr>\n",
       "      <th>grade_8</th>\n",
       "      <td>0.0</td>\n",
       "    </tr>\n",
       "    <tr>\n",
       "      <th>zip_98155</th>\n",
       "      <td>-0.0</td>\n",
       "    </tr>\n",
       "    <tr>\n",
       "      <th>zip_98133</th>\n",
       "      <td>0.0</td>\n",
       "    </tr>\n",
       "    <tr>\n",
       "      <th>has_basement</th>\n",
       "      <td>0.0</td>\n",
       "    </tr>\n",
       "    <tr>\n",
       "      <th>zip_98108</th>\n",
       "      <td>-0.0</td>\n",
       "    </tr>\n",
       "    <tr>\n",
       "      <th>zip_98118</th>\n",
       "      <td>0.0</td>\n",
       "    </tr>\n",
       "    <tr>\n",
       "      <th>condition_4</th>\n",
       "      <td>0.0</td>\n",
       "    </tr>\n",
       "    <tr>\n",
       "      <th>floors_2</th>\n",
       "      <td>-0.0</td>\n",
       "    </tr>\n",
       "    <tr>\n",
       "      <th>floors_2_half</th>\n",
       "      <td>0.0</td>\n",
       "    </tr>\n",
       "    <tr>\n",
       "      <th>zip_98045</th>\n",
       "      <td>-0.0</td>\n",
       "    </tr>\n",
       "    <tr>\n",
       "      <th>floors_3_half</th>\n",
       "      <td>0.0</td>\n",
       "    </tr>\n",
       "    <tr>\n",
       "      <th>zip_98077</th>\n",
       "      <td>0.0</td>\n",
       "    </tr>\n",
       "    <tr>\n",
       "      <th>floors_3</th>\n",
       "      <td>-0.0</td>\n",
       "    </tr>\n",
       "  </tbody>\n",
       "</table>\n",
       "</div>"
      ],
      "text/plain": [
       "                     0\n",
       "zip_98024          0.0\n",
       "zip_98014         -0.0\n",
       "zip_98011         -0.0\n",
       "zip_98010         -0.0\n",
       "zip_98028         -0.0\n",
       "zip_98065         -0.0\n",
       "zip_98070         -0.0\n",
       "zip_98072          0.0\n",
       "zip_98027          0.0\n",
       "bedrooms          -0.0\n",
       "log_sqft_basement  0.0\n",
       "bed_bath_ratio    -0.0\n",
       "log_sqft_yard      0.0\n",
       "grade_3           -0.0\n",
       "grade_4           -0.0\n",
       "grade_8            0.0\n",
       "zip_98155         -0.0\n",
       "zip_98133          0.0\n",
       "has_basement       0.0\n",
       "zip_98108         -0.0\n",
       "zip_98118          0.0\n",
       "condition_4        0.0\n",
       "floors_2          -0.0\n",
       "floors_2_half      0.0\n",
       "zip_98045         -0.0\n",
       "floors_3_half      0.0\n",
       "zip_98077          0.0\n",
       "floors_3          -0.0"
      ]
     },
     "execution_count": 315,
     "metadata": {},
     "output_type": "execute_result"
    }
   ],
   "source": [
    "coefficient[coefficient[0] == 0]"
   ]
  },
  {
   "cell_type": "code",
   "execution_count": 302,
   "metadata": {},
   "outputs": [
    {
     "data": {
      "text/plain": [
       "<matplotlib.axes._subplots.AxesSubplot at 0x142041320>"
      ]
     },
     "execution_count": 302,
     "metadata": {},
     "output_type": "execute_result"
    },
    {
     "data": {
      "image/png": "[encoded data removed]",
      "text/plain": [
       "<Figure size 792x648 with 2 Axes>"
      ]
     },
     "metadata": {},
     "output_type": "display_data"
    }
   ],
   "source": [
    "\n",
    "sns.set(style=\"white\")\n",
    "\n",
    "\n",
    "# Compute the correlation matrix\n",
    "corr = X_train.corr()\n",
    "\n",
    "# Generate a mask for the upper triangle\n",
    "mask = np.zeros_like(corr, dtype=np.bool)\n",
    "mask[np.triu_indices_from(mask)] = True\n",
    "\n",
    "# Set up the matplotlib figure\n",
    "f, ax = plt.subplots(figsize=(11, 9))\n",
    "\n",
    "# Generate a custom diverging colormap\n",
    "cmap = sns.diverging_palette(220, 10, as_cmap=True)\n",
    "\n",
    "# Draw the heatmap with the mask and correct aspect ratio\n",
    "sns.heatmap(corr, mask=mask, cmap=cmap, vmax=1, center=0,\n",
    "            square=True, linewidths=.5, cbar_kws={\"shrink\": .5})"
   ]
  },
  {
   "cell_type": "code",
   "execution_count": 303,
   "metadata": {},
   "outputs": [
    {
     "data": {
      "text/plain": [
       "104"
      ]
     },
     "execution_count": 303,
     "metadata": {},
     "output_type": "execute_result"
    }
   ],
   "source": [
    "len(features_list)"
   ]
  },
  {
   "cell_type": "code",
   "execution_count": null,
   "metadata": {},
   "outputs": [],
   "source": []
  }
 ],
 "metadata": {
  "kernelspec": {
   "display_name": "Python [conda env:learn-env] *",
   "language": "python",
   "name": "conda-env-learn-env-py"
  },
  "language_info": {
   "codemirror_mode": {
    "name": "ipython",
    "version": 3
   },
   "file_extension": ".py",
   "mimetype": "text/x-python",
   "name": "python",
   "nbconvert_exporter": "python",
   "pygments_lexer": "ipython3",
   "version": "3.6.9"
  }
 },
 "nbformat": 4,
 "nbformat_minor": 2
}
