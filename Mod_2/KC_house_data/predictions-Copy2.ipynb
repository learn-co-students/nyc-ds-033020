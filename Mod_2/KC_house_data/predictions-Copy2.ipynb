{
 "cells": [
  {
   "cell_type": "code",
   "execution_count": 2,
   "metadata": {},
   "outputs": [],
   "source": [
    "import numpy as np\n",
    "import pandas as pd \n",
    "import matplotlib.pyplot as plt\n",
    "import seaborn as sns\n",
    "%matplotlib inline\n",
    "sns.set_style('ticks')\n",
    "\n",
    "import pickle\n",
    "\n",
    "from sklearn import metrics\n",
    "from sklearn.metrics import mean_squared_error, roc_curve, roc_auc_score, accuracy_score\n",
    "from sklearn.linear_model import LinearRegression\n",
    "from sklearn.model_selection import train_test_split\n",
    "from sklearn.preprocessing import PolynomialFeatures\n",
    "from sklearn.preprocessing import StandardScaler\n",
    "import statsmodels.api as sm\n",
    "from statsmodels.formula.api import ols"
   ]
  },
  {
   "cell_type": "code",
   "execution_count": 3,
   "metadata": {},
   "outputs": [],
   "source": [
    "df = pd.read_csv('kc_house_data_test_features.csv', index_col=0)"
   ]
  },
  {
   "cell_type": "code",
   "execution_count": 4,
   "metadata": {
    "scrolled": true
   },
   "outputs": [
    {
     "data": {
      "text/html": [
       "<div>\n",
       "<style scoped>\n",
       "    .dataframe tbody tr th:only-of-type {\n",
       "        vertical-align: middle;\n",
       "    }\n",
       "\n",
       "    .dataframe tbody tr th {\n",
       "        vertical-align: top;\n",
       "    }\n",
       "\n",
       "    .dataframe thead th {\n",
       "        text-align: right;\n",
       "    }\n",
       "</style>\n",
       "<table border=\"1\" class=\"dataframe\">\n",
       "  <thead>\n",
       "    <tr style=\"text-align: right;\">\n",
       "      <th></th>\n",
       "      <th>id</th>\n",
       "      <th>date</th>\n",
       "      <th>bedrooms</th>\n",
       "      <th>bathrooms</th>\n",
       "      <th>sqft_living</th>\n",
       "      <th>sqft_lot</th>\n",
       "      <th>floors</th>\n",
       "      <th>waterfront</th>\n",
       "      <th>view</th>\n",
       "      <th>condition</th>\n",
       "      <th>grade</th>\n",
       "      <th>sqft_above</th>\n",
       "      <th>sqft_basement</th>\n",
       "      <th>yr_built</th>\n",
       "      <th>yr_renovated</th>\n",
       "      <th>zipcode</th>\n",
       "      <th>lat</th>\n",
       "      <th>long</th>\n",
       "      <th>sqft_living15</th>\n",
       "      <th>sqft_lot15</th>\n",
       "    </tr>\n",
       "  </thead>\n",
       "  <tbody>\n",
       "    <tr>\n",
       "      <th>0</th>\n",
       "      <td>1974300020</td>\n",
       "      <td>20140827T000000</td>\n",
       "      <td>4</td>\n",
       "      <td>2.50</td>\n",
       "      <td>2270</td>\n",
       "      <td>11500</td>\n",
       "      <td>1.0</td>\n",
       "      <td>0</td>\n",
       "      <td>0</td>\n",
       "      <td>3</td>\n",
       "      <td>8</td>\n",
       "      <td>1540</td>\n",
       "      <td>730</td>\n",
       "      <td>1967</td>\n",
       "      <td>0</td>\n",
       "      <td>98034</td>\n",
       "      <td>47.7089</td>\n",
       "      <td>-122.241</td>\n",
       "      <td>2020</td>\n",
       "      <td>10918</td>\n",
       "    </tr>\n",
       "    <tr>\n",
       "      <th>1</th>\n",
       "      <td>1974300020</td>\n",
       "      <td>20150218T000000</td>\n",
       "      <td>4</td>\n",
       "      <td>2.50</td>\n",
       "      <td>2270</td>\n",
       "      <td>11500</td>\n",
       "      <td>1.0</td>\n",
       "      <td>0</td>\n",
       "      <td>0</td>\n",
       "      <td>3</td>\n",
       "      <td>8</td>\n",
       "      <td>1540</td>\n",
       "      <td>730</td>\n",
       "      <td>1967</td>\n",
       "      <td>0</td>\n",
       "      <td>98034</td>\n",
       "      <td>47.7089</td>\n",
       "      <td>-122.241</td>\n",
       "      <td>2020</td>\n",
       "      <td>10918</td>\n",
       "    </tr>\n",
       "    <tr>\n",
       "      <th>2</th>\n",
       "      <td>3630020380</td>\n",
       "      <td>20141107T000000</td>\n",
       "      <td>3</td>\n",
       "      <td>2.50</td>\n",
       "      <td>1470</td>\n",
       "      <td>1779</td>\n",
       "      <td>2.0</td>\n",
       "      <td>0</td>\n",
       "      <td>0</td>\n",
       "      <td>3</td>\n",
       "      <td>8</td>\n",
       "      <td>1160</td>\n",
       "      <td>310</td>\n",
       "      <td>2005</td>\n",
       "      <td>0</td>\n",
       "      <td>98029</td>\n",
       "      <td>47.5472</td>\n",
       "      <td>-121.998</td>\n",
       "      <td>1470</td>\n",
       "      <td>1576</td>\n",
       "    </tr>\n",
       "    <tr>\n",
       "      <th>3</th>\n",
       "      <td>1771000290</td>\n",
       "      <td>20141203T000000</td>\n",
       "      <td>3</td>\n",
       "      <td>1.75</td>\n",
       "      <td>1280</td>\n",
       "      <td>16200</td>\n",
       "      <td>1.0</td>\n",
       "      <td>0</td>\n",
       "      <td>0</td>\n",
       "      <td>3</td>\n",
       "      <td>8</td>\n",
       "      <td>1030</td>\n",
       "      <td>250</td>\n",
       "      <td>1976</td>\n",
       "      <td>0</td>\n",
       "      <td>98077</td>\n",
       "      <td>47.7427</td>\n",
       "      <td>-122.071</td>\n",
       "      <td>1160</td>\n",
       "      <td>10565</td>\n",
       "    </tr>\n",
       "    <tr>\n",
       "      <th>4</th>\n",
       "      <td>5126310470</td>\n",
       "      <td>20150115T000000</td>\n",
       "      <td>4</td>\n",
       "      <td>2.75</td>\n",
       "      <td>2830</td>\n",
       "      <td>8126</td>\n",
       "      <td>2.0</td>\n",
       "      <td>0</td>\n",
       "      <td>0</td>\n",
       "      <td>3</td>\n",
       "      <td>8</td>\n",
       "      <td>2830</td>\n",
       "      <td>0</td>\n",
       "      <td>2005</td>\n",
       "      <td>0</td>\n",
       "      <td>98059</td>\n",
       "      <td>47.4863</td>\n",
       "      <td>-122.140</td>\n",
       "      <td>2830</td>\n",
       "      <td>7916</td>\n",
       "    </tr>\n",
       "  </tbody>\n",
       "</table>\n",
       "</div>"
      ],
      "text/plain": [
       "           id             date  bedrooms  bathrooms  sqft_living  sqft_lot  \\\n",
       "0  1974300020  20140827T000000         4       2.50         2270     11500   \n",
       "1  1974300020  20150218T000000         4       2.50         2270     11500   \n",
       "2  3630020380  20141107T000000         3       2.50         1470      1779   \n",
       "3  1771000290  20141203T000000         3       1.75         1280     16200   \n",
       "4  5126310470  20150115T000000         4       2.75         2830      8126   \n",
       "\n",
       "   floors  waterfront  view  condition  grade  sqft_above  sqft_basement  \\\n",
       "0     1.0           0     0          3      8        1540            730   \n",
       "1     1.0           0     0          3      8        1540            730   \n",
       "2     2.0           0     0          3      8        1160            310   \n",
       "3     1.0           0     0          3      8        1030            250   \n",
       "4     2.0           0     0          3      8        2830              0   \n",
       "\n",
       "   yr_built  yr_renovated  zipcode      lat     long  sqft_living15  \\\n",
       "0      1967             0    98034  47.7089 -122.241           2020   \n",
       "1      1967             0    98034  47.7089 -122.241           2020   \n",
       "2      2005             0    98029  47.5472 -121.998           1470   \n",
       "3      1976             0    98077  47.7427 -122.071           1160   \n",
       "4      2005             0    98059  47.4863 -122.140           2830   \n",
       "\n",
       "   sqft_lot15  \n",
       "0       10918  \n",
       "1       10918  \n",
       "2        1576  \n",
       "3       10565  \n",
       "4        7916  "
      ]
     },
     "execution_count": 4,
     "metadata": {},
     "output_type": "execute_result"
    }
   ],
   "source": [
    "df.head()"
   ]
  },
  {
   "cell_type": "code",
   "execution_count": 5,
   "metadata": {},
   "outputs": [
    {
     "data": {
      "text/plain": [
       "['bedrooms',\n",
       " 'bathrooms',\n",
       " 'sqft_living',\n",
       " 'sqft_lot',\n",
       " 'waterfront',\n",
       " 'view',\n",
       " 'sqft_above',\n",
       " 'sqft_basement',\n",
       " 'yr_renovated',\n",
       " 'long',\n",
       " 'sqft_living15',\n",
       " 'sqft_lot15']"
      ]
     },
     "execution_count": 5,
     "metadata": {},
     "output_type": "execute_result"
    }
   ],
   "source": [
    "def find_extremas(df):\n",
    "    extrema_list = []\n",
    "    for column in list(df.columns):\n",
    "        if df[column]['max'] > ( df[column]['mean']+5*df[column]['std']):\n",
    "            extrema_list.append(column)\n",
    "    return extrema_list\n",
    "\n",
    "descriptor = df.describe()\n",
    "extreme_cols = find_extremas(descriptor)\n",
    "extreme_cols"
   ]
  },
  {
   "cell_type": "code",
   "execution_count": 6,
   "metadata": {},
   "outputs": [],
   "source": [
    "def extreme(df,columns):\n",
    "    for column in columns:\n",
    "        mean = df[column].mean()\n",
    "        std = df[column].std()\n",
    "        conditions = [\n",
    "            df[column] > mean + 4*std\n",
    "        ]\n",
    "        df[column] = np.where(df[column] > mean + 5*std, mean + 5*std, df[column])"
   ]
  },
  {
   "cell_type": "code",
   "execution_count": 7,
   "metadata": {},
   "outputs": [],
   "source": [
    "extreme(df, ['sqft_living',\n",
    " 'sqft_lot', 'sqft_above',\n",
    " 'sqft_basement', 'sqft_living15',\n",
    " 'sqft_lot15'])"
   ]
  },
  {
   "cell_type": "markdown",
   "metadata": {},
   "source": [
    "# Transformations"
   ]
  },
  {
   "cell_type": "code",
   "execution_count": 8,
   "metadata": {},
   "outputs": [],
   "source": [
    "df['waterfront_view'] = df['waterfront'] * df['view']\n",
    "df['waterfront_cond'] = df['waterfront'] * df['condition']\n",
    "df['waterfront_grade'] = df['waterfront'] * df['grade']\n",
    "df['view_grade'] = df['view'] + df['grade']\n",
    "conditions = [df['bedrooms'] == 0, df['bedrooms'] > 7]\n",
    "choices = [1, 7]\n",
    "\n",
    "df['bedrooms'] = np.select(conditions, choices, df['bedrooms'])\n",
    "conditions = [df['bathrooms'] <= 1, df['bathrooms'] <= 1.75,\n",
    "              df['bathrooms'] <= 2, df['bathrooms'] <= 2.75,\n",
    "              df['bathrooms'] <= 3, df['bathrooms'] <= 3.75,\n",
    "              df['bathrooms'] <= 4, df['bathrooms'] <= 4.75]\n",
    "choices = [1, 1.5, 2, 2.5, 3, 3.5, 4, 4.5]\n",
    "\n",
    "df['bathrooms'] = np.select(conditions, choices, 5)\n",
    "\n",
    "df['bed_bath_ratio'] = df['bedrooms'] / df['bathrooms']\n",
    "\n",
    "df['living_bed_ratio'] = df['sqft_living'] / df['bedrooms']\n",
    "df['living_bed_ratio'] = np.where(df['living_bed_ratio'] == np.inf,\n",
    "                                  df['living_bed_ratio'].min(), df['living_bed_ratio'])\n",
    "\n",
    "df['log_living_bed_ratio'] = df['living_bed_ratio'].apply(lambda x: np.log(x))\n",
    "\n",
    "df['log_sqft_lot'] = df['sqft_lot'].apply(lambda x: np.log(x))\n",
    "\n",
    "df['sqft_yard'] = df['sqft_lot'] - (df['sqft_living'] / df['floors'])\n",
    "df['sqft_yard'] = np.where(df['sqft_yard'] < 0, df['sqft_yard'].median(), df['sqft_yard'])\n",
    "df['sqft_yard'].min(), df['sqft_yard'].max()\n",
    "\n",
    "df['log_sqft_yard'] = df['sqft_yard'].apply(lambda x: np.log(x))\n",
    "\n",
    "df['log_sqft_living'] = df['sqft_living'].apply(lambda x: np.log(x))\n",
    "\n",
    "df['yr_built_reno'] = np.where(df['yr_renovated'] == 0, df['yr_built'], df['yr_renovated'])\n",
    "\n",
    "df['since_built_reno'] = df['yr_built_reno'].apply(lambda x: 2015 - x)\n",
    "\n",
    "df['log_sqft_living15'] = df['sqft_living15'].apply(lambda x: np.log(x))\n",
    "\n",
    "df['log_sqft_basement'] = df['sqft_basement'].apply(lambda x: np.log(x))\n",
    "\n",
    "df['has_basement'] = np.where(df['sqft_basement'] == 0, 0, 1)\n",
    "\n",
    "columns = ['bedrooms', 'bathrooms', 'floors', 'view', 'condition', 'grade', 'zipcode','view_grade']\n",
    "df = pd.get_dummies(data=df, columns=columns, prefix=columns, drop_first=True)\n",
    "df.columns\n",
    "\n",
    "floor_dict = {\n",
    "            'floors_1.5': 'floors_1_half',\n",
    "            'floors_2.0': 'floors_2',\n",
    "            'floors_2.5': 'floors_2_half',\n",
    "            'floors_3.0': 'floors_3',\n",
    "            'floors_3.5': 'floors_3_half'\n",
    "}\n",
    "\n",
    "df = df.rename(columns=floor_dict)\n",
    "\n",
    "bath_dict = {\n",
    "            'bathrooms_1.0': 'bathrooms_1',\n",
    "            'bathrooms_1.5': 'bathrooms_1_half',\n",
    "            'bathrooms_2.0': 'bathrooms_2',\n",
    "            'bathrooms_2.5': 'bathrooms_2_half',\n",
    "            'bathrooms_3.0': 'bathrooms_3',\n",
    "            'bathrooms_3.5': 'bathrooms_3_half',\n",
    "            'bathrooms_4.0': 'bathrooms_4',\n",
    "            'bathrooms_4.5': 'bathrooms_4_half',\n",
    "            'bathrooms_5.0': 'bathrooms_5'\n",
    "}\n",
    "\n",
    "df = df.rename(columns=bath_dict)"
   ]
  },
  {
   "cell_type": "code",
   "execution_count": 9,
   "metadata": {
    "scrolled": true
   },
   "outputs": [],
   "source": [
    "#dropping same columns\n",
    "y_predict = df.drop(['id', 'date','sqft_living', 'sqft_lot', 'sqft_above', 'sqft_basement', 'yr_built',\n",
    "                    'yr_renovated', 'lat', 'long', 'sqft_living15', 'sqft_lot15', 'living_bed_ratio',\n",
    "                    'bed_bath_ratio', 'log_sqft_lot', 'sqft_yard', 'yr_built_reno', 'log_sqft_living15',\n",
    "                    'log_sqft_basement',\n",
    "                    'waterfront_view', 'waterfront_cond', 'waterfront_grade'\n",
    "#                     'log_living_bed_ratio',\n",
    "#                     'view_grade',\n",
    "#                     'since_built_reno'                    \n",
    "                   ],axis = 1)"
   ]
  },
  {
   "cell_type": "code",
   "execution_count": 10,
   "metadata": {},
   "outputs": [],
   "source": [
    "# need a view_grade_3 and view_grade_3 and since it's missing set them all to 0\n",
    "y_predict['view_grade_3'] = 0\n",
    "y_predict['grade_3'] = 0"
   ]
  },
  {
   "cell_type": "markdown",
   "metadata": {},
   "source": [
    "# Getting pickled scalers and models"
   ]
  },
  {
   "cell_type": "code",
   "execution_count": 11,
   "metadata": {},
   "outputs": [],
   "source": [
    "with open('final_scaler.pickle', 'rb') as file:\n",
    "    final_scaler = pickle.load(file)\n",
    "with open('standard_regression_model.pickle', 'rb') as file:\n",
    "    standard_regression = pickle.load(file)\n",
    "with open('lasso_full.pickle', 'rb') as file:\n",
    "    lasso_full = pickle.load(file)\n",
    "with open('kbest_regression.pickle', 'rb') as file:\n",
    "    kbest_regression = pickle.load(file)"
   ]
  },
  {
   "cell_type": "code",
   "execution_count": 26,
   "metadata": {},
   "outputs": [
    {
     "data": {
      "text/plain": [
       "<bound method StandardScaler.fit of StandardScaler(copy=True, with_mean=True, with_std=True)>"
      ]
     },
     "execution_count": 26,
     "metadata": {},
     "output_type": "execute_result"
    }
   ],
   "source": [
    "scaler = StandardScaler()\n",
    "scaled_holdout2 = scaler.fit\n",
    "scaled_holdout2"
   ]
  },
  {
   "cell_type": "code",
   "execution_count": 12,
   "metadata": {},
   "outputs": [
    {
     "data": {
      "text/plain": [
       "array([[ 3.33901662e-17,  6.34124075e+00,  9.13021433e+00, ...,\n",
       "         5.13694864e-18, -4.10955891e-18, -2.56847432e-18],\n",
       "       [ 3.33901662e-17,  6.34124075e+00,  9.13021433e+00, ...,\n",
       "         5.13694864e-18, -4.10955891e-18, -2.56847432e-18],\n",
       "       [ 3.33901662e-17,  6.19440539e+00,  6.95081477e+00, ...,\n",
       "         5.13694864e-18, -4.10955891e-18, -2.56847432e-18],\n",
       "       ...,\n",
       "       [ 3.33901662e-17,  6.23441073e+00,  6.73340189e+00, ...,\n",
       "         5.13694864e-18, -4.10955891e-18, -2.56847432e-18],\n",
       "       [ 3.33901662e-17,  6.27914662e+00,  7.37023064e+00, ...,\n",
       "         5.13694864e-18, -4.10955891e-18, -2.56847432e-18],\n",
       "       [ 3.33901662e-17,  6.23441073e+00,  6.33859408e+00, ...,\n",
       "         5.13694864e-18, -4.10955891e-18, -2.56847432e-18]])"
      ]
     },
     "execution_count": 12,
     "metadata": {},
     "output_type": "execute_result"
    }
   ],
   "source": [
    "scaled_holdout = final_scaler.transform(y_predict)\n",
    "scaled_holdout"
   ]
  },
  {
   "cell_type": "code",
   "execution_count": 30,
   "metadata": {},
   "outputs": [
    {
     "data": {
      "text/plain": [
       "array([570187.55671397, 570187.55671397, 289916.74025115, ...,\n",
       "       330061.95252021, 320546.70376475, 322795.70903198])"
      ]
     },
     "execution_count": 30,
     "metadata": {},
     "output_type": "execute_result"
    }
   ],
   "source": [
    "standard_predictions = np.exp(standard_regression.predict(scaled_holdout))\n",
    "standard_predictions"
   ]
  },
  {
   "cell_type": "code",
   "execution_count": 13,
   "metadata": {},
   "outputs": [],
   "source": [
    "with open('k_selector.pickle', 'rb') as file:\n",
    "    k_selector = pickle.load(file)"
   ]
  },
  {
   "cell_type": "code",
   "execution_count": 14,
   "metadata": {},
   "outputs": [
    {
     "data": {
      "text/plain": [
       "Index(['log_living_bed_ratio', 'log_sqft_living', 'bathrooms_3_half',\n",
       "       'grade_7', 'grade_8', 'grade_10', 'grade_11', 'view_grade_8',\n",
       "       'view_grade_9'],\n",
       "      dtype='object')"
      ]
     },
     "execution_count": 14,
     "metadata": {},
     "output_type": "execute_result"
    }
   ],
   "source": [
    "kbest_columns = y_predict.columns[k_selector.get_support()]\n",
    "kbest_columns"
   ]
  },
  {
   "cell_type": "code",
   "execution_count": 15,
   "metadata": {},
   "outputs": [
    {
     "name": "stderr",
     "output_type": "stream",
     "text": [
      "/opt/anaconda3/envs/learn-env/lib/python3.6/site-packages/ipykernel_launcher.py:2: FutureWarning: Using a non-tuple sequence for multidimensional indexing is deprecated; use `arr[tuple(seq)]` instead of `arr[seq]`. In the future this will be interpreted as an array index, `arr[np.array(seq)]`, which will result either in an error or a different result.\n",
      "  \n"
     ]
    },
    {
     "ename": "IndexError",
     "evalue": "only integers, slices (`:`), ellipsis (`...`), numpy.newaxis (`None`) and integer or boolean arrays are valid indices",
     "output_type": "error",
     "traceback": [
      "\u001b[0;31m---------------------------------------------------------------------------\u001b[0m",
      "\u001b[0;31mIndexError\u001b[0m                                Traceback (most recent call last)",
      "\u001b[0;32m<ipython-input-15-72775560f75b>\u001b[0m in \u001b[0;36m<module>\u001b[0;34m\u001b[0m\n\u001b[1;32m      1\u001b[0m \u001b[0;31m#couldnt get kbest to work because of a reshaping error?\u001b[0m\u001b[0;34m\u001b[0m\u001b[0;34m\u001b[0m\u001b[0;34m\u001b[0m\u001b[0m\n\u001b[0;32m----> 2\u001b[0;31m \u001b[0mkbest_predictions\u001b[0m \u001b[0;34m=\u001b[0m \u001b[0mnp\u001b[0m\u001b[0;34m.\u001b[0m\u001b[0mexp\u001b[0m\u001b[0;34m(\u001b[0m\u001b[0mkbest_regression\u001b[0m\u001b[0;34m.\u001b[0m\u001b[0mpredict\u001b[0m\u001b[0;34m(\u001b[0m\u001b[0mscaled_holdout\u001b[0m\u001b[0;34m[\u001b[0m\u001b[0mkbest_columns\u001b[0m\u001b[0;34m]\u001b[0m\u001b[0;34m)\u001b[0m\u001b[0;34m)\u001b[0m\u001b[0;34m\u001b[0m\u001b[0;34m\u001b[0m\u001b[0m\n\u001b[0m\u001b[1;32m      3\u001b[0m \u001b[0mkbest_predictions\u001b[0m\u001b[0;34m\u001b[0m\u001b[0;34m\u001b[0m\u001b[0m\n",
      "\u001b[0;31mIndexError\u001b[0m: only integers, slices (`:`), ellipsis (`...`), numpy.newaxis (`None`) and integer or boolean arrays are valid indices"
     ]
    }
   ],
   "source": [
    "#couldnt get kbest to work because of a reshaping error?\n",
    "kbest_predictions = np.exp(kbest_regression.predict(scaled_holdout[kbest_columns]))\n",
    "kbest_predictions"
   ]
  },
  {
   "cell_type": "code",
   "execution_count": null,
   "metadata": {},
   "outputs": [],
   "source": [
    "pd.DataFrame(kbest_predictions).to_csv('predictions_RM_JS.csv')"
   ]
  },
  {
   "cell_type": "code",
   "execution_count": 36,
   "metadata": {},
   "outputs": [
    {
     "data": {
      "text/plain": [
       "array([519134.01628006, 519134.01628006, 392483.29725221, ...,\n",
       "       316934.78897734, 412453.74535265, 317177.70786823])"
      ]
     },
     "execution_count": 36,
     "metadata": {},
     "output_type": "execute_result"
    }
   ],
   "source": [
    "lasso_holdout = np.exp(lasso_full.predict(scaled_holdout))\n",
    "lasso_holdout"
   ]
  },
  {
   "cell_type": "code",
   "execution_count": null,
   "metadata": {},
   "outputs": [],
   "source": [
    "#predicting using lasso and saving to csv\n",
    "pd.DataFrame(lasso_holdout).to_csv('predictions_RM_JS_LASSO.csv')"
   ]
  },
  {
   "cell_type": "code",
   "execution_count": null,
   "metadata": {},
   "outputs": [],
   "source": []
  }
 ],
 "metadata": {
  "kernelspec": {
   "display_name": "Python 3",
   "language": "python",
   "name": "python3"
  },
  "language_info": {
   "codemirror_mode": {
    "name": "ipython",
    "version": 3
   },
   "file_extension": ".py",
   "mimetype": "text/x-python",
   "name": "python",
   "nbconvert_exporter": "python",
   "pygments_lexer": "ipython3",
   "version": "3.6.9"
  }
 },
 "nbformat": 4,
 "nbformat_minor": 4
}
